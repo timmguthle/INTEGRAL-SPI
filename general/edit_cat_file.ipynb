{
 "cells": [
  {
   "cell_type": "code",
   "execution_count": 1,
   "metadata": {},
   "outputs": [],
   "source": [
    "import numpy as np\n",
    "import astropy.io.fits as fits\n",
    "from astropy.table import Table\n",
    "import ligo.skymap.plot\n",
    "from matplotlib import pyplot as plt\n",
    "\n",
    "import healpy as hp\n",
    "from matplotlib.colors import TwoSlopeNorm\n",
    "from astropy.coordinates import SkyCoord\n",
    "import pickle"
   ]
  },
  {
   "cell_type": "code",
   "execution_count": 6,
   "metadata": {},
   "outputs": [
    {
     "name": "stdout",
     "output_type": "stream",
     "text": [
      "Filename: /home/tguethle/cookbook/SPI_cookbook/cats/cat_crab.fits.gz\n",
      "No.    Name      Ver    Type      Cards   Dimensions   Format\n",
      "  0  PRIMARY       1 PrimaryHDU       4   ()      \n",
      "  1  SPI.-SRCL-CAT    1 BinTableHDU    103   1R x 36C   [16A, D, 9A, I, E, E, E, B, B, B, B, 32A, I, 8E, 128A, I, 32E, 128A, I, 8E, 128A, E, E, E, E, E, E, E, E, 256E, 256E, 256E, 256E, I, I, 9A]   \n",
      "[('J053432.0+220052', 0., 'sim_sourc', 3101, 10., -40., 0.00028, 2, 1, 1, 1, '', 0, [0., 0., 0., 0., 0., 0., 0., 0.], 'wabs*powerlaw', 3, [0., 0., 0., 0., 0., 0., 0., 0., 0., 0., 0., 0., 0., 0., 0., 0., 0., 0., 0., 0., 0., 0., 0., 0., 0., 0., 0., 0., 0., 0., 0., 0.], '', 0, [0., 0., 0., 0., 0., 0., 0., 0.], 'V* CM Tau, SNR 184.6-05.8, PSR B0531+21, 1H 0531+219, 2EG J0534+2158, 3A 0531+219, 3EG J0534+2200, 4U 0531+21, Crab Nebula, Tau', 0.4458237, 0.01671377, 230.9226, 59.45829, 16.52609, 1.045729, 0.5005482, 0.1424853, [0., 0., 0., 0., 0., 0., 0., 0., 0., 0., 0., 0., 0., 0., 0., 0., 0., 0., 0., 0., 0., 0., 0., 0., 0., 0., 0., 0., 0., 0., 0., 0., 0., 0., 0., 0., 0., 0., 0., 0., 0., 0., 0., 0., 0., 0., 0., 0., 0., 0., 0., 0., 0., 0., 0., 0., 0., 0., 0., 0., 0., 0., 0., 0., 0., 0., 0., 0., 0., 0., 0., 0., 0., 0., 0., 0., 0., 0., 0., 0., 0., 0., 0., 0., 0., 0., 0., 0., 0., 0., 0., 0., 0., 0., 0., 0., 0., 0., 0., 0., 0., 0., 0., 0., 0., 0., 0., 0., 0., 0., 0., 0., 0., 0., 0., 0., 0., 0., 0., 0., 0., 0., 0., 0., 0., 0., 0., 0., 0., 0., 0., 0., 0., 0., 0., 0., 0., 0., 0., 0., 0., 0., 0., 0., 0., 0., 0., 0., 0., 0., 0., 0., 0., 0., 0., 0., 0., 0., 0., 0., 0., 0., 0., 0., 0., 0., 0., 0., 0., 0., 0., 0., 0., 0., 0., 0., 0., 0., 0., 0., 0., 0., 0., 0., 0., 0., 0., 0., 0., 0., 0., 0., 0., 0., 0., 0., 0., 0., 0., 0., 0., 0., 0., 0., 0., 0., 0., 0., 0., 0., 0., 0., 0., 0., 0., 0., 0., 0., 0., 0., 0., 0., 0., 0., 0., 0., 0., 0., 0., 0., 0., 0., 0., 0., 0., 0., 0., 0., 0., 0., 0., 0., 0., 0., 0., 0., 0., 0., 0., 0., 0., 0., 0., 0., 0., 0.], [0., 0., 0., 0., 0., 0., 0., 0., 0., 0., 0., 0., 0., 0., 0., 0., 0., 0., 0., 0., 0., 0., 0., 0., 0., 0., 0., 0., 0., 0., 0., 0., 0., 0., 0., 0., 0., 0., 0., 0., 0., 0., 0., 0., 0., 0., 0., 0., 0., 0., 0., 0., 0., 0., 0., 0., 0., 0., 0., 0., 0., 0., 0., 0., 0., 0., 0., 0., 0., 0., 0., 0., 0., 0., 0., 0., 0., 0., 0., 0., 0., 0., 0., 0., 0., 0., 0., 0., 0., 0., 0., 0., 0., 0., 0., 0., 0., 0., 0., 0., 0., 0., 0., 0., 0., 0., 0., 0., 0., 0., 0., 0., 0., 0., 0., 0., 0., 0., 0., 0., 0., 0., 0., 0., 0., 0., 0., 0., 0., 0., 0., 0., 0., 0., 0., 0., 0., 0., 0., 0., 0., 0., 0., 0., 0., 0., 0., 0., 0., 0., 0., 0., 0., 0., 0., 0., 0., 0., 0., 0., 0., 0., 0., 0., 0., 0., 0., 0., 0., 0., 0., 0., 0., 0., 0., 0., 0., 0., 0., 0., 0., 0., 0., 0., 0., 0., 0., 0., 0., 0., 0., 0., 0., 0., 0., 0., 0., 0., 0., 0., 0., 0., 0., 0., 0., 0., 0., 0., 0., 0., 0., 0., 0., 0., 0., 0., 0., 0., 0., 0., 0., 0., 0., 0., 0., 0., 0., 0., 0., 0., 0., 0., 0., 0., 0., 0., 0., 0., 0., 0., 0., 0., 0., 0., 0., 0., 0., 0., 0., 0., 0., 0., 0., 0., 0., 0.], [0., 0., 0., 0., 0., 0., 0., 0., 0., 0., 0., 0., 0., 0., 0., 0., 0., 0., 0., 0., 0., 0., 0., 0., 0., 0., 0., 0., 0., 0., 0., 0., 0., 0., 0., 0., 0., 0., 0., 0., 0., 0., 0., 0., 0., 0., 0., 0., 0., 0., 0., 0., 0., 0., 0., 0., 0., 0., 0., 0., 0., 0., 0., 0., 0., 0., 0., 0., 0., 0., 0., 0., 0., 0., 0., 0., 0., 0., 0., 0., 0., 0., 0., 0., 0., 0., 0., 0., 0., 0., 0., 0., 0., 0., 0., 0., 0., 0., 0., 0., 0., 0., 0., 0., 0., 0., 0., 0., 0., 0., 0., 0., 0., 0., 0., 0., 0., 0., 0., 0., 0., 0., 0., 0., 0., 0., 0., 0., 0., 0., 0., 0., 0., 0., 0., 0., 0., 0., 0., 0., 0., 0., 0., 0., 0., 0., 0., 0., 0., 0., 0., 0., 0., 0., 0., 0., 0., 0., 0., 0., 0., 0., 0., 0., 0., 0., 0., 0., 0., 0., 0., 0., 0., 0., 0., 0., 0., 0., 0., 0., 0., 0., 0., 0., 0., 0., 0., 0., 0., 0., 0., 0., 0., 0., 0., 0., 0., 0., 0., 0., 0., 0., 0., 0., 0., 0., 0., 0., 0., 0., 0., 0., 0., 0., 0., 0., 0., 0., 0., 0., 0., 0., 0., 0., 0., 0., 0., 0., 0., 0., 0., 0., 0., 0., 0., 0., 0., 0., 0., 0., 0., 0., 0., 0., 0., 0., 0., 0., 0., 0., 0., 0., 0., 0., 0., 0.], [0., 0., 0., 0., 0., 0., 0., 0., 0., 0., 0., 0., 0., 0., 0., 0., 0., 0., 0., 0., 0., 0., 0., 0., 0., 0., 0., 0., 0., 0., 0., 0., 0., 0., 0., 0., 0., 0., 0., 0., 0., 0., 0., 0., 0., 0., 0., 0., 0., 0., 0., 0., 0., 0., 0., 0., 0., 0., 0., 0., 0., 0., 0., 0., 0., 0., 0., 0., 0., 0., 0., 0., 0., 0., 0., 0., 0., 0., 0., 0., 0., 0., 0., 0., 0., 0., 0., 0., 0., 0., 0., 0., 0., 0., 0., 0., 0., 0., 0., 0., 0., 0., 0., 0., 0., 0., 0., 0., 0., 0., 0., 0., 0., 0., 0., 0., 0., 0., 0., 0., 0., 0., 0., 0., 0., 0., 0., 0., 0., 0., 0., 0., 0., 0., 0., 0., 0., 0., 0., 0., 0., 0., 0., 0., 0., 0., 0., 0., 0., 0., 0., 0., 0., 0., 0., 0., 0., 0., 0., 0., 0., 0., 0., 0., 0., 0., 0., 0., 0., 0., 0., 0., 0., 0., 0., 0., 0., 0., 0., 0., 0., 0., 0., 0., 0., 0., 0., 0., 0., 0., 0., 0., 0., 0., 0., 0., 0., 0., 0., 0., 0., 0., 0., 0., 0., 0., 0., 0., 0., 0., 0., 0., 0., 0., 0., 0., 0., 0., 0., 0., 0., 0., 0., 0., 0., 0., 0., 0., 0., 0., 0., 0., 0., 0., 0., 0., 0., 0., 0., 0., 0., 0., 0., 0., 0., 0., 0., 0., 0., 0., 0., 0., 0., 0., 0., 0.], 1, 0, 'Crab')]\n",
      "Filename: /home/tguethle/cookbook/SPI_cookbook/cats/cat_crab.fits.gz\n",
      "No.    Name      Ver    Type      Cards   Dimensions   Format\n",
      "  0  PRIMARY       1 PrimaryHDU       4   ()      \n",
      "  1  SPI.-SRCL-CAT    1 BinTableHDU    103   1R x 36C   ['16A', 'D', '9A', 'I', 'E', 'E', 'E', 'B', 'B', 'B', 'B', '32A', 'I', '8E', '128A', 'I', '32E', '128A', 'I', '8E', '128A', 'E', 'E', 'E', 'E', 'E', 'E', 'E', 'E', '256E', '256E', '256E', '256E', 'I', 'I', '9A']   \n"
     ]
    },
    {
     "data": {
      "text/html": [
       "<div><i>Table length=1</i>\n",
       "<table id=\"table140084887666256\" class=\"table-striped table-bordered table-condensed\">\n",
       "<thead><tr><th>BIRD_SOURCE_ID</th><th>DAY_ID</th><th>NAME</th><th>CLASS</th><th>RA_OBJ</th><th>DEC_OBJ</th><th>ERR_RAD</th><th>ISGRI_FLAG</th><th>JEMX_FLAG</th><th>SPI_FLAG</th><th>PICSIT_FLAG</th><th>SPA_MODL</th><th>SPA_NPAR</th><th>SPA_PARS</th><th>SPE_MODL</th><th>SPE_NPAR</th><th>SPE_PARS</th><th>VAR_MODL</th><th>VAR_NPAR</th><th>VAR_PARS</th><th>COMMENTS</th><th>SPI_FLUX_1</th><th>SPI_FLUX_2</th><th>ISGR_FLUX_1</th><th>ISGR_FLUX_2</th><th>PICS_FLUX_1</th><th>PICS_FLUX_2</th><th>JEMX_FLUX_1</th><th>JEMX_FLUX_2</th><th>E_MIN</th><th>E_MAX</th><th>FLUX</th><th>FLUX_ERR</th><th>SEL_FLAG</th><th>FLAG</th><th>SOURCE_ID</th></tr></thead>\n",
       "<thead><tr><th>str16</th><th>float64</th><th>str9</th><th>int16</th><th>float32</th><th>float32</th><th>float32</th><th>uint8</th><th>uint8</th><th>uint8</th><th>uint8</th><th>str32</th><th>int16</th><th>float32[8]</th><th>str128</th><th>int16</th><th>float32[32]</th><th>str128</th><th>int16</th><th>float32[8]</th><th>str128</th><th>float32</th><th>float32</th><th>float32</th><th>float32</th><th>float32</th><th>float32</th><th>float32</th><th>float32</th><th>float32[256]</th><th>float32[256]</th><th>float32[256]</th><th>float32[256]</th><th>int16</th><th>int16</th><th>str9</th></tr></thead>\n",
       "<tr><td>J053432.0+220052</td><td>0.0</td><td>sim_sourc</td><td>3101</td><td>10.0</td><td>-40.0</td><td>0.00028</td><td>2</td><td>1</td><td>1</td><td>1</td><td></td><td>0</td><td>0.0 .. 0.0</td><td>wabs*powerlaw</td><td>3</td><td>0.0 .. 0.0</td><td></td><td>0</td><td>0.0 .. 0.0</td><td>V* CM Tau, SNR 184.6-05.8, PSR B0531+21, 1H 0531+219, 2EG J0534+2158, 3A 0531+219, 3EG J0534+2200, 4U 0531+21, Crab Nebula, Tau</td><td>0.4458237</td><td>0.01671377</td><td>230.9226</td><td>59.45829</td><td>16.52609</td><td>1.045729</td><td>0.5005482</td><td>0.1424853</td><td>0.0 .. 0.0</td><td>0.0 .. 0.0</td><td>0.0 .. 0.0</td><td>0.0 .. 0.0</td><td>1</td><td>0</td><td>Crab</td></tr>\n",
       "</table></div>"
      ],
      "text/plain": [
       "<Table length=1>\n",
       " BIRD_SOURCE_ID   DAY_ID    NAME   CLASS ... SEL_FLAG  FLAG SOURCE_ID\n",
       "     str16       float64    str9   int16 ...  int16   int16    str9  \n",
       "---------------- ------- --------- ----- ... -------- ----- ---------\n",
       "J053432.0+220052     0.0 sim_sourc  3101 ...        1     0 Crab     "
      ]
     },
     "execution_count": 6,
     "metadata": {},
     "output_type": "execute_result"
    }
   ],
   "source": [
    "# change the cat file\n",
    "with fits.open(\"/home/tguethle/cookbook/SPI_cookbook/cats/cat_crab.fits.gz\") as hdul:\n",
    "    hdul.info()\n",
    "    cat = hdul[1].data\n",
    "    \n",
    "    cat[0][\"Name\"] = \"sim_source\"\n",
    "    cat[0][\"RA_OBJ\"] = 10\n",
    "    cat[0][\"DEC_OBJ\"] = -40\n",
    "\n",
    "    h = hdul[1].header\n",
    "\n",
    "    hdul[1].data = cat\n",
    "\n",
    "    print(hdul[1].data)\n",
    "    hdul.info()\n",
    "    t = Table(hdul[1].data)\n",
    "    hdul.writeto(\"/home/tguethle/cookbook/SPI_cookbook/cats/cat_sim_source.fits.gz\", overwrite=True)\n",
    "t"
   ]
  },
  {
   "cell_type": "code",
   "execution_count": 7,
   "metadata": {},
   "outputs": [
    {
     "name": "stdout",
     "output_type": "stream",
     "text": [
      "Filename: /home/tguethle/cookbook/SPI_cookbook/cats/cat_sim_source.fits.gz\n",
      "No.    Name      Ver    Type      Cards   Dimensions   Format\n",
      "  0  PRIMARY       1 PrimaryHDU       4   ()      \n",
      "  1  SPI.-SRCL-CAT    1 BinTableHDU    103   1R x 36C   [16A, D, 9A, I, E, E, E, B, B, B, B, 32A, I, 8E, 128A, I, 32E, 128A, I, 8E, 128A, E, E, E, E, E, E, E, E, 256E, 256E, 256E, 256E, I, I, 9A]   \n"
     ]
    },
    {
     "data": {
      "text/html": [
       "<div><i>Table length=1</i>\n",
       "<table id=\"table140084888208672\" class=\"table-striped table-bordered table-condensed\">\n",
       "<thead><tr><th>BIRD_SOURCE_ID</th><th>DAY_ID</th><th>NAME</th><th>CLASS</th><th>RA_OBJ</th><th>DEC_OBJ</th><th>ERR_RAD</th><th>ISGRI_FLAG</th><th>JEMX_FLAG</th><th>SPI_FLAG</th><th>PICSIT_FLAG</th><th>SPA_MODL</th><th>SPA_NPAR</th><th>SPA_PARS</th><th>SPE_MODL</th><th>SPE_NPAR</th><th>SPE_PARS</th><th>VAR_MODL</th><th>VAR_NPAR</th><th>VAR_PARS</th><th>COMMENTS</th><th>SPI_FLUX_1</th><th>SPI_FLUX_2</th><th>ISGR_FLUX_1</th><th>ISGR_FLUX_2</th><th>PICS_FLUX_1</th><th>PICS_FLUX_2</th><th>JEMX_FLUX_1</th><th>JEMX_FLUX_2</th><th>E_MIN</th><th>E_MAX</th><th>FLUX</th><th>FLUX_ERR</th><th>SEL_FLAG</th><th>FLAG</th><th>SOURCE_ID</th></tr></thead>\n",
       "<thead><tr><th>str16</th><th>float64</th><th>str9</th><th>int16</th><th>float32</th><th>float32</th><th>float32</th><th>uint8</th><th>uint8</th><th>uint8</th><th>uint8</th><th>str32</th><th>int16</th><th>float32[8]</th><th>str128</th><th>int16</th><th>float32[32]</th><th>str128</th><th>int16</th><th>float32[8]</th><th>str128</th><th>float32</th><th>float32</th><th>float32</th><th>float32</th><th>float32</th><th>float32</th><th>float32</th><th>float32</th><th>float32[256]</th><th>float32[256]</th><th>float32[256]</th><th>float32[256]</th><th>int16</th><th>int16</th><th>str9</th></tr></thead>\n",
       "<tr><td>J053432.0+220052</td><td>0.0</td><td>sim_sourc</td><td>3101</td><td>10.0</td><td>-40.0</td><td>0.00028</td><td>2</td><td>1</td><td>1</td><td>1</td><td></td><td>0</td><td>0.0 .. 0.0</td><td>wabs*powerlaw</td><td>3</td><td>0.0 .. 0.0</td><td></td><td>0</td><td>0.0 .. 0.0</td><td>V* CM Tau, SNR 184.6-05.8, PSR B0531+21, 1H 0531+219, 2EG J0534+2158, 3A 0531+219, 3EG J0534+2200, 4U 0531+21, Crab Nebula, Tau</td><td>0.4458237</td><td>0.01671377</td><td>230.9226</td><td>59.45829</td><td>16.52609</td><td>1.045729</td><td>0.5005482</td><td>0.1424853</td><td>0.0 .. 0.0</td><td>0.0 .. 0.0</td><td>0.0 .. 0.0</td><td>0.0 .. 0.0</td><td>1</td><td>0</td><td>Crab</td></tr>\n",
       "</table></div>"
      ],
      "text/plain": [
       "<Table length=1>\n",
       " BIRD_SOURCE_ID   DAY_ID    NAME   CLASS ... SEL_FLAG  FLAG SOURCE_ID\n",
       "     str16       float64    str9   int16 ...  int16   int16    str9  \n",
       "---------------- ------- --------- ----- ... -------- ----- ---------\n",
       "J053432.0+220052     0.0 sim_sourc  3101 ...        1     0      Crab"
      ]
     },
     "execution_count": 7,
     "metadata": {},
     "output_type": "execute_result"
    }
   ],
   "source": [
    "with fits.open(\"/home/tguethle/cookbook/SPI_cookbook/cats/cat_sim_source.fits.gz\") as hdul:\n",
    "    hdul.info()\n",
    "    cat = hdul[1].data\n",
    "    h = hdul[1].header\n",
    "    t = Table(hdul[1].data)\n",
    "t"
   ]
  },
  {
   "cell_type": "code",
   "execution_count": null,
   "metadata": {},
   "outputs": [],
   "source": []
  }
 ],
 "metadata": {
  "kernelspec": {
   "display_name": "spi39",
   "language": "python",
   "name": "python3"
  },
  "language_info": {
   "codemirror_mode": {
    "name": "ipython",
    "version": 3
   },
   "file_extension": ".py",
   "mimetype": "text/x-python",
   "name": "python",
   "nbconvert_exporter": "python",
   "pygments_lexer": "ipython3",
   "version": "3.9.18"
  }
 },
 "nbformat": 4,
 "nbformat_minor": 2
}
