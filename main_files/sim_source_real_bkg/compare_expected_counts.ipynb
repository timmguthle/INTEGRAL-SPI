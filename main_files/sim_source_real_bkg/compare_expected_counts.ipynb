{
 "cells": [
  {
   "cell_type": "code",
   "execution_count": 1,
   "metadata": {},
   "outputs": [
    {
     "data": {
      "text/html": [
       "<pre style=\"white-space:pre;overflow-x:auto;line-height:normal;font-family:Menlo,'DejaVu Sans Mono',consolas,'Courier New',monospace\"><span style=\"color: #00ff00; text-decoration-color: #00ff00\">09:41:13 </span><span style=\"color: #af5fd7; text-decoration-color: #af5fd7\">WARNING </span> <span style=\"color: #c6c6c6; text-decoration-color: #c6c6c6; font-weight: bold\"> The naima package is not available. Models that depend on it will not be         </span><a href=\"file:///home/tguethle/.opt/conda/envs/spi39/lib/python3.9/site-packages/astromodels/functions/functions_1D/functions.py\" target=\"_blank\"><span style=\"color: #7f7f7f; text-decoration-color: #7f7f7f\">functions.py</span></a><span style=\"color: #7f7f7f; text-decoration-color: #7f7f7f\">:</span><a href=\"file:///home/tguethle/.opt/conda/envs/spi39/lib/python3.9/site-packages/astromodels/functions/functions_1D/functions.py#48\" target=\"_blank\"><span style=\"color: #7f7f7f; text-decoration-color: #7f7f7f\">48</span></a>\n",
       "<span style=\"color: #00ff00; text-decoration-color: #00ff00\">         </span>         <span style=\"color: #c6c6c6; text-decoration-color: #c6c6c6; font-weight: bold\">available                                                                         </span><span style=\"color: #7f7f7f; text-decoration-color: #7f7f7f\">               </span>\n",
       "</pre>\n"
      ],
      "text/plain": [
       "\u001b[38;5;46m09:41:13\u001b[0m\u001b[38;5;46m \u001b[0m\u001b[38;5;134mWARNING \u001b[0m \u001b[1;38;5;251m The naima package is not available. Models that depend on it will not be        \u001b[0m\u001b[1;38;5;251m \u001b[0m\u001b]8;id=510779;file:///home/tguethle/.opt/conda/envs/spi39/lib/python3.9/site-packages/astromodels/functions/functions_1D/functions.py\u001b\\\u001b[2mfunctions.py\u001b[0m\u001b]8;;\u001b\\\u001b[2m:\u001b[0m\u001b]8;id=390365;file:///home/tguethle/.opt/conda/envs/spi39/lib/python3.9/site-packages/astromodels/functions/functions_1D/functions.py#48\u001b\\\u001b[2m48\u001b[0m\u001b]8;;\u001b\\\n",
       "\u001b[38;5;46m         \u001b[0m         \u001b[1;38;5;251mavailable                                                                        \u001b[0m\u001b[1;38;5;251m \u001b[0m\u001b[2m               \u001b[0m\n"
      ]
     },
     "metadata": {},
     "output_type": "display_data"
    },
    {
     "data": {
      "text/html": [
       "<pre style=\"white-space:pre;overflow-x:auto;line-height:normal;font-family:Menlo,'DejaVu Sans Mono',consolas,'Courier New',monospace\"><span style=\"color: #00ff00; text-decoration-color: #00ff00\">         </span><span style=\"color: #af5fd7; text-decoration-color: #af5fd7\">WARNING </span> <span style=\"color: #c6c6c6; text-decoration-color: #c6c6c6; font-weight: bold\"> The GSL library or the pygsl wrapper cannot be loaded. Models that depend on it  </span><a href=\"file:///home/tguethle/.opt/conda/envs/spi39/lib/python3.9/site-packages/astromodels/functions/functions_1D/functions.py\" target=\"_blank\"><span style=\"color: #7f7f7f; text-decoration-color: #7f7f7f\">functions.py</span></a><span style=\"color: #7f7f7f; text-decoration-color: #7f7f7f\">:</span><a href=\"file:///home/tguethle/.opt/conda/envs/spi39/lib/python3.9/site-packages/astromodels/functions/functions_1D/functions.py#69\" target=\"_blank\"><span style=\"color: #7f7f7f; text-decoration-color: #7f7f7f\">69</span></a>\n",
       "<span style=\"color: #00ff00; text-decoration-color: #00ff00\">         </span>         <span style=\"color: #c6c6c6; text-decoration-color: #c6c6c6; font-weight: bold\">will not be available.                                                            </span><span style=\"color: #7f7f7f; text-decoration-color: #7f7f7f\">               </span>\n",
       "</pre>\n"
      ],
      "text/plain": [
       "\u001b[38;5;46m        \u001b[0m\u001b[38;5;46m \u001b[0m\u001b[38;5;134mWARNING \u001b[0m \u001b[1;38;5;251m The GSL library or the pygsl wrapper cannot be loaded. Models that depend on it \u001b[0m\u001b[1;38;5;251m \u001b[0m\u001b]8;id=357950;file:///home/tguethle/.opt/conda/envs/spi39/lib/python3.9/site-packages/astromodels/functions/functions_1D/functions.py\u001b\\\u001b[2mfunctions.py\u001b[0m\u001b]8;;\u001b\\\u001b[2m:\u001b[0m\u001b]8;id=443304;file:///home/tguethle/.opt/conda/envs/spi39/lib/python3.9/site-packages/astromodels/functions/functions_1D/functions.py#69\u001b\\\u001b[2m69\u001b[0m\u001b]8;;\u001b\\\n",
       "\u001b[38;5;46m         \u001b[0m         \u001b[1;38;5;251mwill not be available.                                                           \u001b[0m\u001b[1;38;5;251m \u001b[0m\u001b[2m               \u001b[0m\n"
      ]
     },
     "metadata": {},
     "output_type": "display_data"
    },
    {
     "data": {
      "text/html": [
       "<pre style=\"white-space:pre;overflow-x:auto;line-height:normal;font-family:Menlo,'DejaVu Sans Mono',consolas,'Courier New',monospace\"><span style=\"color: #00ff00; text-decoration-color: #00ff00\">         </span><span style=\"color: #af5fd7; text-decoration-color: #af5fd7\">WARNING </span> <span style=\"color: #c6c6c6; text-decoration-color: #c6c6c6; font-weight: bold\"> The ebltable package is not available. Models that depend on it will not be     </span><a href=\"file:///home/tguethle/.opt/conda/envs/spi39/lib/python3.9/site-packages/astromodels/functions/functions_1D/absorption.py\" target=\"_blank\"><span style=\"color: #7f7f7f; text-decoration-color: #7f7f7f\">absorption.py</span></a><span style=\"color: #7f7f7f; text-decoration-color: #7f7f7f\">:</span><a href=\"file:///home/tguethle/.opt/conda/envs/spi39/lib/python3.9/site-packages/astromodels/functions/functions_1D/absorption.py#33\" target=\"_blank\"><span style=\"color: #7f7f7f; text-decoration-color: #7f7f7f\">33</span></a>\n",
       "<span style=\"color: #00ff00; text-decoration-color: #00ff00\">         </span>         <span style=\"color: #c6c6c6; text-decoration-color: #c6c6c6; font-weight: bold\">available                                                                        </span><span style=\"color: #7f7f7f; text-decoration-color: #7f7f7f\">                </span>\n",
       "</pre>\n"
      ],
      "text/plain": [
       "\u001b[38;5;46m        \u001b[0m\u001b[38;5;46m \u001b[0m\u001b[38;5;134mWARNING \u001b[0m \u001b[1;38;5;251m The ebltable package is not available. Models that depend on it will not be    \u001b[0m\u001b[1;38;5;251m \u001b[0m\u001b]8;id=149941;file:///home/tguethle/.opt/conda/envs/spi39/lib/python3.9/site-packages/astromodels/functions/functions_1D/absorption.py\u001b\\\u001b[2mabsorption.py\u001b[0m\u001b]8;;\u001b\\\u001b[2m:\u001b[0m\u001b]8;id=552708;file:///home/tguethle/.opt/conda/envs/spi39/lib/python3.9/site-packages/astromodels/functions/functions_1D/absorption.py#33\u001b\\\u001b[2m33\u001b[0m\u001b]8;;\u001b\\\n",
       "\u001b[38;5;46m         \u001b[0m         \u001b[1;38;5;251mavailable                                                                       \u001b[0m\u001b[1;38;5;251m \u001b[0m\u001b[2m                \u001b[0m\n"
      ]
     },
     "metadata": {},
     "output_type": "display_data"
    },
    {
     "data": {
      "text/html": [
       "<pre style=\"white-space:pre;overflow-x:auto;line-height:normal;font-family:Menlo,'DejaVu Sans Mono',consolas,'Courier New',monospace\"><span style=\"color: #00ff00; text-decoration-color: #00ff00\">09:41:14 </span><span style=\"color: #00ffaf; text-decoration-color: #00ffaf\">INFO    </span> <span style=\"color: #c6c6c6; text-decoration-color: #c6c6c6; font-weight: bold\"> Starting 3ML!                                                                     </span><a href=\"file:///home/tguethle/.opt/conda/envs/spi39/lib/python3.9/site-packages/threeML/__init__.py\" target=\"_blank\"><span style=\"color: #7f7f7f; text-decoration-color: #7f7f7f\">__init__.py</span></a><span style=\"color: #7f7f7f; text-decoration-color: #7f7f7f\">:</span><a href=\"file:///home/tguethle/.opt/conda/envs/spi39/lib/python3.9/site-packages/threeML/__init__.py#31\" target=\"_blank\"><span style=\"color: #7f7f7f; text-decoration-color: #7f7f7f\">31</span></a>\n",
       "</pre>\n"
      ],
      "text/plain": [
       "\u001b[38;5;46m09:41:14\u001b[0m\u001b[38;5;46m \u001b[0m\u001b[38;5;49mINFO    \u001b[0m \u001b[1;38;5;251m Starting 3ML!                                                                    \u001b[0m\u001b[1;38;5;251m \u001b[0m\u001b]8;id=158094;file:///home/tguethle/.opt/conda/envs/spi39/lib/python3.9/site-packages/threeML/__init__.py\u001b\\\u001b[2m__init__.py\u001b[0m\u001b]8;;\u001b\\\u001b[2m:\u001b[0m\u001b]8;id=979073;file:///home/tguethle/.opt/conda/envs/spi39/lib/python3.9/site-packages/threeML/__init__.py#31\u001b\\\u001b[2m31\u001b[0m\u001b]8;;\u001b\\\n"
      ]
     },
     "metadata": {},
     "output_type": "display_data"
    },
    {
     "data": {
      "text/html": [
       "<pre style=\"white-space:pre;overflow-x:auto;line-height:normal;font-family:Menlo,'DejaVu Sans Mono',consolas,'Courier New',monospace\"><span style=\"color: #00ff00; text-decoration-color: #00ff00\">         </span><span style=\"color: #af5fd7; text-decoration-color: #af5fd7\">WARNING </span> <span style=\"color: #c6c6c6; text-decoration-color: #c6c6c6; font-weight: bold\"> ROOT minimizer not available                                                </span><a href=\"file:///home/tguethle/.opt/conda/envs/spi39/lib/python3.9/site-packages/threeML/minimizer/minimization.py\" target=\"_blank\"><span style=\"color: #7f7f7f; text-decoration-color: #7f7f7f\">minimization.py</span></a><span style=\"color: #7f7f7f; text-decoration-color: #7f7f7f\">:</span><a href=\"file:///home/tguethle/.opt/conda/envs/spi39/lib/python3.9/site-packages/threeML/minimizer/minimization.py#1345\" target=\"_blank\"><span style=\"color: #7f7f7f; text-decoration-color: #7f7f7f\">1345</span></a>\n",
       "</pre>\n"
      ],
      "text/plain": [
       "\u001b[38;5;46m        \u001b[0m\u001b[38;5;46m \u001b[0m\u001b[38;5;134mWARNING \u001b[0m \u001b[1;38;5;251m ROOT minimizer not available                                               \u001b[0m\u001b[1;38;5;251m \u001b[0m\u001b]8;id=39780;file:///home/tguethle/.opt/conda/envs/spi39/lib/python3.9/site-packages/threeML/minimizer/minimization.py\u001b\\\u001b[2mminimization.py\u001b[0m\u001b]8;;\u001b\\\u001b[2m:\u001b[0m\u001b]8;id=248530;file:///home/tguethle/.opt/conda/envs/spi39/lib/python3.9/site-packages/threeML/minimizer/minimization.py#1345\u001b\\\u001b[2m1345\u001b[0m\u001b]8;;\u001b\\\n"
      ]
     },
     "metadata": {},
     "output_type": "display_data"
    },
    {
     "data": {
      "text/html": [
       "<pre style=\"white-space:pre;overflow-x:auto;line-height:normal;font-family:Menlo,'DejaVu Sans Mono',consolas,'Courier New',monospace\"><span style=\"color: #00ff00; text-decoration-color: #00ff00\">09:41:15 </span><span style=\"color: #af5fd7; text-decoration-color: #af5fd7\">WARNING </span> <span style=\"color: #c6c6c6; text-decoration-color: #c6c6c6; font-weight: bold\"> PyGMO is not available                                                      </span><a href=\"file:///home/tguethle/.opt/conda/envs/spi39/lib/python3.9/site-packages/threeML/minimizer/minimization.py\" target=\"_blank\"><span style=\"color: #7f7f7f; text-decoration-color: #7f7f7f\">minimization.py</span></a><span style=\"color: #7f7f7f; text-decoration-color: #7f7f7f\">:</span><a href=\"file:///home/tguethle/.opt/conda/envs/spi39/lib/python3.9/site-packages/threeML/minimizer/minimization.py#1369\" target=\"_blank\"><span style=\"color: #7f7f7f; text-decoration-color: #7f7f7f\">1369</span></a>\n",
       "</pre>\n"
      ],
      "text/plain": [
       "\u001b[38;5;46m09:41:15\u001b[0m\u001b[38;5;46m \u001b[0m\u001b[38;5;134mWARNING \u001b[0m \u001b[1;38;5;251m PyGMO is not available                                                     \u001b[0m\u001b[1;38;5;251m \u001b[0m\u001b]8;id=902664;file:///home/tguethle/.opt/conda/envs/spi39/lib/python3.9/site-packages/threeML/minimizer/minimization.py\u001b\\\u001b[2mminimization.py\u001b[0m\u001b]8;;\u001b\\\u001b[2m:\u001b[0m\u001b]8;id=781194;file:///home/tguethle/.opt/conda/envs/spi39/lib/python3.9/site-packages/threeML/minimizer/minimization.py#1369\u001b\\\u001b[2m1369\u001b[0m\u001b]8;;\u001b\\\n"
      ]
     },
     "metadata": {},
     "output_type": "display_data"
    },
    {
     "data": {
      "text/html": [
       "<pre style=\"white-space:pre;overflow-x:auto;line-height:normal;font-family:Menlo,'DejaVu Sans Mono',consolas,'Courier New',monospace\"><span style=\"color: #00ff00; text-decoration-color: #00ff00\">09:41:15 </span><span style=\"color: #af5fd7; text-decoration-color: #af5fd7\">WARNING </span> <span style=\"color: #c6c6c6; text-decoration-color: #c6c6c6; font-weight: bold\"> The cthreeML package is not installed. You will not be able to use plugins which  </span><a href=\"file:///home/tguethle/.opt/conda/envs/spi39/lib/python3.9/site-packages/threeML/__init__.py\" target=\"_blank\"><span style=\"color: #7f7f7f; text-decoration-color: #7f7f7f\">__init__.py</span></a><span style=\"color: #7f7f7f; text-decoration-color: #7f7f7f\">:</span><a href=\"file:///home/tguethle/.opt/conda/envs/spi39/lib/python3.9/site-packages/threeML/__init__.py#79\" target=\"_blank\"><span style=\"color: #7f7f7f; text-decoration-color: #7f7f7f\">79</span></a>\n",
       "<span style=\"color: #00ff00; text-decoration-color: #00ff00\">         </span>         <span style=\"color: #c6c6c6; text-decoration-color: #c6c6c6; font-weight: bold\">require the C/C++ interface (currently HAWC)                                       </span><span style=\"color: #7f7f7f; text-decoration-color: #7f7f7f\">              </span>\n",
       "</pre>\n"
      ],
      "text/plain": [
       "\u001b[38;5;46m09:41:15\u001b[0m\u001b[38;5;46m \u001b[0m\u001b[38;5;134mWARNING \u001b[0m \u001b[1;38;5;251m The cthreeML package is not installed. You will not be able to use plugins which \u001b[0m\u001b[1;38;5;251m \u001b[0m\u001b]8;id=666184;file:///home/tguethle/.opt/conda/envs/spi39/lib/python3.9/site-packages/threeML/__init__.py\u001b\\\u001b[2m__init__.py\u001b[0m\u001b]8;;\u001b\\\u001b[2m:\u001b[0m\u001b]8;id=921498;file:///home/tguethle/.opt/conda/envs/spi39/lib/python3.9/site-packages/threeML/__init__.py#79\u001b\\\u001b[2m79\u001b[0m\u001b]8;;\u001b\\\n",
       "\u001b[38;5;46m         \u001b[0m         \u001b[1;38;5;251mrequire the C/C++ interface \u001b[0m\u001b[1;38;5;251m(\u001b[0m\u001b[1;38;5;251mcurrently HAWC\u001b[0m\u001b[1;38;5;251m)\u001b[0m\u001b[1;38;5;251m                                      \u001b[0m\u001b[1;38;5;251m \u001b[0m\u001b[2m              \u001b[0m\n"
      ]
     },
     "metadata": {},
     "output_type": "display_data"
    },
    {
     "data": {
      "text/html": [
       "<pre style=\"white-space:pre;overflow-x:auto;line-height:normal;font-family:Menlo,'DejaVu Sans Mono',consolas,'Courier New',monospace\"><span style=\"color: #00ff00; text-decoration-color: #00ff00\">         </span><span style=\"color: #af5fd7; text-decoration-color: #af5fd7\">WARNING </span> <span style=\"color: #c6c6c6; text-decoration-color: #c6c6c6; font-weight: bold\"> Could not import plugin HAWCLike.py. Do you have the relative instrument         </span><a href=\"file:///home/tguethle/.opt/conda/envs/spi39/lib/python3.9/site-packages/threeML/__init__.py\" target=\"_blank\"><span style=\"color: #7f7f7f; text-decoration-color: #7f7f7f\">__init__.py</span></a><span style=\"color: #7f7f7f; text-decoration-color: #7f7f7f\">:</span><a href=\"file:///home/tguethle/.opt/conda/envs/spi39/lib/python3.9/site-packages/threeML/__init__.py#129\" target=\"_blank\"><span style=\"color: #7f7f7f; text-decoration-color: #7f7f7f\">129</span></a>\n",
       "<span style=\"color: #00ff00; text-decoration-color: #00ff00\">         </span>         <span style=\"color: #c6c6c6; text-decoration-color: #c6c6c6; font-weight: bold\">software installed and configured?                                                </span><span style=\"color: #7f7f7f; text-decoration-color: #7f7f7f\">               </span>\n",
       "</pre>\n"
      ],
      "text/plain": [
       "\u001b[38;5;46m        \u001b[0m\u001b[38;5;46m \u001b[0m\u001b[38;5;134mWARNING \u001b[0m \u001b[1;38;5;251m Could not import plugin HAWCLike.py. Do you have the relative instrument        \u001b[0m\u001b[1;38;5;251m \u001b[0m\u001b]8;id=645479;file:///home/tguethle/.opt/conda/envs/spi39/lib/python3.9/site-packages/threeML/__init__.py\u001b\\\u001b[2m__init__.py\u001b[0m\u001b]8;;\u001b\\\u001b[2m:\u001b[0m\u001b]8;id=718665;file:///home/tguethle/.opt/conda/envs/spi39/lib/python3.9/site-packages/threeML/__init__.py#129\u001b\\\u001b[2m129\u001b[0m\u001b]8;;\u001b\\\n",
       "\u001b[38;5;46m         \u001b[0m         \u001b[1;38;5;251msoftware installed and configured?                                               \u001b[0m\u001b[1;38;5;251m \u001b[0m\u001b[2m               \u001b[0m\n"
      ]
     },
     "metadata": {},
     "output_type": "display_data"
    },
    {
     "data": {
      "text/html": [
       "<pre style=\"white-space:pre;overflow-x:auto;line-height:normal;font-family:Menlo,'DejaVu Sans Mono',consolas,'Courier New',monospace\"><span style=\"color: #00ff00; text-decoration-color: #00ff00\">         </span><span style=\"color: #af5fd7; text-decoration-color: #af5fd7\">WARNING </span> <span style=\"color: #c6c6c6; text-decoration-color: #c6c6c6; font-weight: bold\"> Could not import plugin FermiLATLike.py. Do you have the relative instrument     </span><a href=\"file:///home/tguethle/.opt/conda/envs/spi39/lib/python3.9/site-packages/threeML/__init__.py\" target=\"_blank\"><span style=\"color: #7f7f7f; text-decoration-color: #7f7f7f\">__init__.py</span></a><span style=\"color: #7f7f7f; text-decoration-color: #7f7f7f\">:</span><a href=\"file:///home/tguethle/.opt/conda/envs/spi39/lib/python3.9/site-packages/threeML/__init__.py#129\" target=\"_blank\"><span style=\"color: #7f7f7f; text-decoration-color: #7f7f7f\">129</span></a>\n",
       "<span style=\"color: #00ff00; text-decoration-color: #00ff00\">         </span>         <span style=\"color: #c6c6c6; text-decoration-color: #c6c6c6; font-weight: bold\">software installed and configured?                                                </span><span style=\"color: #7f7f7f; text-decoration-color: #7f7f7f\">               </span>\n",
       "</pre>\n"
      ],
      "text/plain": [
       "\u001b[38;5;46m        \u001b[0m\u001b[38;5;46m \u001b[0m\u001b[38;5;134mWARNING \u001b[0m \u001b[1;38;5;251m Could not import plugin FermiLATLike.py. Do you have the relative instrument    \u001b[0m\u001b[1;38;5;251m \u001b[0m\u001b]8;id=152641;file:///home/tguethle/.opt/conda/envs/spi39/lib/python3.9/site-packages/threeML/__init__.py\u001b\\\u001b[2m__init__.py\u001b[0m\u001b]8;;\u001b\\\u001b[2m:\u001b[0m\u001b]8;id=146940;file:///home/tguethle/.opt/conda/envs/spi39/lib/python3.9/site-packages/threeML/__init__.py#129\u001b\\\u001b[2m129\u001b[0m\u001b]8;;\u001b\\\n",
       "\u001b[38;5;46m         \u001b[0m         \u001b[1;38;5;251msoftware installed and configured?                                               \u001b[0m\u001b[1;38;5;251m \u001b[0m\u001b[2m               \u001b[0m\n"
      ]
     },
     "metadata": {},
     "output_type": "display_data"
    },
    {
     "data": {
      "text/html": [
       "<pre style=\"white-space:pre;overflow-x:auto;line-height:normal;font-family:Menlo,'DejaVu Sans Mono',consolas,'Courier New',monospace\"><span style=\"color: #00ff00; text-decoration-color: #00ff00\">         </span><span style=\"color: #af5fd7; text-decoration-color: #af5fd7\">WARNING </span> <span style=\"color: #c6c6c6; text-decoration-color: #c6c6c6; font-weight: bold\"> No fermitools installed                                              </span><a href=\"file:///home/tguethle/.opt/conda/envs/spi39/lib/python3.9/site-packages/threeML/utils/data_builders/fermi/lat_transient_builder.py\" target=\"_blank\"><span style=\"color: #7f7f7f; text-decoration-color: #7f7f7f\">lat_transient_builder.py</span></a><span style=\"color: #7f7f7f; text-decoration-color: #7f7f7f\">:</span><a href=\"file:///home/tguethle/.opt/conda/envs/spi39/lib/python3.9/site-packages/threeML/utils/data_builders/fermi/lat_transient_builder.py#44\" target=\"_blank\"><span style=\"color: #7f7f7f; text-decoration-color: #7f7f7f\">44</span></a>\n",
       "</pre>\n"
      ],
      "text/plain": [
       "\u001b[38;5;46m        \u001b[0m\u001b[38;5;46m \u001b[0m\u001b[38;5;134mWARNING \u001b[0m \u001b[1;38;5;251m No fermitools installed                                             \u001b[0m\u001b[1;38;5;251m \u001b[0m\u001b]8;id=613400;file:///home/tguethle/.opt/conda/envs/spi39/lib/python3.9/site-packages/threeML/utils/data_builders/fermi/lat_transient_builder.py\u001b\\\u001b[2mlat_transient_builder.py\u001b[0m\u001b]8;;\u001b\\\u001b[2m:\u001b[0m\u001b]8;id=567146;file:///home/tguethle/.opt/conda/envs/spi39/lib/python3.9/site-packages/threeML/utils/data_builders/fermi/lat_transient_builder.py#44\u001b\\\u001b[2m44\u001b[0m\u001b]8;;\u001b\\\n"
      ]
     },
     "metadata": {},
     "output_type": "display_data"
    },
    {
     "name": "stdout",
     "output_type": "stream",
     "text": [
      "Using the irfs that are valid between Start and 03/07/06 06:00:00 (YY/MM/DD HH:MM:SS)\n",
      "Using the irfs that are valid between 03/07/06 06:00:00 and 04/07/17 08:20:06 (YY/MM/DD HH:MM:SS)\n",
      "Using the irfs that are valid between 04/07/17 08:20:06 and 09/02/19 09:59:57 (YY/MM/DD HH:MM:SS)\n",
      "Using the irfs that are valid between 09/02/19 09:59:57 and 10/05/27 12:45:00 (YY/MM/DD HH:MM:SS)\n",
      "Using the irfs that are valid between 10/05/27 12:45:00 and present (YY/MM/DD HH:MM:SS)\n"
     ]
    }
   ],
   "source": [
    "import sys, os\n",
    "sys.path.insert(0, os.path.abspath('/home/tguethle/Documents/spi/Master_Thesis/main_files'))\n",
    "\n",
    "\n",
    "import numpy as np\n",
    "import astropy.io.fits as fits\n",
    "from astropy.table import Table\n",
    "from astromodels import Powerlaw, PointSource, SpectralComponent\n",
    "import astropy.time as at\n",
    "from datetime import datetime\n",
    "from pyspi.utils.function_utils import find_response_version\n",
    "from pyspi.utils.response.spi_response_data import ResponseDataRMF\n",
    "from pyspi.utils.response.spi_response import ResponseRMFGenerator\n",
    "from pyspi.utils.response.spi_drm import SPIDRM\n",
    "from pyspi.utils.livedets import get_live_dets\n",
    "import os\n",
    "from MultinestClusterFit import powerlaw_binned_spectrum, MultinestClusterFit\n",
    "from RebinningFunctions import spimodfit_binning_SE, log_binning_function_for_x_number_of_bins, no_rebinning #, rebin_data_exp_50\n",
    "from PointingClusters import PointingClusters, save_clusters, load_clusters\n",
    "from ModelSources import *\n",
    "import pickle\n",
    "from datetime import datetime\n",
    "\n",
    "import matplotlib.pyplot as plt\n",
    "import matplotlib"
   ]
  },
  {
   "cell_type": "markdown",
   "metadata": {},
   "source": [
    "Compare the generated counts of pyspi with the output file from Spimodfit. Apperantly the convsky_output file contains these expacted counts"
   ]
  },
  {
   "cell_type": "markdown",
   "metadata": {},
   "source": [
    "## Spimodfit output\n",
    "\n",
    "parameters for this spimodfit run \n",
    "index = -2\n",
    "K = 7e-2\n",
    "piv = 100"
   ]
  },
  {
   "cell_type": "code",
   "execution_count": 2,
   "metadata": {},
   "outputs": [],
   "source": [
    "# take a look at the response of spimodfit\n",
    "spimodfit_path_1160 = \"/home/tguethle/cookbook/SPI_cookbook/examples/automated_Crab/fit_Crab_bright_100_small_bins/\"\n",
    "spimodfit_path_41 = \"/home/tguethle/cookbook/SPI_cookbook/examples/automated_Crab/fit_Crab_bright_100_new/\"\n",
    "\n",
    "response_name = \"convolved_sky_images.fits\"\n",
    "\n",
    "with fits.open(spimodfit_path_41 + response_name) as hdul:\n",
    "    t = Table(hdul[2].data)\n",
    "    header = hdul[2].header\n",
    "    t2 = Table(hdul[1].data)\n",
    "counts_41 = t[\"COUNTS\"]\n",
    "err_41 = np.array(t[\"STAT_ERR\"])\n",
    "\n",
    "with fits.open(spimodfit_path_1160 + response_name) as hdul:\n",
    "    t = Table(hdul[2].data)\n",
    "    header = hdul[2].header\n",
    "    t2 = Table(hdul[1].data)\n",
    "\n",
    "\n",
    "counts_1160 = t[\"COUNTS\"]\n",
    "err_1160 = np.array(t[\"STAT_ERR\"])\n",
    "\n",
    "spimodfit_counts_41, spimodfit_counts_1160 = np.array(counts_41), np.array(counts_1160)\n",
    "\n"
   ]
  },
  {
   "cell_type": "code",
   "execution_count": 40,
   "metadata": {},
   "outputs": [
    {
     "name": "stdout",
     "output_type": "stream",
     "text": [
      "Number of energy bins: 41\n"
     ]
    }
   ],
   "source": [
    "# take a look at the response of spimodfit\n",
    "spimodfit_path_1160 = \"/home/tguethle/cookbook/SPI_cookbook/examples/automated_Crab/fit_Crab_bright_100_small_bins/\"\n",
    "spimodfit_path_41 = \"/home/tguethle/cookbook/SPI_cookbook/examples/automated_Crab/fit_Crab_normal_new/\"\n",
    "\n",
    "spiselect_path = \"/home/tguethle/cookbook/SPI_cookbook/examples/automated_Crab/dataset_normal_new/spi/\"\n",
    "\n",
    "response_name = \"convolved_sky_images.fits\"\n",
    "orig_data_path = \"/home/tguethle/cookbook/SPI_cookbook/examples/automated_Crab/dataset_normal_new/spi/\"\n",
    "\n",
    "# Energy Bins\n",
    "with fits.open(f\"{orig_data_path}/energy_boundaries.fits.gz\") as file:\n",
    "\n",
    "    t = Table.read(file[1])\n",
    "    energy_bins = np.append(t[\"E_MIN\"], t[\"E_MAX\"][-1])\n",
    "    print(f'Number of energy bins: {len(energy_bins)-1}')\n",
    "# Pointings and Start Times\n",
    "with fits.open(f\"{orig_data_path}/pointing.fits.gz\") as file:\n",
    "    t = Table.read(file[1])\n",
    "    \n",
    "    pointings = np.array(t[\"PTID_SPI\"])\n",
    "    \n",
    "    time_start = np.array(t[\"TSTART\"]) + 2451544.5\n",
    "    time_start = [at.Time(f\"{i}\", format=\"jd\").datetime for i in time_start]\n",
    "    time_start = np.array([datetime.strftime(i,'%y%m%d %H%M%S') for i in time_start])\n",
    "\n",
    "\n",
    "# Time Elapsed\n",
    "# det=i, pointing_index=j : index = j*85 + i\n",
    "with fits.open(f\"{orig_data_path}/dead_time.fits.gz\") as file:\n",
    "    \n",
    "    t = Table.read(file[1])\n",
    "    time_elapsed = np.array(t[\"LIVETIME\"])\n",
    "\n",
    "with fits.open(spimodfit_path_41 + response_name) as hdul:\n",
    "    t2 = Table(hdul[2].data)\n",
    "    header = hdul[2].header\n",
    "    t22 = Table(hdul[1].data)\n",
    "counts_41 = t2[\"COUNTS\"]\n",
    "err_41_low_K = np.array(t2[\"STAT_ERR\"])\n",
    "\n",
    "\n",
    "\n",
    "spimodfit_counts_41_low_K = np.array(counts_41)"
   ]
  },
  {
   "cell_type": "code",
   "execution_count": 43,
   "metadata": {},
   "outputs": [
    {
     "data": {
      "text/plain": [
       "XTENSION= 'BINTABLE'           / Binary table extension                         \n",
       "BITPIX  =                    8 / 8-bit bytes                                    \n",
       "NAXIS   =                    2 / 2-dimensional binary table                     \n",
       "NAXIS1  =                  328 / width of table in bytes                        \n",
       "NAXIS2  =                  779 / number of rows in table                        \n",
       "PCOUNT  =                    0 / size of special data area                      \n",
       "GCOUNT  =                    1 / one data group (required keyword)              \n",
       "TFIELDS =                    2 / number of fields in each row                   \n",
       "EXTNAME = 'SPI.-BMOD-DSP'      / Extension name                                 \n",
       "EXTREL  = '10.4    '           / ISDC release number                            \n",
       "BASETYPE= 'DAL_TABLE'          / Data Access Layer base type                    \n",
       "TELESCOP= 'INTEGRAL'           / Telescope or mission name                      \n",
       "ORIGIN  = 'ISDC    '           / Origin of FITS file                            \n",
       "INSTRUME= 'SPI     '           / Instrument name                                \n",
       "ISDCLEVL= 'BKG_I   '           / ISDC level of data processing                  \n",
       "CREATOR = 'spimodfit'          / Executable which created or modified this data \n",
       "CONFIGUR= '3.2     '           / Software system configuration                  \n",
       "DATE    = '2024-08-20T16:03:52' / file creation date (YYYY-MM-DDThh:mm:ss UT)   \n",
       "MJDREF  =               51544. / Modified Julian Date of time origin            \n",
       "TIMESYS = 'TT      '           / Time frame system                              \n",
       "TIMEUNIT= 'd       '           / Time unit                                      \n",
       "TIMEREF = 'LOCAL   '           / Time reference frame                           \n",
       "DATE-OBS= 'UTC_format'         / Date of the start of the observation           \n",
       "DATE-END= 'UTC_format'         / Date of the end of the observation             \n",
       "TSTART  = 'Real    '           / Start time of the observation                  \n",
       "TSTOP   = 'Real    '           / End time of the observation                    \n",
       "TELAPSE = 'Real    '           / [s] Total observation elapsed time (sum of SPI \n",
       "ONTIME  = 'Real    '           / Mean ontime for all live detectors             \n",
       "DEADC   = 'Real    '           / Mean deadtime correction for all live detectors\n",
       "DATAMODE= 'String  '           / Instrument (SPI) mode                          \n",
       "OGID    = 'String  '           / Observation Group identifier                   \n",
       "ISOC_NUM=                   41 / Number of ISOC pointings in the observation    \n",
       "PT_NUM  =                   41 / Number of SPI pointings in the observation     \n",
       "DET_NUM =                   19 / Number of detectors and pseudo-detectors       \n",
       "DET_REF = 'D142    '           / Reference for the pseudo-detector definition   \n",
       "RADECSYS= 'FK5     '           / Stellar reference frame                        \n",
       "EQUINOX =                2000. / Coordinate system equinox                      \n",
       "RA_MIN  = 'Real    '           / Minimum RA of the observation pointings (deg)  \n",
       "DEC_MIN = 'Real    '           / Minimum DEC of the observation pointings (deg) \n",
       "RA_MEAN = 'Real    '           / Mean RA of the observation pointings (deg)     \n",
       "DEC_MEAN= 'Real    '           / Mean DEC of the observation pointings (deg)    \n",
       "RA_MAX  = 'Real    '           / Maximum RA of the observation pointings (deg)  \n",
       "DEC_MAX = 'Real    '           / Maximum DEC of the observation pointings (deg) \n",
       "RA_MI_S = 'String  '           / Minimum RA of the observation pointings        \n",
       "DEC_MI_S= 'String  '           / Minimum DEC of the observation pointings       \n",
       "RA_ME_S = 'String  '           / Mean RA of the observation pointings           \n",
       "DEC_ME_S= 'String  '           / Mean DEC of the observation pointings          \n",
       "RA_MA_S = 'String  '           / Maximum RA of the observation pointings        \n",
       "DEC_MA_S= 'String  '           / Maximum DEC of the observation pointings       \n",
       "L2_MIN  = 'Real    '           / Min L2 of the observation                      \n",
       "B2_MIN  = 'Real    '           / Min B2 of the observation                      \n",
       "L2_MEAN = 'Real    '           / Mean L2 of the observation                     \n",
       "B2_MEAN = 'Real    '           / Mean B2 of the observation                     \n",
       "L2_MAX  = 'Real    '           / Max L2 of the observation                      \n",
       "B2_MAX  = 'Real    '           / Max B2 of the observation                      \n",
       "HDUCLASS= 'OGIP    '           / Format conforms mostly to OGIP standards       \n",
       "HDUDOC  = 'ISDC-SPI ICD'       / Document in which the format is defined        \n",
       "HDUVERS = '1.2.1   '           / Version of format                              \n",
       "HDUCLAS1= 'SPECTRUM'           / Dataset contains a spectrum                    \n",
       "HDUCLAS2= 'BKG     '           / gross spectrum (source + bkg)                  \n",
       "HDUCLAS3= 'RATE    '           / Counts or Counts/time interval                 \n",
       "EBIN_NUM=                   41 / Number of fitted energies                      \n",
       "DETCHANS=                16384 / Total number of SPI instrumental channels      \n",
       "CHANTYPE= 'PHA/PI  '           / Channel in instrumental unit (PHA) or energy (P\n",
       "POISSERR=                    F / Poisson error not appropriate (use STAT_ERR)   \n",
       "BKGNAME = 'PtSrce 00 Crab'     / Name of background component                   \n",
       "EXTVER  =                    1 / auto assigned by template parser               \n",
       "GRPID1  =                    1 / EXTVER of Group containing this HDU            \n",
       "GRPID2  =                   -1 / EXTVER of Group containing this HDU            \n",
       "GRPLC2  = 'convolved_sky_images_index.fits' / URL of file containing Group      \n",
       "LONGSTRN= 'OGIP 1.0'           / The HEASARC Long String Convention may be used.\n",
       "COMMENT   This FITS file may contain long string keyword values that are        \n",
       "COMMENT   continued over multiple keywords.  The HEASARC convention uses the &  \n",
       "COMMENT   character at the end of each substring which is then continued        \n",
       "COMMENT   on the next keyword which has the name CONTINUE.                      \n",
       "TTYPE1  = 'COUNTS  '           / label for field                                \n",
       "TFORM1  = '41E     '           / format of field                                \n",
       "TTYPE2  = 'STAT_ERR'           / label for field                                \n",
       "TFORM2  = '41E     '           / format of field                                \n",
       "BACK_NUM=                    1 / Number of background components                \n",
       "CHECKSUM= 'QXaASXW9QXaAQXW9'   / HDU checksum updated 2024-08-20T16:03:52       \n",
       "DATASUM = '2888529211'         / data unit checksum updated 2024-08-20T16:03:52 "
      ]
     },
     "execution_count": 43,
     "metadata": {},
     "output_type": "execute_result"
    }
   ],
   "source": [
    "header"
   ]
  },
  {
   "cell_type": "code",
   "execution_count": null,
   "metadata": {},
   "outputs": [],
   "source": []
  },
  {
   "cell_type": "code",
   "execution_count": 42,
   "metadata": {},
   "outputs": [
    {
     "data": {
      "text/plain": [
       "array([ 1.5,  2. ,  2. ,  2. ,  2.5,  2.5,  3. ,  3. ,  3.5,  3.5,  4. ,\n",
       "        4.5,  4.5,  5. ,  5.5,  6. ,  6.5,  7.5,  7.5,  8.5,  9. , 10. ,\n",
       "       10.5, 11.5, 13. , 13.5, 15. , 16.5, 17.5, 19. , 21. , 22.5, 24.5,\n",
       "       27. , 29. , 31.5, 34. , 37.5, 40.5,  6. , 86. ], dtype=float32)"
      ]
     },
     "execution_count": 42,
     "metadata": {},
     "output_type": "execute_result"
    }
   ],
   "source": [
    "e_bounds_width = np.array(energy_bins[1:]) - np.array(energy_bins[:-1])\n",
    "e_bounds_width"
   ]
  },
  {
   "cell_type": "code",
   "execution_count": null,
   "metadata": {},
   "outputs": [],
   "source": [
    "fig, ax = plt.subplots(1, 1, figsize=(10, 8))\n",
    "dets = np.arange(0, 19, 1)\n",
    "bins = (0,10,20,30,40)\n",
    "\n",
    "pointing_id = (0,)\n",
    "\n",
    "smf_high_K, = [spimodfit_counts_41[(id * 19):(id +1) * 19] for id in pointing_id]\n",
    "smf_low_K, = [spimodfit_counts_41_low_K[(id * 19):(id +1) * 19] for id in pointing_id]\n",
    "\n",
    "print(smf_high_K.shape)\n",
    "\n",
    "for b in bins:\n",
    "    # ax.step(dets, smf_high_K[:,b], label=f\"bin {b} spimodfit\", linestyle=\"--\", marker=\"x\", where=\"mid\", markersize=10)\n",
    "\n",
    "    ax.step(dets, smf_low_K[:,b], label=f\"bin {b} spimodfit low K\", linestyle=\"--\", marker=\"x\", where=\"mid\", markersize=10)\n",
    "\n",
    "fig.legend()"
   ]
  },
  {
   "cell_type": "markdown",
   "metadata": {},
   "source": [
    "*Plot spectrum*"
   ]
  },
  {
   "cell_type": "code",
   "execution_count": 65,
   "metadata": {},
   "outputs": [],
   "source": [
    "source_counts = np.zeros((len(pointings)*85, len(energy_bins)-1), dtype=np.uint32)\n",
    "bins_mid = (energy_bins[1:] + energy_bins[:-1])/2\n",
    "dets = np.arange(0, 19, 1)\n",
    "\n",
    "\n",
    "def powerlaw(x, K=7e-4,index=-2,piv=100):\n",
    "    return K * (x/piv)**index\n",
    "\n",
    "for i, p_i in enumerate(pointings):\n",
    "    for j, det in enumerate(dets):\n",
    "        source_counts[i*85 + j] = np.random.poisson(powerlaw(bins_mid, K=7e-4, index=-2, piv=100) * time_elapsed[i*19 + j] * spimodfit_counts_41_low_K[i*19 + j])"
   ]
  },
  {
   "cell_type": "code",
   "execution_count": 66,
   "metadata": {},
   "outputs": [
    {
     "data": {
      "text/plain": [
       "array([[ 78, 169, 220, 252, 326, 313, 415, 372, 395, 312, 323, 358, 313,\n",
       "        292, 288, 229, 214, 241, 181, 186, 193, 157, 160, 132, 132, 105,\n",
       "         99,  95,  75,  66,  55,  50,  44,  52,  40,  32,  17,  26,  28,\n",
       "          4,  36],\n",
       "       [ 20,  37,  59,  48,  79,  53,  71,  77,  74,  65,  68,  71,  59,\n",
       "         41,  57,  54,  50,  34,  35,  37,  34,  23,  28,  15,  24,  26,\n",
       "         27,  18,  11,  19,   8,  16,  18,  10,   7,   2,   4,   0,   4,\n",
       "          1,   2],\n",
       "       [  0,   0,   0,   0,   0,   0,   0,   0,   0,   0,   0,   0,   0,\n",
       "          0,   0,   0,   0,   0,   0,   0,   0,   0,   0,   0,   0,   0,\n",
       "          0,   0,   0,   0,   0,   0,   0,   0,   0,   0,   0,   0,   0,\n",
       "          0,   0],\n",
       "       [ 95, 198, 234, 267, 323, 306, 385, 345, 391, 307, 335, 358, 329,\n",
       "        278, 250, 243, 221, 230, 176, 187, 160, 167, 151, 133, 130, 104,\n",
       "        108,  91,  81,  77,  58,  59,  45,  46,  55,  27,  34,  19,  27,\n",
       "          2,  29],\n",
       "       [ 80, 184, 217, 252, 373, 358, 367, 367, 397, 344, 353, 364, 295,\n",
       "        298, 245, 273, 228, 277, 198, 189, 172, 188, 137, 161, 116,  99,\n",
       "         79,  92,  89,  71,  64,  60,  55,  48,  35,  22,  33,  23,  21,\n",
       "          2,  32],\n",
       "       [ 89, 126, 179, 211, 245, 297, 302, 260, 312, 314, 272, 308, 234,\n",
       "        248, 204, 208, 179, 192, 150, 148, 128, 128, 132, 115, 104, 102,\n",
       "         90,  71,  53,  53,  50,  64,  35,  35,  28,  26,  27,  25,  12,\n",
       "          2,  18],\n",
       "       [108, 196, 204, 238, 322, 327, 389, 386, 383, 320, 329, 358, 305,\n",
       "        289, 303, 279, 248, 266, 169, 187, 179, 148, 130, 145, 147, 128,\n",
       "        109,  91,  82,  72,  64,  59,  43,  34,  42,  26,  27,  20,  20,\n",
       "          3,  39],\n",
       "       [ 12,  26,  29,  29,  45,  45,  36,  45,  40,  36,  37,  45,  39,\n",
       "         30,  40,  20,  31,  25,  29,  30,  19,  15,   9,  16,   8,  11,\n",
       "         15,   9,   8,   9,   6,   4,   6,   5,   3,   3,   3,   3,   3,\n",
       "          0,   3],\n",
       "       [ 36,  46,  73,  62,  88, 107, 128, 115,  86, 100,  84, 113,  87,\n",
       "         90,  85,  79,  59,  63,  53,  57,  52,  48,  37,  42,  34,  30,\n",
       "         26,  16,  21,  16,  13,   9,   6,  13,  11,   8,   9,   7,   5,\n",
       "          1,   8],\n",
       "       [ 25,  41,  51,  60,  67,  93,  94, 106, 104, 101,  96,  91,  92,\n",
       "         85,  81,  68,  65,  61,  49,  65,  38,  59,  36,  42,  33,  35,\n",
       "         23,  26,  19,  22,  18,  10,   8,  12,   9,   7,   7,   6,   2,\n",
       "          1,  14]], dtype=uint32)"
      ]
     },
     "execution_count": 66,
     "metadata": {},
     "output_type": "execute_result"
    }
   ],
   "source": [
    "source_counts[:10]"
   ]
  },
  {
   "cell_type": "code",
   "execution_count": 68,
   "metadata": {},
   "outputs": [
    {
     "data": {
      "text/plain": [
       "[<matplotlib.lines.Line2D at 0x7f9f382d7d90>]"
      ]
     },
     "execution_count": 68,
     "metadata": {},
     "output_type": "execute_result"
    },
    {
     "data": {
      "image/png": "[encoded data removed]",
      "text/plain": [
       "<Figure size 640x480 with 1 Axes>"
      ]
     },
     "metadata": {},
     "output_type": "display_data"
    }
   ],
   "source": [
    "smf_spectrum = spimodfit_counts_41_low_K.sum(axis=0), smf_high_K.sum(axis=0)\n",
    "\n",
    "plt.yscale(\"log\")\n",
    "# plt.step(energy_bins[1:], smf_spectrum[0] / e_bounds_width, label=\"spimodfit low K\")\n",
    "plt.step(energy_bins[1:], source_counts[85:85+19].sum(axis=0) / e_bounds_width, label=\"spimodfit low K\")\n",
    "# plt.plot(smf_spectrum[1], label=\"spimodfit low K\")\n"
   ]
  },
  {
   "cell_type": "markdown",
   "metadata": {},
   "source": [
    "plot the counts for different detectors of one pointing. For now plot with only one energy bin"
   ]
  },
  {
   "cell_type": "markdown",
   "metadata": {},
   "source": [
    "## Pyspi"
   ]
  },
  {
   "cell_type": "code",
   "execution_count": null,
   "metadata": {},
   "outputs": [],
   "source": [
    "# defining the source\n",
    "K = 7e-2\n",
    "ra, dec = 10, -40\n",
    "index_pl = -2\n",
    "piv = 100\n",
    "# ra, dec = 155., 75.\n",
    "# K, piv, index = 3e-3, 40, -1\n",
    "data_path = '/home/tguethle/Documents/spi/Master_Thesis/main_files/sim_source_real_bkg/bright_100_new/0374'\n",
    "orig_data_path_1160 = '/home/tguethle/Documents/spi/Master_Thesis/spiselect_SPI_Data/0374_center_small_bins'\n",
    "orig_data_path_41 = '/home/tguethle/Documents/spi/Master_Thesis/spiselect_SPI_Data/0374_center'\n",
    "# Define  Spectrum\n",
    "def create_counts(orig_data_path, K=7e-2):\n",
    "    print(f\"Using k = {K}\")\n",
    "    pl = Powerlaw()\n",
    "    pl.piv = piv\n",
    "    pl.K = K\n",
    "    pl.index = index_pl\n",
    "    component1 = SpectralComponent(\"pl\", shape=pl)\n",
    "    source = PointSource(\"Test\", ra=ra, dec=dec, components=[component1])\n",
    "\n",
    "    #emod = np.geomspace(18, 2000, 200)\n",
    "    emod = np.arange(20, 600.5, 0.5)\n",
    "    spec = source(emod)\n",
    "    spec_binned = powerlaw_binned_spectrum(emod, spec)\n",
    "\n",
    "\n",
    "    # Energy Bins\n",
    "    with fits.open(f\"{orig_data_path}/energy_boundaries.fits\") as file:\n",
    "\n",
    "        t = Table.read(file[1])\n",
    "        energy_bins = np.append(t[\"E_MIN\"], t[\"E_MAX\"][-1])\n",
    "        print(f'Number of energy bins: {len(energy_bins)-1}')\n",
    "    # Pointings and Start Times\n",
    "    with fits.open(f\"{orig_data_path}/pointing.fits\") as file:\n",
    "        t = Table.read(file[1])\n",
    "        \n",
    "        pointings = np.array(t[\"PTID_SPI\"])\n",
    "        \n",
    "        time_start = np.array(t[\"TSTART\"]) + 2451544.5\n",
    "        time_start = [at.Time(f\"{i}\", format=\"jd\").datetime for i in time_start]\n",
    "        time_start = np.array([datetime.strftime(i,'%y%m%d %H%M%S') for i in time_start])\n",
    "\n",
    "\n",
    "    # Time Elapsed\n",
    "    # det=i, pointing_index=j : index = j*85 + i\n",
    "    with fits.open(f\"{orig_data_path}/dead_time.fits\") as file:\n",
    "        \n",
    "        t = Table.read(file[1])\n",
    "        time_elapsed = np.array(t[\"LIVETIME\"])\n",
    "\n",
    "    # Generate Source Counts\n",
    "\n",
    "    assert find_response_version(time_start[0]) == find_response_version(time_start[-1]), \"Versions not constant\"\n",
    "    version = find_response_version(time_start[0])\n",
    "    rsp_base = ResponseDataRMF.from_version(version)\n",
    "\n",
    "    source_counts = np.zeros((len(pointings)*85, len(energy_bins)-1), dtype=np.uint32)\n",
    "    np_source_counts = np.zeros((len(pointings)*19, len(energy_bins)-1), dtype=np.uint32)\n",
    "\n",
    "    for p_i, pointing in enumerate(pointings):\n",
    "        \n",
    "        time = time_start[p_i]\n",
    "        dets = get_live_dets(time=time, event_types=[\"single\"])\n",
    "        \n",
    "        rmfs = []\n",
    "        for d in dets:\n",
    "            rmfs.append(ResponseRMFGenerator.from_time(time, d, energy_bins, emod, rsp_base))\n",
    "            \n",
    "        sds = np.empty(0)\n",
    "        for d in range(len(dets)):\n",
    "            sd = SPIDRM(rmfs[d], ra, dec)\n",
    "            sds = np.append(sds, sd.matrix.T)\n",
    "        resp_mat = sds.reshape((len(dets), len(emod)-1, len(energy_bins)-1))\n",
    "        \n",
    "        count_rates = np.dot(spec_binned, resp_mat)\n",
    "        \n",
    "        for d_i, d in enumerate(dets):\n",
    "            index = p_i * 85 + d\n",
    "            counts_index = p_i * 19 + d\n",
    "            source_counts[index,:] = np.random.poisson(count_rates[d_i,:] * time_elapsed[index])\n",
    "            np_source_counts[counts_index,:] = count_rates[d_i,:] * time_elapsed[index]\n",
    "\n",
    "    with fits.open(f\"{orig_data_path}/evts_det_spec_orig.fits\") as file:\n",
    "        t = Table.read(file[1])\n",
    "        \n",
    "        counts = t\n",
    "        \n",
    "\n",
    "    total_counts = counts[\"COUNTS\"] + source_counts\n",
    "\n",
    "    return source_counts, total_counts, np_source_counts, energy_bins, time_elapsed, resp_mat\n"
   ]
  },
  {
   "cell_type": "code",
   "execution_count": null,
   "metadata": {},
   "outputs": [],
   "source": [
    "# source_counts, total_counts, np_source_counts, energy_bins, time_elapsed, resp_mat = create_counts(orig_data_path_41)"
   ]
  },
  {
   "cell_type": "code",
   "execution_count": null,
   "metadata": {},
   "outputs": [],
   "source": [
    "res_41 = create_counts(orig_data_path_41)\n",
    "\n",
    "res_41_low_K = create_counts(orig_data_path_41, K=7e-4)\n",
    "# res_1160 = create_counts(orig_data_path_1160)"
   ]
  },
  {
   "cell_type": "code",
   "execution_count": null,
   "metadata": {},
   "outputs": [],
   "source": [
    "bin_widths = energy_bins[1:] - energy_bins[:-1]\n",
    "bin_widths"
   ]
  },
  {
   "cell_type": "code",
   "execution_count": null,
   "metadata": {},
   "outputs": [],
   "source": [
    "pyspi_counts_41 = np.array(res_41[0], dtype=np.float64)\n",
    "pyspi_counts_41_low_K = np.array(res_41_low_K[0], dtype=np.float64)\n",
    "\n",
    "# np.save(\"pyspi_counts_41.npy\", pyspi_counts_41)\n",
    "# np.save(\"pyspi_counts_41_low_K.npy\", pyspi_counts_41_low_K)"
   ]
  },
  {
   "cell_type": "code",
   "execution_count": 6,
   "metadata": {},
   "outputs": [],
   "source": [
    "pyspi_counts_41 = np.load(\"pyspi_counts_41.npy\")\n",
    "pyspi_counts_41_low_K = np.load(\"pyspi_counts_41_low_K.npy\")\n"
   ]
  },
  {
   "cell_type": "code",
   "execution_count": 11,
   "metadata": {},
   "outputs": [],
   "source": [
    "matplotlib.rcParams.update(matplotlib.rcParamsDefault)\n",
    "\n",
    "def divide_by_mean(arr):\n",
    "    mean = np.nanmean(arr, axis=0)\n",
    "    return arr / mean"
   ]
  },
  {
   "cell_type": "code",
   "execution_count": 15,
   "metadata": {},
   "outputs": [
    {
     "data": {
      "text/plain": [
       "[<matplotlib.lines.Line2D at 0x7fa05d786c10>]"
      ]
     },
     "execution_count": 15,
     "metadata": {},
     "output_type": "execute_result"
    },
    {
     "data": {
      "image/png": "[encoded data removed]",
      "text/plain": [
       "<Figure size 640x480 with 1 Axes>"
      ]
     },
     "metadata": {},
     "output_type": "display_data"
    }
   ],
   "source": [
    "%matplotlib inline\n",
    "pointing_id = (10,15)\n",
    "\n",
    "pyspi_detector_counts, pyspi_detector_counts_2 = [pyspi_counts_41[(id * 85):(id * 85) + 19] for id in pointing_id]\n",
    "pyspi_detector_counts_low_K, pyspi_detector_counts_2_low_K = [pyspi_counts_41_low_K[(id * 85):(id * 85) + 19] for id in pointing_id]\n",
    "\n",
    "plt.step(dets, divide_by_mean(pyspi_detector_counts)[:,10], label=\"pyspi\", linestyle=\"--\", marker=\"x\", where=\"mid\", markersize=10)\n",
    "plt.step(dets, divide_by_mean(pyspi_detector_counts_low_K)[:,10], label=\"pyspi low K\", linestyle=\"--\", marker=\"x\", where=\"mid\", markersize=10)\n"
   ]
  },
  {
   "cell_type": "code",
   "execution_count": null,
   "metadata": {},
   "outputs": [],
   "source": [
    "%matplotlib inline\n",
    "\n",
    "pointing_id = (0,15)\n",
    "\n",
    "# load data for high K\n",
    "smf_detector_counts, smf_detector_counts_2 = [spimodfit_counts_41[(id * 19):(id +1) * 19] for id in pointing_id]\n",
    "pyspi_detector_counts, pyspi_detector_counts_2 = [pyspi_counts_41[(id * 85):(id * 85) + 19] for id in pointing_id]\n",
    "\n",
    "e1, e2 =  [err_41[(id * 19):(id +1) * 19] for id in pointing_id]\n",
    "e1, e2 = e1 / np.nanmean(smf_detector_counts, axis=0), e2 / np.nanmean(smf_detector_counts_2, axis=0)\n",
    "\n",
    "\n",
    "smf_detector_counts, smf_detector_counts_2 = divide_by_mean(smf_detector_counts), divide_by_mean(smf_detector_counts_2)\n",
    "pyspi_detector_counts, pyspi_detector_counts_2 = divide_by_mean(pyspi_detector_counts), divide_by_mean(pyspi_detector_counts_2)\n",
    "\n",
    "# load data for low K\n",
    "smf_detector_counts_low_K, smf_detector_counts_2_low_K = [spimodfit_counts_41_low_K[(id * 19):(id +1) * 19] for id in pointing_id]\n",
    "pyspi_detector_counts_low_K, pyspi_detector_counts_2_low_K = [pyspi_counts_41_low_K[(id * 85):(id * 85) + 19] for id in pointing_id]\n",
    "\n",
    "e1_low_K, e2_low_K =  [err_41_low_K[(id * 19):(id +1) * 19] for id in pointing_id]\n",
    "e1_low_K, e2_low_K = e1_low_K / np.nanmean(smf_detector_counts_low_K, axis=0), e2_low_K / np.nanmean(smf_detector_counts_2_low_K, axis=0)\n",
    "\n",
    "smf_detector_counts_low_K, smf_detector_counts_2_low_K = divide_by_mean(smf_detector_counts_low_K), divide_by_mean(smf_detector_counts_2_low_K)\n",
    "pyspi_detector_counts_low_K, pyspi_detector_counts_2_low_K = divide_by_mean(pyspi_detector_counts_low_K), divide_by_mean(pyspi_detector_counts_2_low_K)\n",
    "\n",
    "\n",
    "# somehow deal with the errors\n",
    "\n",
    "\n",
    "dets = np.arange(19)\n",
    "\n",
    "c = [\"C0\", \"C1\", \"C2\", \"C3\", \"C4\", \"C5\", \"C6\", \"C7\", \"C8\", \"C9\", \"C10\", \"C11\", \"C12\", \"C13\", \"C14\", \"C15\", \"C16\", \"C17\", \"C18\"]\n",
    "\n",
    "print(np.where(pyspi_detector_counts_low_K == 0))\n",
    "\n",
    "fig, ((ax, ax2), (ax12, ax22)) = plt.subplots(2, 2, figsize=(20, 16))\n",
    "# ax.plot(dets, smf_detector_counts[:,0], label=\"bin 0\", c=c[0], linestyle=\"-\")\n",
    "# ax.plot(dets, smf_detector_counts[:,5], label=\"bin 5\", c=c[1], linestyle=\"-\")\n",
    "# ax.plot(dets, smf_detector_counts[:,20], label=\"bin 20\", c=c[2], linestyle=\"-\")\n",
    "# ax.plot(dets, smf_detector_counts[:,35], label=\"bin 35\", c=c[3], linestyle=\"-\")\n",
    "\n",
    "for a in (ax, ax2, ax12, ax22):\n",
    "    a.set_xticks(dets)\n",
    "\n",
    "    a.grid(axis=\"x\")\n",
    "    a.set_xlabel(\"Detector\")\n",
    "\n",
    "ax.set_title(f\"High Flux, K=7e-2 - pointing {pointing_id[0]}\")\n",
    "ax2.set_title(f\"High Flux, K=7e-2 - pointing {pointing_id[1]}\")\n",
    "ax12.set_title(f\"Low Flux, K=7e-4 - pointing {pointing_id[0]}\")\n",
    "ax22.set_title(f\"Low Flux, K=7e-4 - pointing {pointing_id[1]}\")\n",
    "\n",
    "for bin, color in zip((20,), c):\n",
    "    ax.step(dets, pyspi_detector_counts[:,bin], c=color, label=f\"bin {bin} pyspi\", linestyle=\"-\", where=\"mid\")\n",
    "    ax.step(dets, smf_detector_counts[:,bin], label=f\"bin {bin} spimodfit\", c=color, linestyle=\"--\", marker=\"x\", where=\"mid\", markersize=10)\n",
    "\n",
    "    # show spimodfit errors\n",
    "    ax.fill_between(dets, smf_detector_counts[:,bin] - e1[:,bin], smf_detector_counts[:,bin] + e1[:,bin], color=color, alpha=0.3, step=\"mid\")\n",
    "    ax12.fill_between(dets, smf_detector_counts_low_K[:,bin] - e1_low_K[:,bin], smf_detector_counts_low_K[:,bin] + e1_low_K[:,bin], color=color, alpha=0.3, step=\"mid\")\n",
    "\n",
    "\n",
    "    ax12.step(dets, pyspi_detector_counts_low_K[:,bin], c=color, label=f\"bin {bin} pyspi\", linestyle=\"-\", where=\"mid\")\n",
    "    ax12.step(dets, smf_detector_counts_low_K[:,bin], label=f\"bin {bin} spimodfit\", c=color, linestyle=\"--\", marker=\"x\", where=\"mid\", markersize=10)\n",
    "\n",
    "\n",
    "for bin, color in zip((10,20,40), c):\n",
    "    ax2.step(dets, pyspi_detector_counts_2[:,bin], c=color, label=f\"bin {bin} pyspi\", linestyle=\"-\", where=\"mid\")\n",
    "    ax2.step(dets, smf_detector_counts_2[:,bin], label=f\"bin {bin} spimodfit\", c=color, linestyle=\"--\", marker=\"x\", where=\"mid\", markersize=10)\n",
    "    ax22.step(dets, pyspi_detector_counts_2_low_K[:,bin], c=color, label=f\"bin {bin} pyspi\", linestyle=\"-\", where=\"mid\")\n",
    "    ax22.step(dets, smf_detector_counts_2_low_K[:,bin], label=f\"bin {bin} spimodfit\", c=color, linestyle=\"--\", marker=\"x\", where=\"mid\", markersize=10)\n",
    "\n",
    "\n",
    "# ax.plot(dets, pyspi_detector_counts[:,0], label=\"bin 0\", c=c[0], linestyle=\"--\")\n",
    "# ax.plot(dets, pyspi_detector_counts[:,5], label=\"bin 5\", c=c[1], linestyle=\"--\")\n",
    "# ax.plot(dets, pyspi_detector_counts[:,20], label=\"bin 20\", c=c[2], linestyle=\"--\")\n",
    "# ax.plot(dets, pyspi_detector_counts[:,35], label=\"bin 35\", c=c[3], linestyle=\"--\")\n",
    "\n",
    "\n",
    "fig.legend()\n",
    "\n"
   ]
  },
  {
   "cell_type": "code",
   "execution_count": 7,
   "metadata": {},
   "outputs": [
    {
     "data": {
      "image/png": "[encoded data removed]",
      "text/plain": [
       "<Figure size 1000x800 with 1 Axes>"
      ]
     },
     "metadata": {},
     "output_type": "display_data"
    }
   ],
   "source": []
  },
  {
   "cell_type": "code",
   "execution_count": 16,
   "metadata": {},
   "outputs": [
    {
     "ename": "NameError",
     "evalue": "name 'res_41' is not defined",
     "output_type": "error",
     "traceback": [
      "\u001b[0;31m---------------------------------------------------------------------------\u001b[0m",
      "\u001b[0;31mNameError\u001b[0m                                 Traceback (most recent call last)",
      "Input \u001b[0;32mIn [16]\u001b[0m, in \u001b[0;36m<cell line: 3>\u001b[0;34m()\u001b[0m\n\u001b[1;32m      1\u001b[0m fig, ax \u001b[38;5;241m=\u001b[39m plt\u001b[38;5;241m.\u001b[39msubplots(\u001b[38;5;241m1\u001b[39m, \u001b[38;5;241m2\u001b[39m, figsize\u001b[38;5;241m=\u001b[39m(\u001b[38;5;241m18\u001b[39m, \u001b[38;5;241m7\u001b[39m), sharey\u001b[38;5;241m=\u001b[39m\u001b[38;5;28;01mTrue\u001b[39;00m)\n\u001b[0;32m----> 3\u001b[0m \u001b[38;5;28;01mfor\u001b[39;00m i, res, spimodfit_c \u001b[38;5;129;01min\u001b[39;00m \u001b[38;5;28mzip\u001b[39m((\u001b[38;5;241m0\u001b[39m,\u001b[38;5;241m1\u001b[39m), (\u001b[43mres_41\u001b[49m, res_1160), (spimodfit_counts_41, spimodfit_counts_1160)):\n\u001b[1;32m      4\u001b[0m     source_counts, total_counts, np_source_counts, energy_bins, time_elapsed, resp_mat \u001b[38;5;241m=\u001b[39m res\n\u001b[1;32m      5\u001b[0m     bin_widths \u001b[38;5;241m=\u001b[39m energy_bins[\u001b[38;5;241m1\u001b[39m:] \u001b[38;5;241m-\u001b[39m energy_bins[:\u001b[38;5;241m-\u001b[39m\u001b[38;5;241m1\u001b[39m]\n",
      "\u001b[0;31mNameError\u001b[0m: name 'res_41' is not defined"
     ]
    },
    {
     "data": {
      "image/png": "[encoded data removed]",
      "text/plain": [
       "<Figure size 1800x700 with 2 Axes>"
      ]
     },
     "metadata": {},
     "output_type": "display_data"
    }
   ],
   "source": [
    "fig, ax = plt.subplots(1, 2, figsize=(18, 7), sharey=True)\n",
    "\n",
    "for i, res, spimodfit_c in zip((0,1), (res_41, res_1160), (spimodfit_counts_41, spimodfit_counts_1160)):\n",
    "    source_counts, total_counts, np_source_counts, energy_bins, time_elapsed, resp_mat = res\n",
    "    bin_widths = energy_bins[1:] - energy_bins[:-1]\n",
    "    index = 0\n",
    "    for index, line in zip([0, 10], (\"solid\", \"dashed\")):\n",
    "        ax[i].step(energy_bins[1:], source_counts[index] / bin_widths, where='pre', label=f'Source Counts Det {index}', linestyle=line)\n",
    "        ax[i].step(energy_bins[1:], total_counts[index] / bin_widths, where='pre', label=f'Total Counts Det {index}', linestyle=line)\n",
    "        ax[i].step(energy_bins[1:], spimodfit_c[index] / bin_widths, where='pre', label=f'Spimodfit Counts Det {index}', linestyle=line)\n",
    "        ax[i].set_title(f\"Counts with {len(energy_bins)-1} energy bins\")\n",
    "    ax[i].set_yscale('log')\n",
    "    ax[i].grid()\n",
    "    \n",
    "    ax[i].set_xlabel(\"Energy [keV]\")\n",
    "    ax[i].set_ylabel(\"Counts / keV\")\n",
    "    ax[i].legend()\n",
    "\n",
    "# fig.savefig(\"Counts_comparison.pdf\")"
   ]
  },
  {
   "cell_type": "code",
   "execution_count": null,
   "metadata": {},
   "outputs": [],
   "source": [
    "# with errorbars\n",
    "fig, ax = plt.subplots(1, 2, figsize=(18, 7), sharey=True)\n",
    "\n",
    "for i, res, spimodfit_c, spimodfit_err in zip((0,1), (res_41, res_1160), (spimodfit_counts_41, spimodfit_counts_1160), (err_41, err_1160)):\n",
    "    source_counts, total_counts, np_source_counts, energy_bins, time_elapsed, resp_mat = res\n",
    "    bin_widths = energy_bins[1:] - energy_bins[:-1]\n",
    "    index = 0\n",
    "    for index, line, show_err in zip([0, 10], (\"solid\", \"dashed\"), (True, True)):\n",
    "        ax[i].step(energy_bins[1:], source_counts[index] / bin_widths, where='pre', label=f'Source Counts Det {index}', linestyle=line, color=\"C0\")\n",
    "        ax[i].step(energy_bins[1:], total_counts[index] / bin_widths, where='pre', label=f'Total Counts Det {index}', linestyle=line, color=\"C1\")\n",
    "        ax[i].step(energy_bins[1:], spimodfit_c[index] / bin_widths, where='pre', label=f'Spimodfit Counts Det {index}', linestyle=line, color=\"C2\")\n",
    "         # Fill the area between the spimodfit counts minus the error and the spimodfit counts plus the error\n",
    "        if show_err:\n",
    "            ax[i].fill_between(\n",
    "                energy_bins[1:], \n",
    "                (spimodfit_c[index] / bin_widths) - spimodfit_err[index], \n",
    "                (spimodfit_c[index] / bin_widths) + spimodfit_err[index], \n",
    "                alpha=0.3, label=\"Spimodfit Error\", color=\"C2\"\n",
    "            )\n",
    "        ax[i].set_title(f\"Counts with {len(energy_bins)-1} energy bins\")\n",
    "    ax[i].set_yscale('log')\n",
    "    ax[i].grid()\n",
    "    \n",
    "    ax[i].set_xlabel(\"Energy [keV]\")\n",
    "    ax[i].set_ylabel(\"Counts / keV\")\n",
    "    ax[i].legend()\n",
    "\n",
    "fig.savefig(\"Counts_comparison_with_err.pdf\")"
   ]
  },
  {
   "cell_type": "code",
   "execution_count": null,
   "metadata": {},
   "outputs": [],
   "source": [
    "# difference between detectors of a single pointing\n",
    "\n",
    "for index in range(0,19):\n",
    "\n",
    "    plt.plot(energy_bins[:-1], total_counts[index], label='total counts pyspi', c='r')\n",
    "    plt.plot(energy_bins[:-1], source_counts[index], label='source counts pyspi', c='b')\n",
    "    plt.plot(energy_bins[:-1], spimodfit_counts_1160[index], c=\"g\", label='source counts spimodfit')\n",
    "    #plt.plot(np_source_counts[index], label='source counts pyspi no poisson')\n",
    "    plt.yscale('log')\n",
    "    #plt.legend()"
   ]
  },
  {
   "cell_type": "code",
   "execution_count": null,
   "metadata": {},
   "outputs": [],
   "source": [
    "# difference between the same detector of different pointings for now the first 25\n",
    "\n",
    "for index in range(0,25*85, 85):\n",
    "\n",
    "    #plt.plot(energy_bins[:-1], total_counts[index], label='total counts pyspi', c='r')\n",
    "    plt.plot(energy_bins[:-1], source_counts[index], label='source counts pyspi', c='b')\n",
    "    plt.plot(energy_bins[:-1], spimodfit_counts_1160[index//85 * 19], c=\"g\", label='source counts spimodfit')\n",
    "    #plt.plot(np_source_counts[index], label='source counts pyspi no poisson')\n",
    "    plt.yscale('log')\n",
    "    #plt.legend()"
   ]
  },
  {
   "cell_type": "markdown",
   "metadata": {},
   "source": [
    "## Plot the spimodfit response\n",
    "\n",
    "This is just the RMF, only Energy redistribution and no IRFs, so not angular resolved and thus the same for every detector of the pointings in this rev"
   ]
  },
  {
   "cell_type": "code",
   "execution_count": null,
   "metadata": {},
   "outputs": [],
   "source": [
    "response_file = 'spectral_response.rmf.fits'\n",
    "\n",
    "with fits.open(spimodfit_path_41 + response_file) as hdul:\n",
    "    hdul.info()\n",
    "    data = hdul[2].data\n",
    "    t = Table(data)\n",
    "\n",
    "\n",
    "energy_low = np.array(t[\"ENERG_LO\"])\n",
    "energy_low = np.append(energy_low, t[\"ENERG_HI\"][-1])\n",
    "matrix = t[\"MATRIX\"]\n",
    "len(matrix[-1])\n",
    "\n",
    "response_matrix = np.zeros((len(matrix), len(matrix[-1])))\n",
    "for i, m in enumerate(matrix):\n",
    "    m_array = np.zeros(len(matrix[-1]))  # Create an array of zeros with length 41\n",
    "    m_array[:len(m)] = m  # Copy the values of m into m_array\n",
    "    response_matrix[i] = m_array  # Assign m_array to the response matrix\n",
    "\n",
    "fig, ax = plt.subplots(1, 2, figsize=(18, 7), sharey=True)\n",
    "\n",
    "im = ax[0].imshow(response_matrix, origin='upper', cmap='viridis', aspect='auto')\n",
    "\n",
    "plt.colorbar(im, label='cm$^2$')\n",
    "ax[0].set_xlabel(\"Channel\")\n",
    "ax[0].set_ylabel(\"Energy keV\")\n",
    "ax[0].set_yticks(np.linspace(0, len(matrix), 11),  energy_low[::int(np.floor(len(energy_low)/10))])\n",
    "\n",
    "response_matrix[response_matrix < 1e-7] = np.nan\n",
    "ax[1].imshow(np.zeros_like(response_matrix), origin='upper', cmap='Greys', aspect='auto')\n",
    "im = ax[1].imshow(response_matrix, origin='upper', cmap='viridis', aspect='auto', norm=matplotlib.colors.LogNorm())\n",
    "plt.colorbar(im, label='cm$^2$')\n",
    "ax[1].set_xlabel(\"Channel\")\n",
    "ax[1].set_ylabel(\"Energy keV\")\n",
    "ax[1].set_yticks(np.linspace(0, len(matrix), 11),  energy_low[::int(np.floor(len(energy_low)/10))])\n",
    "\n",
    "fig.suptitle(\"Spimodfit Response Matrix 20-600 keV\")\n",
    "fig.savefig(\"spimodfit_response_matrix.pdf\")"
   ]
  },
  {
   "cell_type": "markdown",
   "metadata": {},
   "source": [
    "## Pyspi Response"
   ]
  },
  {
   "cell_type": "code",
   "execution_count": null,
   "metadata": {},
   "outputs": [],
   "source": [
    "pyspi_response = res_1160[5][0]\n",
    "energy_bins = res_1160[3]\n",
    "\n",
    "\n",
    "fig, ax = plt.subplots(1, 2, figsize=(18, 7), sharey=True)\n",
    "\n",
    "im = ax[0].imshow(pyspi_response, origin='upper', cmap='viridis', aspect='auto')\n",
    "\n",
    "plt.colorbar(im)\n",
    "ax[0].set_xlabel(\"Channel\")\n",
    "ax[0].set_ylabel(\"Energy keV\")\n",
    "ax[0].set_yticks(np.linspace(0, len(energy_bins), 11),  energy_bins[::int(np.floor(len(energy_bins)/10))])\n",
    "\n",
    "\n",
    "im = ax[1].imshow(pyspi_response, origin='upper', cmap='viridis', aspect='auto', norm=matplotlib.colors.LogNorm())\n",
    "plt.colorbar(im)\n",
    "ax[1].set_xlabel(\"Channel\")\n",
    "ax[1].set_ylabel(\"Energy keV\")\n",
    "#ax[1].set_yticks(np.linspace(0, len(matrix), 11),  energy_low[::int(np.floor(len(energy_low)/10))])\n"
   ]
  },
  {
   "cell_type": "markdown",
   "metadata": {},
   "source": [
    "### pyspi response for all energies"
   ]
  },
  {
   "cell_type": "code",
   "execution_count": null,
   "metadata": {},
   "outputs": [],
   "source": [
    "orig_data_path = orig_data_path_41\n",
    "with fits.open(f\"{orig_data_path}/pointing.fits\") as file:\n",
    "        t = Table.read(file[1])\n",
    "        \n",
    "        pointings = np.array(t[\"PTID_SPI\"])\n",
    "        \n",
    "        time_start = np.array(t[\"TSTART\"]) + 2451544.5\n",
    "        time_start = [at.Time(f\"{i}\", format=\"jd\").datetime for i in time_start]\n",
    "        time_start = np.array([datetime.strftime(i,'%y%m%d %H%M%S') for i in time_start])"
   ]
  },
  {
   "cell_type": "code",
   "execution_count": null,
   "metadata": {},
   "outputs": [],
   "source": [
    "version = find_response_version(time_start[14])\n",
    "rsp_base = ResponseDataRMF.from_version(version)\n",
    "\n",
    "bins = np.geomspace(20, 1000, 101)\n",
    "emod = np.geomspace(20, 1000, 101)\n",
    "# bins = np.linspace(20, 1000, 100)\n",
    "# emod = np.linspace(20, 1000, 100)\n",
    "tick_labels = [f\"{i:.0f}\" for i in emod[::10]]\n",
    "print(tick_labels)\n",
    "\n",
    "RMF = ResponseRMFGenerator.from_time(time_start[14], 0, bins, emod, rsp_base)"
   ]
  },
  {
   "cell_type": "code",
   "execution_count": null,
   "metadata": {},
   "outputs": [],
   "source": [
    "sd = SPIDRM(RMF, ra, dec)\n",
    "matrix = sd.matrix.T"
   ]
  },
  {
   "cell_type": "code",
   "execution_count": null,
   "metadata": {},
   "outputs": [],
   "source": [
    "%matplotlib inline\n",
    "matplotlib.rcParams.update({'font.size': 18, 'axes.labelsize':22, 'xtick.labelsize':18, 'ytick.labelsize':18, 'legend.fontsize':18, 'figure.titlesize':22})\n",
    "fig, ax = plt.subplots(1, 2, figsize=(18, 7), sharey=True)\n",
    "\n",
    "im = ax[0].imshow(matrix, origin='upper', cmap='viridis', aspect='auto')\n",
    "plt.colorbar(im, label=\"cm$^2$\")\n",
    "ax[0].set_yticks(np.linspace(0, len(emod), len(tick_labels)),  tick_labels)\n",
    "ax[0].set_xlabel(\"Channel\")\n",
    "ax[0].set_ylabel(\"True Energy keV\")\n",
    "\n",
    "\n",
    "im = ax[1].imshow(matrix, origin='upper', cmap='viridis', aspect='auto', norm=matplotlib.colors.LogNorm())\n",
    "plt.colorbar(im, label=\"cm$^2$\")\n",
    "ax[1].set_xlabel(\"Channel\")\n",
    "fig.suptitle(\"SPI Response Matrix 20-1000 keV\")\n",
    "fig.savefig(\"SPI_response_matrix.pdf\")"
   ]
  },
  {
   "cell_type": "code",
   "execution_count": null,
   "metadata": {},
   "outputs": [],
   "source": [
    "plt.plot(matrix[10])\n",
    "plt.plot(matrix[-1])"
   ]
  },
  {
   "cell_type": "code",
   "execution_count": null,
   "metadata": {},
   "outputs": [],
   "source": [
    "np.linspace(0, len(emod), len(tick_labels))"
   ]
  },
  {
   "cell_type": "code",
   "execution_count": null,
   "metadata": {},
   "outputs": [],
   "source": []
  }
 ],
 "metadata": {
  "kernelspec": {
   "display_name": "spi39",
   "language": "python",
   "name": "python3"
  },
  "language_info": {
   "codemirror_mode": {
    "name": "ipython",
    "version": 3
   },
   "file_extension": ".py",
   "mimetype": "text/x-python",
   "name": "python",
   "nbconvert_exporter": "python",
   "pygments_lexer": "ipython3",
   "version": "3.9.18"
  }
 },
 "nbformat": 4,
 "nbformat_minor": 2
}
