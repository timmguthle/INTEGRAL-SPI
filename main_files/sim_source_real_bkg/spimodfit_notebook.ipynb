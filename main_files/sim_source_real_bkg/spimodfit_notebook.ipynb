{
 "cells": [
  {
   "cell_type": "code",
   "execution_count": null,
   "metadata": {},
   "outputs": [],
   "source": [
    "import sys, os\n",
    "sys.path.insert(0, os.path.abspath('/home/tguethle/Documents/spi/Master_Thesis'))\n",
    "sys.path.insert(0, os.path.abspath('/home/tguethle/Documents/spi/Master_Thesis/main_files'))\n",
    "import spimodfit.spimodfit_utils as su \n",
    "import sim_source_real_bkg.gen_data_and_pyspi_fit as gf\n",
    "import spimodfit.threeml_spimodfit_fit as tsf"
   ]
  },
  {
   "cell_type": "code",
   "execution_count": null,
   "metadata": {},
   "outputs": [],
   "source": [
    "spimodfit_path = '/home/tguethle/cookbook/SPI_cookbook/examples/automated_Crab/'\n",
    "c = gf.config[1]\n",
    "\n",
    "dataset = [f\"{c['data_path']}/spimodfit_good_channels\", f\"fit_Crab_{c['name']}\",[c['K'], -2]]\n",
    "good_channels = tsf.select_good_channels(f'{spimodfit_path}{dataset[1]}', max_chi2=1.2)\n",
    "(val, cov, err, logL) = tsf.run_fit(good_channels, dataset, retrun_objects=False) # type: ignore\n",
    "tsf.save_fit(val, cov, dataset[0])\n"
   ]
  },
  {
   "cell_type": "code",
   "execution_count": null,
   "metadata": {},
   "outputs": [],
   "source": [
    "spimodfit_path = '/home/tguethle/cookbook/SPI_cookbook/examples/automated_Crab/'\n",
    "c = gf.config[3]\n",
    "\n",
    "dataset = [f\"{c['data_path']}/spimodfit_good_channels\", f\"fit_Crab_{c['name']}\",[c['K'], -2]]\n",
    "good_channels = tsf.select_good_channels(f'{spimodfit_path}{dataset[1]}', max_chi2=1.2)\n",
    "(val, cov, err, logL) = tsf.run_fit(good_channels, dataset, retrun_objects=False) # type: ignore\n",
    "tsf.save_fit(val, cov, dataset[0])"
   ]
  },
  {
   "cell_type": "code",
   "execution_count": null,
   "metadata": {},
   "outputs": [],
   "source": [
    "spimodfit_path = '/home/tguethle/cookbook/SPI_cookbook/examples/automated_Crab/'\n",
    "c = gf.config[0]\n",
    "\n",
    "dataset = [f\"{c['data_path']}/spimodfit_good_channels\", f\"fit_Crab_{c['name']}\",[c['K'], -2]]\n",
    "good_channels = tsf.select_good_channels(f'{spimodfit_path}{dataset[1]}', max_chi2=3.0)\n",
    "(val, cov, err, logL) = tsf.run_fit(good_channels, dataset, retrun_objects=False) # type: ignore\n",
    "tsf.save_fit(val, cov, dataset[0])"
   ]
  },
  {
   "cell_type": "code",
   "execution_count": null,
   "metadata": {},
   "outputs": [],
   "source": [
    "spimodfit_path = '/home/tguethle/cookbook/SPI_cookbook/examples/automated_Crab/'\n",
    "c = gf.config[2]\n",
    "\n",
    "dataset = [f\"{c['data_path']}/spimodfit_good_channels\", f\"fit_Crab_{c['name']}\",[c['K'], -2]]\n",
    "good_channels = tsf.select_good_channels(f'{spimodfit_path}{dataset[1]}', max_chi2=5.0)\n",
    "(val, cov, err, logL) = tsf.run_fit(good_channels, dataset, retrun_objects=False) # type: ignore\n",
    "tsf.save_fit(val, cov, dataset[0])"
   ]
  },
  {
   "cell_type": "code",
   "execution_count": null,
   "metadata": {},
   "outputs": [],
   "source": []
  }
 ],
 "metadata": {
  "kernelspec": {
   "display_name": "spi39",
   "language": "python",
   "name": "python3"
  },
  "language_info": {
   "codemirror_mode": {
    "name": "ipython",
    "version": 3
   },
   "file_extension": ".py",
   "mimetype": "text/x-python",
   "name": "python",
   "nbconvert_exporter": "python",
   "pygments_lexer": "ipython3",
   "version": "3.9.18"
  }
 },
 "nbformat": 4,
 "nbformat_minor": 2
}
