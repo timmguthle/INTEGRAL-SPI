{
 "cells": [
  {
   "cell_type": "code",
   "execution_count": null,
   "metadata": {},
   "outputs": [],
   "source": [
    "from threeml_spimodfit_fit import *"
   ]
  },
  {
   "cell_type": "code",
   "execution_count": null,
   "metadata": {},
   "outputs": [],
   "source": [
    " # only modify this line to change the dataset\n",
    "dataset = real_bkg_Timm2\n",
    "\n",
    "# define the paths\n",
    "data_path = f'/home/tguethle/cookbook/SPI_cookbook/examples/automated_Crab/{dataset[1]}'\n",
    "fit_path = dataset[0]"
   ]
  },
  {
   "cell_type": "code",
   "execution_count": null,
   "metadata": {},
   "outputs": [],
   "source": [
    "good_channles = select_good_channels(data_path, max_chi2=1.2)\n",
    "data, likelihood = run_fit(good_channles, dataset, test_goodness=True, retrun_objects=True)"
   ]
  },
  {
   "cell_type": "code",
   "execution_count": null,
   "metadata": {},
   "outputs": [],
   "source": [
    "%matplotlib inline\n",
    "data.display_model(step=False)\n",
    "data.display_rsp()\n"
   ]
  },
  {
   "cell_type": "code",
   "execution_count": 23,
   "metadata": {},
   "outputs": [],
   "source": [
    "x = np.ones((17, 41))\n",
    "y = np.random.rand(17, 41)\n"
   ]
  },
  {
   "cell_type": "code",
   "execution_count": 27,
   "metadata": {},
   "outputs": [
    {
     "data": {
      "text/plain": [
       "(28, 41)"
      ]
     },
     "execution_count": 27,
     "metadata": {},
     "output_type": "execute_result"
    }
   ],
   "source": [
    "x_list = x\n",
    "\n",
    "dets = np.array([0, 1, 2, 3, 4, 5, 6, 7, 8, 9, 10])\n",
    "x = x[dets]\n",
    "\n",
    "xlist = np.append(x_list, x, axis=0)\n",
    "\n",
    "xlist.shape"
   ]
  },
  {
   "cell_type": "code",
   "execution_count": 31,
   "metadata": {},
   "outputs": [
    {
     "name": "stdout",
     "output_type": "stream",
     "text": [
      "3\n",
      "4\n",
      "{'z': 5}\n"
     ]
    }
   ],
   "source": [
    "def func(x=0, y=1, **kwargs):\n",
    "    print(x)\n",
    "    print(y)\n",
    "    print(kwargs)\n",
    "\n",
    "my_args = {'x':3, 'y':4, 'z':5}\n",
    "\n",
    "func(**my_args)"
   ]
  },
  {
   "cell_type": "code",
   "execution_count": null,
   "metadata": {},
   "outputs": [],
   "source": []
  }
 ],
 "metadata": {
  "kernelspec": {
   "display_name": "spi39",
   "language": "python",
   "name": "python3"
  },
  "language_info": {
   "codemirror_mode": {
    "name": "ipython",
    "version": 3
   },
   "file_extension": ".py",
   "mimetype": "text/x-python",
   "name": "python",
   "nbconvert_exporter": "python",
   "pygments_lexer": "ipython3",
   "version": "3.9.18"
  }
 },
 "nbformat": 4,
 "nbformat_minor": 2
}
