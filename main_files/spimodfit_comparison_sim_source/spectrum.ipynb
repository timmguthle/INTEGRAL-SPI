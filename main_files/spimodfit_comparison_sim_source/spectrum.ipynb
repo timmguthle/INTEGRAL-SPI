{
 "cells": [
  {
   "cell_type": "code",
   "execution_count": 1,
   "metadata": {},
   "outputs": [],
   "source": [
    "import numpy as np\n",
    "import astropy.io.fits as fits\n",
    "from astropy.table import Table\n",
    "import ligo.skymap.plot\n",
    "from matplotlib import pyplot as plt\n",
    "\n",
    "import healpy as hp\n",
    "from matplotlib.colors import TwoSlopeNorm\n",
    "from astropy.coordinates import SkyCoord\n",
    "import pickle"
   ]
  },
  {
   "cell_type": "code",
   "execution_count": 2,
   "metadata": {},
   "outputs": [
    {
     "name": "stdout",
     "output_type": "stream",
     "text": [
      "Filename: /home/tguethle/cookbook/SPI_cookbook/examples/automated_Crab/fit_Crab_374_real_bkg_para2/spectra_sim_sourc.fits\n",
      "No.    Name      Ver    Type      Cards   Dimensions   Format\n",
      "  0  PRIMARY       1 PrimaryHDU      18   ()      \n",
      "  1  GROUPING      1 BinTableHDU     34   1R x 6C   [8A, 32A, 1J, 1J, 256A, 3A]   \n",
      "  2  SPECTRUM      1 BinTableHDU    117   41R x 8C   [1I, 1E, 1E, 1E, 1I, 1I, 1E, 1E]   \n"
     ]
    },
    {
     "data": {
      "image/png": "[encoded data removed]",
      "text/plain": [
       "<Figure size 640x480 with 1 Axes>"
      ]
     },
     "metadata": {},
     "output_type": "display_data"
    }
   ],
   "source": [
    "spectrum = '/home/tguethle/cookbook/SPI_cookbook/examples/automated_Crab/fit_Crab_374_real_bkg_para2/spectra_sim_sourc.fits'\n",
    "normal_E_Bins = [20.0, 21.5, 23.5, 25.5, 27.5, 30.0, 32.5, 35.5, 38.5, 42.0, 45.5, 49.5, 54.0, 58.5, 63.5, 69.0, 75.0, 81.5, 89.0, 96.5, 105.0, 114.0, 124.0, 134.5, 146.0, 159.0, 172.5, 187.5, 204.0, 221.5, 240.5, 261.5, 284.0, 308.5, 335.5, 364.5, 396.0, 430.0, 467.5, 508.0, 514, 600]\n",
    "energies = np.array([(i+j)/2 for i, j in zip(normal_E_Bins[:-1], normal_E_Bins[1:])])\n",
    "bin_widths = np.array([j-i for i, j in zip(normal_E_Bins[:-1], normal_E_Bins[1:])])\n",
    "\n",
    "\n",
    "with fits.open(spectrum) as hdul:\n",
    "    hdul.info()\n",
    "    data = hdul[2].data\n",
    "data\n",
    "\n",
    "def powerlaw(x, K, index, piv):\n",
    "    return K * (x/piv)**index\n",
    "\n",
    "flux = data['DFLUX'] * bin_widths\n",
    "\n",
    "#plt.scatter(energies, data['RATE'])\n",
    "plt.errorbar(energies, data['DFLUX'], yerr=data['DFLUX_ERR'], c='tab:orange', linestyle='None')\n",
    "plt.plot(energies, powerlaw(energies, 7e-4, -2.0, 100.0))\n",
    "#plt.plot(energies, powerlaw(energies, 7e-2, -2.0, 100.0))\n",
    "#plt.scatter(energies, flux, c='tab:green')\n",
    "#plt.xscale('log')\n",
    "plt.yscale('log')\n"
   ]
  },
  {
   "cell_type": "code",
   "execution_count": 9,
   "metadata": {},
   "outputs": [
    {
     "data": {
      "text/plain": [
       "array([ 20.75,  22.5 ,  24.5 ,  26.5 ,  28.75,  31.25,  34.  ,  37.  ,\n",
       "        40.25,  43.75,  47.5 ,  51.75,  56.25,  61.  ,  66.25,  72.  ,\n",
       "        78.25,  85.25,  92.75, 100.75, 109.5 , 119.  , 129.25, 140.25,\n",
       "       152.5 , 165.75, 180.  , 195.75, 212.75, 231.  , 251.  , 272.75,\n",
       "       296.25, 322.  , 350.  , 380.25, 413.  , 448.75, 487.75, 511.  ,\n",
       "       557.  ])"
      ]
     },
     "execution_count": 9,
     "metadata": {},
     "output_type": "execute_result"
    }
   ],
   "source": [
    "energies"
   ]
  },
  {
   "cell_type": "code",
   "execution_count": 10,
   "metadata": {},
   "outputs": [
    {
     "name": "stdout",
     "output_type": "stream",
     "text": [
      "Filename: /home/tguethle/cookbook/SPI_cookbook/examples/automated_Crab/fit_Crab_374_real_bkg_para2/results.spimodfit.fits\n",
      "No.    Name      Ver    Type      Cards   Dimensions   Format\n",
      "  0  PRIMARY       1 PrimaryHDU      18   ()      \n",
      "  1  GROUPING      1 BinTableHDU     29   42R x 6C   [8A, 32A, 1J, 1J, 256A, 3A]   \n",
      "  2  SPI.-EBDS-SET    1 BinTableHDU     63   41R x 3C   [1J, 1E, 1E]   \n",
      "  3  SPI.-DFIT-RES_1    1 BinTableHDU    122   137R x 33C   [30A, 1J, 1J, 30A, 1I, 1D, 1D, 1D, 1D, 1J, 1J, 1J, 1D, 1D, 1D, 1D, 1D, 1D, 1D, 1D, 1D, 1D, 1D, 1D, 1D, 1D, 1D, 1D, 1D, 1D, 1D, 1D, 1D]   \n",
      "  4  SPI.-DFIT-RES_2    1 BinTableHDU    122   137R x 33C   [30A, 1J, 1J, 30A, 1I, 1D, 1D, 1D, 1D, 1J, 1J, 1J, 1D, 1D, 1D, 1D, 1D, 1D, 1D, 1D, 1D, 1D, 1D, 1D, 1D, 1D, 1D, 1D, 1D, 1D, 1D, 1D, 1D]   \n",
      "  5  SPI.-DFIT-RES_3    1 BinTableHDU    122   137R x 33C   [30A, 1J, 1J, 30A, 1I, 1D, 1D, 1D, 1D, 1J, 1J, 1J, 1D, 1D, 1D, 1D, 1D, 1D, 1D, 1D, 1D, 1D, 1D, 1D, 1D, 1D, 1D, 1D, 1D, 1D, 1D, 1D, 1D]   \n",
      "  6  SPI.-DFIT-RES_4    1 BinTableHDU    122   137R x 33C   [30A, 1J, 1J, 30A, 1I, 1D, 1D, 1D, 1D, 1J, 1J, 1J, 1D, 1D, 1D, 1D, 1D, 1D, 1D, 1D, 1D, 1D, 1D, 1D, 1D, 1D, 1D, 1D, 1D, 1D, 1D, 1D, 1D]   \n",
      "  7  SPI.-DFIT-RES_5    1 BinTableHDU    122   137R x 33C   [30A, 1J, 1J, 30A, 1I, 1D, 1D, 1D, 1D, 1J, 1J, 1J, 1D, 1D, 1D, 1D, 1D, 1D, 1D, 1D, 1D, 1D, 1D, 1D, 1D, 1D, 1D, 1D, 1D, 1D, 1D, 1D, 1D]   \n",
      "  8  SPI.-DFIT-RES_6    1 BinTableHDU    122   137R x 33C   [30A, 1J, 1J, 30A, 1I, 1D, 1D, 1D, 1D, 1J, 1J, 1J, 1D, 1D, 1D, 1D, 1D, 1D, 1D, 1D, 1D, 1D, 1D, 1D, 1D, 1D, 1D, 1D, 1D, 1D, 1D, 1D, 1D]   \n",
      "  9  SPI.-DFIT-RES_7    1 BinTableHDU    122   137R x 33C   [30A, 1J, 1J, 30A, 1I, 1D, 1D, 1D, 1D, 1J, 1J, 1J, 1D, 1D, 1D, 1D, 1D, 1D, 1D, 1D, 1D, 1D, 1D, 1D, 1D, 1D, 1D, 1D, 1D, 1D, 1D, 1D, 1D]   \n",
      " 10  SPI.-DFIT-RES_8    1 BinTableHDU    122   137R x 33C   [30A, 1J, 1J, 30A, 1I, 1D, 1D, 1D, 1D, 1J, 1J, 1J, 1D, 1D, 1D, 1D, 1D, 1D, 1D, 1D, 1D, 1D, 1D, 1D, 1D, 1D, 1D, 1D, 1D, 1D, 1D, 1D, 1D]   \n",
      " 11  SPI.-DFIT-RES_9    1 BinTableHDU    122   137R x 33C   [30A, 1J, 1J, 30A, 1I, 1D, 1D, 1D, 1D, 1J, 1J, 1J, 1D, 1D, 1D, 1D, 1D, 1D, 1D, 1D, 1D, 1D, 1D, 1D, 1D, 1D, 1D, 1D, 1D, 1D, 1D, 1D, 1D]   \n",
      " 12  SPI.-DFIT-RES_10    1 BinTableHDU    122   137R x 33C   [30A, 1J, 1J, 30A, 1I, 1D, 1D, 1D, 1D, 1J, 1J, 1J, 1D, 1D, 1D, 1D, 1D, 1D, 1D, 1D, 1D, 1D, 1D, 1D, 1D, 1D, 1D, 1D, 1D, 1D, 1D, 1D, 1D]   \n",
      " 13  SPI.-DFIT-RES_11    1 BinTableHDU    122   137R x 33C   [30A, 1J, 1J, 30A, 1I, 1D, 1D, 1D, 1D, 1J, 1J, 1J, 1D, 1D, 1D, 1D, 1D, 1D, 1D, 1D, 1D, 1D, 1D, 1D, 1D, 1D, 1D, 1D, 1D, 1D, 1D, 1D, 1D]   \n",
      " 14  SPI.-DFIT-RES_12    1 BinTableHDU    122   137R x 33C   [30A, 1J, 1J, 30A, 1I, 1D, 1D, 1D, 1D, 1J, 1J, 1J, 1D, 1D, 1D, 1D, 1D, 1D, 1D, 1D, 1D, 1D, 1D, 1D, 1D, 1D, 1D, 1D, 1D, 1D, 1D, 1D, 1D]   \n",
      " 15  SPI.-DFIT-RES_13    1 BinTableHDU    122   137R x 33C   [30A, 1J, 1J, 30A, 1I, 1D, 1D, 1D, 1D, 1J, 1J, 1J, 1D, 1D, 1D, 1D, 1D, 1D, 1D, 1D, 1D, 1D, 1D, 1D, 1D, 1D, 1D, 1D, 1D, 1D, 1D, 1D, 1D]   \n",
      " 16  SPI.-DFIT-RES_14    1 BinTableHDU    122   137R x 33C   [30A, 1J, 1J, 30A, 1I, 1D, 1D, 1D, 1D, 1J, 1J, 1J, 1D, 1D, 1D, 1D, 1D, 1D, 1D, 1D, 1D, 1D, 1D, 1D, 1D, 1D, 1D, 1D, 1D, 1D, 1D, 1D, 1D]   \n",
      " 17  SPI.-DFIT-RES_15    1 BinTableHDU    122   137R x 33C   [30A, 1J, 1J, 30A, 1I, 1D, 1D, 1D, 1D, 1J, 1J, 1J, 1D, 1D, 1D, 1D, 1D, 1D, 1D, 1D, 1D, 1D, 1D, 1D, 1D, 1D, 1D, 1D, 1D, 1D, 1D, 1D, 1D]   \n",
      " 18  SPI.-DFIT-RES_16    1 BinTableHDU    122   137R x 33C   [30A, 1J, 1J, 30A, 1I, 1D, 1D, 1D, 1D, 1J, 1J, 1J, 1D, 1D, 1D, 1D, 1D, 1D, 1D, 1D, 1D, 1D, 1D, 1D, 1D, 1D, 1D, 1D, 1D, 1D, 1D, 1D, 1D]   \n",
      " 19  SPI.-DFIT-RES_17    1 BinTableHDU    122   137R x 33C   [30A, 1J, 1J, 30A, 1I, 1D, 1D, 1D, 1D, 1J, 1J, 1J, 1D, 1D, 1D, 1D, 1D, 1D, 1D, 1D, 1D, 1D, 1D, 1D, 1D, 1D, 1D, 1D, 1D, 1D, 1D, 1D, 1D]   \n",
      " 20  SPI.-DFIT-RES_18    1 BinTableHDU    122   137R x 33C   [30A, 1J, 1J, 30A, 1I, 1D, 1D, 1D, 1D, 1J, 1J, 1J, 1D, 1D, 1D, 1D, 1D, 1D, 1D, 1D, 1D, 1D, 1D, 1D, 1D, 1D, 1D, 1D, 1D, 1D, 1D, 1D, 1D]   \n",
      " 21  SPI.-DFIT-RES_19    1 BinTableHDU    122   137R x 33C   [30A, 1J, 1J, 30A, 1I, 1D, 1D, 1D, 1D, 1J, 1J, 1J, 1D, 1D, 1D, 1D, 1D, 1D, 1D, 1D, 1D, 1D, 1D, 1D, 1D, 1D, 1D, 1D, 1D, 1D, 1D, 1D, 1D]   \n",
      " 22  SPI.-DFIT-RES_20    1 BinTableHDU    122   137R x 33C   [30A, 1J, 1J, 30A, 1I, 1D, 1D, 1D, 1D, 1J, 1J, 1J, 1D, 1D, 1D, 1D, 1D, 1D, 1D, 1D, 1D, 1D, 1D, 1D, 1D, 1D, 1D, 1D, 1D, 1D, 1D, 1D, 1D]   \n",
      " 23  SPI.-DFIT-RES_21    1 BinTableHDU    122   137R x 33C   [30A, 1J, 1J, 30A, 1I, 1D, 1D, 1D, 1D, 1J, 1J, 1J, 1D, 1D, 1D, 1D, 1D, 1D, 1D, 1D, 1D, 1D, 1D, 1D, 1D, 1D, 1D, 1D, 1D, 1D, 1D, 1D, 1D]   \n",
      " 24  SPI.-DFIT-RES_22    1 BinTableHDU    122   137R x 33C   [30A, 1J, 1J, 30A, 1I, 1D, 1D, 1D, 1D, 1J, 1J, 1J, 1D, 1D, 1D, 1D, 1D, 1D, 1D, 1D, 1D, 1D, 1D, 1D, 1D, 1D, 1D, 1D, 1D, 1D, 1D, 1D, 1D]   \n",
      " 25  SPI.-DFIT-RES_23    1 BinTableHDU    122   137R x 33C   [30A, 1J, 1J, 30A, 1I, 1D, 1D, 1D, 1D, 1J, 1J, 1J, 1D, 1D, 1D, 1D, 1D, 1D, 1D, 1D, 1D, 1D, 1D, 1D, 1D, 1D, 1D, 1D, 1D, 1D, 1D, 1D, 1D]   \n",
      " 26  SPI.-DFIT-RES_24    1 BinTableHDU    122   137R x 33C   [30A, 1J, 1J, 30A, 1I, 1D, 1D, 1D, 1D, 1J, 1J, 1J, 1D, 1D, 1D, 1D, 1D, 1D, 1D, 1D, 1D, 1D, 1D, 1D, 1D, 1D, 1D, 1D, 1D, 1D, 1D, 1D, 1D]   \n",
      " 27  SPI.-DFIT-RES_25    1 BinTableHDU    122   137R x 33C   [30A, 1J, 1J, 30A, 1I, 1D, 1D, 1D, 1D, 1J, 1J, 1J, 1D, 1D, 1D, 1D, 1D, 1D, 1D, 1D, 1D, 1D, 1D, 1D, 1D, 1D, 1D, 1D, 1D, 1D, 1D, 1D, 1D]   \n",
      " 28  SPI.-DFIT-RES_26    1 BinTableHDU    122   137R x 33C   [30A, 1J, 1J, 30A, 1I, 1D, 1D, 1D, 1D, 1J, 1J, 1J, 1D, 1D, 1D, 1D, 1D, 1D, 1D, 1D, 1D, 1D, 1D, 1D, 1D, 1D, 1D, 1D, 1D, 1D, 1D, 1D, 1D]   \n",
      " 29  SPI.-DFIT-RES_27    1 BinTableHDU    122   137R x 33C   [30A, 1J, 1J, 30A, 1I, 1D, 1D, 1D, 1D, 1J, 1J, 1J, 1D, 1D, 1D, 1D, 1D, 1D, 1D, 1D, 1D, 1D, 1D, 1D, 1D, 1D, 1D, 1D, 1D, 1D, 1D, 1D, 1D]   \n",
      " 30  SPI.-DFIT-RES_28    1 BinTableHDU    122   137R x 33C   [30A, 1J, 1J, 30A, 1I, 1D, 1D, 1D, 1D, 1J, 1J, 1J, 1D, 1D, 1D, 1D, 1D, 1D, 1D, 1D, 1D, 1D, 1D, 1D, 1D, 1D, 1D, 1D, 1D, 1D, 1D, 1D, 1D]   \n",
      " 31  SPI.-DFIT-RES_29    1 BinTableHDU    122   137R x 33C   [30A, 1J, 1J, 30A, 1I, 1D, 1D, 1D, 1D, 1J, 1J, 1J, 1D, 1D, 1D, 1D, 1D, 1D, 1D, 1D, 1D, 1D, 1D, 1D, 1D, 1D, 1D, 1D, 1D, 1D, 1D, 1D, 1D]   \n",
      " 32  SPI.-DFIT-RES_30    1 BinTableHDU    122   137R x 33C   [30A, 1J, 1J, 30A, 1I, 1D, 1D, 1D, 1D, 1J, 1J, 1J, 1D, 1D, 1D, 1D, 1D, 1D, 1D, 1D, 1D, 1D, 1D, 1D, 1D, 1D, 1D, 1D, 1D, 1D, 1D, 1D, 1D]   \n",
      " 33  SPI.-DFIT-RES_31    1 BinTableHDU    122   137R x 33C   [30A, 1J, 1J, 30A, 1I, 1D, 1D, 1D, 1D, 1J, 1J, 1J, 1D, 1D, 1D, 1D, 1D, 1D, 1D, 1D, 1D, 1D, 1D, 1D, 1D, 1D, 1D, 1D, 1D, 1D, 1D, 1D, 1D]   \n",
      " 34  SPI.-DFIT-RES_32    1 BinTableHDU    122   137R x 33C   [30A, 1J, 1J, 30A, 1I, 1D, 1D, 1D, 1D, 1J, 1J, 1J, 1D, 1D, 1D, 1D, 1D, 1D, 1D, 1D, 1D, 1D, 1D, 1D, 1D, 1D, 1D, 1D, 1D, 1D, 1D, 1D, 1D]   \n",
      " 35  SPI.-DFIT-RES_33    1 BinTableHDU    122   137R x 33C   [30A, 1J, 1J, 30A, 1I, 1D, 1D, 1D, 1D, 1J, 1J, 1J, 1D, 1D, 1D, 1D, 1D, 1D, 1D, 1D, 1D, 1D, 1D, 1D, 1D, 1D, 1D, 1D, 1D, 1D, 1D, 1D, 1D]   \n",
      " 36  SPI.-DFIT-RES_34    1 BinTableHDU    122   137R x 33C   [30A, 1J, 1J, 30A, 1I, 1D, 1D, 1D, 1D, 1J, 1J, 1J, 1D, 1D, 1D, 1D, 1D, 1D, 1D, 1D, 1D, 1D, 1D, 1D, 1D, 1D, 1D, 1D, 1D, 1D, 1D, 1D, 1D]   \n",
      " 37  SPI.-DFIT-RES_35    1 BinTableHDU    122   137R x 33C   [30A, 1J, 1J, 30A, 1I, 1D, 1D, 1D, 1D, 1J, 1J, 1J, 1D, 1D, 1D, 1D, 1D, 1D, 1D, 1D, 1D, 1D, 1D, 1D, 1D, 1D, 1D, 1D, 1D, 1D, 1D, 1D, 1D]   \n",
      " 38  SPI.-DFIT-RES_36    1 BinTableHDU    122   137R x 33C   [30A, 1J, 1J, 30A, 1I, 1D, 1D, 1D, 1D, 1J, 1J, 1J, 1D, 1D, 1D, 1D, 1D, 1D, 1D, 1D, 1D, 1D, 1D, 1D, 1D, 1D, 1D, 1D, 1D, 1D, 1D, 1D, 1D]   \n",
      " 39  SPI.-DFIT-RES_37    1 BinTableHDU    122   137R x 33C   [30A, 1J, 1J, 30A, 1I, 1D, 1D, 1D, 1D, 1J, 1J, 1J, 1D, 1D, 1D, 1D, 1D, 1D, 1D, 1D, 1D, 1D, 1D, 1D, 1D, 1D, 1D, 1D, 1D, 1D, 1D, 1D, 1D]   \n",
      " 40  SPI.-DFIT-RES_38    1 BinTableHDU    122   137R x 33C   [30A, 1J, 1J, 30A, 1I, 1D, 1D, 1D, 1D, 1J, 1J, 1J, 1D, 1D, 1D, 1D, 1D, 1D, 1D, 1D, 1D, 1D, 1D, 1D, 1D, 1D, 1D, 1D, 1D, 1D, 1D, 1D, 1D]   \n",
      " 41  SPI.-DFIT-RES_39    1 BinTableHDU    122   137R x 33C   [30A, 1J, 1J, 30A, 1I, 1D, 1D, 1D, 1D, 1J, 1J, 1J, 1D, 1D, 1D, 1D, 1D, 1D, 1D, 1D, 1D, 1D, 1D, 1D, 1D, 1D, 1D, 1D, 1D, 1D, 1D, 1D, 1D]   \n",
      " 42  SPI.-DFIT-RES_40    1 BinTableHDU    122   137R x 33C   [30A, 1J, 1J, 30A, 1I, 1D, 1D, 1D, 1D, 1J, 1J, 1J, 1D, 1D, 1D, 1D, 1D, 1D, 1D, 1D, 1D, 1D, 1D, 1D, 1D, 1D, 1D, 1D, 1D, 1D, 1D, 1D, 1D]   \n",
      " 43  SPI.-DFIT-RES_41    1 BinTableHDU    122   137R x 33C   [30A, 1J, 1J, 30A, 1I, 1D, 1D, 1D, 1D, 1J, 1J, 1J, 1D, 1D, 1D, 1D, 1D, 1D, 1D, 1D, 1D, 1D, 1D, 1D, 1D, 1D, 1D, 1D, 1D, 1D, 1D, 1D, 1D]   \n"
     ]
    },
    {
     "name": "stderr",
     "output_type": "stream",
     "text": [
      "WARNING: The following header keyword is invalid or follows an unrecognized non-standard convention:\n",
      "CONF_LIM  [%] Confidence level for profile errors                                [astropy.io.fits.card]\n"
     ]
    },
    {
     "data": {
      "text/html": [
       "<div><i>Table length=137</i>\n",
       "<table id=\"table139716214627200\" class=\"table-striped table-bordered table-condensed\">\n",
       "<thead><tr><th>PAR_ID</th><th>COMP_NUM</th><th>COMP_BIN</th><th>PAR_TYPE</th><th>PAR_FIT</th><th>TSTART</th><th>TSTOP</th><th>TSTART_PTG</th><th>TSTOP_PTG</th><th>DET_MIN</th><th>DET_MAX</th><th>SPL_DEGREE</th><th>MIN_VALUES</th><th>MAX_VALUES</th><th>FLUX_REF</th><th>ENERGY_COR</th><th>FIT_VALUES_ML</th><th>FIT_ERRORS_ML</th><th>FLUX_ML</th><th>FLUX_ERR_ML</th><th>FIT_CLEVEL_MIN</th><th>FIT_CLEVEL_MAX</th><th>FIT_COV_ML</th><th>COUNTS_ML</th><th>CSTAT_GRAD_ML</th><th>STEP_MCMC</th><th>FIT_VALUES_MCMC</th><th>FIT_ERRORS_MCMC</th><th>FLUX_MCMC</th><th>FLUX_ERR_MCMC</th><th>FIT_COV_MCMC</th><th>COUNTS_MCMC</th><th>CSTAT_GRAD_MCMC</th></tr></thead>\n",
       "<thead><tr><th>str30</th><th>int32</th><th>int32</th><th>str30</th><th>int16</th><th>float64</th><th>float64</th><th>float64</th><th>float64</th><th>int32</th><th>int32</th><th>int32</th><th>float64</th><th>float64</th><th>float64</th><th>float64</th><th>float64</th><th>float64</th><th>float64</th><th>float64</th><th>float64</th><th>float64</th><th>float64</th><th>float64</th><th>float64</th><th>float64</th><th>float64</th><th>float64</th><th>float64</th><th>float64</th><th>float64</th><th>float64</th><th>float64</th></tr></thead>\n",
       "<tr><td>sim_sourc</td><td>1</td><td>1</td><td>Point source</td><td>1</td><td>2135.2520391666667</td><td>2137.7974269981073</td><td>2135.2520391666667</td><td>2137.7974269981073</td><td>0</td><td>18</td><td>0</td><td>-1000000.0</td><td>1000000.0</td><td>1.0</td><td>0.075</td><td>0.09214279209364631</td><td>0.002937966485805225</td><td>0.006910709407023473</td><td>0.00022034748643539185</td><td>nan</td><td>nan</td><td>8.631647071714703e-06</td><td>69210.67157931963</td><td>-2.2821747141368864e-05</td><td>nan</td><td>nan</td><td>nan</td><td>nan</td><td>nan</td><td>nan</td><td>nan</td><td>nan</td></tr>\n",
       "<tr><td>Back_model_01</td><td>2</td><td>1</td><td>Background model</td><td>1</td><td>2135.2520391666667</td><td>2135.260557685185</td><td>2135.2520391666667</td><td>2135.291722883317</td><td>0</td><td>18</td><td>0</td><td>-8000000.0</td><td>8000000.0</td><td>1.0</td><td>1.0</td><td>1.4177654997623637</td><td>0.9428194612378803</td><td>1.4177654997623637</td><td>0.9428194612378803</td><td>nan</td><td>nan</td><td>6.91518380819067e-05</td><td>2280.7090467049156</td><td>-5.406685935349653e-06</td><td>nan</td><td>nan</td><td>nan</td><td>nan</td><td>nan</td><td>nan</td><td>nan</td><td>nan</td></tr>\n",
       "<tr><td>Back_model_01</td><td>2</td><td>2</td><td>Background model</td><td>1</td><td>2135.260557685185</td><td>2135.293150277778</td><td>2135.260557685185</td><td>2135.3240407251647</td><td>0</td><td>18</td><td>0</td><td>-8000000.0</td><td>8000000.0</td><td>1.0</td><td>1.0</td><td>1.3340180602911464</td><td>0.44573498060755007</td><td>1.3340180602911464</td><td>0.44573498060755007</td><td>nan</td><td>nan</td><td>8.050344790862113e-05</td><td>9789.264924873649</td><td>-1.9782606874158004e-06</td><td>nan</td><td>nan</td><td>nan</td><td>nan</td><td>nan</td><td>nan</td><td>nan</td><td>nan</td></tr>\n",
       "<tr><td>Back_model_01</td><td>2</td><td>3</td><td>Background model</td><td>1</td><td>2135.293150277778</td><td>2135.3254650925924</td><td>2135.293150277778</td><td>2135.3563160307904</td><td>0</td><td>18</td><td>0</td><td>-8000000.0</td><td>8000000.0</td><td>1.0</td><td>1.0</td><td>0.9176949283123217</td><td>0.44532539486219336</td><td>0.9176949283123217</td><td>0.44532539486219336</td><td>nan</td><td>nan</td><td>-7.440489807962642e-06</td><td>6682.961075760707</td><td>3.7854258918557093e-06</td><td>nan</td><td>nan</td><td>nan</td><td>nan</td><td>nan</td><td>nan</td><td>nan</td><td>nan</td></tr>\n",
       "<tr><td>Back_model_01</td><td>2</td><td>4</td><td>Background model</td><td>1</td><td>2135.3254650925924</td><td>2135.358057685185</td><td>2135.3254650925924</td><td>2135.3885297749794</td><td>0</td><td>18</td><td>0</td><td>-8000000.0</td><td>8000000.0</td><td>1.0</td><td>1.0</td><td>2.263284017372327</td><td>0.4483752656842786</td><td>2.263284017372327</td><td>0.4483752656842786</td><td>nan</td><td>nan</td><td>-0.00012754648108673236</td><td>16466.35040073516</td><td>4.301745082702091e-06</td><td>nan</td><td>nan</td><td>nan</td><td>nan</td><td>nan</td><td>nan</td><td>nan</td><td>nan</td></tr>\n",
       "<tr><td>Back_model_01</td><td>2</td><td>5</td><td>Background model</td><td>1</td><td>2135.358057685185</td><td>2135.389909537037</td><td>2135.358057685185</td><td>2135.420778061946</td><td>0</td><td>18</td><td>0</td><td>-8000000.0</td><td>8000000.0</td><td>1.0</td><td>1.0</td><td>2.399505929428165</td><td>0.4474369065394427</td><td>2.399505929428165</td><td>0.4474369065394427</td><td>nan</td><td>nan</td><td>-6.734992664250272e-05</td><td>17236.58510286626</td><td>6.883382208666688e-07</td><td>nan</td><td>nan</td><td>nan</td><td>nan</td><td>nan</td><td>nan</td><td>nan</td><td>nan</td></tr>\n",
       "<tr><td>Back_model_01</td><td>2</td><td>6</td><td>Background model</td><td>1</td><td>2135.389909537037</td><td>2135.422131759259</td><td>2135.389909537037</td><td>2135.4530923111793</td><td>0</td><td>18</td><td>0</td><td>-8000000.0</td><td>8000000.0</td><td>1.0</td><td>1.0</td><td>2.3670773349077967</td><td>0.4444020689768092</td><td>2.3670773349077967</td><td>0.4444020689768092</td><td>nan</td><td>nan</td><td>-4.5455017773190876e-05</td><td>17229.89950333174</td><td>6.680216340093637e-07</td><td>nan</td><td>nan</td><td>nan</td><td>nan</td><td>nan</td><td>nan</td><td>nan</td><td>nan</td></tr>\n",
       "<tr><td>Back_model_01</td><td>2</td><td>7</td><td>Background model</td><td>1</td><td>2135.422131759259</td><td>2135.454446574074</td><td>2135.422131759259</td><td>2135.4853493518517</td><td>0</td><td>18</td><td>0</td><td>-8000000.0</td><td>8000000.0</td><td>1.0</td><td>1.0</td><td>1.7855355723219781</td><td>0.44534731825131463</td><td>1.7855355723219781</td><td>0.44534731825131463</td><td>nan</td><td>nan</td><td>3.94373754179175e-05</td><td>13020.53864721038</td><td>-1.5160616529952264e-05</td><td>nan</td><td>nan</td><td>nan</td><td>nan</td><td>nan</td><td>nan</td><td>nan</td><td>nan</td></tr>\n",
       "<tr><td>Back_model_01</td><td>2</td><td>8</td><td>Background model</td><td>1</td><td>2135.454446574074</td><td>2135.486772962963</td><td>2135.454446574074</td><td>2135.5177257286396</td><td>0</td><td>18</td><td>0</td><td>-8000000.0</td><td>8000000.0</td><td>1.0</td><td>1.0</td><td>1.5147692266649706</td><td>0.4436934468364699</td><td>1.5147692266649706</td><td>0.4436934468364699</td><td>nan</td><td>nan</td><td>-1.8955608927390032e-05</td><td>11027.752122558006</td><td>-2.387714955309761e-06</td><td>nan</td><td>nan</td><td>nan</td><td>nan</td><td>nan</td><td>nan</td><td>nan</td><td>nan</td></tr>\n",
       "<tr><td>Back_model_01</td><td>2</td><td>9</td><td>Background model</td><td>1</td><td>2135.486772962963</td><td>2135.5191803703706</td><td>2135.486772962963</td><td>2135.5500315214495</td><td>0</td><td>18</td><td>0</td><td>-8000000.0</td><td>8000000.0</td><td>1.0</td><td>1.0</td><td>1.7000749079705746</td><td>0.4466228300057576</td><td>1.7000749079705746</td><td>0.4466228300057576</td><td>nan</td><td>nan</td><td>-5.528386754918816e-05</td><td>12392.964635639499</td><td>-1.5283744816407818e-06</td><td>nan</td><td>nan</td><td>nan</td><td>nan</td><td>nan</td><td>nan</td><td>nan</td><td>nan</td></tr>\n",
       "<tr><td>...</td><td>...</td><td>...</td><td>...</td><td>...</td><td>...</td><td>...</td><td>...</td><td>...</td><td>...</td><td>...</td><td>...</td><td>...</td><td>...</td><td>...</td><td>...</td><td>...</td><td>...</td><td>...</td><td>...</td><td>...</td><td>...</td><td>...</td><td>...</td><td>...</td><td>...</td><td>...</td><td>...</td><td>...</td><td>...</td><td>...</td><td>...</td><td>...</td></tr>\n",
       "<tr><td>Back_model_02</td><td>3</td><td>59</td><td>Background model</td><td>1</td><td>2137.3598863888888</td><td>2137.402212777778</td><td>2137.3598863888888</td><td>2137.443072831432</td><td>0</td><td>18</td><td>0</td><td>-1000000.0</td><td>1000000.0</td><td>1.0</td><td>1.0</td><td>2.0441714914325257</td><td>0.13615638564985955</td><td>2.0441714914325257</td><td>0.13615638564985955</td><td>nan</td><td>nan</td><td>0.0</td><td>55049.16446436409</td><td>2.4279035523377956e-05</td><td>nan</td><td>nan</td><td>nan</td><td>nan</td><td>nan</td><td>nan</td><td>nan</td><td>nan</td></tr>\n",
       "<tr><td>Back_model_02</td><td>3</td><td>60</td><td>Background model</td><td>1</td><td>2137.402212777778</td><td>2137.444435</td><td>2137.402212777778</td><td>2137.4853883900905</td><td>0</td><td>18</td><td>0</td><td>-1000000.0</td><td>1000000.0</td><td>1.0</td><td>1.0</td><td>2.1224168835198425</td><td>0.13631919864160097</td><td>2.1224168835198425</td><td>0.13631919864160097</td><td>nan</td><td>nan</td><td>0.0</td><td>57219.55031915902</td><td>6.8364088091632524e-06</td><td>nan</td><td>nan</td><td>nan</td><td>nan</td><td>nan</td><td>nan</td><td>nan</td><td>nan</td></tr>\n",
       "<tr><td>Back_model_02</td><td>3</td><td>61</td><td>Background model</td><td>1</td><td>2137.444435</td><td>2137.4867498148146</td><td>2137.444435</td><td>2137.52768776951</td><td>0</td><td>18</td><td>0</td><td>-1000000.0</td><td>1000000.0</td><td>1.0</td><td>1.0</td><td>1.9364557153626742</td><td>0.13568964935568276</td><td>1.9364557153626742</td><td>0.13568964935568276</td><td>nan</td><td>nan</td><td>0.0</td><td>52309.20994353078</td><td>-5.582469718490302e-06</td><td>nan</td><td>nan</td><td>nan</td><td>nan</td><td>nan</td><td>nan</td><td>nan</td><td>nan</td></tr>\n",
       "<tr><td>Back_model_02</td><td>3</td><td>62</td><td>Background model</td><td>1</td><td>2137.4867498148146</td><td>2137.52906462963</td><td>2137.4867498148146</td><td>2137.5699760359967</td><td>0</td><td>18</td><td>0</td><td>-1000000.0</td><td>1000000.0</td><td>1.0</td><td>1.0</td><td>1.774181406811444</td><td>0.13604579078180204</td><td>1.774181406811444</td><td>0.13604579078180204</td><td>nan</td><td>nan</td><td>0.0</td><td>47931.4600954949</td><td>7.379268742724321e-06</td><td>nan</td><td>nan</td><td>nan</td><td>nan</td><td>nan</td><td>nan</td><td>nan</td><td>nan</td></tr>\n",
       "<tr><td>Back_model_02</td><td>3</td><td>63</td><td>Background model</td><td>1</td><td>2137.52906462963</td><td>2137.5713794444446</td><td>2137.52906462963</td><td>2137.6122753351706</td><td>0</td><td>18</td><td>0</td><td>-1000000.0</td><td>1000000.0</td><td>1.0</td><td>1.0</td><td>1.8861155242906569</td><td>0.13572248555641742</td><td>1.8861155242906569</td><td>0.13572248555641742</td><td>nan</td><td>nan</td><td>0.0</td><td>50930.02761493739</td><td>-1.4865241092953951e-05</td><td>nan</td><td>nan</td><td>nan</td><td>nan</td><td>nan</td><td>nan</td><td>nan</td><td>nan</td></tr>\n",
       "<tr><td>Back_model_02</td><td>3</td><td>64</td><td>Background model</td><td>1</td><td>2137.5713794444446</td><td>2137.6136942592593</td><td>2137.5713794444446</td><td>2137.6545746464863</td><td>0</td><td>18</td><td>0</td><td>-1000000.0</td><td>1000000.0</td><td>1.0</td><td>1.0</td><td>1.8615619661818787</td><td>0.1357414052081309</td><td>1.861561966181879</td><td>0.1357414052081309</td><td>nan</td><td>nan</td><td>0.0</td><td>50237.296965275236</td><td>-3.325032470191669e-05</td><td>nan</td><td>nan</td><td>nan</td><td>nan</td><td>nan</td><td>nan</td><td>nan</td><td>nan</td></tr>\n",
       "<tr><td>Back_model_02</td><td>3</td><td>65</td><td>Background model</td><td>1</td><td>2137.6136942592593</td><td>2137.656009074074</td><td>2137.6136942592593</td><td>2137.696878304084</td><td>0</td><td>18</td><td>0</td><td>-1000000.0</td><td>1000000.0</td><td>1.0</td><td>1.0</td><td>2.055605824320353</td><td>0.13566388252303355</td><td>2.055605824320353</td><td>0.13566388252303355</td><td>nan</td><td>nan</td><td>0.0</td><td>55424.119222814305</td><td>-5.436366800282144e-06</td><td>nan</td><td>nan</td><td>nan</td><td>nan</td><td>nan</td><td>nan</td><td>nan</td><td>nan</td></tr>\n",
       "<tr><td>Back_model_02</td><td>3</td><td>66</td><td>Background model</td><td>1</td><td>2137.656009074074</td><td>2137.6982312962964</td><td>2137.656009074074</td><td>2137.7391651215517</td><td>0</td><td>18</td><td>0</td><td>-1000000.0</td><td>1000000.0</td><td>1.0</td><td>1.0</td><td>2.2334762379939956</td><td>0.13655546937940702</td><td>2.2334762379939956</td><td>0.13655546937940702</td><td>nan</td><td>nan</td><td>0.0</td><td>60235.82191933319</td><td>-7.215592408016391e-07</td><td>nan</td><td>nan</td><td>nan</td><td>nan</td><td>nan</td><td>nan</td><td>nan</td><td>nan</td></tr>\n",
       "<tr><td>Back_model_02</td><td>3</td><td>67</td><td>Background model</td><td>1</td><td>2137.6982312962964</td><td>2137.7407312962964</td><td>2137.6982312962964</td><td>2137.7974269981073</td><td>0</td><td>18</td><td>0</td><td>-1000000.0</td><td>1000000.0</td><td>1.0</td><td>1.0</td><td>1.8917278996284368</td><td>0.1358665733206766</td><td>1.8917278996284368</td><td>0.1358665733206766</td><td>nan</td><td>nan</td><td>0.0</td><td>51102.45902639156</td><td>1.5521632465986812e-05</td><td>nan</td><td>nan</td><td>nan</td><td>nan</td><td>nan</td><td>nan</td><td>nan</td><td>nan</td></tr>\n",
       "<tr><td>Back_model_02</td><td>3</td><td>68</td><td>Background model</td><td>1</td><td>2137.7407312962964</td><td>2137.7974269981073</td><td>2137.7407312962964</td><td>2137.7974269981073</td><td>0</td><td>18</td><td>0</td><td>-1000000.0</td><td>1000000.0</td><td>1.0</td><td>1.0</td><td>1.7757148209388867</td><td>0.11632825582126034</td><td>1.7757148209388867</td><td>0.11632825582126034</td><td>nan</td><td>nan</td><td>0.0</td><td>65564.7231022919</td><td>-4.5189354708208285e-06</td><td>nan</td><td>nan</td><td>nan</td><td>nan</td><td>nan</td><td>nan</td><td>nan</td><td>nan</td></tr>\n",
       "</table></div>"
      ],
      "text/plain": [
       "<Table length=137>\n",
       "            PAR_ID             COMP_NUM COMP_BIN ... COUNTS_MCMC CSTAT_GRAD_MCMC\n",
       "            str30               int32    int32   ...   float64       float64    \n",
       "------------------------------ -------- -------- ... ----------- ---------------\n",
       "sim_sourc                             1        1 ...         nan             nan\n",
       "Back_model_01                         2        1 ...         nan             nan\n",
       "Back_model_01                         2        2 ...         nan             nan\n",
       "Back_model_01                         2        3 ...         nan             nan\n",
       "Back_model_01                         2        4 ...         nan             nan\n",
       "Back_model_01                         2        5 ...         nan             nan\n",
       "Back_model_01                         2        6 ...         nan             nan\n",
       "Back_model_01                         2        7 ...         nan             nan\n",
       "Back_model_01                         2        8 ...         nan             nan\n",
       "Back_model_01                         2        9 ...         nan             nan\n",
       "                           ...      ...      ... ...         ...             ...\n",
       "Back_model_02                         3       59 ...         nan             nan\n",
       "Back_model_02                         3       60 ...         nan             nan\n",
       "Back_model_02                         3       61 ...         nan             nan\n",
       "Back_model_02                         3       62 ...         nan             nan\n",
       "Back_model_02                         3       63 ...         nan             nan\n",
       "Back_model_02                         3       64 ...         nan             nan\n",
       "Back_model_02                         3       65 ...         nan             nan\n",
       "Back_model_02                         3       66 ...         nan             nan\n",
       "Back_model_02                         3       67 ...         nan             nan\n",
       "Back_model_02                         3       68 ...         nan             nan"
      ]
     },
     "execution_count": 10,
     "metadata": {},
     "output_type": "execute_result"
    }
   ],
   "source": [
    "result = '/home/tguethle/cookbook/SPI_cookbook/examples/automated_Crab/fit_Crab_374_real_bkg_para2/results.spimodfit.fits'\n",
    "\n",
    "with fits.open(result) as hdul:\n",
    "    hdul.info()\n",
    "    data = hdul[21].data\n",
    "    t = Table(data)\n",
    "\n",
    "t"
   ]
  },
  {
   "cell_type": "code",
   "execution_count": null,
   "metadata": {},
   "outputs": [],
   "source": []
  }
 ],
 "metadata": {
  "kernelspec": {
   "display_name": "spi39",
   "language": "python",
   "name": "python3"
  },
  "language_info": {
   "codemirror_mode": {
    "name": "ipython",
    "version": 3
   },
   "file_extension": ".py",
   "mimetype": "text/x-python",
   "name": "python",
   "nbconvert_exporter": "python",
   "pygments_lexer": "ipython3",
   "version": "3.9.18"
  }
 },
 "nbformat": 4,
 "nbformat_minor": 2
}
