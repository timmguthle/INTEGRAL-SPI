{
 "cells": [
  {
   "cell_type": "code",
   "execution_count": 1,
   "metadata": {},
   "outputs": [
    {
     "data": {
      "text/html": [
       "<pre style=\"white-space:pre;overflow-x:auto;line-height:normal;font-family:Menlo,'DejaVu Sans Mono',consolas,'Courier New',monospace\"><span style=\"color: #00ff00; text-decoration-color: #00ff00\">14:05:46 </span><span style=\"color: #af5fd7; text-decoration-color: #af5fd7\">WARNING </span> <span style=\"color: #c6c6c6; text-decoration-color: #c6c6c6; font-weight: bold\"> The naima package is not available. Models that depend on it will not be         </span><a href=\"file:///home/tguethle/.opt/conda/envs/spi39/lib/python3.9/site-packages/astromodels/functions/functions_1D/functions.py\" target=\"_blank\"><span style=\"color: #7f7f7f; text-decoration-color: #7f7f7f\">functions.py</span></a><span style=\"color: #7f7f7f; text-decoration-color: #7f7f7f\">:</span><a href=\"file:///home/tguethle/.opt/conda/envs/spi39/lib/python3.9/site-packages/astromodels/functions/functions_1D/functions.py#48\" target=\"_blank\"><span style=\"color: #7f7f7f; text-decoration-color: #7f7f7f\">48</span></a>\n",
       "<span style=\"color: #00ff00; text-decoration-color: #00ff00\">         </span>         <span style=\"color: #c6c6c6; text-decoration-color: #c6c6c6; font-weight: bold\">available                                                                         </span><span style=\"color: #7f7f7f; text-decoration-color: #7f7f7f\">               </span>\n",
       "</pre>\n"
      ],
      "text/plain": [
       "\u001b[38;5;46m14:05:46\u001b[0m\u001b[38;5;46m \u001b[0m\u001b[38;5;134mWARNING \u001b[0m \u001b[1;38;5;251m The naima package is not available. Models that depend on it will not be        \u001b[0m\u001b[1;38;5;251m \u001b[0m\u001b]8;id=208922;file:///home/tguethle/.opt/conda/envs/spi39/lib/python3.9/site-packages/astromodels/functions/functions_1D/functions.py\u001b\\\u001b[2mfunctions.py\u001b[0m\u001b]8;;\u001b\\\u001b[2m:\u001b[0m\u001b]8;id=960501;file:///home/tguethle/.opt/conda/envs/spi39/lib/python3.9/site-packages/astromodels/functions/functions_1D/functions.py#48\u001b\\\u001b[2m48\u001b[0m\u001b]8;;\u001b\\\n",
       "\u001b[38;5;46m         \u001b[0m         \u001b[1;38;5;251mavailable                                                                        \u001b[0m\u001b[1;38;5;251m \u001b[0m\u001b[2m               \u001b[0m\n"
      ]
     },
     "metadata": {},
     "output_type": "display_data"
    },
    {
     "data": {
      "text/html": [
       "<pre style=\"white-space:pre;overflow-x:auto;line-height:normal;font-family:Menlo,'DejaVu Sans Mono',consolas,'Courier New',monospace\"><span style=\"color: #00ff00; text-decoration-color: #00ff00\">         </span><span style=\"color: #af5fd7; text-decoration-color: #af5fd7\">WARNING </span> <span style=\"color: #c6c6c6; text-decoration-color: #c6c6c6; font-weight: bold\"> The GSL library or the pygsl wrapper cannot be loaded. Models that depend on it  </span><a href=\"file:///home/tguethle/.opt/conda/envs/spi39/lib/python3.9/site-packages/astromodels/functions/functions_1D/functions.py\" target=\"_blank\"><span style=\"color: #7f7f7f; text-decoration-color: #7f7f7f\">functions.py</span></a><span style=\"color: #7f7f7f; text-decoration-color: #7f7f7f\">:</span><a href=\"file:///home/tguethle/.opt/conda/envs/spi39/lib/python3.9/site-packages/astromodels/functions/functions_1D/functions.py#69\" target=\"_blank\"><span style=\"color: #7f7f7f; text-decoration-color: #7f7f7f\">69</span></a>\n",
       "<span style=\"color: #00ff00; text-decoration-color: #00ff00\">         </span>         <span style=\"color: #c6c6c6; text-decoration-color: #c6c6c6; font-weight: bold\">will not be available.                                                            </span><span style=\"color: #7f7f7f; text-decoration-color: #7f7f7f\">               </span>\n",
       "</pre>\n"
      ],
      "text/plain": [
       "\u001b[38;5;46m        \u001b[0m\u001b[38;5;46m \u001b[0m\u001b[38;5;134mWARNING \u001b[0m \u001b[1;38;5;251m The GSL library or the pygsl wrapper cannot be loaded. Models that depend on it \u001b[0m\u001b[1;38;5;251m \u001b[0m\u001b]8;id=662133;file:///home/tguethle/.opt/conda/envs/spi39/lib/python3.9/site-packages/astromodels/functions/functions_1D/functions.py\u001b\\\u001b[2mfunctions.py\u001b[0m\u001b]8;;\u001b\\\u001b[2m:\u001b[0m\u001b]8;id=173917;file:///home/tguethle/.opt/conda/envs/spi39/lib/python3.9/site-packages/astromodels/functions/functions_1D/functions.py#69\u001b\\\u001b[2m69\u001b[0m\u001b]8;;\u001b\\\n",
       "\u001b[38;5;46m         \u001b[0m         \u001b[1;38;5;251mwill not be available.                                                           \u001b[0m\u001b[1;38;5;251m \u001b[0m\u001b[2m               \u001b[0m\n"
      ]
     },
     "metadata": {},
     "output_type": "display_data"
    },
    {
     "data": {
      "text/html": [
       "<pre style=\"white-space:pre;overflow-x:auto;line-height:normal;font-family:Menlo,'DejaVu Sans Mono',consolas,'Courier New',monospace\"><span style=\"color: #00ff00; text-decoration-color: #00ff00\">14:05:47 </span><span style=\"color: #af5fd7; text-decoration-color: #af5fd7\">WARNING </span> <span style=\"color: #c6c6c6; text-decoration-color: #c6c6c6; font-weight: bold\"> The ebltable package is not available. Models that depend on it will not be     </span><a href=\"file:///home/tguethle/.opt/conda/envs/spi39/lib/python3.9/site-packages/astromodels/functions/functions_1D/absorption.py\" target=\"_blank\"><span style=\"color: #7f7f7f; text-decoration-color: #7f7f7f\">absorption.py</span></a><span style=\"color: #7f7f7f; text-decoration-color: #7f7f7f\">:</span><a href=\"file:///home/tguethle/.opt/conda/envs/spi39/lib/python3.9/site-packages/astromodels/functions/functions_1D/absorption.py#33\" target=\"_blank\"><span style=\"color: #7f7f7f; text-decoration-color: #7f7f7f\">33</span></a>\n",
       "<span style=\"color: #00ff00; text-decoration-color: #00ff00\">         </span>         <span style=\"color: #c6c6c6; text-decoration-color: #c6c6c6; font-weight: bold\">available                                                                        </span><span style=\"color: #7f7f7f; text-decoration-color: #7f7f7f\">                </span>\n",
       "</pre>\n"
      ],
      "text/plain": [
       "\u001b[38;5;46m14:05:47\u001b[0m\u001b[38;5;46m \u001b[0m\u001b[38;5;134mWARNING \u001b[0m \u001b[1;38;5;251m The ebltable package is not available. Models that depend on it will not be    \u001b[0m\u001b[1;38;5;251m \u001b[0m\u001b]8;id=590581;file:///home/tguethle/.opt/conda/envs/spi39/lib/python3.9/site-packages/astromodels/functions/functions_1D/absorption.py\u001b\\\u001b[2mabsorption.py\u001b[0m\u001b]8;;\u001b\\\u001b[2m:\u001b[0m\u001b]8;id=340918;file:///home/tguethle/.opt/conda/envs/spi39/lib/python3.9/site-packages/astromodels/functions/functions_1D/absorption.py#33\u001b\\\u001b[2m33\u001b[0m\u001b]8;;\u001b\\\n",
       "\u001b[38;5;46m         \u001b[0m         \u001b[1;38;5;251mavailable                                                                       \u001b[0m\u001b[1;38;5;251m \u001b[0m\u001b[2m                \u001b[0m\n"
      ]
     },
     "metadata": {},
     "output_type": "display_data"
    },
    {
     "data": {
      "text/html": [
       "<pre style=\"white-space:pre;overflow-x:auto;line-height:normal;font-family:Menlo,'DejaVu Sans Mono',consolas,'Courier New',monospace\"><span style=\"color: #00ff00; text-decoration-color: #00ff00\">14:05:47 </span><span style=\"color: #00ffaf; text-decoration-color: #00ffaf\">INFO    </span> <span style=\"color: #c6c6c6; text-decoration-color: #c6c6c6; font-weight: bold\"> Starting 3ML!                                                                     </span><a href=\"file:///home/tguethle/.opt/conda/envs/spi39/lib/python3.9/site-packages/threeML/__init__.py\" target=\"_blank\"><span style=\"color: #7f7f7f; text-decoration-color: #7f7f7f\">__init__.py</span></a><span style=\"color: #7f7f7f; text-decoration-color: #7f7f7f\">:</span><a href=\"file:///home/tguethle/.opt/conda/envs/spi39/lib/python3.9/site-packages/threeML/__init__.py#31\" target=\"_blank\"><span style=\"color: #7f7f7f; text-decoration-color: #7f7f7f\">31</span></a>\n",
       "</pre>\n"
      ],
      "text/plain": [
       "\u001b[38;5;46m14:05:47\u001b[0m\u001b[38;5;46m \u001b[0m\u001b[38;5;49mINFO    \u001b[0m \u001b[1;38;5;251m Starting 3ML!                                                                    \u001b[0m\u001b[1;38;5;251m \u001b[0m\u001b]8;id=710357;file:///home/tguethle/.opt/conda/envs/spi39/lib/python3.9/site-packages/threeML/__init__.py\u001b\\\u001b[2m__init__.py\u001b[0m\u001b]8;;\u001b\\\u001b[2m:\u001b[0m\u001b]8;id=14284;file:///home/tguethle/.opt/conda/envs/spi39/lib/python3.9/site-packages/threeML/__init__.py#31\u001b\\\u001b[2m31\u001b[0m\u001b]8;;\u001b\\\n"
      ]
     },
     "metadata": {},
     "output_type": "display_data"
    },
    {
     "data": {
      "text/html": [
       "<pre style=\"white-space:pre;overflow-x:auto;line-height:normal;font-family:Menlo,'DejaVu Sans Mono',consolas,'Courier New',monospace\"><span style=\"color: #00ff00; text-decoration-color: #00ff00\">         </span><span style=\"color: #af5fd7; text-decoration-color: #af5fd7\">WARNING </span> <span style=\"color: #c6c6c6; text-decoration-color: #c6c6c6; font-weight: bold\"> no display variable set. using backend for graphics without display (agg)         </span><a href=\"file:///home/tguethle/.opt/conda/envs/spi39/lib/python3.9/site-packages/threeML/__init__.py\" target=\"_blank\"><span style=\"color: #7f7f7f; text-decoration-color: #7f7f7f\">__init__.py</span></a><span style=\"color: #7f7f7f; text-decoration-color: #7f7f7f\">:</span><a href=\"file:///home/tguethle/.opt/conda/envs/spi39/lib/python3.9/site-packages/threeML/__init__.py#35\" target=\"_blank\"><span style=\"color: #7f7f7f; text-decoration-color: #7f7f7f\">35</span></a>\n",
       "</pre>\n"
      ],
      "text/plain": [
       "\u001b[38;5;46m        \u001b[0m\u001b[38;5;46m \u001b[0m\u001b[38;5;134mWARNING \u001b[0m \u001b[1;38;5;251m no display variable set. using backend for graphics without display \u001b[0m\u001b[1;38;5;251m(\u001b[0m\u001b[1;38;5;251magg\u001b[0m\u001b[1;38;5;251m)\u001b[0m\u001b[1;38;5;251m        \u001b[0m\u001b[1;38;5;251m \u001b[0m\u001b]8;id=709508;file:///home/tguethle/.opt/conda/envs/spi39/lib/python3.9/site-packages/threeML/__init__.py\u001b\\\u001b[2m__init__.py\u001b[0m\u001b]8;;\u001b\\\u001b[2m:\u001b[0m\u001b]8;id=374821;file:///home/tguethle/.opt/conda/envs/spi39/lib/python3.9/site-packages/threeML/__init__.py#35\u001b\\\u001b[2m35\u001b[0m\u001b]8;;\u001b\\\n"
      ]
     },
     "metadata": {},
     "output_type": "display_data"
    },
    {
     "data": {
      "text/html": [
       "<pre style=\"white-space:pre;overflow-x:auto;line-height:normal;font-family:Menlo,'DejaVu Sans Mono',consolas,'Courier New',monospace\"><span style=\"color: #00ff00; text-decoration-color: #00ff00\">         </span><span style=\"color: #af5fd7; text-decoration-color: #af5fd7\">WARNING </span> <span style=\"color: #c6c6c6; text-decoration-color: #c6c6c6; font-weight: bold\"> ROOT minimizer not available                                                </span><a href=\"file:///home/tguethle/.opt/conda/envs/spi39/lib/python3.9/site-packages/threeML/minimizer/minimization.py\" target=\"_blank\"><span style=\"color: #7f7f7f; text-decoration-color: #7f7f7f\">minimization.py</span></a><span style=\"color: #7f7f7f; text-decoration-color: #7f7f7f\">:</span><a href=\"file:///home/tguethle/.opt/conda/envs/spi39/lib/python3.9/site-packages/threeML/minimizer/minimization.py#1345\" target=\"_blank\"><span style=\"color: #7f7f7f; text-decoration-color: #7f7f7f\">1345</span></a>\n",
       "</pre>\n"
      ],
      "text/plain": [
       "\u001b[38;5;46m        \u001b[0m\u001b[38;5;46m \u001b[0m\u001b[38;5;134mWARNING \u001b[0m \u001b[1;38;5;251m ROOT minimizer not available                                               \u001b[0m\u001b[1;38;5;251m \u001b[0m\u001b]8;id=849207;file:///home/tguethle/.opt/conda/envs/spi39/lib/python3.9/site-packages/threeML/minimizer/minimization.py\u001b\\\u001b[2mminimization.py\u001b[0m\u001b]8;;\u001b\\\u001b[2m:\u001b[0m\u001b]8;id=606840;file:///home/tguethle/.opt/conda/envs/spi39/lib/python3.9/site-packages/threeML/minimizer/minimization.py#1345\u001b\\\u001b[2m1345\u001b[0m\u001b]8;;\u001b\\\n"
      ]
     },
     "metadata": {},
     "output_type": "display_data"
    },
    {
     "data": {
      "text/html": [
       "<pre style=\"white-space:pre;overflow-x:auto;line-height:normal;font-family:Menlo,'DejaVu Sans Mono',consolas,'Courier New',monospace\"><span style=\"color: #00ff00; text-decoration-color: #00ff00\">         </span><span style=\"color: #af5fd7; text-decoration-color: #af5fd7\">WARNING </span> <span style=\"color: #c6c6c6; text-decoration-color: #c6c6c6; font-weight: bold\"> PyGMO is not available                                                      </span><a href=\"file:///home/tguethle/.opt/conda/envs/spi39/lib/python3.9/site-packages/threeML/minimizer/minimization.py\" target=\"_blank\"><span style=\"color: #7f7f7f; text-decoration-color: #7f7f7f\">minimization.py</span></a><span style=\"color: #7f7f7f; text-decoration-color: #7f7f7f\">:</span><a href=\"file:///home/tguethle/.opt/conda/envs/spi39/lib/python3.9/site-packages/threeML/minimizer/minimization.py#1369\" target=\"_blank\"><span style=\"color: #7f7f7f; text-decoration-color: #7f7f7f\">1369</span></a>\n",
       "</pre>\n"
      ],
      "text/plain": [
       "\u001b[38;5;46m        \u001b[0m\u001b[38;5;46m \u001b[0m\u001b[38;5;134mWARNING \u001b[0m \u001b[1;38;5;251m PyGMO is not available                                                     \u001b[0m\u001b[1;38;5;251m \u001b[0m\u001b]8;id=903648;file:///home/tguethle/.opt/conda/envs/spi39/lib/python3.9/site-packages/threeML/minimizer/minimization.py\u001b\\\u001b[2mminimization.py\u001b[0m\u001b]8;;\u001b\\\u001b[2m:\u001b[0m\u001b]8;id=858275;file:///home/tguethle/.opt/conda/envs/spi39/lib/python3.9/site-packages/threeML/minimizer/minimization.py#1369\u001b\\\u001b[2m1369\u001b[0m\u001b]8;;\u001b\\\n"
      ]
     },
     "metadata": {},
     "output_type": "display_data"
    },
    {
     "data": {
      "text/html": [
       "<pre style=\"white-space:pre;overflow-x:auto;line-height:normal;font-family:Menlo,'DejaVu Sans Mono',consolas,'Courier New',monospace\"><span style=\"color: #00ff00; text-decoration-color: #00ff00\">14:05:48 </span><span style=\"color: #af5fd7; text-decoration-color: #af5fd7\">WARNING </span> <span style=\"color: #c6c6c6; text-decoration-color: #c6c6c6; font-weight: bold\"> The cthreeML package is not installed. You will not be able to use plugins which  </span><a href=\"file:///home/tguethle/.opt/conda/envs/spi39/lib/python3.9/site-packages/threeML/__init__.py\" target=\"_blank\"><span style=\"color: #7f7f7f; text-decoration-color: #7f7f7f\">__init__.py</span></a><span style=\"color: #7f7f7f; text-decoration-color: #7f7f7f\">:</span><a href=\"file:///home/tguethle/.opt/conda/envs/spi39/lib/python3.9/site-packages/threeML/__init__.py#79\" target=\"_blank\"><span style=\"color: #7f7f7f; text-decoration-color: #7f7f7f\">79</span></a>\n",
       "<span style=\"color: #00ff00; text-decoration-color: #00ff00\">         </span>         <span style=\"color: #c6c6c6; text-decoration-color: #c6c6c6; font-weight: bold\">require the C/C++ interface (currently HAWC)                                       </span><span style=\"color: #7f7f7f; text-decoration-color: #7f7f7f\">              </span>\n",
       "</pre>\n"
      ],
      "text/plain": [
       "\u001b[38;5;46m14:05:48\u001b[0m\u001b[38;5;46m \u001b[0m\u001b[38;5;134mWARNING \u001b[0m \u001b[1;38;5;251m The cthreeML package is not installed. You will not be able to use plugins which \u001b[0m\u001b[1;38;5;251m \u001b[0m\u001b]8;id=387647;file:///home/tguethle/.opt/conda/envs/spi39/lib/python3.9/site-packages/threeML/__init__.py\u001b\\\u001b[2m__init__.py\u001b[0m\u001b]8;;\u001b\\\u001b[2m:\u001b[0m\u001b]8;id=167047;file:///home/tguethle/.opt/conda/envs/spi39/lib/python3.9/site-packages/threeML/__init__.py#79\u001b\\\u001b[2m79\u001b[0m\u001b]8;;\u001b\\\n",
       "\u001b[38;5;46m         \u001b[0m         \u001b[1;38;5;251mrequire the C/C++ interface \u001b[0m\u001b[1;38;5;251m(\u001b[0m\u001b[1;38;5;251mcurrently HAWC\u001b[0m\u001b[1;38;5;251m)\u001b[0m\u001b[1;38;5;251m                                      \u001b[0m\u001b[1;38;5;251m \u001b[0m\u001b[2m              \u001b[0m\n"
      ]
     },
     "metadata": {},
     "output_type": "display_data"
    },
    {
     "data": {
      "text/html": [
       "<pre style=\"white-space:pre;overflow-x:auto;line-height:normal;font-family:Menlo,'DejaVu Sans Mono',consolas,'Courier New',monospace\"><span style=\"color: #00ff00; text-decoration-color: #00ff00\">         </span><span style=\"color: #af5fd7; text-decoration-color: #af5fd7\">WARNING </span> <span style=\"color: #c6c6c6; text-decoration-color: #c6c6c6; font-weight: bold\"> Could not import plugin HAWCLike.py. Do you have the relative instrument         </span><a href=\"file:///home/tguethle/.opt/conda/envs/spi39/lib/python3.9/site-packages/threeML/__init__.py\" target=\"_blank\"><span style=\"color: #7f7f7f; text-decoration-color: #7f7f7f\">__init__.py</span></a><span style=\"color: #7f7f7f; text-decoration-color: #7f7f7f\">:</span><a href=\"file:///home/tguethle/.opt/conda/envs/spi39/lib/python3.9/site-packages/threeML/__init__.py#129\" target=\"_blank\"><span style=\"color: #7f7f7f; text-decoration-color: #7f7f7f\">129</span></a>\n",
       "<span style=\"color: #00ff00; text-decoration-color: #00ff00\">         </span>         <span style=\"color: #c6c6c6; text-decoration-color: #c6c6c6; font-weight: bold\">software installed and configured?                                                </span><span style=\"color: #7f7f7f; text-decoration-color: #7f7f7f\">               </span>\n",
       "</pre>\n"
      ],
      "text/plain": [
       "\u001b[38;5;46m        \u001b[0m\u001b[38;5;46m \u001b[0m\u001b[38;5;134mWARNING \u001b[0m \u001b[1;38;5;251m Could not import plugin HAWCLike.py. Do you have the relative instrument        \u001b[0m\u001b[1;38;5;251m \u001b[0m\u001b]8;id=640252;file:///home/tguethle/.opt/conda/envs/spi39/lib/python3.9/site-packages/threeML/__init__.py\u001b\\\u001b[2m__init__.py\u001b[0m\u001b]8;;\u001b\\\u001b[2m:\u001b[0m\u001b]8;id=739684;file:///home/tguethle/.opt/conda/envs/spi39/lib/python3.9/site-packages/threeML/__init__.py#129\u001b\\\u001b[2m129\u001b[0m\u001b]8;;\u001b\\\n",
       "\u001b[38;5;46m         \u001b[0m         \u001b[1;38;5;251msoftware installed and configured?                                               \u001b[0m\u001b[1;38;5;251m \u001b[0m\u001b[2m               \u001b[0m\n"
      ]
     },
     "metadata": {},
     "output_type": "display_data"
    },
    {
     "data": {
      "text/html": [
       "<pre style=\"white-space:pre;overflow-x:auto;line-height:normal;font-family:Menlo,'DejaVu Sans Mono',consolas,'Courier New',monospace\"><span style=\"color: #00ff00; text-decoration-color: #00ff00\">         </span><span style=\"color: #af5fd7; text-decoration-color: #af5fd7\">WARNING </span> <span style=\"color: #c6c6c6; text-decoration-color: #c6c6c6; font-weight: bold\"> Could not import plugin FermiLATLike.py. Do you have the relative instrument     </span><a href=\"file:///home/tguethle/.opt/conda/envs/spi39/lib/python3.9/site-packages/threeML/__init__.py\" target=\"_blank\"><span style=\"color: #7f7f7f; text-decoration-color: #7f7f7f\">__init__.py</span></a><span style=\"color: #7f7f7f; text-decoration-color: #7f7f7f\">:</span><a href=\"file:///home/tguethle/.opt/conda/envs/spi39/lib/python3.9/site-packages/threeML/__init__.py#129\" target=\"_blank\"><span style=\"color: #7f7f7f; text-decoration-color: #7f7f7f\">129</span></a>\n",
       "<span style=\"color: #00ff00; text-decoration-color: #00ff00\">         </span>         <span style=\"color: #c6c6c6; text-decoration-color: #c6c6c6; font-weight: bold\">software installed and configured?                                                </span><span style=\"color: #7f7f7f; text-decoration-color: #7f7f7f\">               </span>\n",
       "</pre>\n"
      ],
      "text/plain": [
       "\u001b[38;5;46m        \u001b[0m\u001b[38;5;46m \u001b[0m\u001b[38;5;134mWARNING \u001b[0m \u001b[1;38;5;251m Could not import plugin FermiLATLike.py. Do you have the relative instrument    \u001b[0m\u001b[1;38;5;251m \u001b[0m\u001b]8;id=966872;file:///home/tguethle/.opt/conda/envs/spi39/lib/python3.9/site-packages/threeML/__init__.py\u001b\\\u001b[2m__init__.py\u001b[0m\u001b]8;;\u001b\\\u001b[2m:\u001b[0m\u001b]8;id=162579;file:///home/tguethle/.opt/conda/envs/spi39/lib/python3.9/site-packages/threeML/__init__.py#129\u001b\\\u001b[2m129\u001b[0m\u001b]8;;\u001b\\\n",
       "\u001b[38;5;46m         \u001b[0m         \u001b[1;38;5;251msoftware installed and configured?                                               \u001b[0m\u001b[1;38;5;251m \u001b[0m\u001b[2m               \u001b[0m\n"
      ]
     },
     "metadata": {},
     "output_type": "display_data"
    },
    {
     "data": {
      "text/html": [
       "<pre style=\"white-space:pre;overflow-x:auto;line-height:normal;font-family:Menlo,'DejaVu Sans Mono',consolas,'Courier New',monospace\"><span style=\"color: #00ff00; text-decoration-color: #00ff00\">14:05:48 </span><span style=\"color: #af5fd7; text-decoration-color: #af5fd7\">WARNING </span> <span style=\"color: #c6c6c6; text-decoration-color: #c6c6c6; font-weight: bold\"> No fermitools installed                                              </span><a href=\"file:///home/tguethle/.opt/conda/envs/spi39/lib/python3.9/site-packages/threeML/utils/data_builders/fermi/lat_transient_builder.py\" target=\"_blank\"><span style=\"color: #7f7f7f; text-decoration-color: #7f7f7f\">lat_transient_builder.py</span></a><span style=\"color: #7f7f7f; text-decoration-color: #7f7f7f\">:</span><a href=\"file:///home/tguethle/.opt/conda/envs/spi39/lib/python3.9/site-packages/threeML/utils/data_builders/fermi/lat_transient_builder.py#44\" target=\"_blank\"><span style=\"color: #7f7f7f; text-decoration-color: #7f7f7f\">44</span></a>\n",
       "</pre>\n"
      ],
      "text/plain": [
       "\u001b[38;5;46m14:05:48\u001b[0m\u001b[38;5;46m \u001b[0m\u001b[38;5;134mWARNING \u001b[0m \u001b[1;38;5;251m No fermitools installed                                             \u001b[0m\u001b[1;38;5;251m \u001b[0m\u001b]8;id=679177;file:///home/tguethle/.opt/conda/envs/spi39/lib/python3.9/site-packages/threeML/utils/data_builders/fermi/lat_transient_builder.py\u001b\\\u001b[2mlat_transient_builder.py\u001b[0m\u001b]8;;\u001b\\\u001b[2m:\u001b[0m\u001b]8;id=117920;file:///home/tguethle/.opt/conda/envs/spi39/lib/python3.9/site-packages/threeML/utils/data_builders/fermi/lat_transient_builder.py#44\u001b\\\u001b[2m44\u001b[0m\u001b]8;;\u001b\\\n"
      ]
     },
     "metadata": {},
     "output_type": "display_data"
    },
    {
     "data": {
      "text/html": [
       "<pre style=\"white-space:pre;overflow-x:auto;line-height:normal;font-family:Menlo,'DejaVu Sans Mono',consolas,'Courier New',monospace\"><span style=\"color: #00ff00; text-decoration-color: #00ff00\">         </span><span style=\"color: #af5fd7; text-decoration-color: #af5fd7\">WARNING </span> <span style=\"color: #c6c6c6; text-decoration-color: #c6c6c6; font-weight: bold\"> Env. variable OMP_NUM_THREADS is not set. Please set it to </span><span style=\"color: #c0c0c0; text-decoration-color: #c0c0c0; font-weight: bold\">1</span><span style=\"color: #c6c6c6; text-decoration-color: #c6c6c6; font-weight: bold\"> for optimal         </span><a href=\"file:///home/tguethle/.opt/conda/envs/spi39/lib/python3.9/site-packages/threeML/__init__.py\" target=\"_blank\"><span style=\"color: #7f7f7f; text-decoration-color: #7f7f7f\">__init__.py</span></a><span style=\"color: #7f7f7f; text-decoration-color: #7f7f7f\">:</span><a href=\"file:///home/tguethle/.opt/conda/envs/spi39/lib/python3.9/site-packages/threeML/__init__.py#341\" target=\"_blank\"><span style=\"color: #7f7f7f; text-decoration-color: #7f7f7f\">341</span></a>\n",
       "<span style=\"color: #00ff00; text-decoration-color: #00ff00\">         </span>         <span style=\"color: #c6c6c6; text-decoration-color: #c6c6c6; font-weight: bold\">performances in 3ML                                                               </span><span style=\"color: #7f7f7f; text-decoration-color: #7f7f7f\">               </span>\n",
       "</pre>\n"
      ],
      "text/plain": [
       "\u001b[38;5;46m        \u001b[0m\u001b[38;5;46m \u001b[0m\u001b[38;5;134mWARNING \u001b[0m \u001b[1;38;5;251m Env. variable OMP_NUM_THREADS is not set. Please set it to \u001b[0m\u001b[1;37m1\u001b[0m\u001b[1;38;5;251m for optimal        \u001b[0m\u001b[1;38;5;251m \u001b[0m\u001b]8;id=320042;file:///home/tguethle/.opt/conda/envs/spi39/lib/python3.9/site-packages/threeML/__init__.py\u001b\\\u001b[2m__init__.py\u001b[0m\u001b]8;;\u001b\\\u001b[2m:\u001b[0m\u001b]8;id=96682;file:///home/tguethle/.opt/conda/envs/spi39/lib/python3.9/site-packages/threeML/__init__.py#341\u001b\\\u001b[2m341\u001b[0m\u001b]8;;\u001b\\\n",
       "\u001b[38;5;46m         \u001b[0m         \u001b[1;38;5;251mperformances in 3ML                                                              \u001b[0m\u001b[1;38;5;251m \u001b[0m\u001b[2m               \u001b[0m\n"
      ]
     },
     "metadata": {},
     "output_type": "display_data"
    },
    {
     "data": {
      "text/html": [
       "<pre style=\"white-space:pre;overflow-x:auto;line-height:normal;font-family:Menlo,'DejaVu Sans Mono',consolas,'Courier New',monospace\"><span style=\"color: #00ff00; text-decoration-color: #00ff00\">         </span><span style=\"color: #af5fd7; text-decoration-color: #af5fd7\">WARNING </span> <span style=\"color: #c6c6c6; text-decoration-color: #c6c6c6; font-weight: bold\"> Env. variable MKL_NUM_THREADS is not set. Please set it to </span><span style=\"color: #c0c0c0; text-decoration-color: #c0c0c0; font-weight: bold\">1</span><span style=\"color: #c6c6c6; text-decoration-color: #c6c6c6; font-weight: bold\"> for optimal         </span><a href=\"file:///home/tguethle/.opt/conda/envs/spi39/lib/python3.9/site-packages/threeML/__init__.py\" target=\"_blank\"><span style=\"color: #7f7f7f; text-decoration-color: #7f7f7f\">__init__.py</span></a><span style=\"color: #7f7f7f; text-decoration-color: #7f7f7f\">:</span><a href=\"file:///home/tguethle/.opt/conda/envs/spi39/lib/python3.9/site-packages/threeML/__init__.py#341\" target=\"_blank\"><span style=\"color: #7f7f7f; text-decoration-color: #7f7f7f\">341</span></a>\n",
       "<span style=\"color: #00ff00; text-decoration-color: #00ff00\">         </span>         <span style=\"color: #c6c6c6; text-decoration-color: #c6c6c6; font-weight: bold\">performances in 3ML                                                               </span><span style=\"color: #7f7f7f; text-decoration-color: #7f7f7f\">               </span>\n",
       "</pre>\n"
      ],
      "text/plain": [
       "\u001b[38;5;46m        \u001b[0m\u001b[38;5;46m \u001b[0m\u001b[38;5;134mWARNING \u001b[0m \u001b[1;38;5;251m Env. variable MKL_NUM_THREADS is not set. Please set it to \u001b[0m\u001b[1;37m1\u001b[0m\u001b[1;38;5;251m for optimal        \u001b[0m\u001b[1;38;5;251m \u001b[0m\u001b]8;id=939739;file:///home/tguethle/.opt/conda/envs/spi39/lib/python3.9/site-packages/threeML/__init__.py\u001b\\\u001b[2m__init__.py\u001b[0m\u001b]8;;\u001b\\\u001b[2m:\u001b[0m\u001b]8;id=168568;file:///home/tguethle/.opt/conda/envs/spi39/lib/python3.9/site-packages/threeML/__init__.py#341\u001b\\\u001b[2m341\u001b[0m\u001b]8;;\u001b\\\n",
       "\u001b[38;5;46m         \u001b[0m         \u001b[1;38;5;251mperformances in 3ML                                                              \u001b[0m\u001b[1;38;5;251m \u001b[0m\u001b[2m               \u001b[0m\n"
      ]
     },
     "metadata": {},
     "output_type": "display_data"
    },
    {
     "data": {
      "text/html": [
       "<pre style=\"white-space:pre;overflow-x:auto;line-height:normal;font-family:Menlo,'DejaVu Sans Mono',consolas,'Courier New',monospace\"><span style=\"color: #00ff00; text-decoration-color: #00ff00\">         </span><span style=\"color: #af5fd7; text-decoration-color: #af5fd7\">WARNING </span> <span style=\"color: #c6c6c6; text-decoration-color: #c6c6c6; font-weight: bold\"> Env. variable NUMEXPR_NUM_THREADS is not set. Please set it to </span><span style=\"color: #c0c0c0; text-decoration-color: #c0c0c0; font-weight: bold\">1</span><span style=\"color: #c6c6c6; text-decoration-color: #c6c6c6; font-weight: bold\"> for optimal     </span><a href=\"file:///home/tguethle/.opt/conda/envs/spi39/lib/python3.9/site-packages/threeML/__init__.py\" target=\"_blank\"><span style=\"color: #7f7f7f; text-decoration-color: #7f7f7f\">__init__.py</span></a><span style=\"color: #7f7f7f; text-decoration-color: #7f7f7f\">:</span><a href=\"file:///home/tguethle/.opt/conda/envs/spi39/lib/python3.9/site-packages/threeML/__init__.py#341\" target=\"_blank\"><span style=\"color: #7f7f7f; text-decoration-color: #7f7f7f\">341</span></a>\n",
       "<span style=\"color: #00ff00; text-decoration-color: #00ff00\">         </span>         <span style=\"color: #c6c6c6; text-decoration-color: #c6c6c6; font-weight: bold\">performances in 3ML                                                               </span><span style=\"color: #7f7f7f; text-decoration-color: #7f7f7f\">               </span>\n",
       "</pre>\n"
      ],
      "text/plain": [
       "\u001b[38;5;46m        \u001b[0m\u001b[38;5;46m \u001b[0m\u001b[38;5;134mWARNING \u001b[0m \u001b[1;38;5;251m Env. variable NUMEXPR_NUM_THREADS is not set. Please set it to \u001b[0m\u001b[1;37m1\u001b[0m\u001b[1;38;5;251m for optimal    \u001b[0m\u001b[1;38;5;251m \u001b[0m\u001b]8;id=655432;file:///home/tguethle/.opt/conda/envs/spi39/lib/python3.9/site-packages/threeML/__init__.py\u001b\\\u001b[2m__init__.py\u001b[0m\u001b]8;;\u001b\\\u001b[2m:\u001b[0m\u001b]8;id=486032;file:///home/tguethle/.opt/conda/envs/spi39/lib/python3.9/site-packages/threeML/__init__.py#341\u001b\\\u001b[2m341\u001b[0m\u001b]8;;\u001b\\\n",
       "\u001b[38;5;46m         \u001b[0m         \u001b[1;38;5;251mperformances in 3ML                                                              \u001b[0m\u001b[1;38;5;251m \u001b[0m\u001b[2m               \u001b[0m\n"
      ]
     },
     "metadata": {},
     "output_type": "display_data"
    }
   ],
   "source": [
    "from threeML import *\n",
    "import matplotlib.pyplot as plt\n",
    "import numpy as np\n",
    "path = '/home/tguethle/cookbook/SPI_cookbook/examples/automated_Crab/fit_Crab_374_real_bkg_para2'\n"
   ]
  },
  {
   "cell_type": "code",
   "execution_count": 2,
   "metadata": {},
   "outputs": [],
   "source": [
    "def select_good_channels(path, max_chi2=1.1, min_chi2=0.95):\n",
    "    \"\"\"\n",
    "    only chooes channels with a good fit. The goodnes is characterized by the chi2 value. \n",
    "    \"\"\"\n",
    "    chi2_list = []\n",
    "    with open(f'{path}/spimodfit.log') as f:\n",
    "        lines = f.readlines()\n",
    "        for line in lines:\n",
    "            if \"Corresponding Pearson's chi2 stat / dof\" in line:\n",
    "                chi2 = float(line.split()[-3][:-4])\n",
    "                chi2_list.append(chi2)\n",
    "    chi2_list = np.array(chi2_list)\n",
    "    max_good_channels = chi2_list < max_chi2\n",
    "    min_good_channels = chi2_list > min_chi2\n",
    "    good_channels = max_good_channels & min_good_channels\n",
    "    channels = []\n",
    "    for i, good in enumerate(good_channels):\n",
    "        if good:\n",
    "            channels.append(f'c{i+1}')\n",
    "    return channels\n",
    "\n",
    "select_good_channels(path)\n",
    "\n",
    "def mahalanobis_dist(vals, cov, real_vals):\n",
    "    dif = (vals - real_vals)\n",
    "    return np.sqrt(np.linalg.multi_dot([dif, np.linalg.inv(cov), dif]))\n"
   ]
  },
  {
   "cell_type": "code",
   "execution_count": 3,
   "metadata": {},
   "outputs": [
    {
     "data": {
      "text/html": [
       "<pre style=\"white-space:pre;overflow-x:auto;line-height:normal;font-family:Menlo,'DejaVu Sans Mono',consolas,'Courier New',monospace\"><span style=\"color: #00ff00; text-decoration-color: #00ff00\">         </span><span style=\"color: #af5fd7; text-decoration-color: #af5fd7\">WARNING </span> <span style=\"color: #c6c6c6; text-decoration-color: #c6c6c6; font-weight: bold\"> Found TSTOP and TELAPSE. This file is invalid. Using TSTOP.                  </span><a href=\"file:///home/tguethle/.opt/conda/envs/spi39/lib/python3.9/site-packages/threeML/utils/spectrum/pha_spectrum.py\" target=\"_blank\"><span style=\"color: #7f7f7f; text-decoration-color: #7f7f7f\">pha_spectrum.py</span></a><span style=\"color: #7f7f7f; text-decoration-color: #7f7f7f\">:</span><a href=\"file:///home/tguethle/.opt/conda/envs/spi39/lib/python3.9/site-packages/threeML/utils/spectrum/pha_spectrum.py#274\" target=\"_blank\"><span style=\"color: #7f7f7f; text-decoration-color: #7f7f7f\">274</span></a>\n",
       "</pre>\n"
      ],
      "text/plain": [
       "\u001b[38;5;46m        \u001b[0m\u001b[38;5;46m \u001b[0m\u001b[38;5;134mWARNING \u001b[0m \u001b[1;38;5;251m Found TSTOP and TELAPSE. This file is invalid. Using TSTOP.                 \u001b[0m\u001b[1;38;5;251m \u001b[0m\u001b]8;id=111102;file:///home/tguethle/.opt/conda/envs/spi39/lib/python3.9/site-packages/threeML/utils/spectrum/pha_spectrum.py\u001b\\\u001b[2mpha_spectrum.py\u001b[0m\u001b]8;;\u001b\\\u001b[2m:\u001b[0m\u001b]8;id=266976;file:///home/tguethle/.opt/conda/envs/spi39/lib/python3.9/site-packages/threeML/utils/spectrum/pha_spectrum.py#274\u001b\\\u001b[2m274\u001b[0m\u001b]8;;\u001b\\\n"
      ]
     },
     "metadata": {},
     "output_type": "display_data"
    },
    {
     "data": {
      "text/html": [
       "<pre style=\"white-space:pre;overflow-x:auto;line-height:normal;font-family:Menlo,'DejaVu Sans Mono',consolas,'Courier New',monospace\"><span style=\"color: #00ff00; text-decoration-color: #00ff00\">         </span><span style=\"color: #af5fd7; text-decoration-color: #af5fd7\">WARNING </span> <span style=\"color: #c6c6c6; text-decoration-color: #c6c6c6; font-weight: bold\"> FILTER is not set. This is not a compliant OGIP file. Assuming no FILTER.    </span><a href=\"file:///home/tguethle/.opt/conda/envs/spi39/lib/python3.9/site-packages/threeML/utils/spectrum/pha_spectrum.py\" target=\"_blank\"><span style=\"color: #7f7f7f; text-decoration-color: #7f7f7f\">pha_spectrum.py</span></a><span style=\"color: #7f7f7f; text-decoration-color: #7f7f7f\">:</span><a href=\"file:///home/tguethle/.opt/conda/envs/spi39/lib/python3.9/site-packages/threeML/utils/spectrum/pha_spectrum.py#423\" target=\"_blank\"><span style=\"color: #7f7f7f; text-decoration-color: #7f7f7f\">423</span></a>\n",
       "</pre>\n"
      ],
      "text/plain": [
       "\u001b[38;5;46m        \u001b[0m\u001b[38;5;46m \u001b[0m\u001b[38;5;134mWARNING \u001b[0m \u001b[1;38;5;251m FILTER is not set. This is not a compliant OGIP file. Assuming no FILTER.   \u001b[0m\u001b[1;38;5;251m \u001b[0m\u001b]8;id=908638;file:///home/tguethle/.opt/conda/envs/spi39/lib/python3.9/site-packages/threeML/utils/spectrum/pha_spectrum.py\u001b\\\u001b[2mpha_spectrum.py\u001b[0m\u001b]8;;\u001b\\\u001b[2m:\u001b[0m\u001b]8;id=870705;file:///home/tguethle/.opt/conda/envs/spi39/lib/python3.9/site-packages/threeML/utils/spectrum/pha_spectrum.py#423\u001b\\\u001b[2m423\u001b[0m\u001b]8;;\u001b\\\n"
      ]
     },
     "metadata": {},
     "output_type": "display_data"
    },
    {
     "data": {
      "text/html": [
       "<pre style=\"white-space:pre;overflow-x:auto;line-height:normal;font-family:Menlo,'DejaVu Sans Mono',consolas,'Courier New',monospace\"><span style=\"color: #00ff00; text-decoration-color: #00ff00\">         </span><span style=\"color: #af5fd7; text-decoration-color: #af5fd7\">WARNING </span> <span style=\"color: #c6c6c6; text-decoration-color: #c6c6c6; font-weight: bold\"> The response is in an extension called MATRIX, which usually means you also need </span><a href=\"file:///home/tguethle/.opt/conda/envs/spi39/lib/python3.9/site-packages/threeML/utils/OGIP/response.py\" target=\"_blank\"><span style=\"color: #7f7f7f; text-decoration-color: #7f7f7f\">response.py</span></a><span style=\"color: #7f7f7f; text-decoration-color: #7f7f7f\">:</span><a href=\"file:///home/tguethle/.opt/conda/envs/spi39/lib/python3.9/site-packages/threeML/utils/OGIP/response.py#451\" target=\"_blank\"><span style=\"color: #7f7f7f; text-decoration-color: #7f7f7f\">451</span></a>\n",
       "<span style=\"color: #00ff00; text-decoration-color: #00ff00\">         </span>         <span style=\"color: #c6c6c6; text-decoration-color: #c6c6c6; font-weight: bold\">an ancillary file (ARF) which you didn't provide. You should refer to the         </span><span style=\"color: #7f7f7f; text-decoration-color: #7f7f7f\">               </span>\n",
       "<span style=\"color: #00ff00; text-decoration-color: #00ff00\">         </span>         <span style=\"color: #c6c6c6; text-decoration-color: #c6c6c6; font-weight: bold\">documentation  of the instrument and make sure you don't need an ARF.             </span><span style=\"color: #7f7f7f; text-decoration-color: #7f7f7f\">               </span>\n",
       "</pre>\n"
      ],
      "text/plain": [
       "\u001b[38;5;46m        \u001b[0m\u001b[38;5;46m \u001b[0m\u001b[38;5;134mWARNING \u001b[0m \u001b[1;38;5;251m The response is in an extension called MATRIX, which usually means you also need\u001b[0m\u001b[1;38;5;251m \u001b[0m\u001b]8;id=677417;file:///home/tguethle/.opt/conda/envs/spi39/lib/python3.9/site-packages/threeML/utils/OGIP/response.py\u001b\\\u001b[2mresponse.py\u001b[0m\u001b]8;;\u001b\\\u001b[2m:\u001b[0m\u001b]8;id=324807;file:///home/tguethle/.opt/conda/envs/spi39/lib/python3.9/site-packages/threeML/utils/OGIP/response.py#451\u001b\\\u001b[2m451\u001b[0m\u001b]8;;\u001b\\\n",
       "\u001b[38;5;46m         \u001b[0m         \u001b[1;38;5;251man ancillary file \u001b[0m\u001b[1;38;5;251m(\u001b[0m\u001b[1;38;5;251mARF\u001b[0m\u001b[1;38;5;251m)\u001b[0m\u001b[1;38;5;251m which you didn't provide. You should refer to the        \u001b[0m\u001b[1;38;5;251m \u001b[0m\u001b[2m               \u001b[0m\n",
       "\u001b[38;5;46m         \u001b[0m         \u001b[1;38;5;251mdocumentation  of the instrument and make sure you don't need an ARF.            \u001b[0m\u001b[1;38;5;251m \u001b[0m\u001b[2m               \u001b[0m\n"
      ]
     },
     "metadata": {},
     "output_type": "display_data"
    },
    {
     "data": {
      "text/html": [
       "<pre style=\"white-space:pre;overflow-x:auto;line-height:normal;font-family:Menlo,'DejaVu Sans Mono',consolas,'Courier New',monospace\"><span style=\"color: #00ff00; text-decoration-color: #00ff00\">         </span><span style=\"color: #00ffaf; text-decoration-color: #00ffaf\">INFO    </span> <span style=\"color: #c6c6c6; text-decoration-color: #c6c6c6; font-weight: bold\"> Auto-probed noise models:                                                    </span><a href=\"file:///home/tguethle/.opt/conda/envs/spi39/lib/python3.9/site-packages/threeML/plugins/SpectrumLike.py\" target=\"_blank\"><span style=\"color: #7f7f7f; text-decoration-color: #7f7f7f\">SpectrumLike.py</span></a><span style=\"color: #7f7f7f; text-decoration-color: #7f7f7f\">:</span><a href=\"file:///home/tguethle/.opt/conda/envs/spi39/lib/python3.9/site-packages/threeML/plugins/SpectrumLike.py#491\" target=\"_blank\"><span style=\"color: #7f7f7f; text-decoration-color: #7f7f7f\">491</span></a>\n",
       "</pre>\n"
      ],
      "text/plain": [
       "\u001b[38;5;46m        \u001b[0m\u001b[38;5;46m \u001b[0m\u001b[38;5;49mINFO    \u001b[0m \u001b[1;38;5;251m Auto-probed noise models:                                                   \u001b[0m\u001b[1;38;5;251m \u001b[0m\u001b]8;id=654201;file:///home/tguethle/.opt/conda/envs/spi39/lib/python3.9/site-packages/threeML/plugins/SpectrumLike.py\u001b\\\u001b[2mSpectrumLike.py\u001b[0m\u001b]8;;\u001b\\\u001b[2m:\u001b[0m\u001b]8;id=387653;file:///home/tguethle/.opt/conda/envs/spi39/lib/python3.9/site-packages/threeML/plugins/SpectrumLike.py#491\u001b\\\u001b[2m491\u001b[0m\u001b]8;;\u001b\\\n"
      ]
     },
     "metadata": {},
     "output_type": "display_data"
    },
    {
     "data": {
      "text/html": [
       "<pre style=\"white-space:pre;overflow-x:auto;line-height:normal;font-family:Menlo,'DejaVu Sans Mono',consolas,'Courier New',monospace\"><span style=\"color: #00ff00; text-decoration-color: #00ff00\">         </span><span style=\"color: #00ffaf; text-decoration-color: #00ffaf\">INFO    </span> <span style=\"color: #c6c6c6; text-decoration-color: #c6c6c6; font-weight: bold\"> - observation: gaussian                                                      </span><a href=\"file:///home/tguethle/.opt/conda/envs/spi39/lib/python3.9/site-packages/threeML/plugins/SpectrumLike.py\" target=\"_blank\"><span style=\"color: #7f7f7f; text-decoration-color: #7f7f7f\">SpectrumLike.py</span></a><span style=\"color: #7f7f7f; text-decoration-color: #7f7f7f\">:</span><a href=\"file:///home/tguethle/.opt/conda/envs/spi39/lib/python3.9/site-packages/threeML/plugins/SpectrumLike.py#492\" target=\"_blank\"><span style=\"color: #7f7f7f; text-decoration-color: #7f7f7f\">492</span></a>\n",
       "</pre>\n"
      ],
      "text/plain": [
       "\u001b[38;5;46m        \u001b[0m\u001b[38;5;46m \u001b[0m\u001b[38;5;49mINFO    \u001b[0m \u001b[1;38;5;251m - observation: gaussian                                                     \u001b[0m\u001b[1;38;5;251m \u001b[0m\u001b]8;id=402735;file:///home/tguethle/.opt/conda/envs/spi39/lib/python3.9/site-packages/threeML/plugins/SpectrumLike.py\u001b\\\u001b[2mSpectrumLike.py\u001b[0m\u001b]8;;\u001b\\\u001b[2m:\u001b[0m\u001b]8;id=943034;file:///home/tguethle/.opt/conda/envs/spi39/lib/python3.9/site-packages/threeML/plugins/SpectrumLike.py#492\u001b\\\u001b[2m492\u001b[0m\u001b]8;;\u001b\\\n"
      ]
     },
     "metadata": {},
     "output_type": "display_data"
    },
    {
     "data": {
      "text/html": [
       "<pre style=\"white-space:pre;overflow-x:auto;line-height:normal;font-family:Menlo,'DejaVu Sans Mono',consolas,'Courier New',monospace\"><span style=\"color: #00ff00; text-decoration-color: #00ff00\">         </span><span style=\"color: #00ffaf; text-decoration-color: #00ffaf\">INFO    </span> <span style=\"color: #c6c6c6; text-decoration-color: #c6c6c6; font-weight: bold\"> - background: </span><span style=\"color: #800080; text-decoration-color: #800080; font-weight: bold; font-style: italic\">None</span><span style=\"color: #c6c6c6; text-decoration-color: #c6c6c6; font-weight: bold\">                                                           </span><a href=\"file:///home/tguethle/.opt/conda/envs/spi39/lib/python3.9/site-packages/threeML/plugins/SpectrumLike.py\" target=\"_blank\"><span style=\"color: #7f7f7f; text-decoration-color: #7f7f7f\">SpectrumLike.py</span></a><span style=\"color: #7f7f7f; text-decoration-color: #7f7f7f\">:</span><a href=\"file:///home/tguethle/.opt/conda/envs/spi39/lib/python3.9/site-packages/threeML/plugins/SpectrumLike.py#493\" target=\"_blank\"><span style=\"color: #7f7f7f; text-decoration-color: #7f7f7f\">493</span></a>\n",
       "</pre>\n"
      ],
      "text/plain": [
       "\u001b[38;5;46m        \u001b[0m\u001b[38;5;46m \u001b[0m\u001b[38;5;49mINFO    \u001b[0m \u001b[1;38;5;251m - background: \u001b[0m\u001b[1;3;35mNone\u001b[0m\u001b[1;38;5;251m                                                          \u001b[0m\u001b[1;38;5;251m \u001b[0m\u001b]8;id=866715;file:///home/tguethle/.opt/conda/envs/spi39/lib/python3.9/site-packages/threeML/plugins/SpectrumLike.py\u001b\\\u001b[2mSpectrumLike.py\u001b[0m\u001b]8;;\u001b\\\u001b[2m:\u001b[0m\u001b]8;id=667573;file:///home/tguethle/.opt/conda/envs/spi39/lib/python3.9/site-packages/threeML/plugins/SpectrumLike.py#493\u001b\\\u001b[2m493\u001b[0m\u001b]8;;\u001b\\\n"
      ]
     },
     "metadata": {},
     "output_type": "display_data"
    },
    {
     "data": {
      "text/html": [
       "<pre style=\"white-space:pre;overflow-x:auto;line-height:normal;font-family:Menlo,'DejaVu Sans Mono',consolas,'Courier New',monospace\"><span style=\"color: #00ff00; text-decoration-color: #00ff00\">         </span><span style=\"color: #00ffaf; text-decoration-color: #00ffaf\">INFO    </span> <span style=\"color: #c6c6c6; text-decoration-color: #c6c6c6; font-weight: bold\"> Range c11 translates to channels </span><span style=\"color: #c0c0c0; text-decoration-color: #c0c0c0; font-weight: bold\">11</span><span style=\"color: #c6c6c6; text-decoration-color: #c6c6c6; font-weight: bold\">-</span><span style=\"color: #c0c0c0; text-decoration-color: #c0c0c0; font-weight: bold\">472446402674</span><span style=\"color: #c6c6c6; text-decoration-color: #c6c6c6; font-weight: bold\">                            </span><a href=\"file:///home/tguethle/.opt/conda/envs/spi39/lib/python3.9/site-packages/threeML/plugins/SpectrumLike.py\" target=\"_blank\"><span style=\"color: #7f7f7f; text-decoration-color: #7f7f7f\">SpectrumLike.py</span></a><span style=\"color: #7f7f7f; text-decoration-color: #7f7f7f\">:</span><a href=\"file:///home/tguethle/.opt/conda/envs/spi39/lib/python3.9/site-packages/threeML/plugins/SpectrumLike.py#1243\" target=\"_blank\"><span style=\"color: #7f7f7f; text-decoration-color: #7f7f7f\">1243</span></a>\n",
       "</pre>\n"
      ],
      "text/plain": [
       "\u001b[38;5;46m        \u001b[0m\u001b[38;5;46m \u001b[0m\u001b[38;5;49mINFO    \u001b[0m \u001b[1;38;5;251m Range c11 translates to channels \u001b[0m\u001b[1;37m11\u001b[0m\u001b[1;38;5;251m-\u001b[0m\u001b[1;37m472446402674\u001b[0m\u001b[1;38;5;251m                           \u001b[0m\u001b[1;38;5;251m \u001b[0m\u001b]8;id=623504;file:///home/tguethle/.opt/conda/envs/spi39/lib/python3.9/site-packages/threeML/plugins/SpectrumLike.py\u001b\\\u001b[2mSpectrumLike.py\u001b[0m\u001b]8;;\u001b\\\u001b[2m:\u001b[0m\u001b]8;id=402085;file:///home/tguethle/.opt/conda/envs/spi39/lib/python3.9/site-packages/threeML/plugins/SpectrumLike.py#1243\u001b\\\u001b[2m1243\u001b[0m\u001b]8;;\u001b\\\n"
      ]
     },
     "metadata": {},
     "output_type": "display_data"
    },
    {
     "data": {
      "text/html": [
       "<pre style=\"white-space:pre;overflow-x:auto;line-height:normal;font-family:Menlo,'DejaVu Sans Mono',consolas,'Courier New',monospace\"><span style=\"color: #00ff00; text-decoration-color: #00ff00\">         </span><span style=\"color: #00ffaf; text-decoration-color: #00ffaf\">INFO    </span> <span style=\"color: #c6c6c6; text-decoration-color: #c6c6c6; font-weight: bold\"> Range c12 translates to channels </span><span style=\"color: #c0c0c0; text-decoration-color: #c0c0c0; font-weight: bold\">12</span><span style=\"color: #c6c6c6; text-decoration-color: #c6c6c6; font-weight: bold\">-</span><span style=\"color: #c0c0c0; text-decoration-color: #c0c0c0; font-weight: bold\">4576360450296133143</span><span style=\"color: #c6c6c6; text-decoration-color: #c6c6c6; font-weight: bold\">                     </span><a href=\"file:///home/tguethle/.opt/conda/envs/spi39/lib/python3.9/site-packages/threeML/plugins/SpectrumLike.py\" target=\"_blank\"><span style=\"color: #7f7f7f; text-decoration-color: #7f7f7f\">SpectrumLike.py</span></a><span style=\"color: #7f7f7f; text-decoration-color: #7f7f7f\">:</span><a href=\"file:///home/tguethle/.opt/conda/envs/spi39/lib/python3.9/site-packages/threeML/plugins/SpectrumLike.py#1243\" target=\"_blank\"><span style=\"color: #7f7f7f; text-decoration-color: #7f7f7f\">1243</span></a>\n",
       "</pre>\n"
      ],
      "text/plain": [
       "\u001b[38;5;46m        \u001b[0m\u001b[38;5;46m \u001b[0m\u001b[38;5;49mINFO    \u001b[0m \u001b[1;38;5;251m Range c12 translates to channels \u001b[0m\u001b[1;37m12\u001b[0m\u001b[1;38;5;251m-\u001b[0m\u001b[1;37m4576360450296133143\u001b[0m\u001b[1;38;5;251m                    \u001b[0m\u001b[1;38;5;251m \u001b[0m\u001b]8;id=480336;file:///home/tguethle/.opt/conda/envs/spi39/lib/python3.9/site-packages/threeML/plugins/SpectrumLike.py\u001b\\\u001b[2mSpectrumLike.py\u001b[0m\u001b]8;;\u001b\\\u001b[2m:\u001b[0m\u001b]8;id=465848;file:///home/tguethle/.opt/conda/envs/spi39/lib/python3.9/site-packages/threeML/plugins/SpectrumLike.py#1243\u001b\\\u001b[2m1243\u001b[0m\u001b]8;;\u001b\\\n"
      ]
     },
     "metadata": {},
     "output_type": "display_data"
    },
    {
     "data": {
      "text/html": [
       "<pre style=\"white-space:pre;overflow-x:auto;line-height:normal;font-family:Menlo,'DejaVu Sans Mono',consolas,'Courier New',monospace\"><span style=\"color: #00ff00; text-decoration-color: #00ff00\">         </span><span style=\"color: #00ffaf; text-decoration-color: #00ffaf\">INFO    </span> <span style=\"color: #c6c6c6; text-decoration-color: #c6c6c6; font-weight: bold\"> Range c13 translates to channels </span><span style=\"color: #c0c0c0; text-decoration-color: #c0c0c0; font-weight: bold\">13</span><span style=\"color: #c6c6c6; text-decoration-color: #c6c6c6; font-weight: bold\">-</span><span style=\"color: #c0c0c0; text-decoration-color: #c0c0c0; font-weight: bold\">472446402674</span><span style=\"color: #c6c6c6; text-decoration-color: #c6c6c6; font-weight: bold\">                            </span><a href=\"file:///home/tguethle/.opt/conda/envs/spi39/lib/python3.9/site-packages/threeML/plugins/SpectrumLike.py\" target=\"_blank\"><span style=\"color: #7f7f7f; text-decoration-color: #7f7f7f\">SpectrumLike.py</span></a><span style=\"color: #7f7f7f; text-decoration-color: #7f7f7f\">:</span><a href=\"file:///home/tguethle/.opt/conda/envs/spi39/lib/python3.9/site-packages/threeML/plugins/SpectrumLike.py#1243\" target=\"_blank\"><span style=\"color: #7f7f7f; text-decoration-color: #7f7f7f\">1243</span></a>\n",
       "</pre>\n"
      ],
      "text/plain": [
       "\u001b[38;5;46m        \u001b[0m\u001b[38;5;46m \u001b[0m\u001b[38;5;49mINFO    \u001b[0m \u001b[1;38;5;251m Range c13 translates to channels \u001b[0m\u001b[1;37m13\u001b[0m\u001b[1;38;5;251m-\u001b[0m\u001b[1;37m472446402674\u001b[0m\u001b[1;38;5;251m                           \u001b[0m\u001b[1;38;5;251m \u001b[0m\u001b]8;id=484179;file:///home/tguethle/.opt/conda/envs/spi39/lib/python3.9/site-packages/threeML/plugins/SpectrumLike.py\u001b\\\u001b[2mSpectrumLike.py\u001b[0m\u001b]8;;\u001b\\\u001b[2m:\u001b[0m\u001b]8;id=611506;file:///home/tguethle/.opt/conda/envs/spi39/lib/python3.9/site-packages/threeML/plugins/SpectrumLike.py#1243\u001b\\\u001b[2m1243\u001b[0m\u001b]8;;\u001b\\\n"
      ]
     },
     "metadata": {},
     "output_type": "display_data"
    },
    {
     "data": {
      "text/html": [
       "<pre style=\"white-space:pre;overflow-x:auto;line-height:normal;font-family:Menlo,'DejaVu Sans Mono',consolas,'Courier New',monospace\"><span style=\"color: #00ff00; text-decoration-color: #00ff00\">         </span><span style=\"color: #00ffaf; text-decoration-color: #00ffaf\">INFO    </span> <span style=\"color: #c6c6c6; text-decoration-color: #c6c6c6; font-weight: bold\"> Range c14 translates to channels </span><span style=\"color: #c0c0c0; text-decoration-color: #c0c0c0; font-weight: bold\">14</span><span style=\"color: #c6c6c6; text-decoration-color: #c6c6c6; font-weight: bold\">-</span><span style=\"color: #c0c0c0; text-decoration-color: #c0c0c0; font-weight: bold\">4576360450296133143</span><span style=\"color: #c6c6c6; text-decoration-color: #c6c6c6; font-weight: bold\">                     </span><a href=\"file:///home/tguethle/.opt/conda/envs/spi39/lib/python3.9/site-packages/threeML/plugins/SpectrumLike.py\" target=\"_blank\"><span style=\"color: #7f7f7f; text-decoration-color: #7f7f7f\">SpectrumLike.py</span></a><span style=\"color: #7f7f7f; text-decoration-color: #7f7f7f\">:</span><a href=\"file:///home/tguethle/.opt/conda/envs/spi39/lib/python3.9/site-packages/threeML/plugins/SpectrumLike.py#1243\" target=\"_blank\"><span style=\"color: #7f7f7f; text-decoration-color: #7f7f7f\">1243</span></a>\n",
       "</pre>\n"
      ],
      "text/plain": [
       "\u001b[38;5;46m        \u001b[0m\u001b[38;5;46m \u001b[0m\u001b[38;5;49mINFO    \u001b[0m \u001b[1;38;5;251m Range c14 translates to channels \u001b[0m\u001b[1;37m14\u001b[0m\u001b[1;38;5;251m-\u001b[0m\u001b[1;37m4576360450296133143\u001b[0m\u001b[1;38;5;251m                    \u001b[0m\u001b[1;38;5;251m \u001b[0m\u001b]8;id=388751;file:///home/tguethle/.opt/conda/envs/spi39/lib/python3.9/site-packages/threeML/plugins/SpectrumLike.py\u001b\\\u001b[2mSpectrumLike.py\u001b[0m\u001b]8;;\u001b\\\u001b[2m:\u001b[0m\u001b]8;id=138149;file:///home/tguethle/.opt/conda/envs/spi39/lib/python3.9/site-packages/threeML/plugins/SpectrumLike.py#1243\u001b\\\u001b[2m1243\u001b[0m\u001b]8;;\u001b\\\n"
      ]
     },
     "metadata": {},
     "output_type": "display_data"
    },
    {
     "data": {
      "text/html": [
       "<pre style=\"white-space:pre;overflow-x:auto;line-height:normal;font-family:Menlo,'DejaVu Sans Mono',consolas,'Courier New',monospace\"><span style=\"color: #00ff00; text-decoration-color: #00ff00\">         </span><span style=\"color: #00ffaf; text-decoration-color: #00ffaf\">INFO    </span> <span style=\"color: #c6c6c6; text-decoration-color: #c6c6c6; font-weight: bold\"> Range c15 translates to channels </span><span style=\"color: #c0c0c0; text-decoration-color: #c0c0c0; font-weight: bold\">15</span><span style=\"color: #c6c6c6; text-decoration-color: #c6c6c6; font-weight: bold\">-</span><span style=\"color: #c0c0c0; text-decoration-color: #c0c0c0; font-weight: bold\">472446402674</span><span style=\"color: #c6c6c6; text-decoration-color: #c6c6c6; font-weight: bold\">                            </span><a href=\"file:///home/tguethle/.opt/conda/envs/spi39/lib/python3.9/site-packages/threeML/plugins/SpectrumLike.py\" target=\"_blank\"><span style=\"color: #7f7f7f; text-decoration-color: #7f7f7f\">SpectrumLike.py</span></a><span style=\"color: #7f7f7f; text-decoration-color: #7f7f7f\">:</span><a href=\"file:///home/tguethle/.opt/conda/envs/spi39/lib/python3.9/site-packages/threeML/plugins/SpectrumLike.py#1243\" target=\"_blank\"><span style=\"color: #7f7f7f; text-decoration-color: #7f7f7f\">1243</span></a>\n",
       "</pre>\n"
      ],
      "text/plain": [
       "\u001b[38;5;46m        \u001b[0m\u001b[38;5;46m \u001b[0m\u001b[38;5;49mINFO    \u001b[0m \u001b[1;38;5;251m Range c15 translates to channels \u001b[0m\u001b[1;37m15\u001b[0m\u001b[1;38;5;251m-\u001b[0m\u001b[1;37m472446402674\u001b[0m\u001b[1;38;5;251m                           \u001b[0m\u001b[1;38;5;251m \u001b[0m\u001b]8;id=380990;file:///home/tguethle/.opt/conda/envs/spi39/lib/python3.9/site-packages/threeML/plugins/SpectrumLike.py\u001b\\\u001b[2mSpectrumLike.py\u001b[0m\u001b]8;;\u001b\\\u001b[2m:\u001b[0m\u001b]8;id=415891;file:///home/tguethle/.opt/conda/envs/spi39/lib/python3.9/site-packages/threeML/plugins/SpectrumLike.py#1243\u001b\\\u001b[2m1243\u001b[0m\u001b]8;;\u001b\\\n"
      ]
     },
     "metadata": {},
     "output_type": "display_data"
    },
    {
     "data": {
      "text/html": [
       "<pre style=\"white-space:pre;overflow-x:auto;line-height:normal;font-family:Menlo,'DejaVu Sans Mono',consolas,'Courier New',monospace\"><span style=\"color: #00ff00; text-decoration-color: #00ff00\">         </span><span style=\"color: #00ffaf; text-decoration-color: #00ffaf\">INFO    </span> <span style=\"color: #c6c6c6; text-decoration-color: #c6c6c6; font-weight: bold\"> Range c16 translates to channels </span><span style=\"color: #c0c0c0; text-decoration-color: #c0c0c0; font-weight: bold\">16</span><span style=\"color: #c6c6c6; text-decoration-color: #c6c6c6; font-weight: bold\">-</span><span style=\"color: #c0c0c0; text-decoration-color: #c0c0c0; font-weight: bold\">4576360450296133143</span><span style=\"color: #c6c6c6; text-decoration-color: #c6c6c6; font-weight: bold\">                     </span><a href=\"file:///home/tguethle/.opt/conda/envs/spi39/lib/python3.9/site-packages/threeML/plugins/SpectrumLike.py\" target=\"_blank\"><span style=\"color: #7f7f7f; text-decoration-color: #7f7f7f\">SpectrumLike.py</span></a><span style=\"color: #7f7f7f; text-decoration-color: #7f7f7f\">:</span><a href=\"file:///home/tguethle/.opt/conda/envs/spi39/lib/python3.9/site-packages/threeML/plugins/SpectrumLike.py#1243\" target=\"_blank\"><span style=\"color: #7f7f7f; text-decoration-color: #7f7f7f\">1243</span></a>\n",
       "</pre>\n"
      ],
      "text/plain": [
       "\u001b[38;5;46m        \u001b[0m\u001b[38;5;46m \u001b[0m\u001b[38;5;49mINFO    \u001b[0m \u001b[1;38;5;251m Range c16 translates to channels \u001b[0m\u001b[1;37m16\u001b[0m\u001b[1;38;5;251m-\u001b[0m\u001b[1;37m4576360450296133143\u001b[0m\u001b[1;38;5;251m                    \u001b[0m\u001b[1;38;5;251m \u001b[0m\u001b]8;id=380863;file:///home/tguethle/.opt/conda/envs/spi39/lib/python3.9/site-packages/threeML/plugins/SpectrumLike.py\u001b\\\u001b[2mSpectrumLike.py\u001b[0m\u001b]8;;\u001b\\\u001b[2m:\u001b[0m\u001b]8;id=496097;file:///home/tguethle/.opt/conda/envs/spi39/lib/python3.9/site-packages/threeML/plugins/SpectrumLike.py#1243\u001b\\\u001b[2m1243\u001b[0m\u001b]8;;\u001b\\\n"
      ]
     },
     "metadata": {},
     "output_type": "display_data"
    },
    {
     "data": {
      "text/html": [
       "<pre style=\"white-space:pre;overflow-x:auto;line-height:normal;font-family:Menlo,'DejaVu Sans Mono',consolas,'Courier New',monospace\"><span style=\"color: #00ff00; text-decoration-color: #00ff00\">         </span><span style=\"color: #00ffaf; text-decoration-color: #00ffaf\">INFO    </span> <span style=\"color: #c6c6c6; text-decoration-color: #c6c6c6; font-weight: bold\"> Range c17 translates to channels </span><span style=\"color: #c0c0c0; text-decoration-color: #c0c0c0; font-weight: bold\">17</span><span style=\"color: #c6c6c6; text-decoration-color: #c6c6c6; font-weight: bold\">-</span><span style=\"color: #c0c0c0; text-decoration-color: #c0c0c0; font-weight: bold\">472446402674</span><span style=\"color: #c6c6c6; text-decoration-color: #c6c6c6; font-weight: bold\">                            </span><a href=\"file:///home/tguethle/.opt/conda/envs/spi39/lib/python3.9/site-packages/threeML/plugins/SpectrumLike.py\" target=\"_blank\"><span style=\"color: #7f7f7f; text-decoration-color: #7f7f7f\">SpectrumLike.py</span></a><span style=\"color: #7f7f7f; text-decoration-color: #7f7f7f\">:</span><a href=\"file:///home/tguethle/.opt/conda/envs/spi39/lib/python3.9/site-packages/threeML/plugins/SpectrumLike.py#1243\" target=\"_blank\"><span style=\"color: #7f7f7f; text-decoration-color: #7f7f7f\">1243</span></a>\n",
       "</pre>\n"
      ],
      "text/plain": [
       "\u001b[38;5;46m        \u001b[0m\u001b[38;5;46m \u001b[0m\u001b[38;5;49mINFO    \u001b[0m \u001b[1;38;5;251m Range c17 translates to channels \u001b[0m\u001b[1;37m17\u001b[0m\u001b[1;38;5;251m-\u001b[0m\u001b[1;37m472446402674\u001b[0m\u001b[1;38;5;251m                           \u001b[0m\u001b[1;38;5;251m \u001b[0m\u001b]8;id=277961;file:///home/tguethle/.opt/conda/envs/spi39/lib/python3.9/site-packages/threeML/plugins/SpectrumLike.py\u001b\\\u001b[2mSpectrumLike.py\u001b[0m\u001b]8;;\u001b\\\u001b[2m:\u001b[0m\u001b]8;id=894651;file:///home/tguethle/.opt/conda/envs/spi39/lib/python3.9/site-packages/threeML/plugins/SpectrumLike.py#1243\u001b\\\u001b[2m1243\u001b[0m\u001b]8;;\u001b\\\n"
      ]
     },
     "metadata": {},
     "output_type": "display_data"
    },
    {
     "data": {
      "text/html": [
       "<pre style=\"white-space:pre;overflow-x:auto;line-height:normal;font-family:Menlo,'DejaVu Sans Mono',consolas,'Courier New',monospace\"><span style=\"color: #00ff00; text-decoration-color: #00ff00\">         </span><span style=\"color: #00ffaf; text-decoration-color: #00ffaf\">INFO    </span> <span style=\"color: #c6c6c6; text-decoration-color: #c6c6c6; font-weight: bold\"> Range c18 translates to channels </span><span style=\"color: #c0c0c0; text-decoration-color: #c0c0c0; font-weight: bold\">18</span><span style=\"color: #c6c6c6; text-decoration-color: #c6c6c6; font-weight: bold\">-</span><span style=\"color: #c0c0c0; text-decoration-color: #c0c0c0; font-weight: bold\">4576360450296133143</span><span style=\"color: #c6c6c6; text-decoration-color: #c6c6c6; font-weight: bold\">                     </span><a href=\"file:///home/tguethle/.opt/conda/envs/spi39/lib/python3.9/site-packages/threeML/plugins/SpectrumLike.py\" target=\"_blank\"><span style=\"color: #7f7f7f; text-decoration-color: #7f7f7f\">SpectrumLike.py</span></a><span style=\"color: #7f7f7f; text-decoration-color: #7f7f7f\">:</span><a href=\"file:///home/tguethle/.opt/conda/envs/spi39/lib/python3.9/site-packages/threeML/plugins/SpectrumLike.py#1243\" target=\"_blank\"><span style=\"color: #7f7f7f; text-decoration-color: #7f7f7f\">1243</span></a>\n",
       "</pre>\n"
      ],
      "text/plain": [
       "\u001b[38;5;46m        \u001b[0m\u001b[38;5;46m \u001b[0m\u001b[38;5;49mINFO    \u001b[0m \u001b[1;38;5;251m Range c18 translates to channels \u001b[0m\u001b[1;37m18\u001b[0m\u001b[1;38;5;251m-\u001b[0m\u001b[1;37m4576360450296133143\u001b[0m\u001b[1;38;5;251m                    \u001b[0m\u001b[1;38;5;251m \u001b[0m\u001b]8;id=528956;file:///home/tguethle/.opt/conda/envs/spi39/lib/python3.9/site-packages/threeML/plugins/SpectrumLike.py\u001b\\\u001b[2mSpectrumLike.py\u001b[0m\u001b]8;;\u001b\\\u001b[2m:\u001b[0m\u001b]8;id=598929;file:///home/tguethle/.opt/conda/envs/spi39/lib/python3.9/site-packages/threeML/plugins/SpectrumLike.py#1243\u001b\\\u001b[2m1243\u001b[0m\u001b]8;;\u001b\\\n"
      ]
     },
     "metadata": {},
     "output_type": "display_data"
    },
    {
     "data": {
      "text/html": [
       "<pre style=\"white-space:pre;overflow-x:auto;line-height:normal;font-family:Menlo,'DejaVu Sans Mono',consolas,'Courier New',monospace\"><span style=\"color: #00ff00; text-decoration-color: #00ff00\">         </span><span style=\"color: #00ffaf; text-decoration-color: #00ffaf\">INFO    </span> <span style=\"color: #c6c6c6; text-decoration-color: #c6c6c6; font-weight: bold\"> Range c19 translates to channels </span><span style=\"color: #c0c0c0; text-decoration-color: #c0c0c0; font-weight: bold\">19</span><span style=\"color: #c6c6c6; text-decoration-color: #c6c6c6; font-weight: bold\">-</span><span style=\"color: #c0c0c0; text-decoration-color: #c0c0c0; font-weight: bold\">472446402674</span><span style=\"color: #c6c6c6; text-decoration-color: #c6c6c6; font-weight: bold\">                            </span><a href=\"file:///home/tguethle/.opt/conda/envs/spi39/lib/python3.9/site-packages/threeML/plugins/SpectrumLike.py\" target=\"_blank\"><span style=\"color: #7f7f7f; text-decoration-color: #7f7f7f\">SpectrumLike.py</span></a><span style=\"color: #7f7f7f; text-decoration-color: #7f7f7f\">:</span><a href=\"file:///home/tguethle/.opt/conda/envs/spi39/lib/python3.9/site-packages/threeML/plugins/SpectrumLike.py#1243\" target=\"_blank\"><span style=\"color: #7f7f7f; text-decoration-color: #7f7f7f\">1243</span></a>\n",
       "</pre>\n"
      ],
      "text/plain": [
       "\u001b[38;5;46m        \u001b[0m\u001b[38;5;46m \u001b[0m\u001b[38;5;49mINFO    \u001b[0m \u001b[1;38;5;251m Range c19 translates to channels \u001b[0m\u001b[1;37m19\u001b[0m\u001b[1;38;5;251m-\u001b[0m\u001b[1;37m472446402674\u001b[0m\u001b[1;38;5;251m                           \u001b[0m\u001b[1;38;5;251m \u001b[0m\u001b]8;id=369503;file:///home/tguethle/.opt/conda/envs/spi39/lib/python3.9/site-packages/threeML/plugins/SpectrumLike.py\u001b\\\u001b[2mSpectrumLike.py\u001b[0m\u001b]8;;\u001b\\\u001b[2m:\u001b[0m\u001b]8;id=652481;file:///home/tguethle/.opt/conda/envs/spi39/lib/python3.9/site-packages/threeML/plugins/SpectrumLike.py#1243\u001b\\\u001b[2m1243\u001b[0m\u001b]8;;\u001b\\\n"
      ]
     },
     "metadata": {},
     "output_type": "display_data"
    },
    {
     "data": {
      "text/html": [
       "<pre style=\"white-space:pre;overflow-x:auto;line-height:normal;font-family:Menlo,'DejaVu Sans Mono',consolas,'Courier New',monospace\"><span style=\"color: #00ff00; text-decoration-color: #00ff00\">         </span><span style=\"color: #00ffaf; text-decoration-color: #00ffaf\">INFO    </span> <span style=\"color: #c6c6c6; text-decoration-color: #c6c6c6; font-weight: bold\"> Range c20 translates to channels </span><span style=\"color: #c0c0c0; text-decoration-color: #c0c0c0; font-weight: bold\">20</span><span style=\"color: #c6c6c6; text-decoration-color: #c6c6c6; font-weight: bold\">-</span><span style=\"color: #c0c0c0; text-decoration-color: #c0c0c0; font-weight: bold\">4576360450296133143</span><span style=\"color: #c6c6c6; text-decoration-color: #c6c6c6; font-weight: bold\">                     </span><a href=\"file:///home/tguethle/.opt/conda/envs/spi39/lib/python3.9/site-packages/threeML/plugins/SpectrumLike.py\" target=\"_blank\"><span style=\"color: #7f7f7f; text-decoration-color: #7f7f7f\">SpectrumLike.py</span></a><span style=\"color: #7f7f7f; text-decoration-color: #7f7f7f\">:</span><a href=\"file:///home/tguethle/.opt/conda/envs/spi39/lib/python3.9/site-packages/threeML/plugins/SpectrumLike.py#1243\" target=\"_blank\"><span style=\"color: #7f7f7f; text-decoration-color: #7f7f7f\">1243</span></a>\n",
       "</pre>\n"
      ],
      "text/plain": [
       "\u001b[38;5;46m        \u001b[0m\u001b[38;5;46m \u001b[0m\u001b[38;5;49mINFO    \u001b[0m \u001b[1;38;5;251m Range c20 translates to channels \u001b[0m\u001b[1;37m20\u001b[0m\u001b[1;38;5;251m-\u001b[0m\u001b[1;37m4576360450296133143\u001b[0m\u001b[1;38;5;251m                    \u001b[0m\u001b[1;38;5;251m \u001b[0m\u001b]8;id=164702;file:///home/tguethle/.opt/conda/envs/spi39/lib/python3.9/site-packages/threeML/plugins/SpectrumLike.py\u001b\\\u001b[2mSpectrumLike.py\u001b[0m\u001b]8;;\u001b\\\u001b[2m:\u001b[0m\u001b]8;id=451899;file:///home/tguethle/.opt/conda/envs/spi39/lib/python3.9/site-packages/threeML/plugins/SpectrumLike.py#1243\u001b\\\u001b[2m1243\u001b[0m\u001b]8;;\u001b\\\n"
      ]
     },
     "metadata": {},
     "output_type": "display_data"
    },
    {
     "data": {
      "text/html": [
       "<pre style=\"white-space:pre;overflow-x:auto;line-height:normal;font-family:Menlo,'DejaVu Sans Mono',consolas,'Courier New',monospace\"><span style=\"color: #00ff00; text-decoration-color: #00ff00\">         </span><span style=\"color: #00ffaf; text-decoration-color: #00ffaf\">INFO    </span> <span style=\"color: #c6c6c6; text-decoration-color: #c6c6c6; font-weight: bold\"> Range c21 translates to channels </span><span style=\"color: #c0c0c0; text-decoration-color: #c0c0c0; font-weight: bold\">21</span><span style=\"color: #c6c6c6; text-decoration-color: #c6c6c6; font-weight: bold\">-</span><span style=\"color: #c0c0c0; text-decoration-color: #c0c0c0; font-weight: bold\">472446402674</span><span style=\"color: #c6c6c6; text-decoration-color: #c6c6c6; font-weight: bold\">                            </span><a href=\"file:///home/tguethle/.opt/conda/envs/spi39/lib/python3.9/site-packages/threeML/plugins/SpectrumLike.py\" target=\"_blank\"><span style=\"color: #7f7f7f; text-decoration-color: #7f7f7f\">SpectrumLike.py</span></a><span style=\"color: #7f7f7f; text-decoration-color: #7f7f7f\">:</span><a href=\"file:///home/tguethle/.opt/conda/envs/spi39/lib/python3.9/site-packages/threeML/plugins/SpectrumLike.py#1243\" target=\"_blank\"><span style=\"color: #7f7f7f; text-decoration-color: #7f7f7f\">1243</span></a>\n",
       "</pre>\n"
      ],
      "text/plain": [
       "\u001b[38;5;46m        \u001b[0m\u001b[38;5;46m \u001b[0m\u001b[38;5;49mINFO    \u001b[0m \u001b[1;38;5;251m Range c21 translates to channels \u001b[0m\u001b[1;37m21\u001b[0m\u001b[1;38;5;251m-\u001b[0m\u001b[1;37m472446402674\u001b[0m\u001b[1;38;5;251m                           \u001b[0m\u001b[1;38;5;251m \u001b[0m\u001b]8;id=528225;file:///home/tguethle/.opt/conda/envs/spi39/lib/python3.9/site-packages/threeML/plugins/SpectrumLike.py\u001b\\\u001b[2mSpectrumLike.py\u001b[0m\u001b]8;;\u001b\\\u001b[2m:\u001b[0m\u001b]8;id=452562;file:///home/tguethle/.opt/conda/envs/spi39/lib/python3.9/site-packages/threeML/plugins/SpectrumLike.py#1243\u001b\\\u001b[2m1243\u001b[0m\u001b]8;;\u001b\\\n"
      ]
     },
     "metadata": {},
     "output_type": "display_data"
    },
    {
     "data": {
      "text/html": [
       "<pre style=\"white-space:pre;overflow-x:auto;line-height:normal;font-family:Menlo,'DejaVu Sans Mono',consolas,'Courier New',monospace\"><span style=\"color: #00ff00; text-decoration-color: #00ff00\">         </span><span style=\"color: #00ffaf; text-decoration-color: #00ffaf\">INFO    </span> <span style=\"color: #c6c6c6; text-decoration-color: #c6c6c6; font-weight: bold\"> Range c22 translates to channels </span><span style=\"color: #c0c0c0; text-decoration-color: #c0c0c0; font-weight: bold\">22</span><span style=\"color: #c6c6c6; text-decoration-color: #c6c6c6; font-weight: bold\">-</span><span style=\"color: #c0c0c0; text-decoration-color: #c0c0c0; font-weight: bold\">4576360450296133143</span><span style=\"color: #c6c6c6; text-decoration-color: #c6c6c6; font-weight: bold\">                     </span><a href=\"file:///home/tguethle/.opt/conda/envs/spi39/lib/python3.9/site-packages/threeML/plugins/SpectrumLike.py\" target=\"_blank\"><span style=\"color: #7f7f7f; text-decoration-color: #7f7f7f\">SpectrumLike.py</span></a><span style=\"color: #7f7f7f; text-decoration-color: #7f7f7f\">:</span><a href=\"file:///home/tguethle/.opt/conda/envs/spi39/lib/python3.9/site-packages/threeML/plugins/SpectrumLike.py#1243\" target=\"_blank\"><span style=\"color: #7f7f7f; text-decoration-color: #7f7f7f\">1243</span></a>\n",
       "</pre>\n"
      ],
      "text/plain": [
       "\u001b[38;5;46m        \u001b[0m\u001b[38;5;46m \u001b[0m\u001b[38;5;49mINFO    \u001b[0m \u001b[1;38;5;251m Range c22 translates to channels \u001b[0m\u001b[1;37m22\u001b[0m\u001b[1;38;5;251m-\u001b[0m\u001b[1;37m4576360450296133143\u001b[0m\u001b[1;38;5;251m                    \u001b[0m\u001b[1;38;5;251m \u001b[0m\u001b]8;id=707551;file:///home/tguethle/.opt/conda/envs/spi39/lib/python3.9/site-packages/threeML/plugins/SpectrumLike.py\u001b\\\u001b[2mSpectrumLike.py\u001b[0m\u001b]8;;\u001b\\\u001b[2m:\u001b[0m\u001b]8;id=475812;file:///home/tguethle/.opt/conda/envs/spi39/lib/python3.9/site-packages/threeML/plugins/SpectrumLike.py#1243\u001b\\\u001b[2m1243\u001b[0m\u001b]8;;\u001b\\\n"
      ]
     },
     "metadata": {},
     "output_type": "display_data"
    },
    {
     "data": {
      "text/html": [
       "<pre style=\"white-space:pre;overflow-x:auto;line-height:normal;font-family:Menlo,'DejaVu Sans Mono',consolas,'Courier New',monospace\"><span style=\"color: #00ff00; text-decoration-color: #00ff00\">         </span><span style=\"color: #00ffaf; text-decoration-color: #00ffaf\">INFO    </span> <span style=\"color: #c6c6c6; text-decoration-color: #c6c6c6; font-weight: bold\"> Range c23 translates to channels </span><span style=\"color: #c0c0c0; text-decoration-color: #c0c0c0; font-weight: bold\">23</span><span style=\"color: #c6c6c6; text-decoration-color: #c6c6c6; font-weight: bold\">-</span><span style=\"color: #c0c0c0; text-decoration-color: #c0c0c0; font-weight: bold\">472446402674</span><span style=\"color: #c6c6c6; text-decoration-color: #c6c6c6; font-weight: bold\">                            </span><a href=\"file:///home/tguethle/.opt/conda/envs/spi39/lib/python3.9/site-packages/threeML/plugins/SpectrumLike.py\" target=\"_blank\"><span style=\"color: #7f7f7f; text-decoration-color: #7f7f7f\">SpectrumLike.py</span></a><span style=\"color: #7f7f7f; text-decoration-color: #7f7f7f\">:</span><a href=\"file:///home/tguethle/.opt/conda/envs/spi39/lib/python3.9/site-packages/threeML/plugins/SpectrumLike.py#1243\" target=\"_blank\"><span style=\"color: #7f7f7f; text-decoration-color: #7f7f7f\">1243</span></a>\n",
       "</pre>\n"
      ],
      "text/plain": [
       "\u001b[38;5;46m        \u001b[0m\u001b[38;5;46m \u001b[0m\u001b[38;5;49mINFO    \u001b[0m \u001b[1;38;5;251m Range c23 translates to channels \u001b[0m\u001b[1;37m23\u001b[0m\u001b[1;38;5;251m-\u001b[0m\u001b[1;37m472446402674\u001b[0m\u001b[1;38;5;251m                           \u001b[0m\u001b[1;38;5;251m \u001b[0m\u001b]8;id=310199;file:///home/tguethle/.opt/conda/envs/spi39/lib/python3.9/site-packages/threeML/plugins/SpectrumLike.py\u001b\\\u001b[2mSpectrumLike.py\u001b[0m\u001b]8;;\u001b\\\u001b[2m:\u001b[0m\u001b]8;id=441044;file:///home/tguethle/.opt/conda/envs/spi39/lib/python3.9/site-packages/threeML/plugins/SpectrumLike.py#1243\u001b\\\u001b[2m1243\u001b[0m\u001b]8;;\u001b\\\n"
      ]
     },
     "metadata": {},
     "output_type": "display_data"
    },
    {
     "data": {
      "text/html": [
       "<pre style=\"white-space:pre;overflow-x:auto;line-height:normal;font-family:Menlo,'DejaVu Sans Mono',consolas,'Courier New',monospace\"><span style=\"color: #00ff00; text-decoration-color: #00ff00\">         </span><span style=\"color: #00ffaf; text-decoration-color: #00ffaf\">INFO    </span> <span style=\"color: #c6c6c6; text-decoration-color: #c6c6c6; font-weight: bold\"> Range c24 translates to channels </span><span style=\"color: #c0c0c0; text-decoration-color: #c0c0c0; font-weight: bold\">24</span><span style=\"color: #c6c6c6; text-decoration-color: #c6c6c6; font-weight: bold\">-</span><span style=\"color: #c0c0c0; text-decoration-color: #c0c0c0; font-weight: bold\">4576360450296133143</span><span style=\"color: #c6c6c6; text-decoration-color: #c6c6c6; font-weight: bold\">                     </span><a href=\"file:///home/tguethle/.opt/conda/envs/spi39/lib/python3.9/site-packages/threeML/plugins/SpectrumLike.py\" target=\"_blank\"><span style=\"color: #7f7f7f; text-decoration-color: #7f7f7f\">SpectrumLike.py</span></a><span style=\"color: #7f7f7f; text-decoration-color: #7f7f7f\">:</span><a href=\"file:///home/tguethle/.opt/conda/envs/spi39/lib/python3.9/site-packages/threeML/plugins/SpectrumLike.py#1243\" target=\"_blank\"><span style=\"color: #7f7f7f; text-decoration-color: #7f7f7f\">1243</span></a>\n",
       "</pre>\n"
      ],
      "text/plain": [
       "\u001b[38;5;46m        \u001b[0m\u001b[38;5;46m \u001b[0m\u001b[38;5;49mINFO    \u001b[0m \u001b[1;38;5;251m Range c24 translates to channels \u001b[0m\u001b[1;37m24\u001b[0m\u001b[1;38;5;251m-\u001b[0m\u001b[1;37m4576360450296133143\u001b[0m\u001b[1;38;5;251m                    \u001b[0m\u001b[1;38;5;251m \u001b[0m\u001b]8;id=253588;file:///home/tguethle/.opt/conda/envs/spi39/lib/python3.9/site-packages/threeML/plugins/SpectrumLike.py\u001b\\\u001b[2mSpectrumLike.py\u001b[0m\u001b]8;;\u001b\\\u001b[2m:\u001b[0m\u001b]8;id=852168;file:///home/tguethle/.opt/conda/envs/spi39/lib/python3.9/site-packages/threeML/plugins/SpectrumLike.py#1243\u001b\\\u001b[2m1243\u001b[0m\u001b]8;;\u001b\\\n"
      ]
     },
     "metadata": {},
     "output_type": "display_data"
    },
    {
     "data": {
      "text/html": [
       "<pre style=\"white-space:pre;overflow-x:auto;line-height:normal;font-family:Menlo,'DejaVu Sans Mono',consolas,'Courier New',monospace\"><span style=\"color: #00ff00; text-decoration-color: #00ff00\">         </span><span style=\"color: #00ffaf; text-decoration-color: #00ffaf\">INFO    </span> <span style=\"color: #c6c6c6; text-decoration-color: #c6c6c6; font-weight: bold\"> Range c25 translates to channels </span><span style=\"color: #c0c0c0; text-decoration-color: #c0c0c0; font-weight: bold\">25</span><span style=\"color: #c6c6c6; text-decoration-color: #c6c6c6; font-weight: bold\">-</span><span style=\"color: #c0c0c0; text-decoration-color: #c0c0c0; font-weight: bold\">472446402674</span><span style=\"color: #c6c6c6; text-decoration-color: #c6c6c6; font-weight: bold\">                            </span><a href=\"file:///home/tguethle/.opt/conda/envs/spi39/lib/python3.9/site-packages/threeML/plugins/SpectrumLike.py\" target=\"_blank\"><span style=\"color: #7f7f7f; text-decoration-color: #7f7f7f\">SpectrumLike.py</span></a><span style=\"color: #7f7f7f; text-decoration-color: #7f7f7f\">:</span><a href=\"file:///home/tguethle/.opt/conda/envs/spi39/lib/python3.9/site-packages/threeML/plugins/SpectrumLike.py#1243\" target=\"_blank\"><span style=\"color: #7f7f7f; text-decoration-color: #7f7f7f\">1243</span></a>\n",
       "</pre>\n"
      ],
      "text/plain": [
       "\u001b[38;5;46m        \u001b[0m\u001b[38;5;46m \u001b[0m\u001b[38;5;49mINFO    \u001b[0m \u001b[1;38;5;251m Range c25 translates to channels \u001b[0m\u001b[1;37m25\u001b[0m\u001b[1;38;5;251m-\u001b[0m\u001b[1;37m472446402674\u001b[0m\u001b[1;38;5;251m                           \u001b[0m\u001b[1;38;5;251m \u001b[0m\u001b]8;id=964879;file:///home/tguethle/.opt/conda/envs/spi39/lib/python3.9/site-packages/threeML/plugins/SpectrumLike.py\u001b\\\u001b[2mSpectrumLike.py\u001b[0m\u001b]8;;\u001b\\\u001b[2m:\u001b[0m\u001b]8;id=65768;file:///home/tguethle/.opt/conda/envs/spi39/lib/python3.9/site-packages/threeML/plugins/SpectrumLike.py#1243\u001b\\\u001b[2m1243\u001b[0m\u001b]8;;\u001b\\\n"
      ]
     },
     "metadata": {},
     "output_type": "display_data"
    },
    {
     "data": {
      "text/html": [
       "<pre style=\"white-space:pre;overflow-x:auto;line-height:normal;font-family:Menlo,'DejaVu Sans Mono',consolas,'Courier New',monospace\"><span style=\"color: #00ff00; text-decoration-color: #00ff00\">         </span><span style=\"color: #00ffaf; text-decoration-color: #00ffaf\">INFO    </span> <span style=\"color: #c6c6c6; text-decoration-color: #c6c6c6; font-weight: bold\"> Range c26 translates to channels </span><span style=\"color: #c0c0c0; text-decoration-color: #c0c0c0; font-weight: bold\">26</span><span style=\"color: #c6c6c6; text-decoration-color: #c6c6c6; font-weight: bold\">-</span><span style=\"color: #c0c0c0; text-decoration-color: #c0c0c0; font-weight: bold\">4576360450296133143</span><span style=\"color: #c6c6c6; text-decoration-color: #c6c6c6; font-weight: bold\">                     </span><a href=\"file:///home/tguethle/.opt/conda/envs/spi39/lib/python3.9/site-packages/threeML/plugins/SpectrumLike.py\" target=\"_blank\"><span style=\"color: #7f7f7f; text-decoration-color: #7f7f7f\">SpectrumLike.py</span></a><span style=\"color: #7f7f7f; text-decoration-color: #7f7f7f\">:</span><a href=\"file:///home/tguethle/.opt/conda/envs/spi39/lib/python3.9/site-packages/threeML/plugins/SpectrumLike.py#1243\" target=\"_blank\"><span style=\"color: #7f7f7f; text-decoration-color: #7f7f7f\">1243</span></a>\n",
       "</pre>\n"
      ],
      "text/plain": [
       "\u001b[38;5;46m        \u001b[0m\u001b[38;5;46m \u001b[0m\u001b[38;5;49mINFO    \u001b[0m \u001b[1;38;5;251m Range c26 translates to channels \u001b[0m\u001b[1;37m26\u001b[0m\u001b[1;38;5;251m-\u001b[0m\u001b[1;37m4576360450296133143\u001b[0m\u001b[1;38;5;251m                    \u001b[0m\u001b[1;38;5;251m \u001b[0m\u001b]8;id=391071;file:///home/tguethle/.opt/conda/envs/spi39/lib/python3.9/site-packages/threeML/plugins/SpectrumLike.py\u001b\\\u001b[2mSpectrumLike.py\u001b[0m\u001b]8;;\u001b\\\u001b[2m:\u001b[0m\u001b]8;id=973071;file:///home/tguethle/.opt/conda/envs/spi39/lib/python3.9/site-packages/threeML/plugins/SpectrumLike.py#1243\u001b\\\u001b[2m1243\u001b[0m\u001b]8;;\u001b\\\n"
      ]
     },
     "metadata": {},
     "output_type": "display_data"
    },
    {
     "data": {
      "text/html": [
       "<pre style=\"white-space:pre;overflow-x:auto;line-height:normal;font-family:Menlo,'DejaVu Sans Mono',consolas,'Courier New',monospace\"><span style=\"color: #00ff00; text-decoration-color: #00ff00\">         </span><span style=\"color: #00ffaf; text-decoration-color: #00ffaf\">INFO    </span> <span style=\"color: #c6c6c6; text-decoration-color: #c6c6c6; font-weight: bold\"> Range c27 translates to channels </span><span style=\"color: #c0c0c0; text-decoration-color: #c0c0c0; font-weight: bold\">27</span><span style=\"color: #c6c6c6; text-decoration-color: #c6c6c6; font-weight: bold\">-</span><span style=\"color: #c0c0c0; text-decoration-color: #c0c0c0; font-weight: bold\">472446402674</span><span style=\"color: #c6c6c6; text-decoration-color: #c6c6c6; font-weight: bold\">                            </span><a href=\"file:///home/tguethle/.opt/conda/envs/spi39/lib/python3.9/site-packages/threeML/plugins/SpectrumLike.py\" target=\"_blank\"><span style=\"color: #7f7f7f; text-decoration-color: #7f7f7f\">SpectrumLike.py</span></a><span style=\"color: #7f7f7f; text-decoration-color: #7f7f7f\">:</span><a href=\"file:///home/tguethle/.opt/conda/envs/spi39/lib/python3.9/site-packages/threeML/plugins/SpectrumLike.py#1243\" target=\"_blank\"><span style=\"color: #7f7f7f; text-decoration-color: #7f7f7f\">1243</span></a>\n",
       "</pre>\n"
      ],
      "text/plain": [
       "\u001b[38;5;46m        \u001b[0m\u001b[38;5;46m \u001b[0m\u001b[38;5;49mINFO    \u001b[0m \u001b[1;38;5;251m Range c27 translates to channels \u001b[0m\u001b[1;37m27\u001b[0m\u001b[1;38;5;251m-\u001b[0m\u001b[1;37m472446402674\u001b[0m\u001b[1;38;5;251m                           \u001b[0m\u001b[1;38;5;251m \u001b[0m\u001b]8;id=515068;file:///home/tguethle/.opt/conda/envs/spi39/lib/python3.9/site-packages/threeML/plugins/SpectrumLike.py\u001b\\\u001b[2mSpectrumLike.py\u001b[0m\u001b]8;;\u001b\\\u001b[2m:\u001b[0m\u001b]8;id=400207;file:///home/tguethle/.opt/conda/envs/spi39/lib/python3.9/site-packages/threeML/plugins/SpectrumLike.py#1243\u001b\\\u001b[2m1243\u001b[0m\u001b]8;;\u001b\\\n"
      ]
     },
     "metadata": {},
     "output_type": "display_data"
    },
    {
     "data": {
      "text/html": [
       "<pre style=\"white-space:pre;overflow-x:auto;line-height:normal;font-family:Menlo,'DejaVu Sans Mono',consolas,'Courier New',monospace\"><span style=\"color: #00ff00; text-decoration-color: #00ff00\">         </span><span style=\"color: #00ffaf; text-decoration-color: #00ffaf\">INFO    </span> <span style=\"color: #c6c6c6; text-decoration-color: #c6c6c6; font-weight: bold\"> Range c28 translates to channels </span><span style=\"color: #c0c0c0; text-decoration-color: #c0c0c0; font-weight: bold\">28</span><span style=\"color: #c6c6c6; text-decoration-color: #c6c6c6; font-weight: bold\">-</span><span style=\"color: #c0c0c0; text-decoration-color: #c0c0c0; font-weight: bold\">4576360450296133143</span><span style=\"color: #c6c6c6; text-decoration-color: #c6c6c6; font-weight: bold\">                     </span><a href=\"file:///home/tguethle/.opt/conda/envs/spi39/lib/python3.9/site-packages/threeML/plugins/SpectrumLike.py\" target=\"_blank\"><span style=\"color: #7f7f7f; text-decoration-color: #7f7f7f\">SpectrumLike.py</span></a><span style=\"color: #7f7f7f; text-decoration-color: #7f7f7f\">:</span><a href=\"file:///home/tguethle/.opt/conda/envs/spi39/lib/python3.9/site-packages/threeML/plugins/SpectrumLike.py#1243\" target=\"_blank\"><span style=\"color: #7f7f7f; text-decoration-color: #7f7f7f\">1243</span></a>\n",
       "</pre>\n"
      ],
      "text/plain": [
       "\u001b[38;5;46m        \u001b[0m\u001b[38;5;46m \u001b[0m\u001b[38;5;49mINFO    \u001b[0m \u001b[1;38;5;251m Range c28 translates to channels \u001b[0m\u001b[1;37m28\u001b[0m\u001b[1;38;5;251m-\u001b[0m\u001b[1;37m4576360450296133143\u001b[0m\u001b[1;38;5;251m                    \u001b[0m\u001b[1;38;5;251m \u001b[0m\u001b]8;id=446678;file:///home/tguethle/.opt/conda/envs/spi39/lib/python3.9/site-packages/threeML/plugins/SpectrumLike.py\u001b\\\u001b[2mSpectrumLike.py\u001b[0m\u001b]8;;\u001b\\\u001b[2m:\u001b[0m\u001b]8;id=714314;file:///home/tguethle/.opt/conda/envs/spi39/lib/python3.9/site-packages/threeML/plugins/SpectrumLike.py#1243\u001b\\\u001b[2m1243\u001b[0m\u001b]8;;\u001b\\\n"
      ]
     },
     "metadata": {},
     "output_type": "display_data"
    },
    {
     "data": {
      "text/html": [
       "<pre style=\"white-space:pre;overflow-x:auto;line-height:normal;font-family:Menlo,'DejaVu Sans Mono',consolas,'Courier New',monospace\"><span style=\"color: #00ff00; text-decoration-color: #00ff00\">         </span><span style=\"color: #00ffaf; text-decoration-color: #00ffaf\">INFO    </span> <span style=\"color: #c6c6c6; text-decoration-color: #c6c6c6; font-weight: bold\"> Range c29 translates to channels </span><span style=\"color: #c0c0c0; text-decoration-color: #c0c0c0; font-weight: bold\">29</span><span style=\"color: #c6c6c6; text-decoration-color: #c6c6c6; font-weight: bold\">-</span><span style=\"color: #c0c0c0; text-decoration-color: #c0c0c0; font-weight: bold\">472446402674</span><span style=\"color: #c6c6c6; text-decoration-color: #c6c6c6; font-weight: bold\">                            </span><a href=\"file:///home/tguethle/.opt/conda/envs/spi39/lib/python3.9/site-packages/threeML/plugins/SpectrumLike.py\" target=\"_blank\"><span style=\"color: #7f7f7f; text-decoration-color: #7f7f7f\">SpectrumLike.py</span></a><span style=\"color: #7f7f7f; text-decoration-color: #7f7f7f\">:</span><a href=\"file:///home/tguethle/.opt/conda/envs/spi39/lib/python3.9/site-packages/threeML/plugins/SpectrumLike.py#1243\" target=\"_blank\"><span style=\"color: #7f7f7f; text-decoration-color: #7f7f7f\">1243</span></a>\n",
       "</pre>\n"
      ],
      "text/plain": [
       "\u001b[38;5;46m        \u001b[0m\u001b[38;5;46m \u001b[0m\u001b[38;5;49mINFO    \u001b[0m \u001b[1;38;5;251m Range c29 translates to channels \u001b[0m\u001b[1;37m29\u001b[0m\u001b[1;38;5;251m-\u001b[0m\u001b[1;37m472446402674\u001b[0m\u001b[1;38;5;251m                           \u001b[0m\u001b[1;38;5;251m \u001b[0m\u001b]8;id=416410;file:///home/tguethle/.opt/conda/envs/spi39/lib/python3.9/site-packages/threeML/plugins/SpectrumLike.py\u001b\\\u001b[2mSpectrumLike.py\u001b[0m\u001b]8;;\u001b\\\u001b[2m:\u001b[0m\u001b]8;id=643957;file:///home/tguethle/.opt/conda/envs/spi39/lib/python3.9/site-packages/threeML/plugins/SpectrumLike.py#1243\u001b\\\u001b[2m1243\u001b[0m\u001b]8;;\u001b\\\n"
      ]
     },
     "metadata": {},
     "output_type": "display_data"
    },
    {
     "data": {
      "text/html": [
       "<pre style=\"white-space:pre;overflow-x:auto;line-height:normal;font-family:Menlo,'DejaVu Sans Mono',consolas,'Courier New',monospace\"><span style=\"color: #00ff00; text-decoration-color: #00ff00\">         </span><span style=\"color: #00ffaf; text-decoration-color: #00ffaf\">INFO    </span> <span style=\"color: #c6c6c6; text-decoration-color: #c6c6c6; font-weight: bold\"> Range c30 translates to channels </span><span style=\"color: #c0c0c0; text-decoration-color: #c0c0c0; font-weight: bold\">30</span><span style=\"color: #c6c6c6; text-decoration-color: #c6c6c6; font-weight: bold\">-</span><span style=\"color: #c0c0c0; text-decoration-color: #c0c0c0; font-weight: bold\">4576360450296133143</span><span style=\"color: #c6c6c6; text-decoration-color: #c6c6c6; font-weight: bold\">                     </span><a href=\"file:///home/tguethle/.opt/conda/envs/spi39/lib/python3.9/site-packages/threeML/plugins/SpectrumLike.py\" target=\"_blank\"><span style=\"color: #7f7f7f; text-decoration-color: #7f7f7f\">SpectrumLike.py</span></a><span style=\"color: #7f7f7f; text-decoration-color: #7f7f7f\">:</span><a href=\"file:///home/tguethle/.opt/conda/envs/spi39/lib/python3.9/site-packages/threeML/plugins/SpectrumLike.py#1243\" target=\"_blank\"><span style=\"color: #7f7f7f; text-decoration-color: #7f7f7f\">1243</span></a>\n",
       "</pre>\n"
      ],
      "text/plain": [
       "\u001b[38;5;46m        \u001b[0m\u001b[38;5;46m \u001b[0m\u001b[38;5;49mINFO    \u001b[0m \u001b[1;38;5;251m Range c30 translates to channels \u001b[0m\u001b[1;37m30\u001b[0m\u001b[1;38;5;251m-\u001b[0m\u001b[1;37m4576360450296133143\u001b[0m\u001b[1;38;5;251m                    \u001b[0m\u001b[1;38;5;251m \u001b[0m\u001b]8;id=594045;file:///home/tguethle/.opt/conda/envs/spi39/lib/python3.9/site-packages/threeML/plugins/SpectrumLike.py\u001b\\\u001b[2mSpectrumLike.py\u001b[0m\u001b]8;;\u001b\\\u001b[2m:\u001b[0m\u001b]8;id=172775;file:///home/tguethle/.opt/conda/envs/spi39/lib/python3.9/site-packages/threeML/plugins/SpectrumLike.py#1243\u001b\\\u001b[2m1243\u001b[0m\u001b]8;;\u001b\\\n"
      ]
     },
     "metadata": {},
     "output_type": "display_data"
    },
    {
     "data": {
      "text/html": [
       "<pre style=\"white-space:pre;overflow-x:auto;line-height:normal;font-family:Menlo,'DejaVu Sans Mono',consolas,'Courier New',monospace\"><span style=\"color: #00ff00; text-decoration-color: #00ff00\">         </span><span style=\"color: #00ffaf; text-decoration-color: #00ffaf\">INFO    </span> <span style=\"color: #c6c6c6; text-decoration-color: #c6c6c6; font-weight: bold\"> Range c31 translates to channels </span><span style=\"color: #c0c0c0; text-decoration-color: #c0c0c0; font-weight: bold\">31</span><span style=\"color: #c6c6c6; text-decoration-color: #c6c6c6; font-weight: bold\">-</span><span style=\"color: #c0c0c0; text-decoration-color: #c0c0c0; font-weight: bold\">472446402674</span><span style=\"color: #c6c6c6; text-decoration-color: #c6c6c6; font-weight: bold\">                            </span><a href=\"file:///home/tguethle/.opt/conda/envs/spi39/lib/python3.9/site-packages/threeML/plugins/SpectrumLike.py\" target=\"_blank\"><span style=\"color: #7f7f7f; text-decoration-color: #7f7f7f\">SpectrumLike.py</span></a><span style=\"color: #7f7f7f; text-decoration-color: #7f7f7f\">:</span><a href=\"file:///home/tguethle/.opt/conda/envs/spi39/lib/python3.9/site-packages/threeML/plugins/SpectrumLike.py#1243\" target=\"_blank\"><span style=\"color: #7f7f7f; text-decoration-color: #7f7f7f\">1243</span></a>\n",
       "</pre>\n"
      ],
      "text/plain": [
       "\u001b[38;5;46m        \u001b[0m\u001b[38;5;46m \u001b[0m\u001b[38;5;49mINFO    \u001b[0m \u001b[1;38;5;251m Range c31 translates to channels \u001b[0m\u001b[1;37m31\u001b[0m\u001b[1;38;5;251m-\u001b[0m\u001b[1;37m472446402674\u001b[0m\u001b[1;38;5;251m                           \u001b[0m\u001b[1;38;5;251m \u001b[0m\u001b]8;id=568919;file:///home/tguethle/.opt/conda/envs/spi39/lib/python3.9/site-packages/threeML/plugins/SpectrumLike.py\u001b\\\u001b[2mSpectrumLike.py\u001b[0m\u001b]8;;\u001b\\\u001b[2m:\u001b[0m\u001b]8;id=20526;file:///home/tguethle/.opt/conda/envs/spi39/lib/python3.9/site-packages/threeML/plugins/SpectrumLike.py#1243\u001b\\\u001b[2m1243\u001b[0m\u001b]8;;\u001b\\\n"
      ]
     },
     "metadata": {},
     "output_type": "display_data"
    },
    {
     "data": {
      "text/html": [
       "<pre style=\"white-space:pre;overflow-x:auto;line-height:normal;font-family:Menlo,'DejaVu Sans Mono',consolas,'Courier New',monospace\"><span style=\"color: #00ff00; text-decoration-color: #00ff00\">         </span><span style=\"color: #00ffaf; text-decoration-color: #00ffaf\">INFO    </span> <span style=\"color: #c6c6c6; text-decoration-color: #c6c6c6; font-weight: bold\"> Range c32 translates to channels </span><span style=\"color: #c0c0c0; text-decoration-color: #c0c0c0; font-weight: bold\">32</span><span style=\"color: #c6c6c6; text-decoration-color: #c6c6c6; font-weight: bold\">-</span><span style=\"color: #c0c0c0; text-decoration-color: #c0c0c0; font-weight: bold\">4576360450296133143</span><span style=\"color: #c6c6c6; text-decoration-color: #c6c6c6; font-weight: bold\">                     </span><a href=\"file:///home/tguethle/.opt/conda/envs/spi39/lib/python3.9/site-packages/threeML/plugins/SpectrumLike.py\" target=\"_blank\"><span style=\"color: #7f7f7f; text-decoration-color: #7f7f7f\">SpectrumLike.py</span></a><span style=\"color: #7f7f7f; text-decoration-color: #7f7f7f\">:</span><a href=\"file:///home/tguethle/.opt/conda/envs/spi39/lib/python3.9/site-packages/threeML/plugins/SpectrumLike.py#1243\" target=\"_blank\"><span style=\"color: #7f7f7f; text-decoration-color: #7f7f7f\">1243</span></a>\n",
       "</pre>\n"
      ],
      "text/plain": [
       "\u001b[38;5;46m        \u001b[0m\u001b[38;5;46m \u001b[0m\u001b[38;5;49mINFO    \u001b[0m \u001b[1;38;5;251m Range c32 translates to channels \u001b[0m\u001b[1;37m32\u001b[0m\u001b[1;38;5;251m-\u001b[0m\u001b[1;37m4576360450296133143\u001b[0m\u001b[1;38;5;251m                    \u001b[0m\u001b[1;38;5;251m \u001b[0m\u001b]8;id=433062;file:///home/tguethle/.opt/conda/envs/spi39/lib/python3.9/site-packages/threeML/plugins/SpectrumLike.py\u001b\\\u001b[2mSpectrumLike.py\u001b[0m\u001b]8;;\u001b\\\u001b[2m:\u001b[0m\u001b]8;id=129004;file:///home/tguethle/.opt/conda/envs/spi39/lib/python3.9/site-packages/threeML/plugins/SpectrumLike.py#1243\u001b\\\u001b[2m1243\u001b[0m\u001b]8;;\u001b\\\n"
      ]
     },
     "metadata": {},
     "output_type": "display_data"
    },
    {
     "data": {
      "text/html": [
       "<pre style=\"white-space:pre;overflow-x:auto;line-height:normal;font-family:Menlo,'DejaVu Sans Mono',consolas,'Courier New',monospace\"><span style=\"color: #00ff00; text-decoration-color: #00ff00\">         </span><span style=\"color: #00ffaf; text-decoration-color: #00ffaf\">INFO    </span> <span style=\"color: #c6c6c6; text-decoration-color: #c6c6c6; font-weight: bold\"> Range c33 translates to channels </span><span style=\"color: #c0c0c0; text-decoration-color: #c0c0c0; font-weight: bold\">33</span><span style=\"color: #c6c6c6; text-decoration-color: #c6c6c6; font-weight: bold\">-</span><span style=\"color: #c0c0c0; text-decoration-color: #c0c0c0; font-weight: bold\">472446402674</span><span style=\"color: #c6c6c6; text-decoration-color: #c6c6c6; font-weight: bold\">                            </span><a href=\"file:///home/tguethle/.opt/conda/envs/spi39/lib/python3.9/site-packages/threeML/plugins/SpectrumLike.py\" target=\"_blank\"><span style=\"color: #7f7f7f; text-decoration-color: #7f7f7f\">SpectrumLike.py</span></a><span style=\"color: #7f7f7f; text-decoration-color: #7f7f7f\">:</span><a href=\"file:///home/tguethle/.opt/conda/envs/spi39/lib/python3.9/site-packages/threeML/plugins/SpectrumLike.py#1243\" target=\"_blank\"><span style=\"color: #7f7f7f; text-decoration-color: #7f7f7f\">1243</span></a>\n",
       "</pre>\n"
      ],
      "text/plain": [
       "\u001b[38;5;46m        \u001b[0m\u001b[38;5;46m \u001b[0m\u001b[38;5;49mINFO    \u001b[0m \u001b[1;38;5;251m Range c33 translates to channels \u001b[0m\u001b[1;37m33\u001b[0m\u001b[1;38;5;251m-\u001b[0m\u001b[1;37m472446402674\u001b[0m\u001b[1;38;5;251m                           \u001b[0m\u001b[1;38;5;251m \u001b[0m\u001b]8;id=310151;file:///home/tguethle/.opt/conda/envs/spi39/lib/python3.9/site-packages/threeML/plugins/SpectrumLike.py\u001b\\\u001b[2mSpectrumLike.py\u001b[0m\u001b]8;;\u001b\\\u001b[2m:\u001b[0m\u001b]8;id=610656;file:///home/tguethle/.opt/conda/envs/spi39/lib/python3.9/site-packages/threeML/plugins/SpectrumLike.py#1243\u001b\\\u001b[2m1243\u001b[0m\u001b]8;;\u001b\\\n"
      ]
     },
     "metadata": {},
     "output_type": "display_data"
    },
    {
     "data": {
      "text/html": [
       "<pre style=\"white-space:pre;overflow-x:auto;line-height:normal;font-family:Menlo,'DejaVu Sans Mono',consolas,'Courier New',monospace\"><span style=\"color: #00ff00; text-decoration-color: #00ff00\">         </span><span style=\"color: #00ffaf; text-decoration-color: #00ffaf\">INFO    </span> <span style=\"color: #c6c6c6; text-decoration-color: #c6c6c6; font-weight: bold\"> Range c34 translates to channels </span><span style=\"color: #c0c0c0; text-decoration-color: #c0c0c0; font-weight: bold\">34</span><span style=\"color: #c6c6c6; text-decoration-color: #c6c6c6; font-weight: bold\">-</span><span style=\"color: #c0c0c0; text-decoration-color: #c0c0c0; font-weight: bold\">4576360450296133143</span><span style=\"color: #c6c6c6; text-decoration-color: #c6c6c6; font-weight: bold\">                     </span><a href=\"file:///home/tguethle/.opt/conda/envs/spi39/lib/python3.9/site-packages/threeML/plugins/SpectrumLike.py\" target=\"_blank\"><span style=\"color: #7f7f7f; text-decoration-color: #7f7f7f\">SpectrumLike.py</span></a><span style=\"color: #7f7f7f; text-decoration-color: #7f7f7f\">:</span><a href=\"file:///home/tguethle/.opt/conda/envs/spi39/lib/python3.9/site-packages/threeML/plugins/SpectrumLike.py#1243\" target=\"_blank\"><span style=\"color: #7f7f7f; text-decoration-color: #7f7f7f\">1243</span></a>\n",
       "</pre>\n"
      ],
      "text/plain": [
       "\u001b[38;5;46m        \u001b[0m\u001b[38;5;46m \u001b[0m\u001b[38;5;49mINFO    \u001b[0m \u001b[1;38;5;251m Range c34 translates to channels \u001b[0m\u001b[1;37m34\u001b[0m\u001b[1;38;5;251m-\u001b[0m\u001b[1;37m4576360450296133143\u001b[0m\u001b[1;38;5;251m                    \u001b[0m\u001b[1;38;5;251m \u001b[0m\u001b]8;id=346600;file:///home/tguethle/.opt/conda/envs/spi39/lib/python3.9/site-packages/threeML/plugins/SpectrumLike.py\u001b\\\u001b[2mSpectrumLike.py\u001b[0m\u001b]8;;\u001b\\\u001b[2m:\u001b[0m\u001b]8;id=517672;file:///home/tguethle/.opt/conda/envs/spi39/lib/python3.9/site-packages/threeML/plugins/SpectrumLike.py#1243\u001b\\\u001b[2m1243\u001b[0m\u001b]8;;\u001b\\\n"
      ]
     },
     "metadata": {},
     "output_type": "display_data"
    },
    {
     "data": {
      "text/html": [
       "<pre style=\"white-space:pre;overflow-x:auto;line-height:normal;font-family:Menlo,'DejaVu Sans Mono',consolas,'Courier New',monospace\"><span style=\"color: #00ff00; text-decoration-color: #00ff00\">         </span><span style=\"color: #00ffaf; text-decoration-color: #00ffaf\">INFO    </span> <span style=\"color: #c6c6c6; text-decoration-color: #c6c6c6; font-weight: bold\"> Range c35 translates to channels </span><span style=\"color: #c0c0c0; text-decoration-color: #c0c0c0; font-weight: bold\">35</span><span style=\"color: #c6c6c6; text-decoration-color: #c6c6c6; font-weight: bold\">-</span><span style=\"color: #c0c0c0; text-decoration-color: #c0c0c0; font-weight: bold\">472446402674</span><span style=\"color: #c6c6c6; text-decoration-color: #c6c6c6; font-weight: bold\">                            </span><a href=\"file:///home/tguethle/.opt/conda/envs/spi39/lib/python3.9/site-packages/threeML/plugins/SpectrumLike.py\" target=\"_blank\"><span style=\"color: #7f7f7f; text-decoration-color: #7f7f7f\">SpectrumLike.py</span></a><span style=\"color: #7f7f7f; text-decoration-color: #7f7f7f\">:</span><a href=\"file:///home/tguethle/.opt/conda/envs/spi39/lib/python3.9/site-packages/threeML/plugins/SpectrumLike.py#1243\" target=\"_blank\"><span style=\"color: #7f7f7f; text-decoration-color: #7f7f7f\">1243</span></a>\n",
       "</pre>\n"
      ],
      "text/plain": [
       "\u001b[38;5;46m        \u001b[0m\u001b[38;5;46m \u001b[0m\u001b[38;5;49mINFO    \u001b[0m \u001b[1;38;5;251m Range c35 translates to channels \u001b[0m\u001b[1;37m35\u001b[0m\u001b[1;38;5;251m-\u001b[0m\u001b[1;37m472446402674\u001b[0m\u001b[1;38;5;251m                           \u001b[0m\u001b[1;38;5;251m \u001b[0m\u001b]8;id=880014;file:///home/tguethle/.opt/conda/envs/spi39/lib/python3.9/site-packages/threeML/plugins/SpectrumLike.py\u001b\\\u001b[2mSpectrumLike.py\u001b[0m\u001b]8;;\u001b\\\u001b[2m:\u001b[0m\u001b]8;id=530602;file:///home/tguethle/.opt/conda/envs/spi39/lib/python3.9/site-packages/threeML/plugins/SpectrumLike.py#1243\u001b\\\u001b[2m1243\u001b[0m\u001b]8;;\u001b\\\n"
      ]
     },
     "metadata": {},
     "output_type": "display_data"
    },
    {
     "data": {
      "text/html": [
       "<pre style=\"white-space:pre;overflow-x:auto;line-height:normal;font-family:Menlo,'DejaVu Sans Mono',consolas,'Courier New',monospace\"><span style=\"color: #00ff00; text-decoration-color: #00ff00\">         </span><span style=\"color: #00ffaf; text-decoration-color: #00ffaf\">INFO    </span> <span style=\"color: #c6c6c6; text-decoration-color: #c6c6c6; font-weight: bold\"> Range c36 translates to channels </span><span style=\"color: #c0c0c0; text-decoration-color: #c0c0c0; font-weight: bold\">36</span><span style=\"color: #c6c6c6; text-decoration-color: #c6c6c6; font-weight: bold\">-</span><span style=\"color: #c0c0c0; text-decoration-color: #c0c0c0; font-weight: bold\">4576360450296133143</span><span style=\"color: #c6c6c6; text-decoration-color: #c6c6c6; font-weight: bold\">                     </span><a href=\"file:///home/tguethle/.opt/conda/envs/spi39/lib/python3.9/site-packages/threeML/plugins/SpectrumLike.py\" target=\"_blank\"><span style=\"color: #7f7f7f; text-decoration-color: #7f7f7f\">SpectrumLike.py</span></a><span style=\"color: #7f7f7f; text-decoration-color: #7f7f7f\">:</span><a href=\"file:///home/tguethle/.opt/conda/envs/spi39/lib/python3.9/site-packages/threeML/plugins/SpectrumLike.py#1243\" target=\"_blank\"><span style=\"color: #7f7f7f; text-decoration-color: #7f7f7f\">1243</span></a>\n",
       "</pre>\n"
      ],
      "text/plain": [
       "\u001b[38;5;46m        \u001b[0m\u001b[38;5;46m \u001b[0m\u001b[38;5;49mINFO    \u001b[0m \u001b[1;38;5;251m Range c36 translates to channels \u001b[0m\u001b[1;37m36\u001b[0m\u001b[1;38;5;251m-\u001b[0m\u001b[1;37m4576360450296133143\u001b[0m\u001b[1;38;5;251m                    \u001b[0m\u001b[1;38;5;251m \u001b[0m\u001b]8;id=960045;file:///home/tguethle/.opt/conda/envs/spi39/lib/python3.9/site-packages/threeML/plugins/SpectrumLike.py\u001b\\\u001b[2mSpectrumLike.py\u001b[0m\u001b]8;;\u001b\\\u001b[2m:\u001b[0m\u001b]8;id=803308;file:///home/tguethle/.opt/conda/envs/spi39/lib/python3.9/site-packages/threeML/plugins/SpectrumLike.py#1243\u001b\\\u001b[2m1243\u001b[0m\u001b]8;;\u001b\\\n"
      ]
     },
     "metadata": {},
     "output_type": "display_data"
    },
    {
     "data": {
      "text/html": [
       "<pre style=\"white-space:pre;overflow-x:auto;line-height:normal;font-family:Menlo,'DejaVu Sans Mono',consolas,'Courier New',monospace\"><span style=\"color: #00ff00; text-decoration-color: #00ff00\">         </span><span style=\"color: #00ffaf; text-decoration-color: #00ffaf\">INFO    </span> <span style=\"color: #c6c6c6; text-decoration-color: #c6c6c6; font-weight: bold\"> Range c37 translates to channels </span><span style=\"color: #c0c0c0; text-decoration-color: #c0c0c0; font-weight: bold\">37</span><span style=\"color: #c6c6c6; text-decoration-color: #c6c6c6; font-weight: bold\">-</span><span style=\"color: #c0c0c0; text-decoration-color: #c0c0c0; font-weight: bold\">472446402674</span><span style=\"color: #c6c6c6; text-decoration-color: #c6c6c6; font-weight: bold\">                            </span><a href=\"file:///home/tguethle/.opt/conda/envs/spi39/lib/python3.9/site-packages/threeML/plugins/SpectrumLike.py\" target=\"_blank\"><span style=\"color: #7f7f7f; text-decoration-color: #7f7f7f\">SpectrumLike.py</span></a><span style=\"color: #7f7f7f; text-decoration-color: #7f7f7f\">:</span><a href=\"file:///home/tguethle/.opt/conda/envs/spi39/lib/python3.9/site-packages/threeML/plugins/SpectrumLike.py#1243\" target=\"_blank\"><span style=\"color: #7f7f7f; text-decoration-color: #7f7f7f\">1243</span></a>\n",
       "</pre>\n"
      ],
      "text/plain": [
       "\u001b[38;5;46m        \u001b[0m\u001b[38;5;46m \u001b[0m\u001b[38;5;49mINFO    \u001b[0m \u001b[1;38;5;251m Range c37 translates to channels \u001b[0m\u001b[1;37m37\u001b[0m\u001b[1;38;5;251m-\u001b[0m\u001b[1;37m472446402674\u001b[0m\u001b[1;38;5;251m                           \u001b[0m\u001b[1;38;5;251m \u001b[0m\u001b]8;id=168845;file:///home/tguethle/.opt/conda/envs/spi39/lib/python3.9/site-packages/threeML/plugins/SpectrumLike.py\u001b\\\u001b[2mSpectrumLike.py\u001b[0m\u001b]8;;\u001b\\\u001b[2m:\u001b[0m\u001b]8;id=931674;file:///home/tguethle/.opt/conda/envs/spi39/lib/python3.9/site-packages/threeML/plugins/SpectrumLike.py#1243\u001b\\\u001b[2m1243\u001b[0m\u001b]8;;\u001b\\\n"
      ]
     },
     "metadata": {},
     "output_type": "display_data"
    },
    {
     "data": {
      "text/html": [
       "<pre style=\"white-space:pre;overflow-x:auto;line-height:normal;font-family:Menlo,'DejaVu Sans Mono',consolas,'Courier New',monospace\"><span style=\"color: #00ff00; text-decoration-color: #00ff00\">         </span><span style=\"color: #00ffaf; text-decoration-color: #00ffaf\">INFO    </span> <span style=\"color: #c6c6c6; text-decoration-color: #c6c6c6; font-weight: bold\"> Range c38 translates to channels </span><span style=\"color: #c0c0c0; text-decoration-color: #c0c0c0; font-weight: bold\">38</span><span style=\"color: #c6c6c6; text-decoration-color: #c6c6c6; font-weight: bold\">-</span><span style=\"color: #c0c0c0; text-decoration-color: #c0c0c0; font-weight: bold\">4576360450296133143</span><span style=\"color: #c6c6c6; text-decoration-color: #c6c6c6; font-weight: bold\">                     </span><a href=\"file:///home/tguethle/.opt/conda/envs/spi39/lib/python3.9/site-packages/threeML/plugins/SpectrumLike.py\" target=\"_blank\"><span style=\"color: #7f7f7f; text-decoration-color: #7f7f7f\">SpectrumLike.py</span></a><span style=\"color: #7f7f7f; text-decoration-color: #7f7f7f\">:</span><a href=\"file:///home/tguethle/.opt/conda/envs/spi39/lib/python3.9/site-packages/threeML/plugins/SpectrumLike.py#1243\" target=\"_blank\"><span style=\"color: #7f7f7f; text-decoration-color: #7f7f7f\">1243</span></a>\n",
       "</pre>\n"
      ],
      "text/plain": [
       "\u001b[38;5;46m        \u001b[0m\u001b[38;5;46m \u001b[0m\u001b[38;5;49mINFO    \u001b[0m \u001b[1;38;5;251m Range c38 translates to channels \u001b[0m\u001b[1;37m38\u001b[0m\u001b[1;38;5;251m-\u001b[0m\u001b[1;37m4576360450296133143\u001b[0m\u001b[1;38;5;251m                    \u001b[0m\u001b[1;38;5;251m \u001b[0m\u001b]8;id=288494;file:///home/tguethle/.opt/conda/envs/spi39/lib/python3.9/site-packages/threeML/plugins/SpectrumLike.py\u001b\\\u001b[2mSpectrumLike.py\u001b[0m\u001b]8;;\u001b\\\u001b[2m:\u001b[0m\u001b]8;id=691199;file:///home/tguethle/.opt/conda/envs/spi39/lib/python3.9/site-packages/threeML/plugins/SpectrumLike.py#1243\u001b\\\u001b[2m1243\u001b[0m\u001b]8;;\u001b\\\n"
      ]
     },
     "metadata": {},
     "output_type": "display_data"
    },
    {
     "data": {
      "text/html": [
       "<pre style=\"white-space:pre;overflow-x:auto;line-height:normal;font-family:Menlo,'DejaVu Sans Mono',consolas,'Courier New',monospace\"><span style=\"color: #00ff00; text-decoration-color: #00ff00\">         </span><span style=\"color: #00ffaf; text-decoration-color: #00ffaf\">INFO    </span> <span style=\"color: #c6c6c6; text-decoration-color: #c6c6c6; font-weight: bold\"> Range c40 translates to channels </span><span style=\"color: #c0c0c0; text-decoration-color: #c0c0c0; font-weight: bold\">40</span><span style=\"color: #c6c6c6; text-decoration-color: #c6c6c6; font-weight: bold\">-</span><span style=\"color: #c0c0c0; text-decoration-color: #c0c0c0; font-weight: bold\">472446402674</span><span style=\"color: #c6c6c6; text-decoration-color: #c6c6c6; font-weight: bold\">                            </span><a href=\"file:///home/tguethle/.opt/conda/envs/spi39/lib/python3.9/site-packages/threeML/plugins/SpectrumLike.py\" target=\"_blank\"><span style=\"color: #7f7f7f; text-decoration-color: #7f7f7f\">SpectrumLike.py</span></a><span style=\"color: #7f7f7f; text-decoration-color: #7f7f7f\">:</span><a href=\"file:///home/tguethle/.opt/conda/envs/spi39/lib/python3.9/site-packages/threeML/plugins/SpectrumLike.py#1243\" target=\"_blank\"><span style=\"color: #7f7f7f; text-decoration-color: #7f7f7f\">1243</span></a>\n",
       "</pre>\n"
      ],
      "text/plain": [
       "\u001b[38;5;46m        \u001b[0m\u001b[38;5;46m \u001b[0m\u001b[38;5;49mINFO    \u001b[0m \u001b[1;38;5;251m Range c40 translates to channels \u001b[0m\u001b[1;37m40\u001b[0m\u001b[1;38;5;251m-\u001b[0m\u001b[1;37m472446402674\u001b[0m\u001b[1;38;5;251m                           \u001b[0m\u001b[1;38;5;251m \u001b[0m\u001b]8;id=617853;file:///home/tguethle/.opt/conda/envs/spi39/lib/python3.9/site-packages/threeML/plugins/SpectrumLike.py\u001b\\\u001b[2mSpectrumLike.py\u001b[0m\u001b]8;;\u001b\\\u001b[2m:\u001b[0m\u001b]8;id=70067;file:///home/tguethle/.opt/conda/envs/spi39/lib/python3.9/site-packages/threeML/plugins/SpectrumLike.py#1243\u001b\\\u001b[2m1243\u001b[0m\u001b]8;;\u001b\\\n"
      ]
     },
     "metadata": {},
     "output_type": "display_data"
    },
    {
     "data": {
      "text/html": [
       "<pre style=\"white-space:pre;overflow-x:auto;line-height:normal;font-family:Menlo,'DejaVu Sans Mono',consolas,'Courier New',monospace\"><span style=\"color: #00ff00; text-decoration-color: #00ff00\">         </span><span style=\"color: #00ffaf; text-decoration-color: #00ffaf\">INFO    </span> <span style=\"color: #c6c6c6; text-decoration-color: #c6c6c6; font-weight: bold\"> Range c41 translates to channels </span><span style=\"color: #c0c0c0; text-decoration-color: #c0c0c0; font-weight: bold\">41</span><span style=\"color: #c6c6c6; text-decoration-color: #c6c6c6; font-weight: bold\">-</span><span style=\"color: #c0c0c0; text-decoration-color: #c0c0c0; font-weight: bold\">4576360450296133143</span><span style=\"color: #c6c6c6; text-decoration-color: #c6c6c6; font-weight: bold\">                     </span><a href=\"file:///home/tguethle/.opt/conda/envs/spi39/lib/python3.9/site-packages/threeML/plugins/SpectrumLike.py\" target=\"_blank\"><span style=\"color: #7f7f7f; text-decoration-color: #7f7f7f\">SpectrumLike.py</span></a><span style=\"color: #7f7f7f; text-decoration-color: #7f7f7f\">:</span><a href=\"file:///home/tguethle/.opt/conda/envs/spi39/lib/python3.9/site-packages/threeML/plugins/SpectrumLike.py#1243\" target=\"_blank\"><span style=\"color: #7f7f7f; text-decoration-color: #7f7f7f\">1243</span></a>\n",
       "</pre>\n"
      ],
      "text/plain": [
       "\u001b[38;5;46m        \u001b[0m\u001b[38;5;46m \u001b[0m\u001b[38;5;49mINFO    \u001b[0m \u001b[1;38;5;251m Range c41 translates to channels \u001b[0m\u001b[1;37m41\u001b[0m\u001b[1;38;5;251m-\u001b[0m\u001b[1;37m4576360450296133143\u001b[0m\u001b[1;38;5;251m                    \u001b[0m\u001b[1;38;5;251m \u001b[0m\u001b]8;id=930308;file:///home/tguethle/.opt/conda/envs/spi39/lib/python3.9/site-packages/threeML/plugins/SpectrumLike.py\u001b\\\u001b[2mSpectrumLike.py\u001b[0m\u001b]8;;\u001b\\\u001b[2m:\u001b[0m\u001b]8;id=780056;file:///home/tguethle/.opt/conda/envs/spi39/lib/python3.9/site-packages/threeML/plugins/SpectrumLike.py#1243\u001b\\\u001b[2m1243\u001b[0m\u001b]8;;\u001b\\\n"
      ]
     },
     "metadata": {},
     "output_type": "display_data"
    },
    {
     "data": {
      "text/html": [
       "Model summary:<br><br><div>\n",
       "<style scoped>\n",
       "    .dataframe tbody tr th:only-of-type {\n",
       "        vertical-align: middle;\n",
       "    }\n",
       "\n",
       "    .dataframe tbody tr th {\n",
       "        vertical-align: top;\n",
       "    }\n",
       "\n",
       "    .dataframe thead th {\n",
       "        text-align: right;\n",
       "    }\n",
       "</style>\n",
       "<table border=\"1\" class=\"dataframe\">\n",
       "  <thead>\n",
       "    <tr style=\"text-align: right;\">\n",
       "      <th></th>\n",
       "      <th>N</th>\n",
       "    </tr>\n",
       "  </thead>\n",
       "  <tbody>\n",
       "    <tr>\n",
       "      <th>Point sources</th>\n",
       "      <td>1</td>\n",
       "    </tr>\n",
       "    <tr>\n",
       "      <th>Extended sources</th>\n",
       "      <td>0</td>\n",
       "    </tr>\n",
       "    <tr>\n",
       "      <th>Particle sources</th>\n",
       "      <td>0</td>\n",
       "    </tr>\n",
       "  </tbody>\n",
       "</table>\n",
       "</div><br><br>Free parameters (2):<br><br><div>\n",
       "<style scoped>\n",
       "    .dataframe tbody tr th:only-of-type {\n",
       "        vertical-align: middle;\n",
       "    }\n",
       "\n",
       "    .dataframe tbody tr th {\n",
       "        vertical-align: top;\n",
       "    }\n",
       "\n",
       "    .dataframe thead th {\n",
       "        text-align: right;\n",
       "    }\n",
       "</style>\n",
       "<table border=\"1\" class=\"dataframe\">\n",
       "  <thead>\n",
       "    <tr style=\"text-align: right;\">\n",
       "      <th></th>\n",
       "      <th>value</th>\n",
       "      <th>min_value</th>\n",
       "      <th>max_value</th>\n",
       "      <th>unit</th>\n",
       "    </tr>\n",
       "  </thead>\n",
       "  <tbody>\n",
       "    <tr>\n",
       "      <th>crab.spectrum.main.Powerlaw.K</th>\n",
       "      <td>1.0</td>\n",
       "      <td>0.0</td>\n",
       "      <td>1000.0</td>\n",
       "      <td>keV-1 s-1 cm-2</td>\n",
       "    </tr>\n",
       "    <tr>\n",
       "      <th>crab.spectrum.main.Powerlaw.index</th>\n",
       "      <td>-2.01</td>\n",
       "      <td>-10.0</td>\n",
       "      <td>10.0</td>\n",
       "      <td></td>\n",
       "    </tr>\n",
       "  </tbody>\n",
       "</table>\n",
       "</div><br><br>Fixed parameters (3):<br><br><div>\n",
       "<style scoped>\n",
       "    .dataframe tbody tr th:only-of-type {\n",
       "        vertical-align: middle;\n",
       "    }\n",
       "\n",
       "    .dataframe tbody tr th {\n",
       "        vertical-align: top;\n",
       "    }\n",
       "\n",
       "    .dataframe thead th {\n",
       "        text-align: right;\n",
       "    }\n",
       "</style>\n",
       "<table border=\"1\" class=\"dataframe\">\n",
       "  <thead>\n",
       "    <tr style=\"text-align: right;\">\n",
       "      <th></th>\n",
       "      <th>value</th>\n",
       "      <th>min_value</th>\n",
       "      <th>max_value</th>\n",
       "      <th>unit</th>\n",
       "    </tr>\n",
       "  </thead>\n",
       "  <tbody>\n",
       "    <tr>\n",
       "      <th>crab.position.l</th>\n",
       "      <td>0.0</td>\n",
       "      <td>0.0</td>\n",
       "      <td>360.0</td>\n",
       "      <td>deg</td>\n",
       "    </tr>\n",
       "    <tr>\n",
       "      <th>crab.position.b</th>\n",
       "      <td>0.0</td>\n",
       "      <td>-90.0</td>\n",
       "      <td>90.0</td>\n",
       "      <td>deg</td>\n",
       "    </tr>\n",
       "    <tr>\n",
       "      <th>crab.spectrum.main.Powerlaw.piv</th>\n",
       "      <td>100.0</td>\n",
       "      <td>None</td>\n",
       "      <td>None</td>\n",
       "      <td>keV</td>\n",
       "    </tr>\n",
       "  </tbody>\n",
       "</table>\n",
       "</div><br><br>Properties (0):<br><br>(none)<br><br><br>Linked parameters (0):<br><br>(none)<br><br>Independent variables:<br><br>(none)<br><br>Linked functions (0):<br><br>(none)<br>"
      ],
      "text/plain": [
       "Model summary:\n",
       "==============\n",
       "\n",
       "                  N\n",
       "Point sources     1\n",
       "Extended sources  0\n",
       "Particle sources  0\n",
       "\n",
       "Free parameters (2):\n",
       "--------------------\n",
       "\n",
       "                                  value min_value max_value            unit\n",
       "crab.spectrum.main.Powerlaw.K       1.0       0.0    1000.0  keV-1 s-1 cm-2\n",
       "crab.spectrum.main.Powerlaw.index -2.01     -10.0      10.0                \n",
       "\n",
       "Fixed parameters (3):\n",
       "---------------------\n",
       "\n",
       "                                 value min_value max_value unit\n",
       "crab.position.l                    0.0       0.0     360.0  deg\n",
       "crab.position.b                    0.0     -90.0      90.0  deg\n",
       "crab.spectrum.main.Powerlaw.piv  100.0      None      None  keV\n",
       "\n",
       "Properties (0):\n",
       "--------------------\n",
       "\n",
       "(none)\n",
       "\n",
       "\n",
       "Linked parameters (0):\n",
       "----------------------\n",
       "\n",
       "(none)\n",
       "\n",
       "Independent variables:\n",
       "----------------------\n",
       "\n",
       "(none)\n",
       "\n",
       "Linked functions (0):\n",
       "----------------------\n",
       "\n",
       "(none)"
      ]
     },
     "metadata": {},
     "output_type": "display_data"
    }
   ],
   "source": [
    "\n",
    "\n",
    "###########\n",
    "# DATASET #\n",
    "###########\n",
    "# folder = \"0374_sim\"\n",
    "s_1A = OGIPLike(\"sim_source\",\n",
    "                observation=f'{path}/spectra_sim_sourc.fits',\n",
    "                response=f'{path}/spectral_response.rmf.fits')\n",
    "\n",
    "###################\n",
    "# ACTIVE CHANNELS #\n",
    "###################\n",
    "active_channels = select_good_channels(path, max_chi2=1.2)\n",
    "s_1A.set_active_measurements(*active_channels)\n",
    "\n",
    "##################\n",
    "# SPECTRAL MODEL #\n",
    "##################\n",
    "spec = Powerlaw()\n",
    "\n",
    "##############################\n",
    "# DEFINITION OF POINT SOURCE #\n",
    "##############################\n",
    "ps = PointSource('crab',l=0,b=0,spectral_shape=spec)\n",
    "\n",
    "####################\n",
    "# MODEL DEFINITION #\n",
    "####################\n",
    "ps_model = Model(ps)\n",
    "\n",
    "####################\n",
    "# FIXED PARAMETERS #\n",
    "####################\n",
    "ps_model.crab.spectrum.main.Powerlaw.piv = 100\n",
    "\n",
    "#################\n",
    "# DISPLAY MODEL #\n",
    "#################\n",
    "ps_model.display(complete=True)\n",
    "\n",
    "\n"
   ]
  },
  {
   "cell_type": "code",
   "execution_count": 4,
   "metadata": {},
   "outputs": [
    {
     "data": {
      "text/html": [
       "<pre style=\"white-space:pre;overflow-x:auto;line-height:normal;font-family:Menlo,'DejaVu Sans Mono',consolas,'Courier New',monospace\"><span style=\"color: #00ff00; text-decoration-color: #00ff00\">         </span><span style=\"color: #00ffaf; text-decoration-color: #00ffaf\">INFO    </span> <span style=\"color: #c6c6c6; text-decoration-color: #c6c6c6; font-weight: bold\"> set the minimizer to minuit                                             </span><a href=\"file:///home/tguethle/.opt/conda/envs/spi39/lib/python3.9/site-packages/threeML/classicMLE/joint_likelihood.py\" target=\"_blank\"><span style=\"color: #7f7f7f; text-decoration-color: #7f7f7f\">joint_likelihood.py</span></a><span style=\"color: #7f7f7f; text-decoration-color: #7f7f7f\">:</span><a href=\"file:///home/tguethle/.opt/conda/envs/spi39/lib/python3.9/site-packages/threeML/classicMLE/joint_likelihood.py#1042\" target=\"_blank\"><span style=\"color: #7f7f7f; text-decoration-color: #7f7f7f\">1042</span></a>\n",
       "</pre>\n"
      ],
      "text/plain": [
       "\u001b[38;5;46m        \u001b[0m\u001b[38;5;46m \u001b[0m\u001b[38;5;49mINFO    \u001b[0m \u001b[1;38;5;251m set the minimizer to minuit                                            \u001b[0m\u001b[1;38;5;251m \u001b[0m\u001b]8;id=876799;file:///home/tguethle/.opt/conda/envs/spi39/lib/python3.9/site-packages/threeML/classicMLE/joint_likelihood.py\u001b\\\u001b[2mjoint_likelihood.py\u001b[0m\u001b]8;;\u001b\\\u001b[2m:\u001b[0m\u001b]8;id=699235;file:///home/tguethle/.opt/conda/envs/spi39/lib/python3.9/site-packages/threeML/classicMLE/joint_likelihood.py#1042\u001b\\\u001b[2m1042\u001b[0m\u001b]8;;\u001b\\\n"
      ]
     },
     "metadata": {},
     "output_type": "display_data"
    },
    {
     "name": "stdout",
     "output_type": "stream",
     "text": [
      "Best fit values:\n",
      "\n"
     ]
    },
    {
     "data": {
      "text/html": [
       "<div>\n",
       "<style scoped>\n",
       "    .dataframe tbody tr th:only-of-type {\n",
       "        vertical-align: middle;\n",
       "    }\n",
       "\n",
       "    .dataframe tbody tr th {\n",
       "        vertical-align: top;\n",
       "    }\n",
       "\n",
       "    .dataframe thead th {\n",
       "        text-align: right;\n",
       "    }\n",
       "</style>\n",
       "<table border=\"1\" class=\"dataframe\">\n",
       "  <thead>\n",
       "    <tr style=\"text-align: right;\">\n",
       "      <th></th>\n",
       "      <th>result</th>\n",
       "      <th>unit</th>\n",
       "    </tr>\n",
       "    <tr>\n",
       "      <th>parameter</th>\n",
       "      <th></th>\n",
       "      <th></th>\n",
       "    </tr>\n",
       "  </thead>\n",
       "  <tbody>\n",
       "    <tr>\n",
       "      <th>crab.spectrum.main.Powerlaw.K</th>\n",
       "      <td>(7.11 +/- 0.04) x 10^-4</td>\n",
       "      <td>1 / (keV s cm2)</td>\n",
       "    </tr>\n",
       "    <tr>\n",
       "      <th>crab.spectrum.main.Powerlaw.index</th>\n",
       "      <td>-2.009 +/- 0.015</td>\n",
       "      <td></td>\n",
       "    </tr>\n",
       "  </tbody>\n",
       "</table>\n",
       "</div>"
      ],
      "text/plain": [
       "                                                    result             unit\n",
       "parameter                                                                  \n",
       "crab.spectrum.main.Powerlaw.K      (7.11 +/- 0.04) x 10^-4  1 / (keV s cm2)\n",
       "crab.spectrum.main.Powerlaw.index         -2.009 +/- 0.015                 "
      ]
     },
     "metadata": {},
     "output_type": "display_data"
    },
    {
     "name": "stdout",
     "output_type": "stream",
     "text": [
      "\n",
      "Correlation matrix:\n",
      "\n"
     ]
    },
    {
     "data": {
      "text/html": [
       "<div><table id=\"table139937720436384\">\n",
       "<tr><td>1.00</td><td>0.27</td></tr>\n",
       "<tr><td>0.27</td><td>1.00</td></tr>\n",
       "</table></div>"
      ],
      "text/plain": [
       "1.00 0.27\n",
       "0.27 1.00"
      ]
     },
     "metadata": {},
     "output_type": "display_data"
    },
    {
     "name": "stdout",
     "output_type": "stream",
     "text": [
      "\n",
      "Values of -log(likelihood) at the minimum:\n",
      "\n"
     ]
    },
    {
     "data": {
      "text/html": [
       "<div>\n",
       "<style scoped>\n",
       "    .dataframe tbody tr th:only-of-type {\n",
       "        vertical-align: middle;\n",
       "    }\n",
       "\n",
       "    .dataframe tbody tr th {\n",
       "        vertical-align: top;\n",
       "    }\n",
       "\n",
       "    .dataframe thead th {\n",
       "        text-align: right;\n",
       "    }\n",
       "</style>\n",
       "<table border=\"1\" class=\"dataframe\">\n",
       "  <thead>\n",
       "    <tr style=\"text-align: right;\">\n",
       "      <th></th>\n",
       "      <th>-log(likelihood)</th>\n",
       "    </tr>\n",
       "  </thead>\n",
       "  <tbody>\n",
       "    <tr>\n",
       "      <th>sim_source</th>\n",
       "      <td>16.584617</td>\n",
       "    </tr>\n",
       "    <tr>\n",
       "      <th>total</th>\n",
       "      <td>16.584617</td>\n",
       "    </tr>\n",
       "  </tbody>\n",
       "</table>\n",
       "</div>"
      ],
      "text/plain": [
       "            -log(likelihood)\n",
       "sim_source         16.584617\n",
       "total              16.584617"
      ]
     },
     "metadata": {},
     "output_type": "display_data"
    },
    {
     "name": "stdout",
     "output_type": "stream",
     "text": [
      "\n",
      "Values of statistical measures:\n",
      "\n"
     ]
    },
    {
     "data": {
      "text/html": [
       "<div>\n",
       "<style scoped>\n",
       "    .dataframe tbody tr th:only-of-type {\n",
       "        vertical-align: middle;\n",
       "    }\n",
       "\n",
       "    .dataframe tbody tr th {\n",
       "        vertical-align: top;\n",
       "    }\n",
       "\n",
       "    .dataframe thead th {\n",
       "        text-align: right;\n",
       "    }\n",
       "</style>\n",
       "<table border=\"1\" class=\"dataframe\">\n",
       "  <thead>\n",
       "    <tr style=\"text-align: right;\">\n",
       "      <th></th>\n",
       "      <th>statistical measures</th>\n",
       "    </tr>\n",
       "  </thead>\n",
       "  <tbody>\n",
       "    <tr>\n",
       "      <th>AIC</th>\n",
       "      <td>37.613678</td>\n",
       "    </tr>\n",
       "    <tr>\n",
       "      <th>BIC</th>\n",
       "      <td>39.971628</td>\n",
       "    </tr>\n",
       "  </tbody>\n",
       "</table>\n",
       "</div>"
      ],
      "text/plain": [
       "     statistical measures\n",
       "AIC             37.613678\n",
       "BIC             39.971628"
      ]
     },
     "metadata": {},
     "output_type": "display_data"
    },
    {
     "name": "stdout",
     "output_type": "stream",
     "text": [
      "Mahalanobis distance: 2.98\n"
     ]
    },
    {
     "name": "stderr",
     "output_type": "stream",
     "text": [
      "\n",
      "WARNING RuntimeWarning: invalid value encountered in true_divide\n",
      "\n"
     ]
    }
   ],
   "source": [
    "###################\n",
    "# DATA DEFINITION #\n",
    "###################\n",
    "ps_data = DataList(s_1A)\n",
    "\n",
    "#####################\n",
    "# LIKELIHOOD OBJECT #\n",
    "#####################\n",
    "ps_jl = JointLikelihood(ps_model, ps_data)\n",
    "\n",
    "#######\n",
    "# FIT #\n",
    "#######\n",
    "best_fit_parameters_ps, likelihood_values_ps = ps_jl.fit()\n",
    "\n",
    "####################\n",
    "# RESTORE BEST FIT #\n",
    "####################\n",
    "ps_jl.restore_best_fit()\n",
    "\n",
    "import numpy as np\n",
    "import pickle\n",
    "\n",
    "val = np.array(best_fit_parameters_ps[\"value\"])\n",
    "err = np.array(best_fit_parameters_ps[\"error\"])\n",
    "cor = ps_jl.correlation_matrix\n",
    "cov = cor * err[:, np.newaxis] * err[np.newaxis, :]\n",
    "\n",
    "d_m = mahalanobis_dist(val, cov, [7e-4, -2.0])\n",
    "print(f\"Mahalanobis distance: {d_m:.2f}\")\n",
    "#######################\n",
    "# PLOT DATA AND MODEL #\n",
    "#######################\n",
    "fig, ax = plt.subplots()\n",
    "fig = display_spectrum_model_counts(ps_jl,step=True, show_legend=False)\n",
    "\n",
    "from matplotlib.lines import Line2D\n",
    "\n",
    "legend_elements = [Line2D([0], [0], color='r', lw=2, label='1A0535+26a Model'),\n",
    "                   Line2D([0], [0], marker='+', lw=0, color='r', label='1A0535+26a')]\n",
    "fig.legend(handles=legend_elements)\n",
    "fig.show()\n",
    "\n",
    "plt.savefig(f'sim_source.pdf')\n",
    "\n",
    "# with open(f'{folder}/fit_values', 'w') as f:\n",
    "#     f.write(f\"K: {best_fit_parameters_ps['value'][0]:.4} +/- {best_fit_parameters_ps['error'][0]:.3}\\n\")\n",
    "#     f.write(f\"Index: {best_fit_parameters_ps['value'][1]:.4} +/- {best_fit_parameters_ps['error'][1]:.3}\\n\")"
   ]
  },
  {
   "cell_type": "code",
   "execution_count": null,
   "metadata": {},
   "outputs": [],
   "source": [
    "with open(f\"source_parameters.pickle\", \"wb\") as f:\n",
    "    pickle.dump((val, cov),f)"
   ]
  },
  {
   "cell_type": "code",
   "execution_count": null,
   "metadata": {},
   "outputs": [],
   "source": [
    "import numpy as np\n",
    "import pickle\n",
    "\n",
    "val = np.array(best_fit_parameters_ps[\"value\"])\n",
    "err = np.array(best_fit_parameters_ps[\"error\"])\n",
    "cor = ps_jl.correlation_matrix\n",
    "cov = cor * err[:, np.newaxis] * err[np.newaxis, :]\n",
    "\n",
    "with open(f\"source_parameters.pickle\", \"wb\") as f:\n",
    "    pickle.dump((val, cov),f)"
   ]
  },
  {
   "cell_type": "code",
   "execution_count": null,
   "metadata": {},
   "outputs": [],
   "source": [
    "import numpy as np\n",
    "\n",
    "np.array(best_fit_parameters_ps[\"value\"]), np.array(best_fit_parameters_ps[\"error\"])"
   ]
  },
  {
   "cell_type": "code",
   "execution_count": null,
   "metadata": {},
   "outputs": [],
   "source": [
    "best_fit_parameters_ps[\"value\"][0]"
   ]
  },
  {
   "cell_type": "code",
   "execution_count": null,
   "metadata": {},
   "outputs": [],
   "source": []
  }
 ],
 "metadata": {
  "kernelspec": {
   "display_name": "MT",
   "language": "python",
   "name": "python3"
  },
  "language_info": {
   "codemirror_mode": {
    "name": "ipython",
    "version": 3
   },
   "file_extension": ".py",
   "mimetype": "text/x-python",
   "name": "python",
   "nbconvert_exporter": "python",
   "pygments_lexer": "ipython3",
   "version": "3.9.18"
  },
  "orig_nbformat": 4,
  "vscode": {
   "interpreter": {
    "hash": "77c6aaad9a34bae581a83e51509dc60b9a05d4f3ba3ef918f772e036566f2e96"
   }
  }
 },
 "nbformat": 4,
 "nbformat_minor": 2
}
