{
 "cells": [
  {
   "cell_type": "code",
   "execution_count": 2,
   "metadata": {},
   "outputs": [],
   "source": [
    "import numpy as np\n",
    "import astropy.io.fits as fits\n",
    "from astropy.table import Table\n",
    "import ligo.skymap.plot\n",
    "from matplotlib import pyplot as plt\n",
    "\n",
    "import healpy as hp\n",
    "from matplotlib.colors import TwoSlopeNorm\n",
    "from astropy.coordinates import SkyCoord\n",
    "import pickle"
   ]
  },
  {
   "cell_type": "code",
   "execution_count": 27,
   "metadata": {},
   "outputs": [
    {
     "name": "stdout",
     "output_type": "stream",
     "text": [
      "[('J053432.0+220052', 0., 'sim_sourc', 3101, 10., -40., 0.00028, 2, 1, 1, 1, '', 0, [0., 0., 0., 0., 0., 0., 0., 0.], 'wabs*powerlaw', 3, [0., 0., 0., 0., 0., 0., 0., 0., 0., 0., 0., 0., 0., 0., 0., 0., 0., 0., 0., 0., 0., 0., 0., 0., 0., 0., 0., 0., 0., 0., 0., 0.], '', 0, [0., 0., 0., 0., 0., 0., 0., 0.], 'V* CM Tau, SNR 184.6-05.8, PSR B0531+21, 1H 0531+219, 2EG J0534+2158, 3A 0531+219, 3EG J0534+2200, 4U 0531+21, Crab Nebula, Tau', 0.4458237, 0.01671377, 230.9226, 59.45829, 16.52609, 1.045729, 0.5005482, 0.1424853, [0., 0., 0., 0., 0., 0., 0., 0., 0., 0., 0., 0., 0., 0., 0., 0., 0., 0., 0., 0., 0., 0., 0., 0., 0., 0., 0., 0., 0., 0., 0., 0., 0., 0., 0., 0., 0., 0., 0., 0., 0., 0., 0., 0., 0., 0., 0., 0., 0., 0., 0., 0., 0., 0., 0., 0., 0., 0., 0., 0., 0., 0., 0., 0., 0., 0., 0., 0., 0., 0., 0., 0., 0., 0., 0., 0., 0., 0., 0., 0., 0., 0., 0., 0., 0., 0., 0., 0., 0., 0., 0., 0., 0., 0., 0., 0., 0., 0., 0., 0., 0., 0., 0., 0., 0., 0., 0., 0., 0., 0., 0., 0., 0., 0., 0., 0., 0., 0., 0., 0., 0., 0., 0., 0., 0., 0., 0., 0., 0., 0., 0., 0., 0., 0., 0., 0., 0., 0., 0., 0., 0., 0., 0., 0., 0., 0., 0., 0., 0., 0., 0., 0., 0., 0., 0., 0., 0., 0., 0., 0., 0., 0., 0., 0., 0., 0., 0., 0., 0., 0., 0., 0., 0., 0., 0., 0., 0., 0., 0., 0., 0., 0., 0., 0., 0., 0., 0., 0., 0., 0., 0., 0., 0., 0., 0., 0., 0., 0., 0., 0., 0., 0., 0., 0., 0., 0., 0., 0., 0., 0., 0., 0., 0., 0., 0., 0., 0., 0., 0., 0., 0., 0., 0., 0., 0., 0., 0., 0., 0., 0., 0., 0., 0., 0., 0., 0., 0., 0., 0., 0., 0., 0., 0., 0., 0., 0., 0., 0., 0., 0., 0., 0., 0., 0., 0., 0.], [0., 0., 0., 0., 0., 0., 0., 0., 0., 0., 0., 0., 0., 0., 0., 0., 0., 0., 0., 0., 0., 0., 0., 0., 0., 0., 0., 0., 0., 0., 0., 0., 0., 0., 0., 0., 0., 0., 0., 0., 0., 0., 0., 0., 0., 0., 0., 0., 0., 0., 0., 0., 0., 0., 0., 0., 0., 0., 0., 0., 0., 0., 0., 0., 0., 0., 0., 0., 0., 0., 0., 0., 0., 0., 0., 0., 0., 0., 0., 0., 0., 0., 0., 0., 0., 0., 0., 0., 0., 0., 0., 0., 0., 0., 0., 0., 0., 0., 0., 0., 0., 0., 0., 0., 0., 0., 0., 0., 0., 0., 0., 0., 0., 0., 0., 0., 0., 0., 0., 0., 0., 0., 0., 0., 0., 0., 0., 0., 0., 0., 0., 0., 0., 0., 0., 0., 0., 0., 0., 0., 0., 0., 0., 0., 0., 0., 0., 0., 0., 0., 0., 0., 0., 0., 0., 0., 0., 0., 0., 0., 0., 0., 0., 0., 0., 0., 0., 0., 0., 0., 0., 0., 0., 0., 0., 0., 0., 0., 0., 0., 0., 0., 0., 0., 0., 0., 0., 0., 0., 0., 0., 0., 0., 0., 0., 0., 0., 0., 0., 0., 0., 0., 0., 0., 0., 0., 0., 0., 0., 0., 0., 0., 0., 0., 0., 0., 0., 0., 0., 0., 0., 0., 0., 0., 0., 0., 0., 0., 0., 0., 0., 0., 0., 0., 0., 0., 0., 0., 0., 0., 0., 0., 0., 0., 0., 0., 0., 0., 0., 0., 0., 0., 0., 0., 0., 0.], [0., 0., 0., 0., 0., 0., 0., 0., 0., 0., 0., 0., 0., 0., 0., 0., 0., 0., 0., 0., 0., 0., 0., 0., 0., 0., 0., 0., 0., 0., 0., 0., 0., 0., 0., 0., 0., 0., 0., 0., 0., 0., 0., 0., 0., 0., 0., 0., 0., 0., 0., 0., 0., 0., 0., 0., 0., 0., 0., 0., 0., 0., 0., 0., 0., 0., 0., 0., 0., 0., 0., 0., 0., 0., 0., 0., 0., 0., 0., 0., 0., 0., 0., 0., 0., 0., 0., 0., 0., 0., 0., 0., 0., 0., 0., 0., 0., 0., 0., 0., 0., 0., 0., 0., 0., 0., 0., 0., 0., 0., 0., 0., 0., 0., 0., 0., 0., 0., 0., 0., 0., 0., 0., 0., 0., 0., 0., 0., 0., 0., 0., 0., 0., 0., 0., 0., 0., 0., 0., 0., 0., 0., 0., 0., 0., 0., 0., 0., 0., 0., 0., 0., 0., 0., 0., 0., 0., 0., 0., 0., 0., 0., 0., 0., 0., 0., 0., 0., 0., 0., 0., 0., 0., 0., 0., 0., 0., 0., 0., 0., 0., 0., 0., 0., 0., 0., 0., 0., 0., 0., 0., 0., 0., 0., 0., 0., 0., 0., 0., 0., 0., 0., 0., 0., 0., 0., 0., 0., 0., 0., 0., 0., 0., 0., 0., 0., 0., 0., 0., 0., 0., 0., 0., 0., 0., 0., 0., 0., 0., 0., 0., 0., 0., 0., 0., 0., 0., 0., 0., 0., 0., 0., 0., 0., 0., 0., 0., 0., 0., 0., 0., 0., 0., 0., 0., 0.], [0., 0., 0., 0., 0., 0., 0., 0., 0., 0., 0., 0., 0., 0., 0., 0., 0., 0., 0., 0., 0., 0., 0., 0., 0., 0., 0., 0., 0., 0., 0., 0., 0., 0., 0., 0., 0., 0., 0., 0., 0., 0., 0., 0., 0., 0., 0., 0., 0., 0., 0., 0., 0., 0., 0., 0., 0., 0., 0., 0., 0., 0., 0., 0., 0., 0., 0., 0., 0., 0., 0., 0., 0., 0., 0., 0., 0., 0., 0., 0., 0., 0., 0., 0., 0., 0., 0., 0., 0., 0., 0., 0., 0., 0., 0., 0., 0., 0., 0., 0., 0., 0., 0., 0., 0., 0., 0., 0., 0., 0., 0., 0., 0., 0., 0., 0., 0., 0., 0., 0., 0., 0., 0., 0., 0., 0., 0., 0., 0., 0., 0., 0., 0., 0., 0., 0., 0., 0., 0., 0., 0., 0., 0., 0., 0., 0., 0., 0., 0., 0., 0., 0., 0., 0., 0., 0., 0., 0., 0., 0., 0., 0., 0., 0., 0., 0., 0., 0., 0., 0., 0., 0., 0., 0., 0., 0., 0., 0., 0., 0., 0., 0., 0., 0., 0., 0., 0., 0., 0., 0., 0., 0., 0., 0., 0., 0., 0., 0., 0., 0., 0., 0., 0., 0., 0., 0., 0., 0., 0., 0., 0., 0., 0., 0., 0., 0., 0., 0., 0., 0., 0., 0., 0., 0., 0., 0., 0., 0., 0., 0., 0., 0., 0., 0., 0., 0., 0., 0., 0., 0., 0., 0., 0., 0., 0., 0., 0., 0., 0., 0., 0., 0., 0., 0., 0., 0.], 1, 0, 'Crab')]\n"
     ]
    }
   ],
   "source": [
    "# change the cat file\n",
    "with fits.open(\"/home/tguethle/cookbook/SPI_cookbook/cats/cat_crab.fits.gz\") as hdul:\n",
    "    cat = hdul[1].data\n",
    "    \n",
    "    cat[0][\"Name\"] = \"sim_source\"\n",
    "    cat[0][\"RA_OBJ\"] = 10\n",
    "    cat[0][\"DEC_OBJ\"] = -40\n",
    "\n",
    "    hdul[1].data = cat\n",
    "\n",
    "    print(hdul[1].data)\n",
    "    hdul.writeto(\"/home/tguethle/cookbook/SPI_cookbook/cats/cat_sim_source.fits.gz\", overwrite=True)"
   ]
  },
  {
   "cell_type": "code",
   "execution_count": 3,
   "metadata": {},
   "outputs": [
    {
     "name": "stdout",
     "output_type": "stream",
     "text": [
      "(array([ 0.00566636, -1.91462842]), array([[ 4.08042926e-10, -5.65719162e-08],\n",
      "       [-5.65719162e-08,  4.53306226e-05]]))\n"
     ]
    }
   ],
   "source": [
    "with open('/home/tguethle/Documents/spi/Master_Thesis/main_files/spimodfit_comparison_sim_source/pyspi_real_bkg_control/0374/pre_ppc/source_parameters.pickle', 'rb') as f:\n",
    "    data = pickle.load(f)\n",
    "    print(data)"
   ]
  },
  {
   "cell_type": "code",
   "execution_count": 30,
   "metadata": {},
   "outputs": [
    {
     "name": "stdout",
     "output_type": "stream",
     "text": [
      "Filename: /home/tguethle/cookbook/SPI_cookbook/examples/automated_Crab/fit_Crab_374_real_bkg_para2/spectra_sim_sourc.fits\n",
      "No.    Name      Ver    Type      Cards   Dimensions   Format\n",
      "  0  PRIMARY       1 PrimaryHDU      18   ()      \n",
      "  1  GROUPING      1 BinTableHDU     34   1R x 6C   [8A, 32A, 1J, 1J, 256A, 3A]   \n",
      "  2  SPECTRUM      1 BinTableHDU    117   41R x 8C   [1I, 1E, 1E, 1E, 1I, 1I, 1E, 1E]   \n"
     ]
    },
    {
     "data": {
      "image/png": "[encoded data removed]",
      "text/plain": [
       "<Figure size 640x480 with 1 Axes>"
      ]
     },
     "metadata": {},
     "output_type": "display_data"
    }
   ],
   "source": [
    "spectrum = '/home/tguethle/cookbook/SPI_cookbook/examples/automated_Crab/fit_Crab_374_real_bkg_para2/spectra_sim_sourc.fits'\n",
    "normal_E_Bins = [20.0, 21.5, 23.5, 25.5, 27.5, 30.0, 32.5, 35.5, 38.5, 42.0, 45.5, 49.5, 54.0, 58.5, 63.5, 69.0, 75.0, 81.5, 89.0, 96.5, 105.0, 114.0, 124.0, 134.5, 146.0, 159.0, 172.5, 187.5, 204.0, 221.5, 240.5, 261.5, 284.0, 308.5, 335.5, 364.5, 396.0, 430.0, 467.5, 508.0, 514, 600]\n",
    "energies = np.array([(i+j)/2 for i, j in zip(normal_E_Bins[:-1], normal_E_Bins[1:])])\n",
    "bin_widths = np.array([j-i for i, j in zip(normal_E_Bins[:-1], normal_E_Bins[1:])])\n",
    "\n",
    "\n",
    "with fits.open(spectrum) as hdul:\n",
    "    hdul.info()\n",
    "    data = hdul[2].data\n",
    "data\n",
    "\n",
    "def powerlaw(x, K, index, piv):\n",
    "    return K * (x/piv)**index\n",
    "\n",
    "flux = data['DFLUX'] * bin_widths\n",
    "\n",
    "#plt.scatter(energies, data['RATE'])\n",
    "plt.errorbar(energies, data['DFLUX'], yerr=data['DFLUX_ERR'], c='tab:orange', linestyle='None')\n",
    "plt.plot(energies, powerlaw(energies, 7e-4, -2.0, 100.0))\n",
    "#plt.plot(energies, powerlaw(energies, 7e-2, -2.0, 100.0))\n",
    "#plt.scatter(energies, flux, c='tab:green')\n",
    "#plt.xscale('log')\n",
    "plt.yscale('log')\n"
   ]
  },
  {
   "cell_type": "code",
   "execution_count": 19,
   "metadata": {},
   "outputs": [
    {
     "data": {
      "text/plain": [
       "array([ 1.5,  2. ,  2. ,  2. ,  2.5,  2.5,  3. ,  3. ,  3.5,  3.5,  4. ,\n",
       "        4.5,  4.5,  5. ,  5.5,  6. ,  6.5,  7.5,  7.5,  8.5,  9. , 10. ,\n",
       "       10.5, 11.5, 13. , 13.5, 15. , 16.5, 17.5, 19. , 21. , 22.5, 24.5,\n",
       "       27. , 29. , 31.5, 34. , 37.5, 40.5,  6. , 86. ])"
      ]
     },
     "execution_count": 19,
     "metadata": {},
     "output_type": "execute_result"
    }
   ],
   "source": [
    "bin_widths"
   ]
  },
  {
   "cell_type": "code",
   "execution_count": 31,
   "metadata": {},
   "outputs": [
    {
     "name": "stdout",
     "output_type": "stream",
     "text": [
      "Filename: /home/tguethle/cookbook/SPI_cookbook/examples/automated_Crab/dataset_374_all_data/spi/evts_det_spec.fits.gz\n",
      "No.    Name      Ver    Type      Cards   Dimensions   Format\n",
      "  0  PRIMARY       1 PrimaryHDU       6   ()      \n",
      "  1  SPI.-OBS.-DSP    1 BinTableHDU     80   1292R x 2C   [9J, 9E]   \n"
     ]
    },
    {
     "name": "stdout",
     "output_type": "stream",
     "text": [
      "Filename: /home/tguethle/Documents/spi/Master_Thesis/main_files/SPI_data/test_data/pointing.fits\n",
      "No.    Name      Ver    Type      Cards   Dimensions   Format\n",
      "  0  PRIMARY       1 PrimaryHDU      18   ()      \n",
      "  1  SPI.-OBS.-PNT    1 BinTableHDU    101   114R x 11C   [8A, 15A, 4I, 4I, 1D, 1D, 1D, 1E, 1E, 1E, 1E]   \n",
      "Filename: /home/tguethle/cookbook/SPI_cookbook/examples/automated_Crab/dataset_374_all_data/spi2/evts_det_spec.fits\n",
      "No.    Name      Ver    Type      Cards   Dimensions   Format\n",
      "  0  PRIMARY       1 PrimaryHDU       6   ()      \n",
      "  1  SPI.-OBS.-DSP    1 BinTableHDU     81   5780R x 2C   [9J, 9E]   \n",
      "Filename: /home/tguethle/Documents/spi/Master_Thesis/afs_SPI_Data/0422/pointing.fits\n",
      "No.    Name      Ver    Type      Cards   Dimensions   Format\n",
      "  0  PRIMARY       1 PrimaryHDU      18   ()      \n",
      "  1  SPI.-OBS.-PNT    1 BinTableHDU    101   114R x 11C   [8A, 15A, 4I, 4I, 1D, 1D, 1D, 1E, 1E, 1E, 1E]   \n",
      "1292\n",
      "5780\n"
     ]
    }
   ],
   "source": [
    "expo_map_path = '/home/tguethle/cookbook/SPI_cookbook/examples/Crab/dataset_skymap44/expo.fits'\n",
    "\n",
    "pointings = '/home/tguethle/Documents/spi/Master_Thesis/main_files/SPI_data/test_data/pointing.fits'\n",
    "\n",
    "dead_time = '/home/tguethle/cookbook/SPI_cookbook/examples/automated_Crab/dataset_374_all_data/spi/evts_det_spec.fits.gz'\n",
    "\n",
    "dead_time_2 = '/home/tguethle/cookbook/SPI_cookbook/examples/automated_Crab/dataset_374_all_data/spi2/evts_det_spec.fits'\n",
    "pointings_2 = '/home/tguethle/Documents/spi/Master_Thesis/afs_SPI_Data/0422/pointing.fits'\n",
    "\n",
    "with fits.open(dead_time) as hdul:\n",
    "    hdul.info()\n",
    "    data_dead_time = hdul[1].data\n",
    "    expo_map_header = hdul[1].header\n",
    "\n",
    "with fits.open(pointings) as hdul:\n",
    "    hdul.info()\n",
    "    data_pointings = hdul[1].data\n",
    "    expo_map_header = hdul[1].header\n",
    "\n",
    "with fits.open(dead_time_2) as hdul:\n",
    "    hdul.info()\n",
    "    data_dead_time_2 = hdul[1].data\n",
    "    expo_map_header = hdul[1].header\n",
    "\n",
    "with fits.open(pointings_2) as hdul:\n",
    "    hdul.info()\n",
    "    data_pointings_2 = hdul[1].data\n",
    "    expo_map_header = hdul[1].header\n",
    "\n",
    "print(len(data_dead_time))\n",
    "print(len(data_dead_time_2))\n"
   ]
  },
  {
   "cell_type": "code",
   "execution_count": 32,
   "metadata": {},
   "outputs": [],
   "source": [
    "with fits.open(dead_time) as file:\n",
    "    t = Table.read(file[1])\n",
    "    \n",
    "    counts = t\n",
    "    \n",
    "updated_counts = counts.copy()"
   ]
  },
  {
   "cell_type": "code",
   "execution_count": 37,
   "metadata": {},
   "outputs": [
    {
     "data": {
      "text/html": [
       "&lt;Column name=&apos;COUNTS&apos; dtype=&apos;float64&apos; shape=(9,) length=1292&gt;\n",
       "<table>\n",
       "<tr><td>79.4 .. 229.3</td></tr>\n",
       "<tr><td>79.60000000000001 .. 231.0</td></tr>\n",
       "<tr><td>0.0 .. 0.0</td></tr>\n",
       "<tr><td>77.5 .. 229.5</td></tr>\n",
       "<tr><td>69.5 .. 218.60000000000002</td></tr>\n",
       "<tr><td>74.0 .. 224.20000000000002</td></tr>\n",
       "<tr><td>74.60000000000001 .. 237.4</td></tr>\n",
       "<tr><td>67.9 .. 210.10000000000002</td></tr>\n",
       "<tr><td>79.7 .. 214.5</td></tr>\n",
       "<tr><td>81.10000000000001 .. 231.0</td></tr>\n",
       "<tr><td>86.2 .. 224.0</td></tr>\n",
       "<tr><td>82.9 .. 226.3</td></tr>\n",
       "<tr><td>...</td></tr>\n",
       "<tr><td>625.2 .. 1730.4</td></tr>\n",
       "<tr><td>651.2 .. 1768.6000000000001</td></tr>\n",
       "<tr><td>706.7 .. 1918.3000000000002</td></tr>\n",
       "<tr><td>745.5 .. 1885.1000000000001</td></tr>\n",
       "<tr><td>687.7 .. 1920.0</td></tr>\n",
       "<tr><td>630.9000000000001 .. 1720.1000000000001</td></tr>\n",
       "<tr><td>619.6 .. 1693.8000000000002</td></tr>\n",
       "<tr><td>633.8000000000001 .. 1722.6000000000001</td></tr>\n",
       "<tr><td>607.5 .. 1723.6000000000001</td></tr>\n",
       "<tr><td>676.7 .. 1809.3000000000002</td></tr>\n",
       "<tr><td>0.0 .. 0.0</td></tr>\n",
       "<tr><td>687.1 .. 1860.9</td></tr>\n",
       "</table>"
      ],
      "text/plain": [
       "<Column name='COUNTS' dtype='float64' shape=(9,) length=1292>\n",
       "                          79.4 .. 229.3\n",
       "             79.60000000000001 .. 231.0\n",
       "                             0.0 .. 0.0\n",
       "                          77.5 .. 229.5\n",
       "             69.5 .. 218.60000000000002\n",
       "             74.0 .. 224.20000000000002\n",
       "             74.60000000000001 .. 237.4\n",
       "             67.9 .. 210.10000000000002\n",
       "                          79.7 .. 214.5\n",
       "             81.10000000000001 .. 231.0\n",
       "                          86.2 .. 224.0\n",
       "                          82.9 .. 226.3\n",
       "                                    ...\n",
       "                        625.2 .. 1730.4\n",
       "            651.2 .. 1768.6000000000001\n",
       "            706.7 .. 1918.3000000000002\n",
       "            745.5 .. 1885.1000000000001\n",
       "                        687.7 .. 1920.0\n",
       "630.9000000000001 .. 1720.1000000000001\n",
       "            619.6 .. 1693.8000000000002\n",
       "633.8000000000001 .. 1722.6000000000001\n",
       "            607.5 .. 1723.6000000000001\n",
       "            676.7 .. 1809.3000000000002\n",
       "                             0.0 .. 0.0\n",
       "                        687.1 .. 1860.9"
      ]
     },
     "execution_count": 37,
     "metadata": {},
     "output_type": "execute_result"
    }
   ],
   "source": [
    "int(updated_counts['COUNTS'] * 0.1)"
   ]
  },
  {
   "cell_type": "code",
   "execution_count": 14,
   "metadata": {},
   "outputs": [
    {
     "name": "stdout",
     "output_type": "stream",
     "text": [
      "Filename: /home/tguethle/cookbook/SPI_cookbook/examples/automated_Crab/dataset_374_normal_bins/spi/evts_det_spec.fits.gz\n",
      "No.    Name      Ver    Type      Cards   Dimensions   Format\n",
      "  0  PRIMARY       1 PrimaryHDU       4   ()      \n",
      "  1  SPI.-OBS.-DSP    1 BinTableHDU     81   1292R x 2C   [41J, 41E]   \n",
      "Filename: /home/tguethle/evts_det_spec.fits.gz\n",
      "No.    Name      Ver    Type      Cards   Dimensions   Format\n",
      "  0  PRIMARY       1 PrimaryHDU       6   ()      \n",
      "  1  SPI.-OBS.-DSP    1 BinTableHDU     80   1292R x 2C   [41J, 41E]   \n"
     ]
    }
   ],
   "source": [
    "with fits.open(\"/home/tguethle/cookbook/SPI_cookbook/examples/automated_Crab/dataset_374_normal_bins/spi/evts_det_spec.fits.gz\") as hdul:\n",
    "    hdul.info()\n",
    "    data_energy_boundries = hdul[1].data\n",
    "    energy_boundries_header = hdul[1].header\n",
    "    # hdul[1].data = [(0.3, 2.9), (0.4, 400.3)]\n",
    "    # \n",
    "    t = Table.read(hdul[1])\n",
    "    \n",
    "    #hdul[1].data = Table.as_array(t)\n",
    "    #hdul.writeto('/home/tguethle/cookbook/SPI_cookbook/examples/automated_Crab/dataset_skymap0043/spi/counts_test.fits', overwrite=True)\n",
    "\n",
    "with fits.open('~/evts_det_spec.fits.gz') as hdul:\n",
    "    hdul.info()\n",
    "    pd = hdul[1].data\n",
    "    pd0 = hdul[0].data\n",
    "\n",
    "\n",
    "data_energy_boundries[:25]\n",
    "pd0"
   ]
  },
  {
   "cell_type": "code",
   "execution_count": 44,
   "metadata": {},
   "outputs": [
    {
     "name": "stdout",
     "output_type": "stream",
     "text": [
      "10\n",
      "9\n",
      "8\n",
      "7\n",
      "6\n",
      "5\n",
      "4\n",
      "3\n",
      "2\n",
      "1\n"
     ]
    }
   ],
   "source": [
    "for x in range(10, 0, -1):\n",
    "    print(x)"
   ]
  },
  {
   "cell_type": "code",
   "execution_count": 14,
   "metadata": {},
   "outputs": [
    {
     "data": {
      "text/plain": [
       "FITS_rec([ True,  True,  True,  True,  True,  True,  True,  True,  True,\n",
       "           True,  True,  True,  True,  True,  True,  True,  True,  True,\n",
       "           True,  True,  True,  True,  True,  True,  True,  True,  True,\n",
       "           True,  True,  True,  True,  True,  True,  True,  True,  True,\n",
       "           True,  True,  True,  True,  True,  True,  True,  True,  True,\n",
       "           True,  True,  True,  True,  True,  True,  True,  True,  True,\n",
       "           True,  True,  True,  True,  True,  True,  True,  True,  True,\n",
       "           True,  True,  True,  True,  True,  True,  True,  True,  True,\n",
       "           True,  True,  True,  True,  True,  True,  True,  True,  True,\n",
       "           True,  True,  True,  True])"
      ]
     },
     "execution_count": 14,
     "metadata": {},
     "output_type": "execute_result"
    }
   ],
   "source": [
    "data_dead_time_2[85:2*85] == data_dead_time[85:2*85]\n"
   ]
  },
  {
   "cell_type": "code",
   "execution_count": null,
   "metadata": {},
   "outputs": [],
   "source": [
    "with fits.open('/home/tguethle/Documents/spi/Master_Thesis/main_files/SPI_data/0043/pointing.fits') as hdul:\n",
    "    hdul.info()\n",
    "    pointings_43 = hdul[1].data\n",
    "\n",
    "ra = pointings_43['RA_SPIX'][:5]\n",
    "dec = pointings_43['DEC_SPIX'][0:5]\n",
    "ind = np.arange(len(ra))\n",
    "\n",
    "fig, ax = plt.subplots(figsize=(10,8), subplot_kw={'projection': 'astro degrees zoom', 'center': '83.63deg 22.01deg', 'radius': '7deg'})\n",
    "\n",
    "ax.grid()\n",
    "ax.plot(ra, dec, linestyle='--', transform=ax.get_transform('fk5'))\n",
    "ax.scatter(ra, dec, c=ind, transform=ax.get_transform('fk5'), marker='o', s=50, cmap='viridis')\n",
    "#fig.savefig('pointings_43_positions.png')"
   ]
  },
  {
   "cell_type": "code",
   "execution_count": null,
   "metadata": {},
   "outputs": [],
   "source": [
    "import numpy as np\n",
    "import astropy.io.fits as fits\n",
    "import ligo.skymap.plot\n",
    "\n",
    "import healpy as hp\n",
    "from matplotlib.colors import TwoSlopeNorm\n",
    "from astropy.coordinates import SkyCoord\n",
    "import matplotlib.pyplot as plt\n",
    "import matplotlib.cm as cm\n",
    "\n",
    "from matplotlib.animation import FuncAnimation\n",
    "from IPython.display import HTML\n",
    "\n",
    "with fits.open('/home/tguethle/cookbook/SPI_cookbook/examples/automated_Crab/dataset_skymap43_44_45_46/spi/pointing.fits') as hdul:\n",
    "    hdul.info()\n",
    "    pointings_43 = hdul[1].data\n",
    "\n",
    "ra = pointings_43['RA_SPIX']\n",
    "dec = pointings_43['DEC_SPIX']\n",
    "ind = np.arange(len(ra))\n",
    "\n",
    "fig, ax = plt.subplots(figsize=(10,8), subplot_kw={'projection': 'astro degrees zoom', 'center': '83.63deg 22.01deg', 'radius': '7deg'})\n",
    "\n",
    "ax.grid()\n",
    "ax.set_title('Pointings of observation 43_44_45_46')\n",
    "\n",
    "def animate(i):\n",
    "    points = []\n",
    "    if i >= 1:\n",
    "        points.append(ax.scatter(ra[i-1], dec[i-1], transform=ax.get_transform('fk5'), c='tab:blue', s=40, alpha=0.5))\n",
    "        points.append(ax.plot(ra[i-1:i+1], dec[i-1:i+1], transform=ax.get_transform('fk5'), c='tab:blue', linestyle=':', alpha=0.7)[0])\n",
    "    points.append(ax.scatter(ra[i], dec[i], transform=ax.get_transform('fk5'), c='tab:orange', s=50))\n",
    "    return points\n",
    "\n",
    "ani = FuncAnimation(fig, animate, frames=len(ra), interval=200, blit=True)\n",
    "ani.save('pointings_43_44_45_46.mp4', writer='ffmpeg', fps=1)\n",
    "\n",
    "#HTML(ani.to_jshtml())"
   ]
  },
  {
   "cell_type": "code",
   "execution_count": null,
   "metadata": {},
   "outputs": [],
   "source": [
    "x = [1,2,3,4,5]\n",
    "print(x)\n",
    "x.clear()\n",
    "print(x)"
   ]
  },
  {
   "cell_type": "code",
   "execution_count": null,
   "metadata": {},
   "outputs": [],
   "source": [
    "filepath = '/home/tguethle/cookbook/SPI_cookbook/examples/Crab/fit_Crab_skymap16/residuals.fits'\n",
    "filepath_background_rev = \"/home/tguethle/cookbook/SPI_cookbook/examples/automated_Crab/fit_Crab_skymap374/residuals.fits\"\n",
    "\n",
    "center = SkyCoord.from_name(\"Crab\")\n",
    "\n",
    "with fits.open(filepath_background_rev) as hdul:\n",
    "    hdul.info()\n",
    "    expo_map = hdul[3].data\n",
    "    expo_map_header = hdul[3].header\n",
    "\n",
    "# Your 2D array\n",
    "array = np.pad(expo_map, ((0,0), (0,180)), mode=\"wrap\")[0:, 180:]\n",
    "#array = np.flip(expo_map, axis=1)\n",
    "array = np.flip(array, axis=0)\n",
    "\n",
    "# Flatten the array\n",
    "flat_array = array.flatten()\n",
    "\n",
    "# Get the number of pixels in the HEALPix map\n",
    "nside = 64\n",
    "npix = hp.nside2npix(nside)\n",
    "\n",
    "# Create an empty HEALPix map\n",
    "hpx_map = np.zeros(npix)\n",
    "\n",
    "# Get the theta and phi coordinates of each pixel in the 2D array\n",
    "theta, phi = np.mgrid[0:np.pi:180j, 0:2*np.pi:360j]\n",
    "\n",
    "# Convert the theta and phi coordinates to HEALPix pixel indices\n",
    "pix_indices = hp.ang2pix(nside, theta, phi)\n",
    "\n",
    "# Assign the values from the 2D array to the HEALPix map\n",
    "hpx_map[pix_indices.flatten()] = flat_array\n",
    "\n",
    "# Now you can plot the HEALPix map\n",
    "#fig, ax = plt.subplots(figsize=(12, 8), subplot_kw={'projection': 'galactic degrees zoom', 'center': '185deg -5deg', 'radius': '25deg'})\n",
    "\n",
    "fig = plt.figure(figsize=(12,8))\n",
    "\n",
    "ax = plt.axes([0,0,0.7,0.7],projection=\"galactic degrees aitoff\", center=\"180deg -5deg\")\n",
    "\n",
    "ax2 = plt.axes([0.6,0.6,1,1], projection=\"galactic degrees zoom\", center=\"180deg -5deg\", radius=\"25deg\")\n",
    "\n",
    "norm = TwoSlopeNorm(vmin=hpx_map.min(), vcenter=0, vmax=hpx_map.max())\n",
    "\n",
    "\n",
    "ax.grid()\n",
    "im = ax.imshow_hpx(hpx_map, cmap='PiYG', norm=norm)\n",
    "ax2.imshow_hpx(hpx_map, cmap='PiYG', norm=norm)\n",
    "fig.colorbar(im)\n",
    "#ax.scatter(181.44, -2.64, transform=ax.get_transform(\"galactic\"), s=100, facecolors='none', edgecolors='r', label='Pulsar 1A0535+262')\n",
    "#ax.scatter(0,0, transform=ax.get_transform(\"galactic\"), s=100, facecolors='none', edgecolors='b', label=\"Crab\")\n",
    "ax2.plot(\n",
    "    center.ra.deg, center.dec.deg,\n",
    "    transform=ax.get_transform('fk5'),\n",
    "    marker=ligo.skymap.plot.reticle(),\n",
    "    markersize=30,\n",
    "    markeredgewidth=3)\n"
   ]
  },
  {
   "cell_type": "code",
   "execution_count": null,
   "metadata": {},
   "outputs": [],
   "source": [
    "filepath_background_rev = \"/home/tguethle/cookbook/SPI_cookbook/examples/automated_Crab/fit_Crab_skymap374/residuals.fits\"\n",
    "\n",
    "center = SkyCoord.from_name(\"Crab\")\n",
    "\n",
    "with fits.open(filepath_background_rev) as hdul:\n",
    "    hdul.info()\n",
    "    expo_map = hdul[11].data\n",
    "    expo_map_header = hdul[9].header\n",
    "\n",
    "# Your 2D array\n",
    "array = np.pad(expo_map, ((0,0), (0,180)), mode=\"wrap\")[0:, 180:]\n",
    "#array = np.flip(expo_map, axis=1)\n",
    "array = np.flip(array, axis=0)\n",
    "\n",
    "# Flatten the array\n",
    "flat_array = array.flatten()\n",
    "\n",
    "# Get the number of pixels in the HEALPix map\n",
    "nside = 64\n",
    "npix = hp.nside2npix(nside)\n",
    "\n",
    "# Create an empty HEALPix map\n",
    "hpx_map = np.zeros(npix)\n",
    "\n",
    "# Get the theta and phi coordinates of each pixel in the 2D array\n",
    "theta, phi = np.mgrid[0:np.pi:180j, 0:2*np.pi:360j]\n",
    "\n",
    "# Convert the theta and phi coordinates to HEALPix pixel indices\n",
    "pix_indices = hp.ang2pix(nside, theta, phi)\n",
    "\n",
    "# Assign the values from the 2D array to the HEALPix map\n",
    "hpx_map[pix_indices.flatten()] = flat_array\n",
    "\n",
    "# Now you can plot the HEALPix map\n",
    "#fig, ax = plt.subplots(figsize=(12, 8), subplot_kw={'projection': 'galactic degrees zoom', 'center': '185deg -5deg', 'radius': '25deg'})\n",
    "\n",
    "fig = plt.figure(figsize=(16,8))\n",
    "\n",
    "ax = plt.axes([0.05,0,0.6,0.6],projection=\"galactic degrees aitoff\", center=\"270deg 0deg\")\n",
    "ax2 = plt.axes([0.6,0.1,0.4,0.4],projection=\"galactic degrees zoom\", center=\"312deg -76deg\", radius=\"30deg\")\n",
    "\n",
    "\n",
    "\n",
    "norm = TwoSlopeNorm(vmin=hpx_map.min(), vcenter=0, vmax=hpx_map.max())\n",
    "norm2 = TwoSlopeNorm(vmin=hpx_map.min()/10, vcenter=0, vmax=hpx_map.max())\n",
    "\n",
    "\n",
    "\n",
    "ax.grid()\n",
    "ax2.grid()\n",
    "im = ax.imshow_hpx(hpx_map, cmap='PiYG', norm=norm)\n",
    "im2 = ax2.imshow_hpx(hpx_map, cmap=\"PiYG\",norm=norm)\n",
    "\n",
    "fig.colorbar(im2)\n",
    "fig.colorbar(im)\n",
    "ax2.plot(\n",
    "    10, -40,\n",
    "    transform=ax2.get_transform('fk5'),\n",
    "    marker=ligo.skymap.plot.reticle(),\n",
    "    markersize=30,\n",
    "    markeredgewidth=3)\n",
    "\n",
    "\n",
    "ax.plot(\n",
    "    10, -40,\n",
    "    transform=ax.get_transform('fk5'),\n",
    "    marker=ligo.skymap.plot.reticle(),\n",
    "    markersize=30,\n",
    "    markeredgewidth=3)\n",
    "\n",
    "plt.show()\n",
    "fig.savefig(\"Crab_residuals.png\")\n",
    "\n"
   ]
  },
  {
   "cell_type": "code",
   "execution_count": null,
   "metadata": {},
   "outputs": [],
   "source": [
    "import astropy.io.fits as fits\n",
    "from astropy.table import Table\n",
    "from astropy.wcs import WCS\n",
    "import matplotlib.pyplot as plt\n",
    "from matplotlib.colors import TwoSlopeNorm\n",
    "\n",
    "filepath = '/home/tguethle/cookbook/SPI_cookbook/examples/Crab/fit_Crab_skymap44_wideEBins/residuals.fits'\n",
    "with fits.open(filepath) as hdul:\n",
    "    # Access the data and header\n",
    "    data = hdul[3].data\n",
    "    header = hdul[3].header\n",
    "    hdul.info()\n",
    "    table = Table.read(hdul[2])\n",
    "    wcs = WCS(header)\n",
    "\n",
    "# Do further processing with the data and header\n",
    "\n",
    "plt.subplot(projection=wcs)\n",
    "plt.imshow(data, origin=\"lower\", cmap='viridis')\n",
    "plt.grid()"
   ]
  },
  {
   "cell_type": "code",
   "execution_count": null,
   "metadata": {},
   "outputs": [],
   "source": [
    "expo_map_path = '/home/tguethle/cookbook/SPI_cookbook/examples/Crab/dataset_skymap44/expo.fits'\n",
    "\n",
    "with fits.open(expo_map_path) as hdul:\n",
    "    hdul.info()\n",
    "    expo_map = hdul[1].data\n",
    "    expo_map_header = hdul[1].header\n",
    "\n",
    "plt.imshow(expo_map)\n",
    "header"
   ]
  },
  {
   "cell_type": "code",
   "execution_count": null,
   "metadata": {},
   "outputs": [],
   "source": [
    "header"
   ]
  },
  {
   "cell_type": "code",
   "execution_count": null,
   "metadata": {},
   "outputs": [],
   "source": [
    "def plot_skmap(filepath, Ebins=9, safe_plot=False, filename=\"skymap.png\"):\n",
    "    \"\"\"\n",
    "    plot the skymap as the backprojection of the residuals\n",
    "    \n",
    "    note: the labels are shifted by 180 degrees, so that the interesting part of the sky is in the middle\n",
    "    \n",
    "    \"\"\"\n",
    "    with fits.open(filepath) as hdul:\n",
    "        # Access the data and header\n",
    "        image_list = [hdul[bin].data for bin in range(3, Ebins+3)]\n",
    "        wcs = WCS(hdul[3].header)\n",
    "\n",
    "    fig, ax = plt.subplots(Ebins+2, 1, figsize=(20, 40), subplot_kw={'projection': wcs})\n",
    "    for i in range(Ebins):\n",
    "        data = np.pad(np.abs(image_list[i]), ((0,0), (0,180)), mode=\"wrap\")[:, 180:]\n",
    "        ax[i].imshow(data)\n",
    "    ax[-2].set_title(\"Sum of all energy bins\")\n",
    "    ax[-2].imshow(np.pad(np.abs(np.sum(image_list, axis=0)), ((0,0), (0,180)), mode=\"wrap\")[:, 180:])\n",
    "    ax[-1].set_title(\"Sum of all energy bins - zoom in\")\n",
    "    im = ax[-1].imshow(np.pad(np.abs(np.sum(image_list, axis=0)), ((0,0), (0,180)), mode=\"wrap\")[60:110, 180+160:180+210])\n",
    "    fig.colorbar(im)\n",
    "    plt.show()\n",
    "    if safe_plot:\n",
    "        fig.savefig(filename)\n"
   ]
  },
  {
   "cell_type": "code",
   "execution_count": null,
   "metadata": {},
   "outputs": [],
   "source": [
    "def plot_skmap(filepath, Ebins=9, safe_plot=False, filename=\"skymap.png\"):\n",
    "    \"\"\"\n",
    "    plot the skymap as the backprojection of the residuals\n",
    "    \n",
    "    note: the labels are shifted by 180 degrees, so that the interesting part of the sky is in the middle\n",
    "    \n",
    "    \"\"\"\n",
    "    with fits.open(filepath) as hdul:\n",
    "        # Access the data and header\n",
    "        image_list = [hdul[bin].data for bin in range(3, Ebins+3)]\n",
    "        wcs = WCS(hdul[3].header)\n",
    "\n",
    "    fig, ax = plt.subplots(Ebins+1, 1, figsize=(50, 100), subplot_kw={'projection': wcs})\n",
    "    for i in range(Ebins):\n",
    "        data = np.pad(image_list[i], ((0,0), (0,90)), mode=\"wrap\")[:, 90:]\n",
    "        ax[i].set_title(f\"Energy bin {i+1} - lon shifted by 90 degrees\")\n",
    "        norm = TwoSlopeNorm(vmin=data.min(), vcenter=0, vmax=data.max())\n",
    "        im = ax[i].imshow(data, cmap=\"PiYG\", norm=norm, origin=\"lower\")\n",
    "        fig.colorbar(im)\n",
    "        ax[i].scatter(181.44-90, -2.64, transform=ax[i].get_transform(\"galactic\"), s=100, facecolors='none', edgecolors='r')\n",
    "        ax[i].scatter(184.558-90, -5.784, transform=ax[i].get_transform(\"galactic\"), s=100, facecolors='none', edgecolors='b')\n",
    "\n",
    "    ax[-1].set_title(\"Sum of all energy bins - lon shifted by 90 degrees\")\n",
    "    combined_data = np.pad(np.sum(image_list, axis=0), ((0,0), (0,90)), mode=\"wrap\")[:, 90:]\n",
    "    norm = TwoSlopeNorm(vmin=combined_data.min(), vcenter=0, vmax=combined_data.max())\n",
    "    im = ax[-1].imshow(combined_data, cmap=\"PiYG\", norm=norm, origin=\"lower\")\n",
    "    fig.colorbar(im)\n",
    "    ax[-1].scatter(181.44-90, -2.64, transform=ax[-1].get_transform(\"galactic\"), s=100, facecolors='none', edgecolors='r', label='Pulsar 1A0535+262')\n",
    "    ax[-1].scatter(184.558-90, -5.784, transform=ax[-1].get_transform(\"galactic\"), s=100, facecolors='none', edgecolors='b', label=\"Crab\")\n",
    "    ax[-1].legend()\n",
    "\n",
    "    \n",
    "    plt.show()\n",
    "    if safe_plot:\n",
    "        fig.savefig(filename)\n"
   ]
  },
  {
   "cell_type": "code",
   "execution_count": null,
   "metadata": {},
   "outputs": [],
   "source": [
    "def plot_skmap_abs(filepath, Ebins=9, safe_plot=False, filename=\"skymap.png\"):\n",
    "    \"\"\"\n",
    "    plot the skymap as the backprojection of the residuals\n",
    "    \n",
    "    note: the labels are shifted by 180 degrees, so that the interesting part of the sky is in the middle\n",
    "    \n",
    "    \"\"\"\n",
    "    with fits.open(filepath) as hdul:\n",
    "        # Access the data and header\n",
    "        image_list = [hdul[bin].data for bin in range(3, Ebins+3)]\n",
    "        wcs = WCS(hdul[3].header)\n",
    "\n",
    "    fig, ax = plt.subplots(Ebins+1, 1, figsize=(50, 100), subplot_kw={'projection': wcs})\n",
    "    for i in range(Ebins):\n",
    "        data = np.pad(image_list[i], ((0,0), (0,90)), mode=\"wrap\")[:, 90:]\n",
    "        ax[i].set_title(f\"Energy bin {i+1} - lon shifted by 90 degrees\")\n",
    "        data -= np.abs(data.min())\n",
    "        data[data<0] = 0\n",
    "        im = ax[i].imshow(data, cmap='Blues', origin=\"lower\")\n",
    "        fig.colorbar(im)\n",
    "        ax[i].scatter(181.44-90, -2.64, transform=ax[i].get_transform(\"galactic\"), s=100, facecolors='none', edgecolors='r')\n",
    "        ax[i].scatter(184.558-90, -5.784, transform=ax[i].get_transform(\"galactic\"), s=100, facecolors='none', edgecolors='b')\n",
    "\n",
    "    ax[-1].set_title(\"Sum of all energy bins - lon shifted by 90 degrees\")\n",
    "    combined_data = np.pad(np.sum(image_list, axis=0), ((0,0), (0,90)), mode=\"wrap\")[:, 90:]\n",
    "    combined_data -= np.abs(combined_data.min())\n",
    "    combined_data[combined_data<0] = 0\n",
    "    im = ax[-1].imshow(combined_data, cmap=\"Greens\", origin=\"lower\")\n",
    "    fig.colorbar(im)\n",
    "    ax[-1].scatter(181.44-90, -2.64, transform=ax[-1].get_transform(\"galactic\"), s=100, facecolors='none', edgecolors='r', label='Pulsar 1A0535+262')\n",
    "    ax[-1].scatter(184.558-90, -5.784, transform=ax[-1].get_transform(\"galactic\"), s=100, facecolors='none', edgecolors='b', label=\"Crab\")\n",
    "    ax[-1].legend()\n",
    "\n",
    "    \n",
    "    plt.show()\n",
    "    if safe_plot:\n",
    "        fig.savefig(filename)\n"
   ]
  },
  {
   "cell_type": "code",
   "execution_count": null,
   "metadata": {},
   "outputs": [],
   "source": [
    "filepath = '/home/tguethle/cookbook/SPI_cookbook/examples/Crab/fit_Crab_skymap16/residuals.fits'\n",
    "\n",
    "plot_skmap_abs(filepath, 9, safe_plot=True, filename=\"skymap16_noSource_abs.png\")"
   ]
  },
  {
   "cell_type": "code",
   "execution_count": null,
   "metadata": {},
   "outputs": [],
   "source": [
    "filepath_noSource = '/home/tguethle/cookbook/SPI_cookbook/examples/Crab/fit_Crab_skymap44_noSource_wideEBins/residuals.fits'\n",
    "\n",
    "plot_skmap(filepath_noSource, 9, safe_plot=True, filename=\"skymap44\")"
   ]
  },
  {
   "cell_type": "code",
   "execution_count": null,
   "metadata": {},
   "outputs": [],
   "source": []
  }
 ],
 "metadata": {
  "kernelspec": {
   "display_name": "spi39",
   "language": "python",
   "name": "python3"
  },
  "language_info": {
   "codemirror_mode": {
    "name": "ipython",
    "version": 3
   },
   "file_extension": ".py",
   "mimetype": "text/x-python",
   "name": "python",
   "nbconvert_exporter": "python",
   "pygments_lexer": "ipython3",
   "version": "3.9.18"
  }
 },
 "nbformat": 4,
 "nbformat_minor": 2
}
