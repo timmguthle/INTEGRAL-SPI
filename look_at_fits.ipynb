{
 "cells": [
  {
   "cell_type": "code",
   "execution_count": 2,
   "metadata": {},
   "outputs": [],
   "source": [
    "import numpy as np\n",
    "import astropy.io.fits as fits\n",
    "from astropy.table import Table\n",
    "import ligo.skymap.plot\n",
    "from matplotlib import pyplot as plt\n",
    "\n",
    "import healpy as hp\n",
    "from matplotlib.colors import TwoSlopeNorm\n",
    "from astropy.coordinates import SkyCoord\n",
    "import pickle"
   ]
  },
  {
   "cell_type": "code",
   "execution_count": 3,
   "metadata": {},
   "outputs": [
    {
     "name": "stdout",
     "output_type": "stream",
     "text": [
      "[('J053432.0+220052', 0., 'sim_sourc', 3101, 10., -40., 0.00028, 2, 1, 1, 1, '', 0, [0., 0., 0., 0., 0., 0., 0., 0.], 'wabs*powerlaw', 3, [0., 0., 0., 0., 0., 0., 0., 0., 0., 0., 0., 0., 0., 0., 0., 0., 0., 0., 0., 0., 0., 0., 0., 0., 0., 0., 0., 0., 0., 0., 0., 0.], '', 0, [0., 0., 0., 0., 0., 0., 0., 0.], 'V* CM Tau, SNR 184.6-05.8, PSR B0531+21, 1H 0531+219, 2EG J0534+2158, 3A 0531+219, 3EG J0534+2200, 4U 0531+21, Crab Nebula, Tau', 0., 0., 230.9226, 59.45829, 16.52609, 1.045729, 0.5005482, 0.1424853, [0., 0., 0., 0., 0., 0., 0., 0., 0., 0., 0., 0., 0., 0., 0., 0., 0., 0., 0., 0., 0., 0., 0., 0., 0., 0., 0., 0., 0., 0., 0., 0., 0., 0., 0., 0., 0., 0., 0., 0., 0., 0., 0., 0., 0., 0., 0., 0., 0., 0., 0., 0., 0., 0., 0., 0., 0., 0., 0., 0., 0., 0., 0., 0., 0., 0., 0., 0., 0., 0., 0., 0., 0., 0., 0., 0., 0., 0., 0., 0., 0., 0., 0., 0., 0., 0., 0., 0., 0., 0., 0., 0., 0., 0., 0., 0., 0., 0., 0., 0., 0., 0., 0., 0., 0., 0., 0., 0., 0., 0., 0., 0., 0., 0., 0., 0., 0., 0., 0., 0., 0., 0., 0., 0., 0., 0., 0., 0., 0., 0., 0., 0., 0., 0., 0., 0., 0., 0., 0., 0., 0., 0., 0., 0., 0., 0., 0., 0., 0., 0., 0., 0., 0., 0., 0., 0., 0., 0., 0., 0., 0., 0., 0., 0., 0., 0., 0., 0., 0., 0., 0., 0., 0., 0., 0., 0., 0., 0., 0., 0., 0., 0., 0., 0., 0., 0., 0., 0., 0., 0., 0., 0., 0., 0., 0., 0., 0., 0., 0., 0., 0., 0., 0., 0., 0., 0., 0., 0., 0., 0., 0., 0., 0., 0., 0., 0., 0., 0., 0., 0., 0., 0., 0., 0., 0., 0., 0., 0., 0., 0., 0., 0., 0., 0., 0., 0., 0., 0., 0., 0., 0., 0., 0., 0., 0., 0., 0., 0., 0., 0., 0., 0., 0., 0., 0., 0.], [0., 0., 0., 0., 0., 0., 0., 0., 0., 0., 0., 0., 0., 0., 0., 0., 0., 0., 0., 0., 0., 0., 0., 0., 0., 0., 0., 0., 0., 0., 0., 0., 0., 0., 0., 0., 0., 0., 0., 0., 0., 0., 0., 0., 0., 0., 0., 0., 0., 0., 0., 0., 0., 0., 0., 0., 0., 0., 0., 0., 0., 0., 0., 0., 0., 0., 0., 0., 0., 0., 0., 0., 0., 0., 0., 0., 0., 0., 0., 0., 0., 0., 0., 0., 0., 0., 0., 0., 0., 0., 0., 0., 0., 0., 0., 0., 0., 0., 0., 0., 0., 0., 0., 0., 0., 0., 0., 0., 0., 0., 0., 0., 0., 0., 0., 0., 0., 0., 0., 0., 0., 0., 0., 0., 0., 0., 0., 0., 0., 0., 0., 0., 0., 0., 0., 0., 0., 0., 0., 0., 0., 0., 0., 0., 0., 0., 0., 0., 0., 0., 0., 0., 0., 0., 0., 0., 0., 0., 0., 0., 0., 0., 0., 0., 0., 0., 0., 0., 0., 0., 0., 0., 0., 0., 0., 0., 0., 0., 0., 0., 0., 0., 0., 0., 0., 0., 0., 0., 0., 0., 0., 0., 0., 0., 0., 0., 0., 0., 0., 0., 0., 0., 0., 0., 0., 0., 0., 0., 0., 0., 0., 0., 0., 0., 0., 0., 0., 0., 0., 0., 0., 0., 0., 0., 0., 0., 0., 0., 0., 0., 0., 0., 0., 0., 0., 0., 0., 0., 0., 0., 0., 0., 0., 0., 0., 0., 0., 0., 0., 0., 0., 0., 0., 0., 0., 0.], [0., 0., 0., 0., 0., 0., 0., 0., 0., 0., 0., 0., 0., 0., 0., 0., 0., 0., 0., 0., 0., 0., 0., 0., 0., 0., 0., 0., 0., 0., 0., 0., 0., 0., 0., 0., 0., 0., 0., 0., 0., 0., 0., 0., 0., 0., 0., 0., 0., 0., 0., 0., 0., 0., 0., 0., 0., 0., 0., 0., 0., 0., 0., 0., 0., 0., 0., 0., 0., 0., 0., 0., 0., 0., 0., 0., 0., 0., 0., 0., 0., 0., 0., 0., 0., 0., 0., 0., 0., 0., 0., 0., 0., 0., 0., 0., 0., 0., 0., 0., 0., 0., 0., 0., 0., 0., 0., 0., 0., 0., 0., 0., 0., 0., 0., 0., 0., 0., 0., 0., 0., 0., 0., 0., 0., 0., 0., 0., 0., 0., 0., 0., 0., 0., 0., 0., 0., 0., 0., 0., 0., 0., 0., 0., 0., 0., 0., 0., 0., 0., 0., 0., 0., 0., 0., 0., 0., 0., 0., 0., 0., 0., 0., 0., 0., 0., 0., 0., 0., 0., 0., 0., 0., 0., 0., 0., 0., 0., 0., 0., 0., 0., 0., 0., 0., 0., 0., 0., 0., 0., 0., 0., 0., 0., 0., 0., 0., 0., 0., 0., 0., 0., 0., 0., 0., 0., 0., 0., 0., 0., 0., 0., 0., 0., 0., 0., 0., 0., 0., 0., 0., 0., 0., 0., 0., 0., 0., 0., 0., 0., 0., 0., 0., 0., 0., 0., 0., 0., 0., 0., 0., 0., 0., 0., 0., 0., 0., 0., 0., 0., 0., 0., 0., 0., 0., 0.], [0., 0., 0., 0., 0., 0., 0., 0., 0., 0., 0., 0., 0., 0., 0., 0., 0., 0., 0., 0., 0., 0., 0., 0., 0., 0., 0., 0., 0., 0., 0., 0., 0., 0., 0., 0., 0., 0., 0., 0., 0., 0., 0., 0., 0., 0., 0., 0., 0., 0., 0., 0., 0., 0., 0., 0., 0., 0., 0., 0., 0., 0., 0., 0., 0., 0., 0., 0., 0., 0., 0., 0., 0., 0., 0., 0., 0., 0., 0., 0., 0., 0., 0., 0., 0., 0., 0., 0., 0., 0., 0., 0., 0., 0., 0., 0., 0., 0., 0., 0., 0., 0., 0., 0., 0., 0., 0., 0., 0., 0., 0., 0., 0., 0., 0., 0., 0., 0., 0., 0., 0., 0., 0., 0., 0., 0., 0., 0., 0., 0., 0., 0., 0., 0., 0., 0., 0., 0., 0., 0., 0., 0., 0., 0., 0., 0., 0., 0., 0., 0., 0., 0., 0., 0., 0., 0., 0., 0., 0., 0., 0., 0., 0., 0., 0., 0., 0., 0., 0., 0., 0., 0., 0., 0., 0., 0., 0., 0., 0., 0., 0., 0., 0., 0., 0., 0., 0., 0., 0., 0., 0., 0., 0., 0., 0., 0., 0., 0., 0., 0., 0., 0., 0., 0., 0., 0., 0., 0., 0., 0., 0., 0., 0., 0., 0., 0., 0., 0., 0., 0., 0., 0., 0., 0., 0., 0., 0., 0., 0., 0., 0., 0., 0., 0., 0., 0., 0., 0., 0., 0., 0., 0., 0., 0., 0., 0., 0., 0., 0., 0., 0., 0., 0., 0., 0., 0.], 1, 0, 'Crab')]\n",
      "Filename: /home/tguethle/cookbook/SPI_cookbook/cats/cat_crab.fits.gz\n",
      "No.    Name      Ver    Type      Cards   Dimensions   Format\n",
      "  0  PRIMARY       1 PrimaryHDU       4   ()      \n",
      "  1  SPI.-SRCL-CAT    1 BinTableHDU    103   1R x 36C   ['16A', 'D', '9A', 'I', 'E', 'E', 'E', 'B', 'B', 'B', 'B', '32A', 'I', '8E', '128A', 'I', '32E', '128A', 'I', '8E', '128A', 'E', 'E', 'E', 'E', 'E', 'E', 'E', 'E', '256E', '256E', '256E', '256E', 'I', 'I', '9A']   \n"
     ]
    },
    {
     "data": {
      "text/html": [
       "<div><i>Table length=1</i>\n",
       "<table id=\"table139973930110784\" class=\"table-striped table-bordered table-condensed\">\n",
       "<thead><tr><th>BIRD_SOURCE_ID</th><th>DAY_ID</th><th>NAME</th><th>CLASS</th><th>RA_OBJ</th><th>DEC_OBJ</th><th>ERR_RAD</th><th>ISGRI_FLAG</th><th>JEMX_FLAG</th><th>SPI_FLAG</th><th>PICSIT_FLAG</th><th>SPA_MODL</th><th>SPA_NPAR</th><th>SPA_PARS</th><th>SPE_MODL</th><th>SPE_NPAR</th><th>SPE_PARS</th><th>VAR_MODL</th><th>VAR_NPAR</th><th>VAR_PARS</th><th>COMMENTS</th><th>SPI_FLUX_1</th><th>SPI_FLUX_2</th><th>ISGR_FLUX_1</th><th>ISGR_FLUX_2</th><th>PICS_FLUX_1</th><th>PICS_FLUX_2</th><th>JEMX_FLUX_1</th><th>JEMX_FLUX_2</th><th>E_MIN</th><th>E_MAX</th><th>FLUX</th><th>FLUX_ERR</th><th>SEL_FLAG</th><th>FLAG</th><th>SOURCE_ID</th></tr></thead>\n",
       "<thead><tr><th>str16</th><th>float64</th><th>str9</th><th>int16</th><th>float32</th><th>float32</th><th>float32</th><th>uint8</th><th>uint8</th><th>uint8</th><th>uint8</th><th>str32</th><th>int16</th><th>float32[8]</th><th>str128</th><th>int16</th><th>float32[32]</th><th>str128</th><th>int16</th><th>float32[8]</th><th>str128</th><th>float32</th><th>float32</th><th>float32</th><th>float32</th><th>float32</th><th>float32</th><th>float32</th><th>float32</th><th>float32[256]</th><th>float32[256]</th><th>float32[256]</th><th>float32[256]</th><th>int16</th><th>int16</th><th>str9</th></tr></thead>\n",
       "<tr><td>J053432.0+220052</td><td>0.0</td><td>sim_sourc</td><td>3101</td><td>10.0</td><td>-40.0</td><td>0.00028</td><td>2</td><td>1</td><td>1</td><td>1</td><td></td><td>0</td><td>0.0 .. 0.0</td><td>wabs*powerlaw</td><td>3</td><td>0.0 .. 0.0</td><td></td><td>0</td><td>0.0 .. 0.0</td><td>V* CM Tau, SNR 184.6-05.8, PSR B0531+21, 1H 0531+219, 2EG J0534+2158, 3A 0531+219, 3EG J0534+2200, 4U 0531+21, Crab Nebula, Tau</td><td>0.0</td><td>0.0</td><td>230.9226</td><td>59.45829</td><td>16.52609</td><td>1.045729</td><td>0.5005482</td><td>0.1424853</td><td>0.0 .. 0.0</td><td>0.0 .. 0.0</td><td>0.0 .. 0.0</td><td>0.0 .. 0.0</td><td>1</td><td>0</td><td>Crab</td></tr>\n",
       "</table></div>"
      ],
      "text/plain": [
       "<Table length=1>\n",
       " BIRD_SOURCE_ID   DAY_ID    NAME   CLASS ... SEL_FLAG  FLAG SOURCE_ID\n",
       "     str16       float64    str9   int16 ...  int16   int16    str9  \n",
       "---------------- ------- --------- ----- ... -------- ----- ---------\n",
       "J053432.0+220052     0.0 sim_sourc  3101 ...        1     0 Crab     "
      ]
     },
     "execution_count": 3,
     "metadata": {},
     "output_type": "execute_result"
    }
   ],
   "source": [
    "# change the cat file\n",
    "with fits.open(\"/home/tguethle/cookbook/SPI_cookbook/cats/cat_crab.fits.gz\") as hdul:\n",
    "    cat = hdul[1].data\n",
    "    \n",
    "    cat[0][\"Name\"] = \"sim_source\"\n",
    "    cat[0][\"RA_OBJ\"] = 10\n",
    "    cat[0][\"DEC_OBJ\"] = -40\n",
    "    cat[0][\"SPI_FLUX_1\"] = 0\n",
    "    cat[0][\"SPI_FLUX_2\"] = 0\n",
    "    h = hdul[1].header\n",
    "\n",
    "    hdul[1].data = cat\n",
    "\n",
    "    print(hdul[1].data)\n",
    "    hdul.info()\n",
    "    t = Table(hdul[1].data)\n",
    "    #hdul.writeto(\"/home/tguethle/cookbook/SPI_cookbook/cats/cat_sim_source.fits.gz\", overwrite=True)\n",
    "t"
   ]
  },
  {
   "cell_type": "code",
   "execution_count": 4,
   "metadata": {},
   "outputs": [
    {
     "name": "stdout",
     "output_type": "stream",
     "text": [
      "Filename: /home/tguethle/cookbook/SPI_cookbook/examples/automated_Crab/fit_Crab_bright_100_new/convolved_sky_images.fits\n",
      "No.    Name      Ver    Type      Cards   Dimensions   Format\n",
      "  0  PRIMARY       1 PrimaryHDU      18   ()      \n",
      "  1  GROUPING      1 BinTableHDU     29   1R x 6C   [8A, 32A, 1J, 1J, 256A, 3A]   \n",
      "  2  SPI.-BMOD-DSP    1 BinTableHDU     82   779R x 2C   [41E, 41E]   \n"
     ]
    },
    {
     "data": {
      "text/plain": [
       "(779, 41)"
      ]
     },
     "execution_count": 4,
     "metadata": {},
     "output_type": "execute_result"
    }
   ],
   "source": [
    "# take a look at the response of spimodfit\n",
    "spimodfit_path = \"/home/tguethle/cookbook/SPI_cookbook/examples/automated_Crab/fit_Crab_bright_100_new/\"\n",
    "response_name = \"convolved_sky_images.fits\"\n",
    "\n",
    "with fits.open(spimodfit_path + response_name) as hdul:\n",
    "    hdul.info()\n",
    "    t = Table(hdul[2].data)\n",
    "\n",
    "t\n",
    "\n",
    "counts = t[\"COUNTS\"]\n",
    "counts.shape"
   ]
  },
  {
   "cell_type": "code",
   "execution_count": 5,
   "metadata": {},
   "outputs": [
    {
     "data": {
      "text/plain": [
       "779"
      ]
     },
     "execution_count": 5,
     "metadata": {},
     "output_type": "execute_result"
    }
   ],
   "source": [
    "41*19"
   ]
  },
  {
   "cell_type": "code",
   "execution_count": 6,
   "metadata": {},
   "outputs": [
    {
     "name": "stdout",
     "output_type": "stream",
     "text": [
      "(array([ 0.00566636, -1.91462842]), array([[ 4.08042926e-10, -5.65719162e-08],\n",
      "       [-5.65719162e-08,  4.53306226e-05]]))\n"
     ]
    }
   ],
   "source": [
    "with open('/home/tguethle/Documents/spi/Master_Thesis/main_files/spimodfit_comparison_sim_source/pyspi_real_bkg_control/0374/pre_ppc/source_parameters.pickle', 'rb') as f:\n",
    "    data = pickle.load(f)\n",
    "    print(data)"
   ]
  },
  {
   "cell_type": "markdown",
   "metadata": {},
   "source": [
    "## Spectrum Simulated source"
   ]
  },
  {
   "cell_type": "code",
   "execution_count": 7,
   "metadata": {},
   "outputs": [
    {
     "name": "stdout",
     "output_type": "stream",
     "text": [
      "Filename: /home/tguethle/cookbook/SPI_cookbook/examples/automated_Crab/fit_Crab_374_real_bkg_para2/spectra_sim_sourc.fits\n",
      "No.    Name      Ver    Type      Cards   Dimensions   Format\n",
      "  0  PRIMARY       1 PrimaryHDU      18   ()      \n",
      "  1  GROUPING      1 BinTableHDU     34   1R x 6C   [8A, 32A, 1J, 1J, 256A, 3A]   \n",
      "  2  SPECTRUM      1 BinTableHDU    117   41R x 8C   [1I, 1E, 1E, 1E, 1I, 1I, 1E, 1E]   \n"
     ]
    },
    {
     "data": {
      "image/png": "[encoded data removed]",
      "text/plain": [
       "<Figure size 1000x800 with 1 Axes>"
      ]
     },
     "metadata": {},
     "output_type": "display_data"
    }
   ],
   "source": [
    "spectrum = '/home/tguethle/cookbook/SPI_cookbook/examples/automated_Crab/fit_Crab_374_real_bkg_para2/spectra_sim_sourc.fits'\n",
    "normal_E_Bins = [20.0, 21.5, 23.5, 25.5, 27.5, 30.0, 32.5, 35.5, 38.5, 42.0, 45.5, 49.5, 54.0, 58.5, 63.5, 69.0, 75.0, 81.5, 89.0, 96.5, 105.0, 114.0, 124.0, 134.5, 146.0, 159.0, 172.5, 187.5, 204.0, 221.5, 240.5, 261.5, 284.0, 308.5, 335.5, 364.5, 396.0, 430.0, 467.5, 508.0, 514, 600]\n",
    "energies = np.array([(i+j)/2 for i, j in zip(normal_E_Bins[:-1], normal_E_Bins[1:])])\n",
    "bin_widths = np.array([j-i for i, j in zip(normal_E_Bins[:-1], normal_E_Bins[1:])])\n",
    "\n",
    "\n",
    "with fits.open(spectrum) as hdul:\n",
    "    hdul.info()\n",
    "    data = hdul[2].data\n",
    "data\n",
    "\n",
    "def powerlaw(x, K, index, piv):\n",
    "    return K * (x/piv)**index\n",
    "\n",
    "flux = data['DFLUX'] * bin_widths\n",
    "\n",
    "fig, ax = plt.subplots(figsize=(10, 8))\n",
    "ax.grid()\n",
    "\n",
    "#plt.scatter(energies, data['RATE'])\n",
    "ax.errorbar(energies, data['DFLUX'], yerr=data['DFLUX_ERR'], c='tab:orange', linestyle='None', marker='o', markersize=2, zorder=2)\n",
    "ax.plot(energies, powerlaw(energies, 7e-4, -2.0, 100.0), linestyle='dashed')\n",
    "#plt.plot(energies, powerlaw(energies, 7e-2, -2.0, 100.0))\n",
    "#plt.scatter(energies, flux, c='tab:green')\n",
    "#plt.xscale('log')\n",
    "plt.yscale('log')\n"
   ]
  },
  {
   "cell_type": "code",
   "execution_count": 8,
   "metadata": {},
   "outputs": [
    {
     "data": {
      "text/plain": [
       "array([3.53361975e-04, 2.73957179e-04, 2.37374115e-04, 1.27942956e-04,\n",
       "       7.79419133e-05, 6.54816104e-05, 5.21202419e-05, 4.63289216e-05,\n",
       "       3.93262344e-05, 3.65304841e-05, 3.33840617e-05, 5.71283090e-05,\n",
       "       6.24641543e-05, 5.49075667e-05, 6.74370094e-05, 2.21009286e-05,\n",
       "       1.89564689e-05, 1.65963247e-05, 2.93796656e-05, 1.94995264e-05,\n",
       "       1.31698071e-05, 1.34787942e-05, 1.32275263e-05, 2.73204041e-05,\n",
       "       1.09117182e-05, 1.14179320e-05, 1.30839635e-05, 2.56421717e-05,\n",
       "       9.33878346e-06, 9.05400248e-06, 8.47423144e-06, 8.89288185e-06,\n",
       "       9.03742512e-06, 8.72259534e-06, 8.18240824e-06, 7.95878532e-06,\n",
       "       7.91673028e-06, 8.12796770e-06, 8.57855048e-06, 2.94473248e-05,\n",
       "       5.04386162e-06], dtype=float32)"
      ]
     },
     "execution_count": 8,
     "metadata": {},
     "output_type": "execute_result"
    }
   ],
   "source": [
    "data['DFLUX_ERR']"
   ]
  },
  {
   "cell_type": "code",
   "execution_count": 9,
   "metadata": {},
   "outputs": [
    {
     "name": "stdout",
     "output_type": "stream",
     "text": [
      "Filename: /home/tguethle/cookbook/SPI_cookbook/examples/automated_Crab/dataset_374_all_data/spi/evts_det_spec.fits.gz\n",
      "No.    Name      Ver    Type      Cards   Dimensions   Format\n",
      "  0  PRIMARY       1 PrimaryHDU       6   ()      \n",
      "  1  SPI.-OBS.-DSP    1 BinTableHDU     80   1292R x 2C   [9J, 9E]   \n",
      "Filename: /home/tguethle/Documents/spi/Master_Thesis/spiselect_SPI_Data/0374_center/pointing.fits\n",
      "No.    Name      Ver    Type      Cards   Dimensions   Format\n",
      "  0  PRIMARY       1 PrimaryHDU       6   ()      \n",
      "  1  SPI.-OBS.-PNT    1 BinTableHDU     99   41R x 11C   [8A, 15A, 4I, 4I, 1D, 1D, 1D, 1E, 1E, 1E, 1E]   \n",
      "Filename: /home/tguethle/cookbook/SPI_cookbook/examples/automated_Crab/dataset_374_all_data/spi2/evts_det_spec.fits\n",
      "No.    Name      Ver    Type      Cards   Dimensions   Format\n",
      "  0  PRIMARY       1 PrimaryHDU       6   ()      \n",
      "  1  SPI.-OBS.-DSP    1 BinTableHDU     81   5780R x 2C   [9J, 9E]   \n",
      "Filename: /home/tguethle/Documents/spi/Master_Thesis/afs_SPI_Data/0422/pointing.fits\n",
      "No.    Name      Ver    Type      Cards   Dimensions   Format\n",
      "  0  PRIMARY       1 PrimaryHDU      18   ()      \n",
      "  1  SPI.-OBS.-PNT    1 BinTableHDU    101   114R x 11C   [8A, 15A, 4I, 4I, 1D, 1D, 1D, 1E, 1E, 1E, 1E]   \n"
     ]
    },
    {
     "data": {
      "text/plain": [
       "FITS_rec([('03740001', '03740001.000000', [     0,  23523,  23392,  63737], [     0,  23523,  32836,  43300], 2135.25203917, 2135.25887054,  590.23083747, 14.359367 , -46.588104, 229.94302, -37.57425 ),\n",
       "          ('03740002', '03740002.000000', [     0,  23523,  35168,  63308], [     0,  23524,  12715,  46651], 2135.26055769, 2135.29172288, 2692.6731186 , 13.767507 , -46.369335, 230.1961 , -37.48927 ),\n",
       "          ('03740003', '03740003.000000', [     0,  23524,  14688,  61659], [     0,  23524,  57391,  57115], 2135.29315028, 2135.32404073, 2668.93465422, 11.059443 , -45.68437 , 230.99942, -36.81915 ),\n",
       "          ('03740004', '03740004.000000', [     0,  23524,  59360,  60025], [     0,  23525,  36473,  15008], 2135.32546509, 2135.35631603, 2665.52106031,  8.418544 , -44.942196, 231.72835, -36.096745),\n",
       "          ('03740005', '03740005.000000', [     0,  23525,  38880,  58374], [     0,  23526,  15469,  31713], 2135.35805769, 2135.38852977, 2632.78855823,  5.848483 , -44.144936, 232.3689 , -35.334618),\n",
       "          ('03740006', '03740006.000000', [     0,  23526,  17376,  56748], [     0,  23526,  60049,  32146], 2135.38990954, 2135.42077806, 2667.04055212,  3.3409438, -43.29776 , 232.92168, -34.53164 ),\n",
       "          ('03740007', '03740007.000000', [     0,  23526,  61920,  55089], [     0,  23527,  39184,  44763], 2135.42213176, 2135.45309231, 2674.9916859 ,  4.515532 , -41.49371 , 234.48235, -36.024696),\n",
       "          ('03740008', '03740008.000000', [     0,  23527,  41056,  53411], [     0,  23528,  18240,  51792], 2135.45444657, 2135.48534935, 2669.99999998,  6.964257 , -42.318604, 233.91713, -36.858116),\n",
       "          ('03740009', '03740009.000000', [     0,  23528,  20208,  51716], [     0,  23528,  62997,  56845], 2135.48677296, 2135.51772573, 2674.31895444,  9.474769 , -43.092133, 233.2629 , -37.65576 ),\n",
       "          ('03740010', '03740010.000000', [     0,  23528,  65008,  50000], [     0,  23529,  42121,  24182], 2135.51918037, 2135.55003152, 2665.53945322, 12.045691 , -43.811188, 232.52422, -38.410458),\n",
       "          ('03740011', '03740011.000000', [     0,  23529,  44528,  48253], [     0,  23530,  21125,  45868], 2135.55177296, 2135.58225111, 2633.31179872, 14.672971 , -44.472218, 231.70024, -39.1178  ),\n",
       "          ('03740012', '03740012.000000', [     0,  23530,  23664,  46503], [     0,  23531,    146,  54630], 2135.58408778, 2135.61448285, 2626.13433811, 15.535345 , -42.571117, 233.05304, -40.808445),\n",
       "          ('03740013', '03740013.000000', [     0,  23531,   2544,  44742], [     0,  23531,  44558,  60030], 2135.61621741, 2135.64660967, 2625.8911857 , 12.975445 , -41.933567, 234.02664, -40.013218),\n",
       "          ('03740014', '03740014.000000', [     0,  23531,  47088,  42956], [     0,  23532,  23555,  39933], 2135.64843963, 2135.67882373, 2625.18624208, 10.471925 , -41.230362, 234.90326, -39.174076),\n",
       "          ('03740015', '03740015.000000', [     0,  23532,  26224,  41145], [     0,  23533,   2618,   1030], 2135.68075444, 2135.71108533, 2620.58838462,  8.020766 , -40.479362, 235.66982, -38.28552 ),\n",
       "          ('03740016', '03740016.000000', [     0,  23533,   4592,  39343], [     0,  23533,  47276,  14363], 2135.7125137 , 2135.74339018, 2667.72786522,  5.6220603, -39.679028, 236.32793, -37.357525),\n",
       "          ('03740017', '03740017.000000', [     0,  23533,  49264,  37489], [     0,  23534,  26405,  45493], 2135.74482852, 2135.7757003 , 2667.32183835,  6.6659665, -37.85195 , 238.08789, -38.743954),\n",
       "          ('03740018', '03740018.000000', [     0,  23534,  28400,  35618], [     0,  23535,   5542,  27241], 2135.77714333, 2135.80801566, 2667.36873054,  9.010818 , -38.633644, 237.42215, -39.709602),\n",
       "          ('03740019', '03740019.000000', [     0,  23535,   7408,  33735], [     0,  23535,  50189,  11310], 2135.80936556, 2135.84031223, 2673.7928515 , 11.405722 , -39.36475 , 236.64883, -40.6382  ),\n",
       "          ('03740021', '03740021.000000', [     0,  23536,  31616,  29892], [     0,  23537,   8205,  45527], 2135.87428454, 2135.9047571 , 2632.82915307, 16.34673  , -40.66516 , 234.77332, -42.36209 ),\n",
       "          ('03740022', '03740022.000000', [     0,  23537,  10112,  27981], [     0,  23537,  52880,  63913], 2135.90613639, 2135.93707431, 2673.03605268, 17.118464 , -38.75785 , 236.35535, -43.973125),\n",
       "          ('03740023', '03740023.000000', [     0,  23537,  54784,  26024], [     0,  23538,  32021,  25917], 2135.9384512 , 2135.96939234, 2673.31419852, 14.684301 , -38.15059 , 237.50189, -43.039185),\n",
       "          ('03740024', '03740024.000000', [     0,  23538,  34560,  24022], [     0,  23539,  11017,  49559], 2135.97122898, 2136.00160616, 2624.58863638, 12.296526 , -37.491993, 238.50945, -42.052612),\n",
       "          ('03740025', '03740025.000000', [     0,  23539,  12928,  22067], [     0,  23539,  55654,  31358], 2136.00298824, 2136.03389548, 2670.3856888 ,  9.950454 , -36.776997, 239.39418, -41.018738),\n",
       "          ('03740026', '03740026.000000', [     0,  23539,  57600,  20062], [     0,  23540,  34793,  19148], 2136.03530306, 2136.06621236, 2670.56347274,  7.6537347, -36.01439 , 240.14743, -39.94837 ),\n",
       "          ('03740027', '03740027.000000', [     0,  23540,  36096,  18069], [     0,  23541,  13337,  54336], 2136.06715491, 2136.09809934, 2673.59894583,  7.713197 , -35.106567, 241.09637, -40.31362 ),\n",
       "          ('03740028', '03740028.000000', [     0,  23541,  15616,  16015], [     0,  23541,  57877,  51296], 2136.0997475 , 2136.13031866, 2641.34799375,  9.979864 , -35.872673, 240.39272, -41.386917),\n",
       "          ('03740029', '03740029.000000', [     0,  23541,  59776,  13990], [     0,  23542,  36883,  64199], 2136.13169194, 2136.1625396 , 2665.23725986, 12.293303 , -36.591885, 239.56631, -42.42352 ),\n",
       "          ('03740030', '03740030.000000', [     0,  23542,  39296,  11912], [     0,  23543,  15871,  18889], 2136.16428454, 2136.19474688, 2631.94601442, 14.649365 , -37.26536 , 238.60124, -43.417156),\n",
       "          ('03740031', '03740031.000000', [     0,  23543,  17792,   9870], [     0,  23543,  60533,  30738], 2136.19613639, 2136.22705461, 2671.33429906, 17.052082 , -37.885784, 237.51668, -44.35691 ),\n",
       "          ('03740032', '03740032.000000', [     0,  23543,  62464,   7791], [     0,  23544,  39660,  22250], 2136.2284512 , 2136.25936284, 2670.7656956 , 16.272371 , -39.791527, 235.94307, -42.742004),\n",
       "          ('03740033', '03740033.000000', [     0,  23544,  41616,   5699], [     0,  23545,  18731,  48599], 2136.26077759, 2136.29163095, 2665.73032396, 13.815429 , -39.156532, 236.99397, -41.84459 ),\n",
       "          ('03740035', '03740035.000000', [     0,  23546,    400,   1470], [     0,  23546,  42344,  40666], 2136.32577759, 2136.35611948, 2621.53927041,  9.046923 , -37.73006 , 238.7283 , -39.904438),\n",
       "          ('03740036', '03740036.000000', [     0,  23546,  44319,  64930], [     0,  23547,  21460,  44484], 2136.35754843, 2136.38841989, 2667.29492568,  6.730792 , -36.94225 , 239.41359, -38.875088),\n",
       "          ('03740037', '03740037.000000', [     0,  23547,  23327,  62822], [     0,  23548,    579,  15943], 2136.38977065, 2136.42072212, 2674.20722199,  5.6940646, -38.76744 , 237.65096, -37.501118),\n",
       "          ('03740038', '03740038.000000', [     0,  23548,   2463,  60708], [     0,  23548,  45249,   7349], 2136.42208546, 2136.45303542, 2674.0760441 ,  8.054563 , -39.57466 , 237.07416, -38.429974),\n",
       "          ('03740039', '03740039.000000', [     0,  23548,  47135,  58594], [     0,  23549,  24364,  52193], 2136.45440028, 2136.48533556, 2672.80832484, 10.469511 , -40.333084, 236.39772, -39.324863),\n",
       "          ('03740040', '03740040.000000', [     0,  23549,  26911,  56451], [     0,  23550,   3376,   2899], 2136.48717806, 2136.51756015, 2625.01332486, 12.934197 , -41.038692, 235.62239, -40.178772),\n",
       "          ('03740041', '03740041.000000', [     0,  23550,   5919,  54342], [     0,  23550,  47807,  52362], 2136.51940028, 2136.5497012 , 2617.99999997, 15.454926 , -41.689754, 234.74442, -40.99008 ),\n",
       "          ('03740043', '03740043.000000', [     0,  23551,  29471,  50133], [     0,  23552,   7523,  11890], 2136.58384472, 2136.61537499, 2724.21548957, 12.013073 , -42.91923 , 234.22444, -38.538044),\n",
       "          ('03740045', '03740045.000000', [     0,  23553,  12463,  44756], [     0,  23554,  13628,  37356], 2136.6663563 , 2136.71460639, 4168.8084324 ,  6.984617 , -41.358192, 235.68446, -36.859978)],\n",
       "         dtype=(numpy.record, [('PTID_ISOC', 'S8'), ('PTID_SPI', 'S15'), ('OBT_START', '>i2', (4,)), ('OBT_END', '>i2', (4,)), ('TSTART', '>f8'), ('TSTOP', '>f8'), ('TELAPSE', '>f8'), ('RA_SPIX', '>f4'), ('DEC_SPIX', '>f4'), ('RA_SPIZ', '>f4'), ('DEC_SPIZ', '>f4')]))"
      ]
     },
     "execution_count": 9,
     "metadata": {},
     "output_type": "execute_result"
    }
   ],
   "source": [
    "expo_map_path = '/home/tguethle/cookbook/SPI_cookbook/examples/Crab/dataset_skymap44/expo.fits'\n",
    "\n",
    "pointings = '/home/tguethle/Documents/spi/Master_Thesis/spiselect_SPI_Data/0374_center/pointing.fits'\n",
    "\n",
    "dead_time = '/home/tguethle/cookbook/SPI_cookbook/examples/automated_Crab/dataset_374_all_data/spi/evts_det_spec.fits.gz'\n",
    "\n",
    "dead_time_2 = '/home/tguethle/cookbook/SPI_cookbook/examples/automated_Crab/dataset_374_all_data/spi2/evts_det_spec.fits'\n",
    "pointings_2 = '/home/tguethle/Documents/spi/Master_Thesis/afs_SPI_Data/0422/pointing.fits'\n",
    "\n",
    "with fits.open(dead_time) as hdul:\n",
    "    hdul.info()\n",
    "    data_dead_time = hdul[1].data\n",
    "    expo_map_header = hdul[1].header\n",
    "\n",
    "with fits.open(pointings) as hdul:\n",
    "    hdul.info()\n",
    "    data_pointings = hdul[1].data\n",
    "    expo_map_header = hdul[1].header\n",
    "\n",
    "with fits.open(dead_time_2) as hdul:\n",
    "    hdul.info()\n",
    "    data_dead_time_2 = hdul[1].data\n",
    "    expo_map_header = hdul[1].header\n",
    "\n",
    "with fits.open(pointings_2) as hdul:\n",
    "    hdul.info()\n",
    "    data_pointings_2 = hdul[1].data\n",
    "    expo_map_header = hdul[1].header\n",
    "\n",
    "data_pointings"
   ]
  },
  {
   "cell_type": "code",
   "execution_count": 12,
   "metadata": {},
   "outputs": [
    {
     "data": {
      "text/plain": [
       "1161"
      ]
     },
     "execution_count": 12,
     "metadata": {},
     "output_type": "execute_result"
    }
   ],
   "source": [
    "len(list(np.arange(20, 600.5, 0.5)))\n"
   ]
  },
  {
   "cell_type": "code",
   "execution_count": null,
   "metadata": {},
   "outputs": [],
   "source": [
    "with fits.open('/home/tguethle/cookbook/SPI_cookbook/examples/automated_Crab/dataset_374_100_bins/spi/evts_det_spec.fits.gz') as file:\n",
    "    t = Table.read(file[1])\n",
    "    file.info()\n",
    "    \n",
    "with fits.open('/home/tguethle/cookbook/SPI_cookbook/examples/automated_Crab/dataset_374_100_bins/spi/energy_boundaries.fits.gz') as file:\n",
    "    t = Table.read(file[1])\n",
    "    file.info()\n",
    "    \n",
    "    \n",
    "t"
   ]
  },
  {
   "cell_type": "code",
   "execution_count": null,
   "metadata": {},
   "outputs": [],
   "source": [
    "updated_counts['COUNTS'] // int(1/0.1)"
   ]
  },
  {
   "cell_type": "code",
   "execution_count": null,
   "metadata": {},
   "outputs": [],
   "source": [
    "with fits.open(\"/home/tguethle/cookbook/SPI_cookbook/examples/automated_Crab/dataset_374_normal_bins/spi/evts_det_spec.fits.gz\") as hdul:\n",
    "    hdul.info()\n",
    "    data_energy_boundries = hdul[1].data\n",
    "    energy_boundries_header = hdul[1].header\n",
    "    # hdul[1].data = [(0.3, 2.9), (0.4, 400.3)]\n",
    "    # \n",
    "    t = Table.read(hdul[1])\n",
    "    \n",
    "    #hdul[1].data = Table.as_array(t)\n",
    "    #hdul.writeto('/home/tguethle/cookbook/SPI_cookbook/examples/automated_Crab/dataset_skymap0043/spi/counts_test.fits', overwrite=True)\n",
    "\n",
    "with fits.open('~/evts_det_spec.fits.gz') as hdul:\n",
    "    hdul.info()\n",
    "    pd = hdul[1].data\n",
    "    pd0 = hdul[0].data\n",
    "\n",
    "\n",
    "data_energy_boundries[:25]\n",
    "pd0"
   ]
  },
  {
   "cell_type": "code",
   "execution_count": null,
   "metadata": {},
   "outputs": [],
   "source": [
    "for x in range(10, 0, -1):\n",
    "    print(x)"
   ]
  },
  {
   "cell_type": "code",
   "execution_count": null,
   "metadata": {},
   "outputs": [],
   "source": [
    "data_dead_time_2[85:2*85] == data_dead_time[85:2*85]\n"
   ]
  },
  {
   "cell_type": "code",
   "execution_count": null,
   "metadata": {},
   "outputs": [],
   "source": [
    "with fits.open('/home/tguethle/Documents/spi/Master_Thesis/main_files/SPI_data/0043/pointing.fits') as hdul:\n",
    "    hdul.info()\n",
    "    pointings_43 = hdul[1].data\n",
    "\n",
    "ra = pointings_43['RA_SPIX'][:5]\n",
    "dec = pointings_43['DEC_SPIX'][0:5]\n",
    "ind = np.arange(len(ra))\n",
    "\n",
    "fig, ax = plt.subplots(figsize=(10,8), subplot_kw={'projection': 'astro degrees zoom', 'center': '83.63deg 22.01deg', 'radius': '7deg'})\n",
    "\n",
    "ax.grid()\n",
    "ax.plot(ra, dec, linestyle='--', transform=ax.get_transform('fk5'))\n",
    "ax.scatter(ra, dec, c=ind, transform=ax.get_transform('fk5'), marker='o', s=50, cmap='viridis')\n",
    "#fig.savefig('pointings_43_positions.png')"
   ]
  },
  {
   "cell_type": "code",
   "execution_count": null,
   "metadata": {},
   "outputs": [],
   "source": [
    "import numpy as np\n",
    "import astropy.io.fits as fits\n",
    "import ligo.skymap.plot\n",
    "\n",
    "import healpy as hp\n",
    "from matplotlib.colors import TwoSlopeNorm\n",
    "from astropy.coordinates import SkyCoord\n",
    "import matplotlib.pyplot as plt\n",
    "import matplotlib.cm as cm\n",
    "\n",
    "from matplotlib.animation import FuncAnimation\n",
    "from IPython.display import HTML\n",
    "\n",
    "with fits.open('/home/tguethle/cookbook/SPI_cookbook/examples/automated_Crab/dataset_skymap43_44_45_46/spi/pointing.fits') as hdul:\n",
    "    hdul.info()\n",
    "    pointings_43 = hdul[1].data\n",
    "\n",
    "ra = pointings_43['RA_SPIX']\n",
    "dec = pointings_43['DEC_SPIX']\n",
    "ind = np.arange(len(ra))\n",
    "\n",
    "fig, ax = plt.subplots(figsize=(10,8), subplot_kw={'projection': 'astro degrees zoom', 'center': '83.63deg 22.01deg', 'radius': '7deg'})\n",
    "\n",
    "ax.grid()\n",
    "ax.set_title('Pointings of observation 43_44_45_46')\n",
    "\n",
    "def animate(i):\n",
    "    points = []\n",
    "    if i >= 1:\n",
    "        points.append(ax.scatter(ra[i-1], dec[i-1], transform=ax.get_transform('fk5'), c='tab:blue', s=40, alpha=0.5))\n",
    "        points.append(ax.plot(ra[i-1:i+1], dec[i-1:i+1], transform=ax.get_transform('fk5'), c='tab:blue', linestyle=':', alpha=0.7)[0])\n",
    "    points.append(ax.scatter(ra[i], dec[i], transform=ax.get_transform('fk5'), c='tab:orange', s=50))\n",
    "    return points\n",
    "\n",
    "ani = FuncAnimation(fig, animate, frames=len(ra), interval=200, blit=True)\n",
    "ani.save('pointings_43_44_45_46.mp4', writer='ffmpeg', fps=1)\n",
    "\n",
    "#HTML(ani.to_jshtml())"
   ]
  },
  {
   "cell_type": "code",
   "execution_count": null,
   "metadata": {},
   "outputs": [],
   "source": [
    "x = [1,2,3,4,5]\n",
    "print(x)\n",
    "x.clear()\n",
    "print(x)"
   ]
  },
  {
   "cell_type": "code",
   "execution_count": null,
   "metadata": {},
   "outputs": [],
   "source": [
    "filepath = '/home/tguethle/cookbook/SPI_cookbook/examples/Crab/fit_Crab_skymap16/residuals.fits'\n",
    "filepath_background_rev = \"/home/tguethle/cookbook/SPI_cookbook/examples/automated_Crab/fit_Crab_skymap374/residuals.fits\"\n",
    "\n",
    "center = SkyCoord.from_name(\"Crab\")\n",
    "\n",
    "with fits.open(filepath_background_rev) as hdul:\n",
    "    hdul.info()\n",
    "    expo_map = hdul[3].data\n",
    "    expo_map_header = hdul[3].header\n",
    "\n",
    "# Your 2D array\n",
    "array = np.pad(expo_map, ((0,0), (0,180)), mode=\"wrap\")[0:, 180:]\n",
    "#array = np.flip(expo_map, axis=1)\n",
    "array = np.flip(array, axis=0)\n",
    "\n",
    "# Flatten the array\n",
    "flat_array = array.flatten()\n",
    "\n",
    "# Get the number of pixels in the HEALPix map\n",
    "nside = 64\n",
    "npix = hp.nside2npix(nside)\n",
    "\n",
    "# Create an empty HEALPix map\n",
    "hpx_map = np.zeros(npix)\n",
    "\n",
    "# Get the theta and phi coordinates of each pixel in the 2D array\n",
    "theta, phi = np.mgrid[0:np.pi:180j, 0:2*np.pi:360j]\n",
    "\n",
    "# Convert the theta and phi coordinates to HEALPix pixel indices\n",
    "pix_indices = hp.ang2pix(nside, theta, phi)\n",
    "\n",
    "# Assign the values from the 2D array to the HEALPix map\n",
    "hpx_map[pix_indices.flatten()] = flat_array\n",
    "\n",
    "# Now you can plot the HEALPix map\n",
    "#fig, ax = plt.subplots(figsize=(12, 8), subplot_kw={'projection': 'galactic degrees zoom', 'center': '185deg -5deg', 'radius': '25deg'})\n",
    "\n",
    "fig = plt.figure(figsize=(12,8))\n",
    "\n",
    "ax = plt.axes([0,0,0.7,0.7],projection=\"galactic degrees aitoff\", center=\"180deg -5deg\")\n",
    "\n",
    "ax2 = plt.axes([0.6,0.6,1,1], projection=\"galactic degrees zoom\", center=\"180deg -5deg\", radius=\"25deg\")\n",
    "\n",
    "norm = TwoSlopeNorm(vmin=hpx_map.min(), vcenter=0, vmax=hpx_map.max())\n",
    "\n",
    "\n",
    "ax.grid()\n",
    "im = ax.imshow_hpx(hpx_map, cmap='PiYG', norm=norm)\n",
    "ax2.imshow_hpx(hpx_map, cmap='PiYG', norm=norm)\n",
    "fig.colorbar(im)\n",
    "#ax.scatter(181.44, -2.64, transform=ax.get_transform(\"galactic\"), s=100, facecolors='none', edgecolors='r', label='Pulsar 1A0535+262')\n",
    "#ax.scatter(0,0, transform=ax.get_transform(\"galactic\"), s=100, facecolors='none', edgecolors='b', label=\"Crab\")\n",
    "ax2.plot(\n",
    "    center.ra.deg, center.dec.deg,\n",
    "    transform=ax.get_transform('fk5'),\n",
    "    marker=ligo.skymap.plot.reticle(),\n",
    "    markersize=30,\n",
    "    markeredgewidth=3)\n"
   ]
  },
  {
   "cell_type": "code",
   "execution_count": null,
   "metadata": {},
   "outputs": [],
   "source": [
    "filepath_background_rev = \"/home/tguethle/cookbook/SPI_cookbook/examples/automated_Crab/fit_Crab_skymap374/residuals.fits\"\n",
    "\n",
    "center = SkyCoord.from_name(\"Crab\")\n",
    "\n",
    "with fits.open(filepath_background_rev) as hdul:\n",
    "    hdul.info()\n",
    "    expo_map = hdul[11].data\n",
    "    expo_map_header = hdul[9].header\n",
    "\n",
    "# Your 2D array\n",
    "array = np.pad(expo_map, ((0,0), (0,180)), mode=\"wrap\")[0:, 180:]\n",
    "#array = np.flip(expo_map, axis=1)\n",
    "array = np.flip(array, axis=0)\n",
    "\n",
    "# Flatten the array\n",
    "flat_array = array.flatten()\n",
    "\n",
    "# Get the number of pixels in the HEALPix map\n",
    "nside = 64\n",
    "npix = hp.nside2npix(nside)\n",
    "\n",
    "# Create an empty HEALPix map\n",
    "hpx_map = np.zeros(npix)\n",
    "\n",
    "# Get the theta and phi coordinates of each pixel in the 2D array\n",
    "theta, phi = np.mgrid[0:np.pi:180j, 0:2*np.pi:360j]\n",
    "\n",
    "# Convert the theta and phi coordinates to HEALPix pixel indices\n",
    "pix_indices = hp.ang2pix(nside, theta, phi)\n",
    "\n",
    "# Assign the values from the 2D array to the HEALPix map\n",
    "hpx_map[pix_indices.flatten()] = flat_array\n",
    "\n",
    "# Now you can plot the HEALPix map\n",
    "#fig, ax = plt.subplots(figsize=(12, 8), subplot_kw={'projection': 'galactic degrees zoom', 'center': '185deg -5deg', 'radius': '25deg'})\n",
    "\n",
    "fig = plt.figure(figsize=(16,8))\n",
    "\n",
    "ax = plt.axes([0.05,0,0.6,0.6],projection=\"galactic degrees aitoff\", center=\"270deg 0deg\")\n",
    "ax2 = plt.axes([0.6,0.1,0.4,0.4],projection=\"galactic degrees zoom\", center=\"312deg -76deg\", radius=\"30deg\")\n",
    "\n",
    "\n",
    "\n",
    "norm = TwoSlopeNorm(vmin=hpx_map.min(), vcenter=0, vmax=hpx_map.max())\n",
    "norm2 = TwoSlopeNorm(vmin=hpx_map.min()/10, vcenter=0, vmax=hpx_map.max())\n",
    "\n",
    "\n",
    "\n",
    "ax.grid()\n",
    "ax2.grid()\n",
    "im = ax.imshow_hpx(hpx_map, cmap='PiYG', norm=norm)\n",
    "im2 = ax2.imshow_hpx(hpx_map, cmap=\"PiYG\",norm=norm)\n",
    "\n",
    "fig.colorbar(im2)\n",
    "fig.colorbar(im)\n",
    "ax2.plot(\n",
    "    10, -40,\n",
    "    transform=ax2.get_transform('fk5'),\n",
    "    marker=ligo.skymap.plot.reticle(),\n",
    "    markersize=30,\n",
    "    markeredgewidth=3)\n",
    "\n",
    "\n",
    "ax.plot(\n",
    "    10, -40,\n",
    "    transform=ax.get_transform('fk5'),\n",
    "    marker=ligo.skymap.plot.reticle(),\n",
    "    markersize=30,\n",
    "    markeredgewidth=3)\n",
    "\n",
    "plt.show()\n",
    "fig.savefig(\"Crab_residuals.png\")\n",
    "\n"
   ]
  },
  {
   "cell_type": "code",
   "execution_count": null,
   "metadata": {},
   "outputs": [],
   "source": [
    "import astropy.io.fits as fits\n",
    "from astropy.table import Table\n",
    "from astropy.wcs import WCS\n",
    "import matplotlib.pyplot as plt\n",
    "from matplotlib.colors import TwoSlopeNorm\n",
    "\n",
    "filepath = '/home/tguethle/cookbook/SPI_cookbook/examples/Crab/fit_Crab_skymap44_wideEBins/residuals.fits'\n",
    "with fits.open(filepath) as hdul:\n",
    "    # Access the data and header\n",
    "    data = hdul[3].data\n",
    "    header = hdul[3].header\n",
    "    hdul.info()\n",
    "    table = Table.read(hdul[2])\n",
    "    wcs = WCS(header)\n",
    "\n",
    "# Do further processing with the data and header\n",
    "\n",
    "plt.subplot(projection=wcs)\n",
    "plt.imshow(data, origin=\"lower\", cmap='viridis')\n",
    "plt.grid()"
   ]
  },
  {
   "cell_type": "code",
   "execution_count": null,
   "metadata": {},
   "outputs": [],
   "source": [
    "expo_map_path = '/home/tguethle/cookbook/SPI_cookbook/examples/Crab/dataset_skymap44/expo.fits'\n",
    "\n",
    "with fits.open(expo_map_path) as hdul:\n",
    "    hdul.info()\n",
    "    expo_map = hdul[1].data\n",
    "    expo_map_header = hdul[1].header\n",
    "\n",
    "plt.imshow(expo_map)\n",
    "header"
   ]
  },
  {
   "cell_type": "code",
   "execution_count": null,
   "metadata": {},
   "outputs": [],
   "source": [
    "header"
   ]
  },
  {
   "cell_type": "code",
   "execution_count": null,
   "metadata": {},
   "outputs": [],
   "source": [
    "def plot_skmap(filepath, Ebins=9, safe_plot=False, filename=\"skymap.png\"):\n",
    "    \"\"\"\n",
    "    plot the skymap as the backprojection of the residuals\n",
    "    \n",
    "    note: the labels are shifted by 180 degrees, so that the interesting part of the sky is in the middle\n",
    "    \n",
    "    \"\"\"\n",
    "    with fits.open(filepath) as hdul:\n",
    "        # Access the data and header\n",
    "        image_list = [hdul[bin].data for bin in range(3, Ebins+3)]\n",
    "        wcs = WCS(hdul[3].header)\n",
    "\n",
    "    fig, ax = plt.subplots(Ebins+2, 1, figsize=(20, 40), subplot_kw={'projection': wcs})\n",
    "    for i in range(Ebins):\n",
    "        data = np.pad(np.abs(image_list[i]), ((0,0), (0,180)), mode=\"wrap\")[:, 180:]\n",
    "        ax[i].imshow(data)\n",
    "    ax[-2].set_title(\"Sum of all energy bins\")\n",
    "    ax[-2].imshow(np.pad(np.abs(np.sum(image_list, axis=0)), ((0,0), (0,180)), mode=\"wrap\")[:, 180:])\n",
    "    ax[-1].set_title(\"Sum of all energy bins - zoom in\")\n",
    "    im = ax[-1].imshow(np.pad(np.abs(np.sum(image_list, axis=0)), ((0,0), (0,180)), mode=\"wrap\")[60:110, 180+160:180+210])\n",
    "    fig.colorbar(im)\n",
    "    plt.show()\n",
    "    if safe_plot:\n",
    "        fig.savefig(filename)\n"
   ]
  },
  {
   "cell_type": "code",
   "execution_count": null,
   "metadata": {},
   "outputs": [],
   "source": [
    "def plot_skmap(filepath, Ebins=9, safe_plot=False, filename=\"skymap.png\"):\n",
    "    \"\"\"\n",
    "    plot the skymap as the backprojection of the residuals\n",
    "    \n",
    "    note: the labels are shifted by 180 degrees, so that the interesting part of the sky is in the middle\n",
    "    \n",
    "    \"\"\"\n",
    "    with fits.open(filepath) as hdul:\n",
    "        # Access the data and header\n",
    "        image_list = [hdul[bin].data for bin in range(3, Ebins+3)]\n",
    "        wcs = WCS(hdul[3].header)\n",
    "\n",
    "    fig, ax = plt.subplots(Ebins+1, 1, figsize=(50, 100), subplot_kw={'projection': wcs})\n",
    "    for i in range(Ebins):\n",
    "        data = np.pad(image_list[i], ((0,0), (0,90)), mode=\"wrap\")[:, 90:]\n",
    "        ax[i].set_title(f\"Energy bin {i+1} - lon shifted by 90 degrees\")\n",
    "        norm = TwoSlopeNorm(vmin=data.min(), vcenter=0, vmax=data.max())\n",
    "        im = ax[i].imshow(data, cmap=\"PiYG\", norm=norm, origin=\"lower\")\n",
    "        fig.colorbar(im)\n",
    "        ax[i].scatter(181.44-90, -2.64, transform=ax[i].get_transform(\"galactic\"), s=100, facecolors='none', edgecolors='r')\n",
    "        ax[i].scatter(184.558-90, -5.784, transform=ax[i].get_transform(\"galactic\"), s=100, facecolors='none', edgecolors='b')\n",
    "\n",
    "    ax[-1].set_title(\"Sum of all energy bins - lon shifted by 90 degrees\")\n",
    "    combined_data = np.pad(np.sum(image_list, axis=0), ((0,0), (0,90)), mode=\"wrap\")[:, 90:]\n",
    "    norm = TwoSlopeNorm(vmin=combined_data.min(), vcenter=0, vmax=combined_data.max())\n",
    "    im = ax[-1].imshow(combined_data, cmap=\"PiYG\", norm=norm, origin=\"lower\")\n",
    "    fig.colorbar(im)\n",
    "    ax[-1].scatter(181.44-90, -2.64, transform=ax[-1].get_transform(\"galactic\"), s=100, facecolors='none', edgecolors='r', label='Pulsar 1A0535+262')\n",
    "    ax[-1].scatter(184.558-90, -5.784, transform=ax[-1].get_transform(\"galactic\"), s=100, facecolors='none', edgecolors='b', label=\"Crab\")\n",
    "    ax[-1].legend()\n",
    "\n",
    "    \n",
    "    plt.show()\n",
    "    if safe_plot:\n",
    "        fig.savefig(filename)\n"
   ]
  },
  {
   "cell_type": "code",
   "execution_count": null,
   "metadata": {},
   "outputs": [],
   "source": [
    "def plot_skmap_abs(filepath, Ebins=9, safe_plot=False, filename=\"skymap.png\"):\n",
    "    \"\"\"\n",
    "    plot the skymap as the backprojection of the residuals\n",
    "    \n",
    "    note: the labels are shifted by 180 degrees, so that the interesting part of the sky is in the middle\n",
    "    \n",
    "    \"\"\"\n",
    "    with fits.open(filepath) as hdul:\n",
    "        # Access the data and header\n",
    "        image_list = [hdul[bin].data for bin in range(3, Ebins+3)]\n",
    "        wcs = WCS(hdul[3].header)\n",
    "\n",
    "    fig, ax = plt.subplots(Ebins+1, 1, figsize=(50, 100), subplot_kw={'projection': wcs})\n",
    "    for i in range(Ebins):\n",
    "        data = np.pad(image_list[i], ((0,0), (0,90)), mode=\"wrap\")[:, 90:]\n",
    "        ax[i].set_title(f\"Energy bin {i+1} - lon shifted by 90 degrees\")\n",
    "        data -= np.abs(data.min())\n",
    "        data[data<0] = 0\n",
    "        im = ax[i].imshow(data, cmap='Blues', origin=\"lower\")\n",
    "        fig.colorbar(im)\n",
    "        ax[i].scatter(181.44-90, -2.64, transform=ax[i].get_transform(\"galactic\"), s=100, facecolors='none', edgecolors='r')\n",
    "        ax[i].scatter(184.558-90, -5.784, transform=ax[i].get_transform(\"galactic\"), s=100, facecolors='none', edgecolors='b')\n",
    "\n",
    "    ax[-1].set_title(\"Sum of all energy bins - lon shifted by 90 degrees\")\n",
    "    combined_data = np.pad(np.sum(image_list, axis=0), ((0,0), (0,90)), mode=\"wrap\")[:, 90:]\n",
    "    combined_data -= np.abs(combined_data.min())\n",
    "    combined_data[combined_data<0] = 0\n",
    "    im = ax[-1].imshow(combined_data, cmap=\"Greens\", origin=\"lower\")\n",
    "    fig.colorbar(im)\n",
    "    ax[-1].scatter(181.44-90, -2.64, transform=ax[-1].get_transform(\"galactic\"), s=100, facecolors='none', edgecolors='r', label='Pulsar 1A0535+262')\n",
    "    ax[-1].scatter(184.558-90, -5.784, transform=ax[-1].get_transform(\"galactic\"), s=100, facecolors='none', edgecolors='b', label=\"Crab\")\n",
    "    ax[-1].legend()\n",
    "\n",
    "    \n",
    "    plt.show()\n",
    "    if safe_plot:\n",
    "        fig.savefig(filename)\n"
   ]
  },
  {
   "cell_type": "code",
   "execution_count": null,
   "metadata": {},
   "outputs": [],
   "source": [
    "filepath = '/home/tguethle/cookbook/SPI_cookbook/examples/Crab/fit_Crab_skymap16/residuals.fits'\n",
    "\n",
    "plot_skmap_abs(filepath, 9, safe_plot=True, filename=\"skymap16_noSource_abs.png\")"
   ]
  },
  {
   "cell_type": "code",
   "execution_count": null,
   "metadata": {},
   "outputs": [],
   "source": [
    "filepath_noSource = '/home/tguethle/cookbook/SPI_cookbook/examples/Crab/fit_Crab_skymap44_noSource_wideEBins/residuals.fits'\n",
    "\n",
    "plot_skmap(filepath_noSource, 9, safe_plot=True, filename=\"skymap44\")"
   ]
  },
  {
   "cell_type": "code",
   "execution_count": null,
   "metadata": {},
   "outputs": [],
   "source": []
  }
 ],
 "metadata": {
  "kernelspec": {
   "display_name": "spi39",
   "language": "python",
   "name": "python3"
  },
  "language_info": {
   "codemirror_mode": {
    "name": "ipython",
    "version": 3
   },
   "file_extension": ".py",
   "mimetype": "text/x-python",
   "name": "python",
   "nbconvert_exporter": "python",
   "pygments_lexer": "ipython3",
   "version": "3.9.18"
  }
 },
 "nbformat": 4,
 "nbformat_minor": 2
}
