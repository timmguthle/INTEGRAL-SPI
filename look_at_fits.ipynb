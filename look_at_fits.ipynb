{
 "cells": [
  {
   "cell_type": "code",
   "execution_count": 2,
   "metadata": {},
   "outputs": [],
   "source": [
    "import numpy as np\n",
    "import astropy.io.fits as fits"
   ]
  },
  {
   "cell_type": "code",
   "execution_count": null,
   "metadata": {},
   "outputs": [],
   "source": [
    "filepath = ''\n",
    "with fits.open(filepath) as f:\n",
    "    data = f"
   ]
  },
  {
   "cell_type": "code",
   "execution_count": null,
   "metadata": {},
   "outputs": [],
   "source": [
    "import astropy.io.fits as fits\n",
    "\n",
    "filepath = 'path/to/your/fits/file.fits'\n",
    "with fits.open(filepath) as hdul:\n",
    "    # Access the data and header\n",
    "    data = hdul[0].data\n",
    "    header = hdul[0].header\n",
    "\n",
    "# Do further processing with the data and header\n"
   ]
  }
 ],
 "metadata": {
  "kernelspec": {
   "display_name": "spi39",
   "language": "python",
   "name": "python3"
  },
  "language_info": {
   "codemirror_mode": {
    "name": "ipython",
    "version": 3
   },
   "file_extension": ".py",
   "mimetype": "text/x-python",
   "name": "python",
   "nbconvert_exporter": "python",
   "pygments_lexer": "ipython3",
   "version": "3.9.18"
  }
 },
 "nbformat": 4,
 "nbformat_minor": 2
}
